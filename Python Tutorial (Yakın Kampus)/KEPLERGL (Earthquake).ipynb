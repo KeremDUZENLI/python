{
 "cells": [
  {
   "cell_type": "markdown",
   "id": "0299b004",
   "metadata": {},
   "source": [
    "# KEPLER"
   ]
  },
  {
   "cell_type": "code",
   "execution_count": null,
   "id": "444d3957",
   "metadata": {},
   "outputs": [],
   "source": [
    "pip install keplergl"
   ]
  },
  {
   "cell_type": "code",
   "execution_count": null,
   "id": "b324a01f",
   "metadata": {},
   "outputs": [],
   "source": [
    "import csv\n",
    "from keplergl import KeplerGl\n",
    "map_1 = KeplerGl(height=500)"
   ]
  },
  {
   "cell_type": "code",
   "execution_count": null,
   "id": "32a3c9ac",
   "metadata": {},
   "outputs": [],
   "source": [
    "with open(\"earthquake.csv\", \"r\") as f:\n",
    "    csvData = f.read()\n",
    "    \n",
    "map_1.add_data(data=csvData, name=\"data_1\")"
   ]
  },
  {
   "cell_type": "code",
   "execution_count": null,
   "id": "9cf2e471",
   "metadata": {},
   "outputs": [],
   "source": [
    "map_1.save_to_html(file_name='earthquake.html')"
   ]
  },
  {
   "cell_type": "code",
   "execution_count": null,
   "id": "271950c5",
   "metadata": {},
   "outputs": [],
   "source": [
    "map_1"
   ]
  },
  {
   "cell_type": "markdown",
   "id": "a695d1c2",
   "metadata": {},
   "source": [
    " "
   ]
  }
 ],
 "metadata": {
  "kernelspec": {
   "display_name": "Python 3 (ipykernel)",
   "language": "python",
   "name": "python3"
  },
  "language_info": {
   "codemirror_mode": {
    "name": "ipython",
    "version": 3
   },
   "file_extension": ".py",
   "mimetype": "text/x-python",
   "name": "python",
   "nbconvert_exporter": "python",
   "pygments_lexer": "ipython3",
   "version": "3.9.7"
  }
 },
 "nbformat": 4,
 "nbformat_minor": 5
}
