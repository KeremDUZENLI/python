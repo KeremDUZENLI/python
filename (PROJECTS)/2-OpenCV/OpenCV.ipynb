{
 "cells": [
  {
   "cell_type": "markdown",
   "id": "0f32a011",
   "metadata": {},
   "source": [
    "# OpenCV"
   ]
  },
  {
   "cell_type": "code",
   "execution_count": null,
   "id": "466e402d",
   "metadata": {},
   "outputs": [],
   "source": [
    "pip install opencv-contrib-python\n",
    "pip install caer"
   ]
  },
  {
   "cell_type": "code",
   "execution_count": 1,
   "id": "8ee334cb",
   "metadata": {},
   "outputs": [],
   "source": [
    "import gc\n",
    "import os\n",
    "import caer\n",
    "import canaro\n",
    "import cv2 as cv\n",
    "import numpy as np\n",
    "import matplotlib.pyplot as plt\n",
    "from tensorflow.keras.utils import to_categorical\n",
    "from tensorflow.keras.callbacks import LearningRateScheduler\n",
    "from sklearn.model_selection import train_test_split"
   ]
  },
  {
   "cell_type": "markdown",
   "id": "ac314913",
   "metadata": {},
   "source": [
    "--------------------------------------------------------------------------------------------------"
   ]
  },
  {
   "cell_type": "markdown",
   "id": "26004cd9",
   "metadata": {},
   "source": [
    "## Read"
   ]
  },
  {
   "cell_type": "markdown",
   "id": "59df22b1",
   "metadata": {},
   "source": [
    "Reading Photos"
   ]
  },
  {
   "cell_type": "code",
   "execution_count": 3,
   "id": "e68e9ded",
   "metadata": {},
   "outputs": [],
   "source": [
    "img1 = cv.imread('(Files)/OPENCV/Photos/cat.jpg')\n",
    "\n",
    "img2 = cv.imread('(Files)/OPENCV/Photos/cat_large.jpg')\n",
    "\n",
    "cv.imshow('Cat1', img1)\n",
    "cv.imshow('Cat2', img2)\n",
    "\n",
    "cv.waitKey(0)\n",
    "cv.destroyAllWindows()"
   ]
  },
  {
   "cell_type": "markdown",
   "id": "42896873",
   "metadata": {},
   "source": [
    "Reading Videos"
   ]
  },
  {
   "cell_type": "code",
   "execution_count": 7,
   "id": "b85ebe59",
   "metadata": {},
   "outputs": [],
   "source": [
    "capture = cv.VideoCapture('(Files)/OPENCV/Videos/Dog.mp4')\n",
    "\n",
    "while True:\n",
    "    isTrue, frame = capture.read()\n",
    "\n",
    "    cv.imshow('Video', frame)\n",
    "\n",
    "    if cv.waitKey(20) & 0xFF==ord('b'):\n",
    "        break\n",
    "\n",
    "capture.release()\n",
    "cv.destroyAllWindows()"
   ]
  },
  {
   "cell_type": "markdown",
   "id": "6b2dc96b",
   "metadata": {},
   "source": [
    "--------------------------------------------------------------------------------------------------"
   ]
  },
  {
   "cell_type": "markdown",
   "id": "54665e4b",
   "metadata": {},
   "source": [
    "## Rescale"
   ]
  },
  {
   "cell_type": "markdown",
   "id": "029cbeb3",
   "metadata": {},
   "source": [
    "Resizing Photos"
   ]
  },
  {
   "cell_type": "code",
   "execution_count": 13,
   "id": "67429730",
   "metadata": {},
   "outputs": [],
   "source": [
    "def rescaleFrame(frame, scale=0.2):\n",
    "    width = int(frame.shape[1] * scale)\n",
    "    height = int(frame.shape[0] * scale)\n",
    "    \n",
    "    dimensions = (width,height)\n",
    "\n",
    "    return cv.resize(frame, dimensions, interpolation=cv.INTER_AREA)\n",
    "\n",
    "\n",
    "image = cv.imread('(Files)/OPENCV/Photos/cat.jpg')\n",
    "cv.imshow('Cat1', image)\n",
    "\n",
    "resized_image = rescaleFrame(image)\n",
    "cv.imshow('Cat2', resized_image)\n",
    "\n",
    "cv.waitKey(0)\n",
    "cv.destroyAllWindows()"
   ]
  },
  {
   "cell_type": "markdown",
   "id": "0f7a3c8d",
   "metadata": {},
   "source": [
    "Resizing Videos"
   ]
  },
  {
   "cell_type": "code",
   "execution_count": 16,
   "id": "2622a6df",
   "metadata": {},
   "outputs": [],
   "source": [
    "def rescaleFrame(frame, scale=0.2):\n",
    "    width = int(frame.shape[1] * scale)\n",
    "    height = int(frame.shape[0] * scale)\n",
    "    \n",
    "    dimensions = (width,height)\n",
    "\n",
    "    return cv.resize(frame, dimensions, interpolation=cv.INTER_AREA)\n",
    "\n",
    "\n",
    "capture = cv.VideoCapture('(Files)/OPENCV/Videos/Dog.mp4')\n",
    "\n",
    "while True:\n",
    "    isTrue, frame = capture.read()\n",
    "\n",
    "    frame_resized = rescaleFrame(frame)\n",
    "\n",
    "    cv.imshow('Video', frame)\n",
    "    cv.imshow('Video Resized', frame_resized)\n",
    "\n",
    "    if cv.waitKey(20) & 0xFF==ord('b'):\n",
    "        break\n",
    "\n",
    "capture.release()\n",
    "cv.destroyAllWindows()"
   ]
  },
  {
   "cell_type": "markdown",
   "id": "6dd9c4cc",
   "metadata": {},
   "source": [
    "--------------------------------------------------------------------------------------------------"
   ]
  },
  {
   "cell_type": "markdown",
   "id": "13cc52d3",
   "metadata": {},
   "source": [
    "## Draw"
   ]
  },
  {
   "cell_type": "code",
   "execution_count": 4,
   "id": "bf243095",
   "metadata": {},
   "outputs": [],
   "source": [
    "img = cv.imread('(Files)/OPENCV/Photos/cat.jpg')\n",
    "cv.imshow('Cat', img)\n",
    "\n",
    "cv.waitKey(0)\n",
    "cv.destroyAllWindows()"
   ]
  },
  {
   "cell_type": "markdown",
   "id": "7eebe3c0",
   "metadata": {},
   "source": [
    " "
   ]
  },
  {
   "cell_type": "markdown",
   "id": "b09adcd9",
   "metadata": {},
   "source": [
    "Paint The Image a Certain Colour"
   ]
  },
  {
   "cell_type": "code",
   "execution_count": 5,
   "id": "c71d29c5",
   "metadata": {},
   "outputs": [],
   "source": [
    "blank = np.zeros((500,500,3), dtype='uint8')\n",
    "cv.imshow('Blank', blank)\n",
    "\n",
    "blank[200:300, 300:400] = 255,0,0\n",
    "cv.imshow('Blue', blank)\n",
    "\n",
    "blank[:] = 0,255,0\n",
    "cv.imshow('Green', blank)\n",
    "\n",
    "blank[:] = 0,0,255\n",
    "cv.imshow('Red', blank)\n",
    "\n",
    "cv.waitKey(0)\n",
    "cv.destroyAllWindows()"
   ]
  },
  {
   "cell_type": "markdown",
   "id": "5d9c52bf",
   "metadata": {},
   "source": [
    "Draw a Rectangle"
   ]
  },
  {
   "cell_type": "code",
   "execution_count": 6,
   "id": "9a86aa1c",
   "metadata": {},
   "outputs": [],
   "source": [
    "blank = np.zeros((500,500,3), dtype='uint8')\n",
    "cv.imshow('Blank', blank)\n",
    "\n",
    "cv.rectangle(blank, (0,0), (100,100), (0,255,0), thickness=2)\n",
    "cv.rectangle(blank, (250,250), (350,350), (0,255,0), thickness=-1)\n",
    "cv.imshow('Rectangle', blank)\n",
    "\n",
    "cv.waitKey(0)\n",
    "cv.destroyAllWindows()"
   ]
  },
  {
   "cell_type": "markdown",
   "id": "6de03298",
   "metadata": {},
   "source": [
    "Draw a Circle"
   ]
  },
  {
   "cell_type": "code",
   "execution_count": 7,
   "id": "53f3733c",
   "metadata": {},
   "outputs": [],
   "source": [
    "blank = np.zeros((500,500,3), dtype='uint8')\n",
    "cv.imshow('Blank', blank)\n",
    "\n",
    "cv.rectangle(blank, (0,0), (100,100), (0,255,0), thickness=2)\n",
    "cv.circle(blank, (250,250), (25), (0,0,255), thickness=2)\n",
    "cv.circle(blank, (400,400), (25), (0,255,0), thickness=-1)\n",
    "cv.imshow('Circle', blank)\n",
    "\n",
    "cv.waitKey(0)\n",
    "cv.destroyAllWindows()"
   ]
  },
  {
   "cell_type": "markdown",
   "id": "a4fd3633",
   "metadata": {},
   "source": [
    "Draw a Line"
   ]
  },
  {
   "cell_type": "code",
   "execution_count": 8,
   "id": "3c76d689",
   "metadata": {},
   "outputs": [],
   "source": [
    "blank = np.zeros((500,500,3), dtype='uint8')\n",
    "cv.imshow('Blank', blank)\n",
    "\n",
    "cv.line(blank, (10,10), (250,250), (255,255,255))\n",
    "cv.imshow('Line', blank)\n",
    "\n",
    "cv.waitKey(0)\n",
    "cv.destroyAllWindows()"
   ]
  },
  {
   "cell_type": "markdown",
   "id": "b4256461",
   "metadata": {},
   "source": [
    "Write Text"
   ]
  },
  {
   "cell_type": "code",
   "execution_count": 10,
   "id": "7328a358",
   "metadata": {},
   "outputs": [],
   "source": [
    "blank = np.zeros((500,500,3), dtype='uint8')\n",
    "cv.imshow('Blank', blank)\n",
    "\n",
    "cv.putText(blank, 'Hello, I am Kerem', (0,250), cv.FONT_HERSHEY_TRIPLEX, 1.0, (0,255,0), 4)\n",
    "cv.imshow('Text', blank)\n",
    "\n",
    "cv.waitKey(0)\n",
    "cv.destroyAllWindows()"
   ]
  },
  {
   "cell_type": "markdown",
   "id": "e85d6dda",
   "metadata": {},
   "source": [
    "--------------------------------------------------------------------------------------------------"
   ]
  },
  {
   "cell_type": "markdown",
   "id": "3068d6f9",
   "metadata": {},
   "source": [
    "## Basic"
   ]
  },
  {
   "cell_type": "code",
   "execution_count": 12,
   "id": "2866dbd7",
   "metadata": {},
   "outputs": [],
   "source": [
    "img = cv.imread('(Files)/OPENCV/Photos/park.jpg')\n",
    "cv.imshow('Park', img)\n",
    "\n",
    "cv.waitKey(0)\n",
    "cv.destroyAllWindows()"
   ]
  },
  {
   "cell_type": "markdown",
   "id": "e5599844",
   "metadata": {},
   "source": [
    " "
   ]
  },
  {
   "cell_type": "markdown",
   "id": "2ae53112",
   "metadata": {},
   "source": [
    "Converting to Grayscale"
   ]
  },
  {
   "cell_type": "code",
   "execution_count": 3,
   "id": "6eca2f92",
   "metadata": {},
   "outputs": [],
   "source": [
    "gray = cv.cvtColor(img, cv.COLOR_BGR2GRAY)\n",
    "cv.imshow('Gray', gray)\n",
    "\n",
    "cv.waitKey(0)\n",
    "cv.destroyAllWindows()"
   ]
  },
  {
   "cell_type": "markdown",
   "id": "4dffd9cf",
   "metadata": {},
   "source": [
    "Blur"
   ]
  },
  {
   "cell_type": "code",
   "execution_count": 4,
   "id": "4985ce34",
   "metadata": {},
   "outputs": [],
   "source": [
    "blur = cv.GaussianBlur(img, (7,7), cv.BORDER_DEFAULT)\n",
    "cv.imshow('Blur', blur)\n",
    "\n",
    "cv.waitKey(0)\n",
    "cv.destroyAllWindows()"
   ]
  },
  {
   "cell_type": "markdown",
   "id": "8b264acf",
   "metadata": {},
   "source": [
    "Edge Cascade"
   ]
  },
  {
   "cell_type": "code",
   "execution_count": 7,
   "id": "90309cb2",
   "metadata": {},
   "outputs": [],
   "source": [
    "canny = cv.Canny(blur, 125, 175)\n",
    "cv.imshow('Canny Edges', canny)\n",
    "\n",
    "cv.waitKey(0)\n",
    "cv.destroyAllWindows()"
   ]
  },
  {
   "cell_type": "markdown",
   "id": "6c18e462",
   "metadata": {},
   "source": [
    "Dilating the Image"
   ]
  },
  {
   "cell_type": "code",
   "execution_count": 8,
   "id": "426fca09",
   "metadata": {},
   "outputs": [],
   "source": [
    "dilated = cv.dilate(canny, (7,7), iterations=3)\n",
    "cv.imshow('Dilated', dilated)\n",
    "\n",
    "cv.waitKey(0)\n",
    "cv.destroyAllWindows()"
   ]
  },
  {
   "cell_type": "markdown",
   "id": "2cc79b27",
   "metadata": {},
   "source": [
    "Eroding"
   ]
  },
  {
   "cell_type": "code",
   "execution_count": 9,
   "id": "4cf9db4b",
   "metadata": {},
   "outputs": [],
   "source": [
    "eroded = cv.erode(dilated, (3,3), iterations=1)\n",
    "cv.imshow('Eroded', eroded)\n",
    "\n",
    "cv.waitKey(0)\n",
    "cv.destroyAllWindows()"
   ]
  },
  {
   "cell_type": "markdown",
   "id": "03acdf0d",
   "metadata": {},
   "source": [
    "Resize"
   ]
  },
  {
   "cell_type": "code",
   "execution_count": 10,
   "id": "620068a4",
   "metadata": {},
   "outputs": [],
   "source": [
    "resized = cv.resize(img, (500,500), interpolation=cv.INTER_AREA)\n",
    "cv.imshow('Resized', resized)\n",
    "\n",
    "cv.waitKey(0)\n",
    "cv.destroyAllWindows()"
   ]
  },
  {
   "cell_type": "markdown",
   "id": "9fe5f3a6",
   "metadata": {},
   "source": [
    "Cropping"
   ]
  },
  {
   "cell_type": "code",
   "execution_count": 3,
   "id": "2a506de8",
   "metadata": {},
   "outputs": [],
   "source": [
    "cropped = img[50:200, 200:400]\n",
    "cv.imshow('Cropped', cropped)\n",
    "\n",
    "cv.waitKey(0)\n",
    "cv.destroyAllWindows()"
   ]
  },
  {
   "cell_type": "markdown",
   "id": "08420aba",
   "metadata": {},
   "source": [
    "--------------------------------------------------------------------------------------------------"
   ]
  },
  {
   "cell_type": "markdown",
   "id": "55e304a5",
   "metadata": {},
   "source": [
    "## Transformations"
   ]
  },
  {
   "cell_type": "code",
   "execution_count": 4,
   "id": "af1fcf04",
   "metadata": {},
   "outputs": [],
   "source": [
    "img = cv.imread('(Files)/OPENCV/Photos/park.jpg')\n",
    "cv.imshow('Park', img)\n",
    "\n",
    "cv.waitKey(0)\n",
    "cv.destroyAllWindows()"
   ]
  },
  {
   "cell_type": "markdown",
   "id": "87457f96",
   "metadata": {},
   "source": [
    " "
   ]
  },
  {
   "cell_type": "markdown",
   "id": "fcf1ee76",
   "metadata": {},
   "source": [
    "Translation"
   ]
  },
  {
   "cell_type": "code",
   "execution_count": 5,
   "id": "250460ba",
   "metadata": {},
   "outputs": [],
   "source": [
    "def translate(img, x, y):\n",
    "    transMat = np.float32([[1,0,x],[0,1,y]])\n",
    "    dimensions = (img.shape[1], img.shape[0])\n",
    "    return cv.warpAffine(img, transMat, dimensions)\n",
    "\n",
    "# -x --> Left\n",
    "# -y --> Up\n",
    "#  x --> Right\n",
    "#  y --> Down \n",
    "\n",
    "translated1 = translate(img, 100, 100)\n",
    "cv.imshow('Trasnlated1', translated1)\n",
    "\n",
    "translated2 = translate(img, -100, -100)\n",
    "cv.imshow('Trasnlated2', translated2)\n",
    "\n",
    "cv.waitKey(0)\n",
    "cv.destroyAllWindows()"
   ]
  },
  {
   "cell_type": "markdown",
   "id": "6889cc93",
   "metadata": {},
   "source": [
    "Rotation"
   ]
  },
  {
   "cell_type": "code",
   "execution_count": 6,
   "id": "234ece0d",
   "metadata": {},
   "outputs": [],
   "source": [
    "def rotate(img, angle, rotPoint=None):\n",
    "    (height,width) = img.shape[:2]\n",
    "\n",
    "    if rotPoint is None:\n",
    "        rotPoint = (width//2, height//2)\n",
    "\n",
    "    rotMat = cv.getRotationMatrix2D(rotPoint, angle, 1.0)\n",
    "    dimensions = (width, height)\n",
    "\n",
    "    return cv.warpAffine(img, rotMat, dimensions)\n",
    "\n",
    "rotated = rotate(img, 180)\n",
    "cv.imshow('Rotated', rotated)\n",
    "\n",
    "cv.waitKey(0)\n",
    "cv.destroyAllWindows()"
   ]
  },
  {
   "cell_type": "markdown",
   "id": "36243b70",
   "metadata": {},
   "source": [
    "Resizing"
   ]
  },
  {
   "cell_type": "code",
   "execution_count": 7,
   "id": "6753f866",
   "metadata": {},
   "outputs": [],
   "source": [
    "resized = cv.resize(img, (500,500), interpolation=cv.INTER_CUBIC)\n",
    "cv.imshow('Resized', resized)\n",
    "\n",
    "cv.waitKey(0)\n",
    "cv.destroyAllWindows()"
   ]
  },
  {
   "cell_type": "markdown",
   "id": "d525607c",
   "metadata": {},
   "source": [
    "Flipping"
   ]
  },
  {
   "cell_type": "code",
   "execution_count": 9,
   "id": "6a939095",
   "metadata": {},
   "outputs": [],
   "source": [
    "flip_vertical = cv.flip(img, 1)\n",
    "cv.imshow('Flip_Vertical', flip_vertical)\n",
    "\n",
    "flip_horizontal = cv.flip(img, 0)\n",
    "cv.imshow('Flip_Horizontal', flip_horizontal)\n",
    "\n",
    "cv.waitKey(0)\n",
    "cv.destroyAllWindows()"
   ]
  },
  {
   "cell_type": "markdown",
   "id": "987a7c58",
   "metadata": {},
   "source": [
    "Cropping"
   ]
  },
  {
   "cell_type": "code",
   "execution_count": 10,
   "id": "367d21b6",
   "metadata": {},
   "outputs": [],
   "source": [
    "cropped = img[200:400, 300:400]\n",
    "cv.imshow('Cropped', cropped)\n",
    "\n",
    "cv.waitKey(0)\n",
    "cv.destroyAllWindows()"
   ]
  },
  {
   "cell_type": "markdown",
   "id": "748ffc36",
   "metadata": {},
   "source": [
    "--------------------------------------------------------------------------------------------------"
   ]
  },
  {
   "cell_type": "markdown",
   "id": "03536127",
   "metadata": {},
   "source": [
    "## Contours"
   ]
  },
  {
   "cell_type": "code",
   "execution_count": 4,
   "id": "c21cbc51",
   "metadata": {},
   "outputs": [],
   "source": [
    "img = cv.imread('(Files)/OPENCV/Photos/cats.jpg')\n",
    "cv.imshow('Cats', img)\n",
    "\n",
    "blank = np.zeros(img.shape, dtype='uint8')\n",
    "cv.imshow('Blank', blank)\n",
    "\n",
    "gray = cv.cvtColor(img, cv.COLOR_BGR2GRAY)\n",
    "cv.imshow('Gray', gray)\n",
    "\n",
    "cv.waitKey(0)\n",
    "cv.destroyAllWindows()"
   ]
  },
  {
   "cell_type": "markdown",
   "id": "94e9a41d",
   "metadata": {},
   "source": [
    " "
   ]
  },
  {
   "cell_type": "markdown",
   "id": "9ac0b15f",
   "metadata": {},
   "source": [
    "Canny Method"
   ]
  },
  {
   "cell_type": "code",
   "execution_count": 6,
   "id": "49952bf8",
   "metadata": {},
   "outputs": [
    {
     "name": "stdout",
     "output_type": "stream",
     "text": [
      "380 contour(s) found!\n"
     ]
    }
   ],
   "source": [
    "blur = cv.GaussianBlur(gray, (5,5), cv.BORDER_DEFAULT)\n",
    "cv.imshow('Blur', blur)\n",
    "\n",
    "canny = cv.Canny(blur, 125, 175)\n",
    "cv.imshow('Canny Edges', canny)\n",
    "\n",
    "contours, hierarchies = cv.findContours(canny, cv.RETR_LIST, cv.CHAIN_APPROX_SIMPLE)\n",
    "print(f'{len(contours)} contour(s) found!')\n",
    "\n",
    "cv.drawContours(blank, contours, -1, (0,0,255), 1)\n",
    "cv.imshow('Contours Drawn', blank)\n",
    "\n",
    "cv.waitKey(0)\n",
    "cv.destroyAllWindows()"
   ]
  },
  {
   "cell_type": "markdown",
   "id": "46a9995f",
   "metadata": {},
   "source": [
    "Threshold Method"
   ]
  },
  {
   "cell_type": "code",
   "execution_count": 7,
   "id": "2141b84c",
   "metadata": {},
   "outputs": [
    {
     "name": "stdout",
     "output_type": "stream",
     "text": [
      "839 contour(s) found!\n"
     ]
    }
   ],
   "source": [
    "ret, thresh = cv.threshold(gray, 125, 255, cv.THRESH_BINARY)\n",
    "cv.imshow('Thresh', thresh)\n",
    "\n",
    "contours, hierarchies = cv.findContours(thresh, cv.RETR_LIST, cv.CHAIN_APPROX_SIMPLE)\n",
    "print(f'{len(contours)} contour(s) found!')\n",
    "\n",
    "cv.drawContours(blank, contours, -1, (0,0,255), 1)\n",
    "cv.imshow('Contours Drawn', blank)\n",
    "\n",
    "cv.waitKey(0)\n",
    "cv.destroyAllWindows()"
   ]
  },
  {
   "cell_type": "markdown",
   "id": "f30b0e42",
   "metadata": {},
   "source": [
    "--------------------------------------------------------------------------------------------------"
   ]
  },
  {
   "cell_type": "markdown",
   "id": "0ac9f675",
   "metadata": {},
   "source": [
    "## Translate"
   ]
  },
  {
   "cell_type": "code",
   "execution_count": 2,
   "id": "7cb392f2",
   "metadata": {},
   "outputs": [],
   "source": [
    "img = cv.imread(\"(Files)/OPENCV/Photos/park.jpg\")\n",
    "cv.imshow(\"Park\", img)\n",
    "\n",
    "cv.waitKey(0)\n",
    "cv.destroyAllWindows()"
   ]
  },
  {
   "cell_type": "markdown",
   "id": "be72cf23",
   "metadata": {},
   "source": [
    " "
   ]
  },
  {
   "cell_type": "markdown",
   "id": "d4c6604a",
   "metadata": {},
   "source": [
    "BGR to Grayscale"
   ]
  },
  {
   "cell_type": "code",
   "execution_count": 5,
   "id": "187082a9",
   "metadata": {},
   "outputs": [],
   "source": [
    "gray = cv.cvtColor(img, cv.COLOR_BGR2GRAY)\n",
    "cv.imshow(\"Gray\", gray)\n",
    "\n",
    "cv.waitKey(0)\n",
    "cv.destroyAllWindows()"
   ]
  },
  {
   "cell_type": "markdown",
   "id": "73c82363",
   "metadata": {},
   "source": [
    "BGR to HSV"
   ]
  },
  {
   "cell_type": "code",
   "execution_count": 9,
   "id": "eed69dd3",
   "metadata": {},
   "outputs": [],
   "source": [
    "hsv = cv.cvtColor(img, cv.COLOR_BGR2HSV)\n",
    "cv.imshow(\"HSV\", hsv)\n",
    "\n",
    "cv.waitKey(0)\n",
    "cv.destroyAllWindows()"
   ]
  },
  {
   "cell_type": "markdown",
   "id": "c8698bd0",
   "metadata": {},
   "source": [
    "HSV to BGR"
   ]
  },
  {
   "cell_type": "code",
   "execution_count": 10,
   "id": "9d1f35be",
   "metadata": {},
   "outputs": [],
   "source": [
    "hsv_bgr = cv.cvtColor(hsv, cv.COLOR_HSV2BGR)\n",
    "cv.imshow(\"HSV --> BGR\", hsv_bgr)\n",
    "\n",
    "cv.waitKey(0)\n",
    "cv.destroyAllWindows()"
   ]
  },
  {
   "cell_type": "markdown",
   "id": "d7d840aa",
   "metadata": {},
   "source": [
    "BGR to LAB"
   ]
  },
  {
   "cell_type": "code",
   "execution_count": 11,
   "id": "e4b1595f",
   "metadata": {},
   "outputs": [],
   "source": [
    "lab = cv.cvtColor(img, cv.COLOR_BGR2LAB)\n",
    "cv.imshow(\"LAB\", lab)\n",
    "\n",
    "cv.waitKey(0)\n",
    "cv.destroyAllWindows()"
   ]
  },
  {
   "cell_type": "markdown",
   "id": "441369e4",
   "metadata": {},
   "source": [
    "LAB to BGR"
   ]
  },
  {
   "cell_type": "code",
   "execution_count": 12,
   "id": "84cc5bd7",
   "metadata": {},
   "outputs": [],
   "source": [
    "lab_bgr = cv.cvtColor(lab, cv.COLOR_LAB2BGR)\n",
    "cv.imshow(\"LAB --> BGR\", lab_bgr)\n",
    "\n",
    "cv.waitKey(0)\n",
    "cv.destroyAllWindows()"
   ]
  },
  {
   "cell_type": "markdown",
   "id": "2424365a",
   "metadata": {},
   "source": [
    "BGR to RGB"
   ]
  },
  {
   "cell_type": "code",
   "execution_count": 13,
   "id": "83c21b2a",
   "metadata": {},
   "outputs": [
    {
     "data": {
      "image/png": "[encoded data removed]",
      "text/plain": [
       "<Figure size 432x288 with 1 Axes>"
      ]
     },
     "metadata": {
      "needs_background": "light"
     },
     "output_type": "display_data"
    }
   ],
   "source": [
    "rgb = cv.cvtColor(img, cv.COLOR_BGR2RGB)\n",
    "cv.imshow(\"RGB\", rgb)\n",
    "\n",
    "plt.imshow(rgb)\n",
    "plt.show()\n",
    "\n",
    "cv.waitKey(0)\n",
    "cv.destroyAllWindows()"
   ]
  },
  {
   "cell_type": "markdown",
   "id": "7a9efe18",
   "metadata": {},
   "source": [
    "--------------------------------------------------------------------------------------------------"
   ]
  },
  {
   "cell_type": "markdown",
   "id": "9b2786f1",
   "metadata": {},
   "source": [
    "## Mix Pictures"
   ]
  },
  {
   "cell_type": "code",
   "execution_count": 2,
   "id": "9d6c7c9e",
   "metadata": {},
   "outputs": [],
   "source": [
    "img     = cv.imread(\"(Files)/OPENCV/Photos/park.jpg\")\n",
    "cv.imshow(\"Park\", img)\n",
    "\n",
    "blank   = np.zeros(img.shape[:2], dtype=\"uint8\")\n",
    "cv.imshow(\"Blank\", blank)\n",
    "\n",
    "cv.waitKey(0)\n",
    "cv.destroyAllWindows()"
   ]
  },
  {
   "cell_type": "markdown",
   "id": "47b65486",
   "metadata": {},
   "source": [
    " "
   ]
  },
  {
   "cell_type": "markdown",
   "id": "e194ad15",
   "metadata": {},
   "source": [
    "Split"
   ]
  },
  {
   "cell_type": "code",
   "execution_count": 4,
   "id": "5596d82e",
   "metadata": {},
   "outputs": [
    {
     "name": "stdout",
     "output_type": "stream",
     "text": [
      "(427, 640, 3)\n",
      "(427, 640)\n",
      "(427, 640)\n",
      "(427, 640)\n"
     ]
    }
   ],
   "source": [
    "b,g,r   = cv.split(img)\n",
    "\n",
    "cv.imshow(\"B\", b)\n",
    "cv.imshow(\"G\", g)\n",
    "cv.imshow(\"R\", r)\n",
    "\n",
    "merged  = cv.merge([b,g,r])\n",
    "cv.imshow(\"Merged Image\", merged)\n",
    "\n",
    "print(img.shape)\n",
    "print(b.shape)\n",
    "print(g.shape)\n",
    "print(r.shape)\n",
    "\n",
    "cv.waitKey(0)\n",
    "cv.destroyAllWindows()"
   ]
  },
  {
   "cell_type": "markdown",
   "id": "9413c82e",
   "metadata": {},
   "source": [
    "Split Color Filter"
   ]
  },
  {
   "cell_type": "code",
   "execution_count": 5,
   "id": "b44519f1",
   "metadata": {},
   "outputs": [],
   "source": [
    "b,g,r   = cv.split(img)\n",
    "\n",
    "blue    = cv.merge([b,blank,blank])\n",
    "green   = cv.merge([blank,g,blank])\n",
    "red     = cv.merge([blank,blank,r])\n",
    "\n",
    "cv.imshow(\"Blue\", blue)\n",
    "cv.imshow(\"Green\", green)\n",
    "cv.imshow(\"Red\", red)\n",
    "\n",
    "cv.waitKey(0)\n",
    "cv.destroyAllWindows()"
   ]
  },
  {
   "cell_type": "markdown",
   "id": "df5618cb",
   "metadata": {},
   "source": [
    "--------------------------------------------------------------------------------------------------"
   ]
  },
  {
   "cell_type": "markdown",
   "id": "b8a2b6d9",
   "metadata": {},
   "source": [
    "## Smoothing"
   ]
  },
  {
   "cell_type": "code",
   "execution_count": 7,
   "id": "30609cbb",
   "metadata": {},
   "outputs": [],
   "source": [
    "img = cv.imread(\"(Files)/OPENCV/Photos/cats.jpg\")\n",
    "cv.imshow(\"Cats\", img)\n",
    "\n",
    "cv.waitKey(0)\n",
    "cv.destroyAllWindows()"
   ]
  },
  {
   "cell_type": "markdown",
   "id": "ce56f71b",
   "metadata": {},
   "source": [
    " "
   ]
  },
  {
   "cell_type": "markdown",
   "id": "59c0383a",
   "metadata": {},
   "source": [
    "Averaging"
   ]
  },
  {
   "cell_type": "code",
   "execution_count": 8,
   "id": "967ac8e0",
   "metadata": {},
   "outputs": [],
   "source": [
    "average = cv.blur(img, (7,7))\n",
    "cv.imshow(\"Average Blur\", average)\n",
    "\n",
    "cv.waitKey(0)\n",
    "cv.destroyAllWindows()"
   ]
  },
  {
   "cell_type": "markdown",
   "id": "d9748341",
   "metadata": {},
   "source": [
    "Gaussian Blur"
   ]
  },
  {
   "cell_type": "code",
   "execution_count": 9,
   "id": "7819e70d",
   "metadata": {},
   "outputs": [],
   "source": [
    "gauss = cv.GaussianBlur(img, (7,7), 0)\n",
    "cv.imshow(\"Gaussian Blur\", gauss)\n",
    "\n",
    "cv.waitKey(0)\n",
    "cv.destroyAllWindows()"
   ]
  },
  {
   "cell_type": "markdown",
   "id": "542d2e93",
   "metadata": {},
   "source": [
    "Median Blur"
   ]
  },
  {
   "cell_type": "code",
   "execution_count": 11,
   "id": "922450ed",
   "metadata": {},
   "outputs": [],
   "source": [
    "median = cv.medianBlur(img, 7)\n",
    "cv.imshow(\"Median Blur\", median)\n",
    "\n",
    "cv.waitKey(0)\n",
    "cv.destroyAllWindows()"
   ]
  },
  {
   "cell_type": "markdown",
   "id": "093d69ec",
   "metadata": {},
   "source": [
    "Bilateral"
   ]
  },
  {
   "cell_type": "code",
   "execution_count": 13,
   "id": "32d62e3b",
   "metadata": {},
   "outputs": [],
   "source": [
    "bilateral = cv.bilateralFilter(img, 10, 35, 25)\n",
    "cv.imshow(\"Bilateral\", bilateral)\n",
    "\n",
    "cv.waitKey(0)\n",
    "cv.destroyAllWindows()"
   ]
  },
  {
   "cell_type": "markdown",
   "id": "94557bb3",
   "metadata": {},
   "source": [
    "--------------------------------------------------------------------------------------------------"
   ]
  },
  {
   "cell_type": "markdown",
   "id": "6699785e",
   "metadata": {},
   "source": [
    "## Bitwise"
   ]
  },
  {
   "cell_type": "code",
   "execution_count": 4,
   "id": "060fa2fc",
   "metadata": {},
   "outputs": [],
   "source": [
    "blank = np.zeros((400,400), dtype=\"uint8\")\n",
    "\n",
    "rectangle = cv.rectangle(blank.copy(), (30,30), (370,370), 255, -1)\n",
    "circle = cv.circle(blank.copy(), (200,200), 200, 255, -1)\n",
    "\n",
    "cv.imshow(\"Rectangle\", rectangle)\n",
    "cv.imshow(\"Circle\", circle)\n",
    "\n",
    "cv.waitKey(0)\n",
    "cv.destroyAllWindows()"
   ]
  },
  {
   "cell_type": "markdown",
   "id": "7c5fbc89",
   "metadata": {},
   "source": [
    " "
   ]
  },
  {
   "cell_type": "markdown",
   "id": "e612306f",
   "metadata": {},
   "source": [
    "bitwise AND --> intersect"
   ]
  },
  {
   "cell_type": "code",
   "execution_count": 16,
   "id": "e95a7463",
   "metadata": {},
   "outputs": [],
   "source": [
    "bitwise_and = cv.bitwise_and(rectangle, circle)\n",
    "cv.imshow(\"Bitwise AND\", bitwise_and)\n",
    "\n",
    "cv.waitKey(0)\n",
    "cv.destroyAllWindows()"
   ]
  },
  {
   "cell_type": "markdown",
   "id": "37f8321a",
   "metadata": {},
   "source": [
    "bitwise OR --> union"
   ]
  },
  {
   "cell_type": "code",
   "execution_count": 5,
   "id": "2e5d7ecd",
   "metadata": {},
   "outputs": [],
   "source": [
    "bitwise_or = cv.bitwise_or(rectangle, circle)\n",
    "cv.imshow(\"Bitwise OR\", bitwise_or)\n",
    "\n",
    "cv.waitKey(0)\n",
    "cv.destroyAllWindows()"
   ]
  },
  {
   "cell_type": "markdown",
   "id": "e0108fc5",
   "metadata": {},
   "source": [
    "bitwise XOR --> non-intersect"
   ]
  },
  {
   "cell_type": "code",
   "execution_count": 6,
   "id": "6c22bd65",
   "metadata": {},
   "outputs": [],
   "source": [
    "bitwise_xor = cv.bitwise_xor(rectangle, circle)\n",
    "cv.imshow(\"Bitwise XOR\", bitwise_xor)\n",
    "\n",
    "cv.waitKey(0)\n",
    "cv.destroyAllWindows()"
   ]
  },
  {
   "cell_type": "markdown",
   "id": "4d0083e2",
   "metadata": {},
   "source": [
    "bitwise NOT --> invert color"
   ]
  },
  {
   "cell_type": "code",
   "execution_count": 7,
   "id": "5c28fb49",
   "metadata": {},
   "outputs": [],
   "source": [
    "bitwise_not = cv.bitwise_not(rectangle)\n",
    "cv.imshow(\"Bitwise NOT\", bitwise_not)\n",
    "\n",
    "cv.waitKey(0)\n",
    "cv.destroyAllWindows()"
   ]
  },
  {
   "cell_type": "markdown",
   "id": "305fc05a",
   "metadata": {},
   "source": [
    "--------------------------------------------------------------------------------------------------"
   ]
  },
  {
   "cell_type": "markdown",
   "id": "2b94107c",
   "metadata": {},
   "source": [
    "## Masking"
   ]
  },
  {
   "cell_type": "code",
   "execution_count": 2,
   "id": "a68c7b1d",
   "metadata": {},
   "outputs": [],
   "source": [
    "img = cv.imread(\"(Files)/OPENCV/Photos/cats 2.jpg\")\n",
    "cv.imshow(\"Cats\", img)\n",
    "\n",
    "blank = np.zeros(img.shape[:2], dtype=\"uint8\")\n",
    "cv.imshow(\"Blank\", blank)\n",
    "\n",
    "cv.waitKey(0)\n",
    "cv.destroyAllWindows()"
   ]
  },
  {
   "cell_type": "markdown",
   "id": "4380f860",
   "metadata": {},
   "source": [
    " "
   ]
  },
  {
   "cell_type": "markdown",
   "id": "8363aa6a",
   "metadata": {},
   "source": [
    "Mask 1"
   ]
  },
  {
   "cell_type": "code",
   "execution_count": 4,
   "id": "1fdee5cd",
   "metadata": {},
   "outputs": [],
   "source": [
    "mask1 = cv.circle(blank.copy(), (img.shape[1]//2, img.shape[0]//2), 100, 255, -1)\n",
    "cv.imshow(\"Mask1\", mask1)\n",
    "\n",
    "masked1 = cv.bitwise_and(img, img, mask=mask1)\n",
    "cv.imshow(\"Masked1\", masked1)\n",
    "\n",
    "cv.waitKey(0)\n",
    "cv.destroyAllWindows()"
   ]
  },
  {
   "cell_type": "markdown",
   "id": "ff5bfc04",
   "metadata": {},
   "source": [
    "Mask 2"
   ]
  },
  {
   "cell_type": "code",
   "execution_count": 3,
   "id": "7d16033a",
   "metadata": {},
   "outputs": [],
   "source": [
    "mask2 = cv.rectangle(blank.copy(), (100,100), (400,400), 255, -1)\n",
    "cv.imshow(\"Mask2\", mask2)\n",
    "\n",
    "masked2 = cv.bitwise_and(img, img, mask=mask2)\n",
    "cv.imshow(\"Masked2\", masked2)\n",
    "\n",
    "cv.waitKey(0)\n",
    "cv.destroyAllWindows()"
   ]
  },
  {
   "cell_type": "markdown",
   "id": "f8316c96",
   "metadata": {},
   "source": [
    "Mask 3"
   ]
  },
  {
   "cell_type": "code",
   "execution_count": 4,
   "id": "b79fab2b",
   "metadata": {},
   "outputs": [],
   "source": [
    "rectangle = cv.rectangle(blank.copy(), (30,30), (370,370), 255, -1)\n",
    "circle = cv.circle(blank.copy(), (200,200), 200, 255, -1)\n",
    "weird_shape = cv.bitwise_and(rectangle, circle)\n",
    "cv.imshow(\"Weird Shape\", weird_shape)\n",
    "\n",
    "masked_weird = cv.bitwise_and(img, img, mask=weird_shape)\n",
    "cv.imshow(\"Masked Weird\", masked_weird)\n",
    "\n",
    "cv.waitKey(0)\n",
    "cv.destroyAllWindows()"
   ]
  },
  {
   "cell_type": "markdown",
   "id": "f877c538",
   "metadata": {},
   "source": [
    "--------------------------------------------------------------------------------------------------"
   ]
  },
  {
   "cell_type": "markdown",
   "id": "bd2acad9",
   "metadata": {},
   "source": [
    "## Histogram"
   ]
  },
  {
   "cell_type": "code",
   "execution_count": 6,
   "id": "b2431b22",
   "metadata": {},
   "outputs": [],
   "source": [
    "img = cv.imread(\"(Files)/OPENCV/Photos/cats.jpg\")\n",
    "cv.imshow(\"Cats\", img)\n",
    "\n",
    "gray = cv.cvtColor(img, cv.COLOR_BGR2GRAY)\n",
    "cv.imshow(\"Gray\", gray)\n",
    "\n",
    "blank = np.zeros(img.shape[:2], dtype=\"uint8\")\n",
    "cv.imshow(\"Blank\", blank)\n",
    "\n",
    "circle = cv.circle(blank, (img.shape[1]//2, img.shape[0]//2), 100, 255, -1)\n",
    "cv.imshow(\"Circle\", circle)\n",
    "\n",
    "mask1 = cv.bitwise_and(gray, gray, mask=circle)\n",
    "cv.imshow(\"Mask1\", mask1)\n",
    "\n",
    "mask2 = cv.bitwise_and(img, img, mask=circle)\n",
    "cv.imshow(\"Mask2\", mask2)\n",
    "\n",
    "cv.waitKey(0)\n",
    "cv.destroyAllWindows()"
   ]
  },
  {
   "cell_type": "markdown",
   "id": "98686146",
   "metadata": {},
   "source": [
    " "
   ]
  },
  {
   "cell_type": "markdown",
   "id": "63381a5a",
   "metadata": {},
   "source": [
    "Grayscale Histogram"
   ]
  },
  {
   "cell_type": "code",
   "execution_count": 8,
   "id": "45a57bcc",
   "metadata": {},
   "outputs": [
    {
     "data": {
      "image/png": "[encoded data removed]",
      "text/plain": [
       "<Figure size 432x288 with 1 Axes>"
      ]
     },
     "metadata": {
      "needs_background": "light"
     },
     "output_type": "display_data"
    }
   ],
   "source": [
    "gray_hist = cv.calcHist([gray], [0], mask1, [256], [0,256])\n",
    "\n",
    "plt.figure()\n",
    "plt.title(\"Grayscale Histogram\")\n",
    "plt.xlabel(\"Bins\")\n",
    "plt.ylabel(\"# of pixels\")\n",
    "plt.plot(gray_hist)\n",
    "plt.xlim([0,256])\n",
    "plt.show()"
   ]
  },
  {
   "cell_type": "markdown",
   "id": "f2835a1b",
   "metadata": {},
   "source": [
    "Color Histogram"
   ]
  },
  {
   "cell_type": "code",
   "execution_count": 9,
   "id": "0d6382ba",
   "metadata": {},
   "outputs": [
    {
     "data": {
      "image/png": "[encoded data removed]",
      "text/plain": [
       "<Figure size 432x288 with 1 Axes>"
      ]
     },
     "metadata": {
      "needs_background": "light"
     },
     "output_type": "display_data"
    }
   ],
   "source": [
    "plt.figure()\n",
    "plt.title(\"Color Histogram\")\n",
    "plt.xlabel(\"Bins\")\n",
    "plt.ylabel(\"# of pixels\")\n",
    "\n",
    "colors = (\"b\", \"g\", \"r\")\n",
    "for i,col in enumerate(colors):\n",
    "    hist = cv.calcHist([img], [i], circle, [256], [0,256])\n",
    "    plt.plot(hist, color=col)\n",
    "    plt.xlim([0,256])\n",
    "\n",
    "plt.show()"
   ]
  },
  {
   "cell_type": "markdown",
   "id": "4d955ca4",
   "metadata": {},
   "source": [
    "--------------------------------------------------------------------------------------------------"
   ]
  },
  {
   "cell_type": "markdown",
   "id": "6ec3625b",
   "metadata": {},
   "source": [
    "## Thresh"
   ]
  },
  {
   "cell_type": "code",
   "execution_count": 10,
   "id": "d0d05bb1",
   "metadata": {},
   "outputs": [],
   "source": [
    "img = cv.imread(\"(Files)/OPENCV/Photos/cats.jpg\")\n",
    "cv.imshow(\"Cats\", img)\n",
    "\n",
    "gray = cv.cvtColor(img, cv.COLOR_BGR2GRAY)\n",
    "cv.imshow(\"Gray\", gray)\n",
    "\n",
    "cv.waitKey(0)\n",
    "cv.destroyAllWindows()"
   ]
  },
  {
   "cell_type": "markdown",
   "id": "c31e9168",
   "metadata": {},
   "source": [
    " "
   ]
  },
  {
   "cell_type": "markdown",
   "id": "59a5d3c6",
   "metadata": {},
   "source": [
    "Simple Thresholding"
   ]
  },
  {
   "cell_type": "code",
   "execution_count": 11,
   "id": "b6baa424",
   "metadata": {},
   "outputs": [],
   "source": [
    "threshold, thresh = cv.threshold(gray, 150, 255, cv.THRESH_BINARY)\n",
    "cv.imshow(\"Simple Threshold\", thresh)\n",
    "\n",
    "threshold, thresh_inv = cv.threshold(gray, 150, 255, cv.THRESH_BINARY_INV)\n",
    "cv.imshow(\"Simple Threshold Inverse\", thresh_inv)\n",
    "\n",
    "cv.waitKey(0)\n",
    "cv.destroyAllWindows()"
   ]
  },
  {
   "cell_type": "markdown",
   "id": "5510ffd6",
   "metadata": {},
   "source": [
    "Adaptive Thresholding"
   ]
  },
  {
   "cell_type": "code",
   "execution_count": 12,
   "id": "60dbd0a6",
   "metadata": {},
   "outputs": [],
   "source": [
    "adaptive_thresh = cv.adaptiveThreshold(gray, 255, cv.ADAPTIVE_THRESH_MEAN_C, cv.THRESH_BINARY, 11, 9)\n",
    "cv.imshow(\"Adaptive Thresholding\", adaptive_thresh)\n",
    "\n",
    "adaptive_thresh = cv.adaptiveThreshold(gray, 255, cv.ADAPTIVE_THRESH_MEAN_C, cv.THRESH_BINARY_INV, 11, 9)\n",
    "cv.imshow(\"Adaptive Thresholding Inverse\", adaptive_thresh)\n",
    "\n",
    "adaptive_thresh = cv.adaptiveThreshold(gray, 255, cv.ADAPTIVE_THRESH_GAUSSIAN_C, cv.THRESH_BINARY_INV, 11, 9)\n",
    "cv.imshow(\"Adaptive Thresholding Gaussian\", adaptive_thresh)\n",
    "\n",
    "cv.waitKey(0)\n",
    "cv.destroyAllWindows()"
   ]
  },
  {
   "cell_type": "markdown",
   "id": "d70e83f0",
   "metadata": {},
   "source": [
    "--------------------------------------------------------------------------------------------------"
   ]
  },
  {
   "cell_type": "markdown",
   "id": "5f944cc4",
   "metadata": {},
   "source": [
    "## Gradients"
   ]
  },
  {
   "cell_type": "code",
   "execution_count": 4,
   "id": "5b0e871c",
   "metadata": {},
   "outputs": [],
   "source": [
    "img = cv.imread(\"(Files)/OPENCV/Photos/park.jpg\")\n",
    "cv.imshow(\"Park\", img)\n",
    "\n",
    "gray = cv.cvtColor(img, cv.COLOR_BGR2GRAY)\n",
    "cv.imshow(\"Gray\", gray)\n",
    "\n",
    "cv.waitKey(0)\n",
    "cv.destroyAllWindows()"
   ]
  },
  {
   "cell_type": "markdown",
   "id": "255ae2aa",
   "metadata": {},
   "source": [
    " "
   ]
  },
  {
   "cell_type": "markdown",
   "id": "26ef5420",
   "metadata": {},
   "source": [
    "Laplacian"
   ]
  },
  {
   "cell_type": "code",
   "execution_count": 5,
   "id": "03ed45e5",
   "metadata": {},
   "outputs": [],
   "source": [
    "lap = cv.Laplacian(gray, cv.CV_64F)\n",
    "lap = np.uint8(np.absolute(lap))\n",
    "cv.imshow(\"Laplacian\", lap)\n",
    "\n",
    "cv.waitKey(0)\n",
    "cv.destroyAllWindows()"
   ]
  },
  {
   "cell_type": "markdown",
   "id": "430d84c9",
   "metadata": {},
   "source": [
    "Sobel"
   ]
  },
  {
   "cell_type": "code",
   "execution_count": 6,
   "id": "5aaefb44",
   "metadata": {},
   "outputs": [],
   "source": [
    "sobelx = cv.Sobel(gray, cv.CV_64F, 1, 0)\n",
    "cv.imshow(\"Sobel X\", sobelx)\n",
    "\n",
    "sobely = cv.Sobel(gray, cv.CV_64F, 0, 1)\n",
    "cv.imshow(\"Sobel Y\", sobely)\n",
    "\n",
    "sobel_combine = cv.bitwise_or(sobelx, sobely)\n",
    "cv.imshow(\"Sobel Combine\", sobel_combine)\n",
    "\n",
    "canny = cv.Canny(gray, 150, 175)\n",
    "cv.imshow(\"Canny\", canny)\n",
    "\n",
    "cv.waitKey(0)\n",
    "cv.destroyAllWindows()"
   ]
  },
  {
   "cell_type": "markdown",
   "id": "bb6fa7f8",
   "metadata": {},
   "source": [
    "--------------------------------------------------------------------------------------------------"
   ]
  },
  {
   "cell_type": "markdown",
   "id": "a1a8ceef",
   "metadata": {},
   "source": [
    "## Face Detect"
   ]
  },
  {
   "cell_type": "code",
   "execution_count": 6,
   "id": "c7239640",
   "metadata": {},
   "outputs": [
    {
     "name": "stdout",
     "output_type": "stream",
     "text": [
      "Number of faces found = 19\n"
     ]
    }
   ],
   "source": [
    "img = cv.imread(\"(Files)/OPENCV/Photos/group 1.jpg\")\n",
    "cv.imshow(\"Color\", img)\n",
    "\n",
    "gray = cv.cvtColor(img, cv.COLOR_BGR2GRAY)\n",
    "cv.imshow(\"Gray\", gray)\n",
    "\n",
    "haar_cascade = cv.CascadeClassifier(\"(Files)/OPENCV/haar_face.xml\")\n",
    "\n",
    "faces_rect = haar_cascade.detectMultiScale(gray, scaleFactor=1.1, minNeighbors=1)\n",
    "\n",
    "print(f\"Number of faces found = {len(faces_rect)}\")\n",
    "\n",
    "for (x,y,w,h) in faces_rect:\n",
    "    cv.rectangle(img, (x, y), (x+w, y+h), (0,255,0), thickness=2)\n",
    "\n",
    "cv.imshow(\"Detected Faces\", img)\n",
    "\n",
    "cv.waitKey(0)\n",
    "cv.destroyAllWindows()"
   ]
  },
  {
   "cell_type": "markdown",
   "id": "3a9742a5",
   "metadata": {},
   "source": [
    "--------------------------------------------------------------------------------------------------"
   ]
  },
  {
   "cell_type": "markdown",
   "id": "27ecf817",
   "metadata": {},
   "source": [
    "--------------------------------------------------------------------------------------------------"
   ]
  },
  {
   "cell_type": "markdown",
   "id": "7f40f61e",
   "metadata": {},
   "source": [
    "--------------------------------------------------------------------------------------------------"
   ]
  },
  {
   "cell_type": "markdown",
   "id": "4ba6e318",
   "metadata": {},
   "source": [
    "## Machine Learning"
   ]
  },
  {
   "cell_type": "code",
   "execution_count": 38,
   "id": "9a74f665",
   "metadata": {},
   "outputs": [],
   "source": [
    "IMG_SIZE = (80,80)\n",
    "channels = 1\n",
    "char_path = r'C:\\Users\\Kerem\\Desktop\\OpenCV\\Simpsons\\simpsons_dataset'"
   ]
  },
  {
   "cell_type": "markdown",
   "id": "a7678528",
   "metadata": {},
   "source": [
    " "
   ]
  },
  {
   "cell_type": "markdown",
   "id": "b3e109c2",
   "metadata": {},
   "source": [
    " "
   ]
  },
  {
   "cell_type": "markdown",
   "id": "32f4792d",
   "metadata": {},
   "source": [
    "Creating a character dictionary, sorting it in descending order"
   ]
  },
  {
   "cell_type": "code",
   "execution_count": 39,
   "id": "8697f0e6",
   "metadata": {},
   "outputs": [],
   "source": [
    "char_dict = {}\n",
    "for char in os.listdir(char_path):\n",
    "    char_dict[char] = len(os.listdir(os.path.join(char_path,char)))"
   ]
  },
  {
   "cell_type": "markdown",
   "id": "befc3445",
   "metadata": {},
   "source": [
    " "
   ]
  },
  {
   "cell_type": "markdown",
   "id": "f4fecaa4",
   "metadata": {},
   "source": [
    "Sort in descending order"
   ]
  },
  {
   "cell_type": "code",
   "execution_count": 40,
   "id": "699d358d",
   "metadata": {},
   "outputs": [
    {
     "data": {
      "text/plain": [
       "[('homer_simpson', 2246),\n",
       " ('ned_flanders', 1454),\n",
       " ('moe_szyslak', 1452),\n",
       " ('lisa_simpson', 1354),\n",
       " ('bart_simpson', 1342),\n",
       " ('marge_simpson', 1291),\n",
       " ('krusty_the_clown', 1206),\n",
       " ('principal_skinner', 1194),\n",
       " ('charles_montgomery_burns', 1193),\n",
       " ('milhouse_van_houten', 1079),\n",
       " ('chief_wiggum', 986),\n",
       " ('abraham_grampa_simpson', 913),\n",
       " ('sideshow_bob', 877),\n",
       " ('apu_nahasapeemapetilon', 623),\n",
       " ('kent_brockman', 498),\n",
       " ('comic_book_guy', 469),\n",
       " ('edna_krabappel', 457),\n",
       " ('nelson_muntz', 358),\n",
       " ('lenny_leonard', 310),\n",
       " ('mayor_quimby', 246),\n",
       " ('waylon_smithers', 181),\n",
       " ('maggie_simpson', 128),\n",
       " ('groundskeeper_willie', 121),\n",
       " ('barney_gumble', 106),\n",
       " ('selma_bouvier', 103),\n",
       " ('carl_carlson', 98),\n",
       " ('ralph_wiggum', 89),\n",
       " ('patty_bouvier', 72),\n",
       " ('martin_prince', 71),\n",
       " ('professor_john_frink', 65),\n",
       " ('snake_jailbird', 55),\n",
       " ('cletus_spuckler', 47),\n",
       " ('rainier_wolfcastle', 45),\n",
       " ('agnes_skinner', 42),\n",
       " ('simpsons_dataset', 42),\n",
       " ('sideshow_mel', 40),\n",
       " ('otto_mann', 32),\n",
       " ('fat_tony', 27),\n",
       " ('gil', 27),\n",
       " ('miss_hoover', 17),\n",
       " ('disco_stu', 8),\n",
       " ('troy_mcclure', 8),\n",
       " ('lionel_hutz', 3)]"
      ]
     },
     "execution_count": 40,
     "metadata": {},
     "output_type": "execute_result"
    }
   ],
   "source": [
    "char_dict = caer.sort_dict(char_dict, descending=True)\n",
    "char_dict"
   ]
  },
  {
   "cell_type": "markdown",
   "id": "0e59675f",
   "metadata": {},
   "source": [
    " "
   ]
  },
  {
   "cell_type": "markdown",
   "id": "b59d1a9a",
   "metadata": {},
   "source": [
    "Getting the first 10 categories with the most number of images"
   ]
  },
  {
   "cell_type": "code",
   "execution_count": 41,
   "id": "affc4761",
   "metadata": {},
   "outputs": [
    {
     "data": {
      "text/plain": [
       "['homer_simpson',\n",
       " 'ned_flanders',\n",
       " 'moe_szyslak',\n",
       " 'lisa_simpson',\n",
       " 'bart_simpson',\n",
       " 'marge_simpson',\n",
       " 'krusty_the_clown',\n",
       " 'principal_skinner',\n",
       " 'charles_montgomery_burns',\n",
       " 'milhouse_van_houten']"
      ]
     },
     "execution_count": 41,
     "metadata": {},
     "output_type": "execute_result"
    }
   ],
   "source": [
    "characters = []\n",
    "count = 0\n",
    "for i in char_dict:\n",
    "    characters.append(i[0])\n",
    "    count += 1\n",
    "    if count >= 10:\n",
    "        break\n",
    "characters"
   ]
  },
  {
   "cell_type": "markdown",
   "id": "76ca365c",
   "metadata": {},
   "source": [
    " "
   ]
  },
  {
   "cell_type": "markdown",
   "id": "5ec755c4",
   "metadata": {},
   "source": [
    "Create the training data"
   ]
  },
  {
   "cell_type": "code",
   "execution_count": 42,
   "id": "77f1bbd5",
   "metadata": {},
   "outputs": [
    {
     "name": "stdout",
     "output_type": "stream",
     "text": [
      "[INFO] Could not find a file to load from. Generating the training data\n",
      "----------------------------------------------\n",
      "[INFO] At 1000 files\n",
      "[INFO] At 2000 files\n",
      "[INFO] 2246 files found in 0.007004737854003906s\n",
      "[INFO] At 1000 files\n",
      "[INFO] 1454 files found in 0.003996133804321289s\n",
      "[INFO] At 1000 files\n",
      "[INFO] 1452 files found in 0.004000186920166016s\n",
      "[INFO] At 1000 files\n",
      "[INFO] 1354 files found in 0.004000186920166016s\n",
      "[INFO] At 1000 files\n",
      "[INFO] 1342 files found in 0.003999948501586914s\n",
      "[INFO] At 1000 files\n",
      "[INFO] 1291 files found in 0.003005504608154297s\n",
      "[INFO] At 1000 files\n",
      "[INFO] 1206 files found in 0.0039997100830078125s\n",
      "[INFO] At 1000 files\n",
      "[INFO] 1194 files found in 0.003999948501586914s\n",
      "[INFO] At 1000 files\n",
      "[INFO] 1193 files found in 0.002999544143676758s\n",
      "[INFO] At 1000 files\n",
      "[INFO] 1079 files found in 0.003999948501586914s\n",
      "----------------------------------------------\n",
      "[INFO] 13811 files preprocessed! Took 0m 17s\n"
     ]
    }
   ],
   "source": [
    "train = caer.preprocess_from_dir(char_path, characters, channels=channels, IMG_SIZE=IMG_SIZE, isShuffle=True)"
   ]
  },
  {
   "cell_type": "markdown",
   "id": "9c72f3f0",
   "metadata": {},
   "source": [
    " "
   ]
  },
  {
   "cell_type": "markdown",
   "id": "6312fc93",
   "metadata": {},
   "source": [
    "Number of training samples"
   ]
  },
  {
   "cell_type": "code",
   "execution_count": 43,
   "id": "528aafc1",
   "metadata": {},
   "outputs": [
    {
     "data": {
      "text/plain": [
       "13811"
      ]
     },
     "execution_count": 43,
     "metadata": {},
     "output_type": "execute_result"
    }
   ],
   "source": [
    "len(train)"
   ]
  },
  {
   "cell_type": "markdown",
   "id": "e20d9bfb",
   "metadata": {},
   "source": [
    " "
   ]
  },
  {
   "cell_type": "markdown",
   "id": "5f0cf31e",
   "metadata": {},
   "source": [
    "Visualizing the data (OpenCV doesn't display well in Jupyter notebooks)"
   ]
  },
  {
   "cell_type": "code",
   "execution_count": 44,
   "id": "f553846a",
   "metadata": {},
   "outputs": [
    {
     "data": {
      "image/png": "[encoded data removed]",
      "text/plain": [
       "<Figure size 2160x2160 with 1 Axes>"
      ]
     },
     "metadata": {
      "needs_background": "light"
     },
     "output_type": "display_data"
    }
   ],
   "source": [
    "plt.figure(figsize=(30,30))\n",
    "plt.imshow(train[0][0], cmap='gray')\n",
    "plt.show()"
   ]
  },
  {
   "cell_type": "markdown",
   "id": "512c3dd0",
   "metadata": {},
   "source": [
    " "
   ]
  },
  {
   "cell_type": "markdown",
   "id": "45c2068a",
   "metadata": {},
   "source": [
    "Separating the array and corresponding labels"
   ]
  },
  {
   "cell_type": "code",
   "execution_count": 45,
   "id": "f95fa0f3",
   "metadata": {},
   "outputs": [],
   "source": [
    "featureSet, labels = caer.sep_train(train, IMG_SIZE=IMG_SIZE)"
   ]
  },
  {
   "cell_type": "markdown",
   "id": "2283bc50",
   "metadata": {},
   "source": [
    " "
   ]
  },
  {
   "cell_type": "markdown",
   "id": "28212b34",
   "metadata": {},
   "source": [
    "Normalize the featureSet ==> (0,1)"
   ]
  },
  {
   "cell_type": "code",
   "execution_count": 46,
   "id": "9e80eef1",
   "metadata": {},
   "outputs": [],
   "source": [
    "featureSet = caer.normalize(featureSet)"
   ]
  },
  {
   "cell_type": "markdown",
   "id": "62cc3fba",
   "metadata": {},
   "source": [
    " "
   ]
  },
  {
   "cell_type": "markdown",
   "id": "9bbf8830",
   "metadata": {},
   "source": [
    "Converting numerical labels to binary class vectors"
   ]
  },
  {
   "cell_type": "code",
   "execution_count": 47,
   "id": "287d8d45",
   "metadata": {},
   "outputs": [],
   "source": [
    "labels = to_categorical(labels, len(characters))"
   ]
  },
  {
   "cell_type": "code",
   "execution_count": 53,
   "id": "e2882212",
   "metadata": {},
   "outputs": [
    {
     "name": "stdout",
     "output_type": "stream",
     "text": [
      "X_train:  [[[[0.5294118 ]\n",
      "   [0.5294118 ]\n",
      "   [0.5058824 ]\n",
      "   ...\n",
      "   [0.61960787]\n",
      "   [0.61960787]\n",
      "   [0.6       ]]\n",
      "\n",
      "  [[0.5294118 ]\n",
      "   [0.5294118 ]\n",
      "   [0.5058824 ]\n",
      "   ...\n",
      "   [0.61960787]\n",
      "   [0.61960787]\n",
      "   [0.6039216 ]]\n",
      "\n",
      "  [[0.5294118 ]\n",
      "   [0.5294118 ]\n",
      "   [0.5019608 ]\n",
      "   ...\n",
      "   [0.61960787]\n",
      "   [0.61960787]\n",
      "   [0.61960787]]\n",
      "\n",
      "  ...\n",
      "\n",
      "  [[0.5019608 ]\n",
      "   [0.5019608 ]\n",
      "   [0.2509804 ]\n",
      "   ...\n",
      "   [0.13725491]\n",
      "   [0.0627451 ]\n",
      "   [0.0627451 ]]\n",
      "\n",
      "  [[0.5019608 ]\n",
      "   [0.5019608 ]\n",
      "   [0.23921569]\n",
      "   ...\n",
      "   [0.5176471 ]\n",
      "   [0.05490196]\n",
      "   [0.0627451 ]]\n",
      "\n",
      "  [[0.5019608 ]\n",
      "   [0.5019608 ]\n",
      "   [0.23529412]\n",
      "   ...\n",
      "   [0.627451  ]\n",
      "   [0.05098039]\n",
      "   [0.0627451 ]]]\n",
      "\n",
      "\n",
      " [[[0.41960785]\n",
      "   [0.41960785]\n",
      "   [0.41960785]\n",
      "   ...\n",
      "   [0.24705882]\n",
      "   [0.21960784]\n",
      "   [0.4117647 ]]\n",
      "\n",
      "  [[0.41960785]\n",
      "   [0.41960785]\n",
      "   [0.41960785]\n",
      "   ...\n",
      "   [0.28235295]\n",
      "   [0.22352941]\n",
      "   [0.4117647 ]]\n",
      "\n",
      "  [[0.41960785]\n",
      "   [0.41960785]\n",
      "   [0.41960785]\n",
      "   ...\n",
      "   [0.40784314]\n",
      "   [0.3882353 ]\n",
      "   [0.42745098]]\n",
      "\n",
      "  ...\n",
      "\n",
      "  [[0.34901962]\n",
      "   [0.34901962]\n",
      "   [0.34901962]\n",
      "   ...\n",
      "   [0.34901962]\n",
      "   [0.34901962]\n",
      "   [0.34901962]]\n",
      "\n",
      "  [[0.34901962]\n",
      "   [0.34901962]\n",
      "   [0.34901962]\n",
      "   ...\n",
      "   [0.34901962]\n",
      "   [0.34901962]\n",
      "   [0.34901962]]\n",
      "\n",
      "  [[0.34901962]\n",
      "   [0.34901962]\n",
      "   [0.34901962]\n",
      "   ...\n",
      "   [0.34901962]\n",
      "   [0.34901962]\n",
      "   [0.34901962]]]\n",
      "\n",
      "\n",
      " [[[0.15686275]\n",
      "   [0.15686275]\n",
      "   [0.15686275]\n",
      "   ...\n",
      "   [0.15686275]\n",
      "   [0.15686275]\n",
      "   [0.15686275]]\n",
      "\n",
      "  [[0.15686275]\n",
      "   [0.15686275]\n",
      "   [0.15686275]\n",
      "   ...\n",
      "   [0.15686275]\n",
      "   [0.15686275]\n",
      "   [0.15686275]]\n",
      "\n",
      "  [[0.15686275]\n",
      "   [0.15686275]\n",
      "   [0.15686275]\n",
      "   ...\n",
      "   [0.15686275]\n",
      "   [0.15686275]\n",
      "   [0.15686275]]\n",
      "\n",
      "  ...\n",
      "\n",
      "  [[0.15686275]\n",
      "   [0.15686275]\n",
      "   [0.09411765]\n",
      "   ...\n",
      "   [0.2901961 ]\n",
      "   [0.2901961 ]\n",
      "   [0.2901961 ]]\n",
      "\n",
      "  [[0.19607843]\n",
      "   [0.19607843]\n",
      "   [0.19607843]\n",
      "   ...\n",
      "   [0.2901961 ]\n",
      "   [0.2901961 ]\n",
      "   [0.2901961 ]]\n",
      "\n",
      "  [[0.19607843]\n",
      "   [0.19607843]\n",
      "   [0.19607843]\n",
      "   ...\n",
      "   [0.2901961 ]\n",
      "   [0.2901961 ]\n",
      "   [0.2901961 ]]]\n",
      "\n",
      "\n",
      " ...\n",
      "\n",
      "\n",
      " [[[0.49803922]\n",
      "   [0.49803922]\n",
      "   [0.49803922]\n",
      "   ...\n",
      "   [0.49803922]\n",
      "   [0.49803922]\n",
      "   [0.49803922]]\n",
      "\n",
      "  [[0.49803922]\n",
      "   [0.49803922]\n",
      "   [0.49803922]\n",
      "   ...\n",
      "   [0.49803922]\n",
      "   [0.49803922]\n",
      "   [0.49803922]]\n",
      "\n",
      "  [[0.5254902 ]\n",
      "   [0.5254902 ]\n",
      "   [0.5254902 ]\n",
      "   ...\n",
      "   [0.5254902 ]\n",
      "   [0.5254902 ]\n",
      "   [0.5254902 ]]\n",
      "\n",
      "  ...\n",
      "\n",
      "  [[0.48235294]\n",
      "   [0.48235294]\n",
      "   [0.4862745 ]\n",
      "   ...\n",
      "   [0.53333336]\n",
      "   [0.20392157]\n",
      "   [0.44313726]]\n",
      "\n",
      "  [[0.48235294]\n",
      "   [0.48235294]\n",
      "   [0.4862745 ]\n",
      "   ...\n",
      "   [0.1764706 ]\n",
      "   [0.4392157 ]\n",
      "   [0.47843137]]\n",
      "\n",
      "  [[0.48235294]\n",
      "   [0.48235294]\n",
      "   [0.4862745 ]\n",
      "   ...\n",
      "   [0.4862745 ]\n",
      "   [0.44313726]\n",
      "   [0.2901961 ]]]\n",
      "\n",
      "\n",
      " [[[0.39607844]\n",
      "   [0.27450982]\n",
      "   [0.14509805]\n",
      "   ...\n",
      "   [0.2784314 ]\n",
      "   [0.5568628 ]\n",
      "   [0.6156863 ]]\n",
      "\n",
      "  [[0.4509804 ]\n",
      "   [0.52156866]\n",
      "   [0.5254902 ]\n",
      "   ...\n",
      "   [0.22745098]\n",
      "   [0.61960787]\n",
      "   [0.61960787]]\n",
      "\n",
      "  [[0.44705883]\n",
      "   [0.52156866]\n",
      "   [0.5254902 ]\n",
      "   ...\n",
      "   [0.60784316]\n",
      "   [0.61960787]\n",
      "   [0.61960787]]\n",
      "\n",
      "  ...\n",
      "\n",
      "  [[0.32156864]\n",
      "   [0.35686275]\n",
      "   [0.34509805]\n",
      "   ...\n",
      "   [0.2509804 ]\n",
      "   [0.2509804 ]\n",
      "   [0.2509804 ]]\n",
      "\n",
      "  [[0.31764707]\n",
      "   [0.3529412 ]\n",
      "   [0.34509805]\n",
      "   ...\n",
      "   [0.2509804 ]\n",
      "   [0.2509804 ]\n",
      "   [0.2509804 ]]\n",
      "\n",
      "  [[0.3254902 ]\n",
      "   [0.36862746]\n",
      "   [0.36078432]\n",
      "   ...\n",
      "   [0.3137255 ]\n",
      "   [0.23137255]\n",
      "   [0.23137255]]]\n",
      "\n",
      "\n",
      " [[[0.2784314 ]\n",
      "   [0.4745098 ]\n",
      "   [0.4627451 ]\n",
      "   ...\n",
      "   [0.5921569 ]\n",
      "   [0.58431375]\n",
      "   [0.58431375]]\n",
      "\n",
      "  [[0.2784314 ]\n",
      "   [0.4745098 ]\n",
      "   [0.4627451 ]\n",
      "   ...\n",
      "   [0.45882353]\n",
      "   [0.58431375]\n",
      "   [0.58431375]]\n",
      "\n",
      "  [[0.2784314 ]\n",
      "   [0.47843137]\n",
      "   [0.4627451 ]\n",
      "   ...\n",
      "   [0.69803923]\n",
      "   [0.69411767]\n",
      "   [0.4509804 ]]\n",
      "\n",
      "  ...\n",
      "\n",
      "  [[0.44705883]\n",
      "   [0.44705883]\n",
      "   [0.37254903]\n",
      "   ...\n",
      "   [0.5176471 ]\n",
      "   [0.63529414]\n",
      "   [0.6313726 ]]\n",
      "\n",
      "  [[0.44705883]\n",
      "   [0.44705883]\n",
      "   [0.42352942]\n",
      "   ...\n",
      "   [0.6       ]\n",
      "   [0.61960787]\n",
      "   [0.6156863 ]]\n",
      "\n",
      "  [[0.44705883]\n",
      "   [0.44705883]\n",
      "   [0.42352942]\n",
      "   ...\n",
      "   [0.6       ]\n",
      "   [0.62352943]\n",
      "   [0.61960787]]]]\n",
      "y_train:  [[1. 0. 0. ... 0. 0. 0.]\n",
      " [0. 1. 0. ... 0. 0. 0.]\n",
      " [0. 0. 0. ... 0. 0. 0.]\n",
      " ...\n",
      " [0. 1. 0. ... 0. 0. 0.]\n",
      " [0. 0. 1. ... 0. 0. 0.]\n",
      " [1. 0. 0. ... 0. 0. 0.]]\n",
      "X_test:  [[[[0.23529412]\n",
      "   [0.23137255]\n",
      "   [0.21176471]\n",
      "   ...\n",
      "   [0.48235294]\n",
      "   [0.48235294]\n",
      "   [0.48235294]]\n",
      "\n",
      "  [[0.2       ]\n",
      "   [0.2       ]\n",
      "   [0.14901961]\n",
      "   ...\n",
      "   [0.48235294]\n",
      "   [0.48235294]\n",
      "   [0.48235294]]\n",
      "\n",
      "  [[0.19215687]\n",
      "   [0.19215687]\n",
      "   [0.12156863]\n",
      "   ...\n",
      "   [0.48235294]\n",
      "   [0.48235294]\n",
      "   [0.48235294]]\n",
      "\n",
      "  ...\n",
      "\n",
      "  [[0.3019608 ]\n",
      "   [0.39215687]\n",
      "   [0.5647059 ]\n",
      "   ...\n",
      "   [0.45882353]\n",
      "   [0.23529412]\n",
      "   [0.17254902]]\n",
      "\n",
      "  [[0.2509804 ]\n",
      "   [0.6392157 ]\n",
      "   [0.54901963]\n",
      "   ...\n",
      "   [0.60784316]\n",
      "   [0.5647059 ]\n",
      "   [0.5921569 ]]\n",
      "\n",
      "  [[0.33333334]\n",
      "   [0.654902  ]\n",
      "   [0.54901963]\n",
      "   ...\n",
      "   [0.6       ]\n",
      "   [0.6       ]\n",
      "   [0.59607846]]]\n",
      "\n",
      "\n",
      " [[[0.3529412 ]\n",
      "   [0.34509805]\n",
      "   [0.34901962]\n",
      "   ...\n",
      "   [0.30980393]\n",
      "   [0.30980393]\n",
      "   [0.30980393]]\n",
      "\n",
      "  [[0.43529412]\n",
      "   [0.34509805]\n",
      "   [0.34901962]\n",
      "   ...\n",
      "   [0.30980393]\n",
      "   [0.30980393]\n",
      "   [0.30980393]]\n",
      "\n",
      "  [[0.5176471 ]\n",
      "   [0.4509804 ]\n",
      "   [0.31764707]\n",
      "   ...\n",
      "   [0.30980393]\n",
      "   [0.30980393]\n",
      "   [0.2901961 ]]\n",
      "\n",
      "  ...\n",
      "\n",
      "  [[0.34901962]\n",
      "   [0.21176471]\n",
      "   [0.34901962]\n",
      "   ...\n",
      "   [0.34901962]\n",
      "   [0.34901962]\n",
      "   [0.33333334]]\n",
      "\n",
      "  [[0.34901962]\n",
      "   [0.32941177]\n",
      "   [0.34901962]\n",
      "   ...\n",
      "   [0.34901962]\n",
      "   [0.34901962]\n",
      "   [0.36078432]]\n",
      "\n",
      "  [[0.34901962]\n",
      "   [0.3254902 ]\n",
      "   [0.34901962]\n",
      "   ...\n",
      "   [0.34901962]\n",
      "   [0.34901962]\n",
      "   [0.36078432]]]\n",
      "\n",
      "\n",
      " [[[0.36862746]\n",
      "   [0.36862746]\n",
      "   [0.36862746]\n",
      "   ...\n",
      "   [0.26666668]\n",
      "   [0.21960784]\n",
      "   [0.39215687]]\n",
      "\n",
      "  [[0.36862746]\n",
      "   [0.36862746]\n",
      "   [0.36862746]\n",
      "   ...\n",
      "   [0.36862746]\n",
      "   [0.3882353 ]\n",
      "   [0.3882353 ]]\n",
      "\n",
      "  [[0.36862746]\n",
      "   [0.36862746]\n",
      "   [0.36862746]\n",
      "   ...\n",
      "   [0.36862746]\n",
      "   [0.3882353 ]\n",
      "   [0.3882353 ]]\n",
      "\n",
      "  ...\n",
      "\n",
      "  [[0.48235294]\n",
      "   [0.48235294]\n",
      "   [0.48235294]\n",
      "   ...\n",
      "   [0.48235294]\n",
      "   [0.48235294]\n",
      "   [0.48235294]]\n",
      "\n",
      "  [[0.48235294]\n",
      "   [0.48235294]\n",
      "   [0.48235294]\n",
      "   ...\n",
      "   [0.48235294]\n",
      "   [0.48235294]\n",
      "   [0.48235294]]\n",
      "\n",
      "  [[0.48235294]\n",
      "   [0.48235294]\n",
      "   [0.48235294]\n",
      "   ...\n",
      "   [0.48235294]\n",
      "   [0.48235294]\n",
      "   [0.48235294]]]\n",
      "\n",
      "\n",
      " ...\n",
      "\n",
      "\n",
      " [[[0.4862745 ]\n",
      "   [0.20784314]\n",
      "   [0.22352941]\n",
      "   ...\n",
      "   [0.48235294]\n",
      "   [0.48235294]\n",
      "   [0.48235294]]\n",
      "\n",
      "  [[0.42352942]\n",
      "   [0.25490198]\n",
      "   [0.28235295]\n",
      "   ...\n",
      "   [0.48235294]\n",
      "   [0.48235294]\n",
      "   [0.48235294]]\n",
      "\n",
      "  [[0.42352942]\n",
      "   [0.2509804 ]\n",
      "   [0.26666668]\n",
      "   ...\n",
      "   [0.48235294]\n",
      "   [0.48235294]\n",
      "   [0.48235294]]\n",
      "\n",
      "  ...\n",
      "\n",
      "  [[0.20784314]\n",
      "   [0.3882353 ]\n",
      "   [0.3882353 ]\n",
      "   ...\n",
      "   [0.46666667]\n",
      "   [0.46666667]\n",
      "   [0.46666667]]\n",
      "\n",
      "  [[0.2       ]\n",
      "   [0.3882353 ]\n",
      "   [0.3882353 ]\n",
      "   ...\n",
      "   [0.46666667]\n",
      "   [0.46666667]\n",
      "   [0.46666667]]\n",
      "\n",
      "  [[0.1882353 ]\n",
      "   [0.3882353 ]\n",
      "   [0.3882353 ]\n",
      "   ...\n",
      "   [0.46666667]\n",
      "   [0.46666667]\n",
      "   [0.46666667]]]\n",
      "\n",
      "\n",
      " [[[0.5019608 ]\n",
      "   [0.41568628]\n",
      "   [0.19215687]\n",
      "   ...\n",
      "   [0.46666667]\n",
      "   [0.5294118 ]\n",
      "   [0.5294118 ]]\n",
      "\n",
      "  [[0.5019608 ]\n",
      "   [0.4862745 ]\n",
      "   [0.5411765 ]\n",
      "   ...\n",
      "   [0.45882353]\n",
      "   [0.5294118 ]\n",
      "   [0.5294118 ]]\n",
      "\n",
      "  [[0.2784314 ]\n",
      "   [0.2901961 ]\n",
      "   [0.5294118 ]\n",
      "   ...\n",
      "   [0.5294118 ]\n",
      "   [0.5294118 ]\n",
      "   [0.49019608]]\n",
      "\n",
      "  ...\n",
      "\n",
      "  [[0.32941177]\n",
      "   [0.32941177]\n",
      "   [0.32941177]\n",
      "   ...\n",
      "   [0.13725491]\n",
      "   [0.13725491]\n",
      "   [0.13725491]]\n",
      "\n",
      "  [[0.2901961 ]\n",
      "   [0.32941177]\n",
      "   [0.3372549 ]\n",
      "   ...\n",
      "   [0.13725491]\n",
      "   [0.13725491]\n",
      "   [0.13725491]]\n",
      "\n",
      "  [[0.2901961 ]\n",
      "   [0.32941177]\n",
      "   [0.34509805]\n",
      "   ...\n",
      "   [0.13725491]\n",
      "   [0.13725491]\n",
      "   [0.13725491]]]\n",
      "\n",
      "\n",
      " [[[0.5803922 ]\n",
      "   [0.6039216 ]\n",
      "   [0.58431375]\n",
      "   ...\n",
      "   [0.42352942]\n",
      "   [0.42352942]\n",
      "   [0.42352942]]\n",
      "\n",
      "  [[0.5764706 ]\n",
      "   [0.6039216 ]\n",
      "   [0.58431375]\n",
      "   ...\n",
      "   [0.42352942]\n",
      "   [0.42352942]\n",
      "   [0.42352942]]\n",
      "\n",
      "  [[0.57254905]\n",
      "   [0.6039216 ]\n",
      "   [0.5882353 ]\n",
      "   ...\n",
      "   [0.42352942]\n",
      "   [0.42352942]\n",
      "   [0.42352942]]\n",
      "\n",
      "  ...\n",
      "\n",
      "  [[0.6       ]\n",
      "   [0.6       ]\n",
      "   [0.6       ]\n",
      "   ...\n",
      "   [0.42352942]\n",
      "   [0.42352942]\n",
      "   [0.42352942]]\n",
      "\n",
      "  [[0.5803922 ]\n",
      "   [0.5764706 ]\n",
      "   [0.5372549 ]\n",
      "   ...\n",
      "   [0.42352942]\n",
      "   [0.42352942]\n",
      "   [0.42352942]]\n",
      "\n",
      "  [[0.61960787]\n",
      "   [0.6039216 ]\n",
      "   [0.6       ]\n",
      "   ...\n",
      "   [0.42352942]\n",
      "   [0.42352942]\n",
      "   [0.42352942]]]]\n",
      "y_test:  [[0. 1. 0. ... 0. 0. 0.]\n",
      " [1. 0. 0. ... 0. 0. 0.]\n",
      " [0. 0. 0. ... 0. 0. 0.]\n",
      " ...\n",
      " [0. 0. 0. ... 0. 0. 0.]\n",
      " [1. 0. 0. ... 0. 0. 0.]\n",
      " [0. 0. 0. ... 0. 1. 0.]]\n"
     ]
    }
   ],
   "source": [
    "x_train, x_val, y_train, y_val = train_test_split(featureSet, labels, test_size=0.2)\n",
    "\n",
    "print (\"X_train: \", x_train)\n",
    "print (\"y_train: \", y_train)\n",
    "print(\"X_test: \", x_val)\n",
    "print (\"y_test: \", y_val)"
   ]
  },
  {
   "cell_type": "markdown",
   "id": "17f4c00c",
   "metadata": {},
   "source": [
    " "
   ]
  },
  {
   "cell_type": "markdown",
   "id": "0ed8da2e",
   "metadata": {},
   "source": [
    "Deleting some variables"
   ]
  },
  {
   "cell_type": "code",
   "execution_count": 54,
   "id": "05a8ed5d",
   "metadata": {},
   "outputs": [
    {
     "data": {
      "text/plain": [
       "4704"
      ]
     },
     "execution_count": 54,
     "metadata": {},
     "output_type": "execute_result"
    }
   ],
   "source": [
    "del train\n",
    "del featureSet\n",
    "del labels \n",
    "gc.collect()"
   ]
  },
  {
   "cell_type": "markdown",
   "id": "bc9654ff",
   "metadata": {},
   "source": [
    " "
   ]
  },
  {
   "cell_type": "markdown",
   "id": "b281e3c5",
   "metadata": {},
   "source": [
    "Useful variables when training"
   ]
  },
  {
   "cell_type": "code",
   "execution_count": 89,
   "id": "adfb30d4",
   "metadata": {},
   "outputs": [],
   "source": [
    "BATCH_SIZE = 32\n",
    "EPOCHS = 10"
   ]
  },
  {
   "cell_type": "markdown",
   "id": "6309623b",
   "metadata": {},
   "source": [
    " "
   ]
  },
  {
   "cell_type": "markdown",
   "id": "506f3b2b",
   "metadata": {},
   "source": [
    "Image data generator (introduces randomness in network ==> better accuracy)"
   ]
  },
  {
   "cell_type": "code",
   "execution_count": 90,
   "id": "05577ba4",
   "metadata": {},
   "outputs": [],
   "source": [
    "datagen = canaro.generators.imageDataGenerator()\n",
    "train_gen = datagen.flow(x_train, y_train, batch_size=BATCH_SIZE)"
   ]
  },
  {
   "cell_type": "markdown",
   "id": "d362df05",
   "metadata": {},
   "source": [
    " "
   ]
  },
  {
   "cell_type": "markdown",
   "id": "a91c7e7a",
   "metadata": {},
   "source": [
    "Create our model (returns a compiled model)"
   ]
  },
  {
   "cell_type": "code",
   "execution_count": 91,
   "id": "1682fe97",
   "metadata": {},
   "outputs": [],
   "source": [
    "model = canaro.models.createSimpsonsModel(IMG_SIZE=IMG_SIZE, channels=channels, output_dim=len(characters), \n",
    "                                         loss='binary_crossentropy', decay=1e-7, learning_rate=0.001, momentum=0.9,\n",
    "                                         nesterov=True)"
   ]
  },
  {
   "cell_type": "code",
   "execution_count": 92,
   "id": "b35fd4d1",
   "metadata": {},
   "outputs": [
    {
     "name": "stdout",
     "output_type": "stream",
     "text": [
      "Model: \"sequential_7\"\n",
      "_________________________________________________________________\n",
      " Layer (type)                Output Shape              Param #   \n",
      "=================================================================\n",
      " conv2d_42 (Conv2D)          (None, 80, 80, 32)        320       \n",
      "                                                                 \n",
      " conv2d_43 (Conv2D)          (None, 78, 78, 32)        9248      \n",
      "                                                                 \n",
      " max_pooling2d_21 (MaxPoolin  (None, 39, 39, 32)       0         \n",
      " g2D)                                                            \n",
      "                                                                 \n",
      " dropout_28 (Dropout)        (None, 39, 39, 32)        0         \n",
      "                                                                 \n",
      " conv2d_44 (Conv2D)          (None, 39, 39, 64)        18496     \n",
      "                                                                 \n",
      " conv2d_45 (Conv2D)          (None, 37, 37, 64)        36928     \n",
      "                                                                 \n",
      " max_pooling2d_22 (MaxPoolin  (None, 18, 18, 64)       0         \n",
      " g2D)                                                            \n",
      "                                                                 \n",
      " dropout_29 (Dropout)        (None, 18, 18, 64)        0         \n",
      "                                                                 \n",
      " conv2d_46 (Conv2D)          (None, 18, 18, 256)       147712    \n",
      "                                                                 \n",
      " conv2d_47 (Conv2D)          (None, 16, 16, 256)       590080    \n",
      "                                                                 \n",
      " max_pooling2d_23 (MaxPoolin  (None, 8, 8, 256)        0         \n",
      " g2D)                                                            \n",
      "                                                                 \n",
      " dropout_30 (Dropout)        (None, 8, 8, 256)         0         \n",
      "                                                                 \n",
      " flatten_7 (Flatten)         (None, 16384)             0         \n",
      "                                                                 \n",
      " dropout_31 (Dropout)        (None, 16384)             0         \n",
      "                                                                 \n",
      " dense_10 (Dense)            (None, 1024)              16778240  \n",
      "                                                                 \n",
      " dense_11 (Dense)            (None, 10)                10250     \n",
      "                                                                 \n",
      "=================================================================\n",
      "Total params: 17,591,274\n",
      "Trainable params: 17,591,274\n",
      "Non-trainable params: 0\n",
      "_________________________________________________________________\n"
     ]
    }
   ],
   "source": [
    "model.summary()"
   ]
  },
  {
   "cell_type": "markdown",
   "id": "e5e0484b",
   "metadata": {},
   "source": [
    " "
   ]
  },
  {
   "cell_type": "markdown",
   "id": "900bd3fd",
   "metadata": {},
   "source": [
    "Training the model"
   ]
  },
  {
   "cell_type": "code",
   "execution_count": 93,
   "id": "f0e51745",
   "metadata": {},
   "outputs": [
    {
     "name": "stdout",
     "output_type": "stream",
     "text": [
      "Epoch 1/10\n",
      "128/128 [==============================] - 139s 1s/step - loss: 0.3597 - accuracy: 0.1529 - val_loss: 0.3418 - val_accuracy: 0.1603 - lr: 0.0100\n",
      "Epoch 2/10\n",
      "128/128 [==============================] - 136s 1s/step - loss: 0.3241 - accuracy: 0.1627 - val_loss: 0.3375 - val_accuracy: 0.1603 - lr: 0.0100\n",
      "Epoch 3/10\n",
      "128/128 [==============================] - 137s 1s/step - loss: 0.3237 - accuracy: 0.1612 - val_loss: 0.3368 - val_accuracy: 0.1603 - lr: 0.0100\n",
      "Epoch 4/10\n",
      "128/128 [==============================] - 137s 1s/step - loss: 0.3234 - accuracy: 0.1627 - val_loss: 0.3358 - val_accuracy: 0.1603 - lr: 0.0100\n",
      "Epoch 5/10\n",
      "128/128 [==============================] - 137s 1s/step - loss: 0.3231 - accuracy: 0.1619 - val_loss: 0.3357 - val_accuracy: 0.1603 - lr: 0.0100\n",
      "Epoch 6/10\n",
      "128/128 [==============================] - 131s 1s/step - loss: 0.3228 - accuracy: 0.1616 - val_loss: 0.3362 - val_accuracy: 0.1603 - lr: 0.0100\n",
      "Epoch 7/10\n",
      "128/128 [==============================] - 129s 1s/step - loss: 0.3226 - accuracy: 0.1625 - val_loss: 0.3367 - val_accuracy: 0.1603 - lr: 0.0100\n",
      "Epoch 8/10\n",
      "128/128 [==============================] - 129s 1s/step - loss: 0.3224 - accuracy: 0.1629 - val_loss: 0.3383 - val_accuracy: 0.1603 - lr: 0.0100\n",
      "Epoch 9/10\n",
      "128/128 [==============================] - 128s 1s/step - loss: 0.3208 - accuracy: 0.1649 - val_loss: 0.3351 - val_accuracy: 0.1668 - lr: 0.0100\n",
      "Epoch 10/10\n",
      "128/128 [==============================] - 129s 1s/step - loss: 0.3169 - accuracy: 0.1832 - val_loss: 0.3278 - val_accuracy: 0.2179 - lr: 0.0100\n"
     ]
    }
   ],
   "source": [
    "callbacks_list = [LearningRateScheduler(canaro.lr_schedule)]\n",
    "\n",
    "training = model.fit(train_gen,\n",
    "                    steps_per_epoch=len(x_train)//BATCH_SIZE,\n",
    "                    epochs=EPOCHS,\n",
    "                    validation_data=(x_val,y_val),\n",
    "                    validation_steps=len(y_val)//BATCH_SIZE,\n",
    "                    callbacks = callbacks_list)"
   ]
  },
  {
   "cell_type": "code",
   "execution_count": 94,
   "id": "c560e201",
   "metadata": {},
   "outputs": [
    {
     "data": {
      "text/plain": [
       "['homer_simpson',\n",
       " 'ned_flanders',\n",
       " 'moe_szyslak',\n",
       " 'lisa_simpson',\n",
       " 'bart_simpson',\n",
       " 'marge_simpson',\n",
       " 'krusty_the_clown',\n",
       " 'principal_skinner',\n",
       " 'charles_montgomery_burns',\n",
       " 'milhouse_van_houten']"
      ]
     },
     "execution_count": 94,
     "metadata": {},
     "output_type": "execute_result"
    }
   ],
   "source": [
    "characters"
   ]
  },
  {
   "cell_type": "markdown",
   "id": "92031166",
   "metadata": {},
   "source": [
    " "
   ]
  },
  {
   "cell_type": "markdown",
   "id": "f0913225",
   "metadata": {},
   "source": [
    "Testing"
   ]
  },
  {
   "cell_type": "code",
   "execution_count": 110,
   "id": "0a56ce66",
   "metadata": {},
   "outputs": [
    {
     "data": {
      "image/png": "[encoded data removed]",
      "text/plain": [
       "<Figure size 432x288 with 1 Axes>"
      ]
     },
     "metadata": {
      "needs_background": "light"
     },
     "output_type": "display_data"
    }
   ],
   "source": [
    "test_path = r'(Files)\\OPENCV\\Simpsons\\kaggle_simpson_testset\\kaggle_simpson_testset\\homer_simpson_1.jpg'\n",
    "\n",
    "img = cv.imread(test_path)\n",
    "\n",
    "plt.imshow(img)\n",
    "plt.show()\n",
    "\n",
    "\n",
    "def prepare(image):\n",
    "    image = cv.cvtColor(image, cv.COLOR_BGR2GRAY)\n",
    "    image = cv.resize(image, IMG_SIZE)\n",
    "    image = caer.reshape(image, IMG_SIZE, 1)\n",
    "    return image\n",
    "\n",
    "\n",
    "predictions = model.predict(prepare(img))"
   ]
  },
  {
   "cell_type": "code",
   "execution_count": 111,
   "id": "ae5d0e64",
   "metadata": {},
   "outputs": [],
   "source": [
    "cv.imshow(\"IMG\", img)\n",
    "\n",
    "cv.waitKey(0)\n",
    "cv.destroyAllWindows()"
   ]
  },
  {
   "cell_type": "markdown",
   "id": "944e909f",
   "metadata": {},
   "source": [
    " "
   ]
  },
  {
   "cell_type": "markdown",
   "id": "cc4dba4a",
   "metadata": {},
   "source": [
    "Getting class with the highest probability"
   ]
  },
  {
   "cell_type": "code",
   "execution_count": 112,
   "id": "87c8652d",
   "metadata": {},
   "outputs": [
    {
     "name": "stdout",
     "output_type": "stream",
     "text": [
      "homer_simpson\n"
     ]
    }
   ],
   "source": [
    "print(characters[np.argmax(predictions[0])])"
   ]
  }
 ],
 "metadata": {
  "kernelspec": {
   "display_name": "Python 3 (ipykernel)",
   "language": "python",
   "name": "python3"
  },
  "language_info": {
   "codemirror_mode": {
    "name": "ipython",
    "version": 3
   },
   "file_extension": ".py",
   "mimetype": "text/x-python",
   "name": "python",
   "nbconvert_exporter": "python",
   "pygments_lexer": "ipython3",
   "version": "3.9.12"
  }
 },
 "nbformat": 4,
 "nbformat_minor": 5
}
