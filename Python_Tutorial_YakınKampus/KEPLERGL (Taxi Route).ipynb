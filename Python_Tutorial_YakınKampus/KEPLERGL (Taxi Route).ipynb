{
 "cells": [
  {
   "cell_type": "markdown",
   "id": "3146de21",
   "metadata": {},
   "source": [
    "# KEPLERGL"
   ]
  },
  {
   "cell_type": "code",
   "execution_count": null,
   "id": "47648d01",
   "metadata": {},
   "outputs": [],
   "source": [
    "pip install keplergl"
   ]
  },
  {
   "cell_type": "code",
   "execution_count": 1,
   "id": "fb945b9d",
   "metadata": {},
   "outputs": [],
   "source": [
    "from keplergl import KeplerGl"
   ]
  },
  {
   "cell_type": "code",
   "execution_count": null,
   "id": "4e15831e",
   "metadata": {},
   "outputs": [],
   "source": [
    "harita = KeplerGl(height=500)\n",
    "harita"
   ]
  },
  {
   "cell_type": "markdown",
   "id": "0b77da8d",
   "metadata": {},
   "source": [
    "------------------------------------------------------------------"
   ]
  },
  {
   "cell_type": "markdown",
   "id": "8637ca05",
   "metadata": {},
   "source": [
    "## Earthquake"
   ]
  },
  {
   "cell_type": "code",
   "execution_count": null,
   "id": "47e94443",
   "metadata": {
    "scrolled": false
   },
   "outputs": [],
   "source": [
    "with open(\"deprem.csv\", \"r\") as tablo:\n",
    "    veri = tablo.read()\n",
    "\n",
    "harita = KeplerGl(height=500)    \n",
    "harita.add_data(veri)\n",
    "harita"
   ]
  },
  {
   "cell_type": "code",
   "execution_count": 7,
   "id": "553b9a0f",
   "metadata": {},
   "outputs": [
    {
     "name": "stdout",
     "output_type": "stream",
     "text": [
      "Map saved to earthquake.html!\n"
     ]
    }
   ],
   "source": [
    "harita.save_to_html(file_name='earthquake.html')"
   ]
  },
  {
   "cell_type": "markdown",
   "id": "23ac4a92",
   "metadata": {},
   "source": [
    "------------------------------------------------------------------"
   ]
  },
  {
   "cell_type": "markdown",
   "id": "56f2d2c9",
   "metadata": {},
   "source": [
    "## Taxi Route"
   ]
  },
  {
   "cell_type": "code",
   "execution_count": 8,
   "id": "7bdc551c",
   "metadata": {
    "scrolled": false
   },
   "outputs": [
    {
     "name": "stdout",
     "output_type": "stream",
     "text": [
      "User Guide: https://docs.kepler.gl/docs/keplergl-jupyter\n"
     ]
    },
    {
     "data": {
      "application/vnd.jupyter.widget-view+json": {
       "model_id": "341c7cf83e4a4f1d933558741e5e530c",
       "version_major": 2,
       "version_minor": 0
      },
      "text/plain": [
       "KeplerGl(data={'unnamed': '\"id\",\"vendor_id\",\"pickup_datetime\",\"dropoff_datetime\",\"pickup_longitude\",\"pickup_la…"
      ]
     },
     "metadata": {},
     "output_type": "display_data"
    }
   ],
   "source": [
    "with open(\"bog_clean.csv\", \"r\") as tablo:\n",
    "    veri = tablo.read()\n",
    "    \n",
    "harita = KeplerGl(height=500)    \n",
    "harita.add_data(veri)\n",
    "harita"
   ]
  },
  {
   "cell_type": "code",
   "execution_count": 9,
   "id": "2c904def",
   "metadata": {},
   "outputs": [
    {
     "name": "stdout",
     "output_type": "stream",
     "text": [
      "Map saved to bogota_taxi.html!\n"
     ]
    }
   ],
   "source": [
    "harita.save_to_html(file_name='bogota_taxi.html')"
   ]
  }
 ],
 "metadata": {
  "kernelspec": {
   "display_name": "Python 3 (ipykernel)",
   "language": "python",
   "name": "python3"
  },
  "language_info": {
   "codemirror_mode": {
    "name": "ipython",
    "version": 3
   },
   "file_extension": ".py",
   "mimetype": "text/x-python",
   "name": "python",
   "nbconvert_exporter": "python",
   "pygments_lexer": "ipython3",
   "version": "3.9.7"
  }
 },
 "nbformat": 4,
 "nbformat_minor": 5
}
