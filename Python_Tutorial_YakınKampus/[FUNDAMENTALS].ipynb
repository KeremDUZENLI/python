{
 "cells": [
  {
   "cell_type": "markdown",
   "id": "2066c155",
   "metadata": {},
   "source": [
    "# PRINT"
   ]
  },
  {
   "cell_type": "code",
   "execution_count": 1,
   "id": "25bfa622",
   "metadata": {},
   "outputs": [
    {
     "name": "stdout",
     "output_type": "stream",
     "text": [
      "Merhaba \n",
      "Yakın Kampüs\n",
      "Benim adım \tKerem\n"
     ]
    }
   ],
   "source": [
    "print('Merhaba \\nYakın Kampüs')\n",
    "print(\"Benim adım \\tKerem\")"
   ]
  },
  {
   "cell_type": "code",
   "execution_count": 2,
   "id": "2349f3e7",
   "metadata": {},
   "outputs": [
    {
     "name": "stdout",
     "output_type": "stream",
     "text": [
      "Benim adım Kerem\n",
      "Benim adım Kerem, yaşım 24\n",
      "Benim adım Kerem, yaşım 24\n",
      "Benim adım 24, yaşım Kerem\n",
      "Benim adım Kerem, yaşım 24\n"
     ]
    }
   ],
   "source": [
    "print(\"Benim adım {}\".format(\"Kerem\"))\n",
    "print(\"Benim adım {}, yaşım {}\".format(\"Kerem\" , \"24\"))\n",
    "\n",
    "print(\"Benim adım {0}, yaşım {1}\".format(\"Kerem\" , \"24\"))\n",
    "print(\"Benim adım {1}, yaşım {0}\".format(\"Kerem\" , \"24\"))\n",
    "\n",
    "print(\"Benim adım {ad}, yaşım {yas}\".format(ad=\"Kerem\" , yas=24))"
   ]
  },
  {
   "cell_type": "markdown",
   "id": "1ae41a5d",
   "metadata": {},
   "source": [
    " "
   ]
  },
  {
   "cell_type": "markdown",
   "id": "a18146fd",
   "metadata": {},
   "source": [
    "# DEĞİŞKEN"
   ]
  },
  {
   "cell_type": "code",
   "execution_count": 3,
   "id": "e7e8be71",
   "metadata": {},
   "outputs": [
    {
     "name": "stdout",
     "output_type": "stream",
     "text": [
      "11\n"
     ]
    }
   ],
   "source": [
    "sayı = 11\n",
    "print(sayı)"
   ]
  },
  {
   "cell_type": "code",
   "execution_count": 4,
   "id": "f812f9a5",
   "metadata": {},
   "outputs": [
    {
     "name": "stdout",
     "output_type": "stream",
     "text": [
      "12\n"
     ]
    }
   ],
   "source": [
    "sayı = sayı + 1\n",
    "print(sayı)"
   ]
  },
  {
   "cell_type": "code",
   "execution_count": 5,
   "id": "b08cdd2a",
   "metadata": {},
   "outputs": [
    {
     "name": "stdout",
     "output_type": "stream",
     "text": [
      "10\n"
     ]
    }
   ],
   "source": [
    "sayı_ilk = 10\n",
    "print(sayı_ilk)"
   ]
  },
  {
   "cell_type": "markdown",
   "id": "8b5e6b61",
   "metadata": {},
   "source": [
    " "
   ]
  },
  {
   "cell_type": "markdown",
   "id": "2a4e00c1",
   "metadata": {},
   "source": [
    "# VERİ TİPLERİ"
   ]
  },
  {
   "cell_type": "raw",
   "id": "5af738f5",
   "metadata": {},
   "source": [
    "### TİP               ### KISALTMA         ###   ÖRNEK                                    ###\n",
    "### ----------------- ### ---------------- ### ------------------------------------------ ###\n",
    "### Integer           ### int              ###   3 , 10                                   ###\n",
    "### Float             ### float            ###   1.5 , 7.0                                ###\n",
    "### String            ### str              ###   \"Slm\"  ,  'a'                            ###\n",
    "### Boolean           ### bool             ###   True , False                             ###\n",
    "### List              ### list             ###   [1,2,True, 'a' , 1 ]                     ###\n",
    "### Set               ### set              ###   {1,2,True , 'a'}                         ###\n",
    "### Dictionary        ### dict             ###   {'isim' : ' Kerem' , 'Yaş' : 24}         ###\n",
    "### Tuple             ### tup              ###   (1, 2, True)                             ###"
   ]
  },
  {
   "cell_type": "code",
   "execution_count": 6,
   "id": "995ca290",
   "metadata": {},
   "outputs": [
    {
     "data": {
      "text/plain": [
       "float"
      ]
     },
     "execution_count": 6,
     "metadata": {},
     "output_type": "execute_result"
    }
   ],
   "source": [
    "type(1.5)"
   ]
  },
  {
   "cell_type": "code",
   "execution_count": 7,
   "id": "44c97818",
   "metadata": {},
   "outputs": [
    {
     "name": "stdout",
     "output_type": "stream",
     "text": [
      "12\n",
      "8\n"
     ]
    }
   ],
   "source": [
    "print(3*4)\n",
    "print(3+5)"
   ]
  },
  {
   "cell_type": "code",
   "execution_count": 8,
   "id": "f48018f9",
   "metadata": {},
   "outputs": [
    {
     "data": {
      "text/plain": [
       "21"
      ]
     },
     "execution_count": 8,
     "metadata": {},
     "output_type": "execute_result"
    }
   ],
   "source": [
    "3*(2+5)"
   ]
  },
  {
   "cell_type": "markdown",
   "id": "d8bcf465",
   "metadata": {},
   "source": [
    " "
   ]
  },
  {
   "cell_type": "markdown",
   "id": "946456ac",
   "metadata": {},
   "source": [
    "# VERİ TİPLERİ (STRING & CHAR)"
   ]
  },
  {
   "cell_type": "code",
   "execution_count": 9,
   "id": "007bb26c",
   "metadata": {},
   "outputs": [
    {
     "name": "stdout",
     "output_type": "stream",
     "text": [
      "Python\n"
     ]
    }
   ],
   "source": [
    "strvar = \"Python\"\n",
    "print(strvar)"
   ]
  },
  {
   "cell_type": "code",
   "execution_count": 10,
   "id": "59e097a2",
   "metadata": {},
   "outputs": [
    {
     "data": {
      "text/plain": [
       "'t'"
      ]
     },
     "execution_count": 10,
     "metadata": {},
     "output_type": "execute_result"
    }
   ],
   "source": [
    "strvar[2]"
   ]
  },
  {
   "cell_type": "code",
   "execution_count": 11,
   "id": "df854a76",
   "metadata": {},
   "outputs": [
    {
     "data": {
      "text/plain": [
       "'thon'"
      ]
     },
     "execution_count": 11,
     "metadata": {},
     "output_type": "execute_result"
    }
   ],
   "source": [
    "strvar[2:]"
   ]
  },
  {
   "cell_type": "code",
   "execution_count": 12,
   "id": "3a97194f",
   "metadata": {},
   "outputs": [
    {
     "data": {
      "text/plain": [
       "'Pyt'"
      ]
     },
     "execution_count": 12,
     "metadata": {},
     "output_type": "execute_result"
    }
   ],
   "source": [
    "strvar[:3]"
   ]
  },
  {
   "cell_type": "code",
   "execution_count": 13,
   "id": "1b92000f",
   "metadata": {},
   "outputs": [
    {
     "data": {
      "text/plain": [
       "'tho'"
      ]
     },
     "execution_count": 13,
     "metadata": {},
     "output_type": "execute_result"
    }
   ],
   "source": [
    "strvar[2:5]"
   ]
  },
  {
   "cell_type": "code",
   "execution_count": 14,
   "id": "4213760a",
   "metadata": {},
   "outputs": [
    {
     "data": {
      "text/plain": [
       "'yo'"
      ]
     },
     "execution_count": 14,
     "metadata": {},
     "output_type": "execute_result"
    }
   ],
   "source": [
    "strvar[1:5:3]"
   ]
  },
  {
   "cell_type": "raw",
   "id": "f62cc365",
   "metadata": {},
   "source": [
    "[] # tek bir eleman alınır\n",
    "[:] ## başlangıç ve bitiş arasındaki elemanlar alınır\n",
    "[::] ## başlangıç ve bitiş arasındaki elemanlar üçüncü kısımdaki değere göre atlayarak değerler alınır"
   ]
  },
  {
   "cell_type": "code",
   "execution_count": 15,
   "id": "9649ccfb",
   "metadata": {},
   "outputs": [
    {
     "data": {
      "text/plain": [
       "6"
      ]
     },
     "execution_count": 15,
     "metadata": {},
     "output_type": "execute_result"
    }
   ],
   "source": [
    "len(strvar)"
   ]
  },
  {
   "cell_type": "code",
   "execution_count": 16,
   "id": "8ab16c9b",
   "metadata": {},
   "outputs": [
    {
     "name": "stdout",
     "output_type": "stream",
     "text": [
      "Python Öğren\n"
     ]
    }
   ],
   "source": [
    "strvar = strvar + \" Öğren\"\n",
    "\n",
    "print(strvar)"
   ]
  },
  {
   "cell_type": "code",
   "execution_count": 17,
   "id": "6010f555",
   "metadata": {},
   "outputs": [
    {
     "data": {
      "text/plain": [
       "'Python ÖğrenPython ÖğrenPython ÖğrenPython ÖğrenPython Öğren'"
      ]
     },
     "execution_count": 17,
     "metadata": {},
     "output_type": "execute_result"
    }
   ],
   "source": [
    "strvar * 5"
   ]
  },
  {
   "cell_type": "code",
   "execution_count": 18,
   "id": "d2fa086b",
   "metadata": {},
   "outputs": [
    {
     "data": {
      "text/plain": [
       "'Python Öğren'"
      ]
     },
     "execution_count": 18,
     "metadata": {},
     "output_type": "execute_result"
    }
   ],
   "source": [
    "strvar"
   ]
  },
  {
   "cell_type": "code",
   "execution_count": 19,
   "id": "435fdf1d",
   "metadata": {},
   "outputs": [
    {
     "name": "stdout",
     "output_type": "stream",
     "text": [
      "PYTHON ÖĞREN\n",
      "python öğren\n",
      "['Python', 'Öğren']\n",
      "['Pyth', 'n Öğren']\n",
      "['Pyth', 'n Öğren']\n"
     ]
    }
   ],
   "source": [
    "print(strvar.upper())\n",
    "print(strvar.lower())\n",
    "print(strvar.split())\n",
    "print(strvar.split(\"o\"))\n",
    "print(strvar.split(sep=\"o\", maxsplit=1))"
   ]
  },
  {
   "cell_type": "markdown",
   "id": "1469e1c4",
   "metadata": {},
   "source": [
    " "
   ]
  },
  {
   "cell_type": "markdown",
   "id": "be1b99c7",
   "metadata": {},
   "source": [
    "# VERİ TİPLERİ (BOOLEAN)"
   ]
  },
  {
   "cell_type": "code",
   "execution_count": 20,
   "id": "e791dece",
   "metadata": {},
   "outputs": [
    {
     "name": "stdout",
     "output_type": "stream",
     "text": [
      "<class 'bool'>\n",
      "True\n",
      "False\n",
      "<class 'str'>\n"
     ]
    }
   ],
   "source": [
    "a = True\n",
    "print(type(a))\n",
    "b = False\n",
    "print(a)\n",
    "print(b)\n",
    "c = \"True\"\n",
    "print(type(c))"
   ]
  },
  {
   "cell_type": "code",
   "execution_count": 21,
   "id": "ecd4dd5f",
   "metadata": {},
   "outputs": [
    {
     "name": "stdout",
     "output_type": "stream",
     "text": [
      "True\n",
      "False\n"
     ]
    }
   ],
   "source": [
    "yas1 = 20\n",
    "yas2 = 18\n",
    "print(yas1 > 18)\n",
    "print(yas2 > 18)\n"
   ]
  },
  {
   "cell_type": "code",
   "execution_count": 22,
   "id": "48dbe051",
   "metadata": {},
   "outputs": [
    {
     "data": {
      "text/plain": [
       "True"
      ]
     },
     "execution_count": 22,
     "metadata": {},
     "output_type": "execute_result"
    }
   ],
   "source": [
    "yas2 == 18"
   ]
  },
  {
   "cell_type": "code",
   "execution_count": 23,
   "id": "3d654866",
   "metadata": {},
   "outputs": [
    {
     "data": {
      "text/plain": [
       "False"
      ]
     },
     "execution_count": 23,
     "metadata": {},
     "output_type": "execute_result"
    }
   ],
   "source": [
    "not yas2 == 18"
   ]
  },
  {
   "cell_type": "code",
   "execution_count": 24,
   "id": "91fa3059",
   "metadata": {},
   "outputs": [
    {
     "data": {
      "text/plain": [
       "False"
      ]
     },
     "execution_count": 24,
     "metadata": {},
     "output_type": "execute_result"
    }
   ],
   "source": [
    "yas2 != 18"
   ]
  },
  {
   "cell_type": "code",
   "execution_count": 25,
   "id": "2f865ee0",
   "metadata": {},
   "outputs": [
    {
     "data": {
      "text/plain": [
       "True"
      ]
     },
     "execution_count": 25,
     "metadata": {},
     "output_type": "execute_result"
    }
   ],
   "source": [
    "not yas2 > 18"
   ]
  },
  {
   "cell_type": "markdown",
   "id": "bb1b2afc",
   "metadata": {},
   "source": [
    " "
   ]
  },
  {
   "cell_type": "markdown",
   "id": "a594eacc",
   "metadata": {},
   "source": [
    "# VERİ TİPLERİ (LIST & SET)"
   ]
  },
  {
   "cell_type": "code",
   "execution_count": 26,
   "id": "b028cfb8",
   "metadata": {},
   "outputs": [
    {
     "name": "stdout",
     "output_type": "stream",
     "text": [
      "['a', 'b', 'c', 'd', 'e']\n"
     ]
    }
   ],
   "source": [
    "liste = [\"a\" , \"b\" , \"c\" , \"d\" , \"e\"]\n",
    "print(liste)"
   ]
  },
  {
   "cell_type": "code",
   "execution_count": 27,
   "id": "ed16a5c9",
   "metadata": {},
   "outputs": [
    {
     "data": {
      "text/plain": [
       "['d', 'e']"
      ]
     },
     "execution_count": 27,
     "metadata": {},
     "output_type": "execute_result"
    }
   ],
   "source": [
    "liste[3:5]"
   ]
  },
  {
   "cell_type": "code",
   "execution_count": 28,
   "id": "638a3d72",
   "metadata": {},
   "outputs": [
    {
     "name": "stdout",
     "output_type": "stream",
     "text": [
      "['a', 'b', 'c', 'd', 'e', 'f']\n"
     ]
    }
   ],
   "source": [
    "liste = liste + [\"f\"]\n",
    "print(liste)"
   ]
  },
  {
   "cell_type": "code",
   "execution_count": 29,
   "id": "30dfa780",
   "metadata": {},
   "outputs": [
    {
     "name": "stdout",
     "output_type": "stream",
     "text": [
      "['f', 'e', 'd', 'c', 'b', 'a']\n"
     ]
    }
   ],
   "source": [
    "liste.reverse()\n",
    "print(liste)"
   ]
  },
  {
   "cell_type": "code",
   "execution_count": 30,
   "id": "be6ee3d9",
   "metadata": {},
   "outputs": [
    {
     "name": "stdout",
     "output_type": "stream",
     "text": [
      "['f', 'e', 'd', 'c', 'b', 'a', 'g']\n"
     ]
    }
   ],
   "source": [
    "liste.append(\"g\")\n",
    "print(liste)"
   ]
  },
  {
   "cell_type": "code",
   "execution_count": 31,
   "id": "3641b4c6",
   "metadata": {},
   "outputs": [
    {
     "data": {
      "text/plain": [
       "'g'"
      ]
     },
     "execution_count": 31,
     "metadata": {},
     "output_type": "execute_result"
    }
   ],
   "source": [
    "liste.pop()"
   ]
  },
  {
   "cell_type": "code",
   "execution_count": 32,
   "id": "a7eaa3a3",
   "metadata": {},
   "outputs": [
    {
     "data": {
      "text/plain": [
       "['f', 'e', 'd', 'c', 'b', 'a']"
      ]
     },
     "execution_count": 32,
     "metadata": {},
     "output_type": "execute_result"
    }
   ],
   "source": [
    "liste"
   ]
  },
  {
   "cell_type": "code",
   "execution_count": 33,
   "id": "2da39c7a",
   "metadata": {},
   "outputs": [
    {
     "name": "stdout",
     "output_type": "stream",
     "text": [
      "['f', 'e', 'd', 'c', 'b']\n"
     ]
    }
   ],
   "source": [
    "liste.pop(5)\n",
    "print(liste)"
   ]
  },
  {
   "cell_type": "raw",
   "id": "62461fc9",
   "metadata": {},
   "source": [
    "----------------------------------------------------"
   ]
  },
  {
   "cell_type": "code",
   "execution_count": 35,
   "id": "5b0ab6eb",
   "metadata": {},
   "outputs": [
    {
     "name": "stdout",
     "output_type": "stream",
     "text": [
      "[1, 1, 35, 123, 345, 12321, 45435]\n"
     ]
    }
   ],
   "source": [
    "sayılar = [123,12321,45435,35,345,1,1]\n",
    "sayılar.sort()\n",
    "\n",
    "print(sayılar)"
   ]
  },
  {
   "cell_type": "code",
   "execution_count": 36,
   "id": "58aa551d",
   "metadata": {},
   "outputs": [
    {
     "name": "stdout",
     "output_type": "stream",
     "text": [
      "[45435, 12321, 345, 123, 35, 1, 1]\n"
     ]
    }
   ],
   "source": [
    "sayılar.reverse()\n",
    "print(sayılar)"
   ]
  },
  {
   "cell_type": "code",
   "execution_count": 37,
   "id": "5a7ca4b6",
   "metadata": {},
   "outputs": [
    {
     "data": {
      "text/plain": [
       "{1, 35, 123, 345, 12321, 45435}"
      ]
     },
     "execution_count": 37,
     "metadata": {},
     "output_type": "execute_result"
    }
   ],
   "source": [
    "set(sayılar)"
   ]
  },
  {
   "cell_type": "markdown",
   "id": "92b6a29a",
   "metadata": {},
   "source": [
    " "
   ]
  },
  {
   "cell_type": "markdown",
   "id": "f1e38925",
   "metadata": {},
   "source": [
    "# VERİ TİPLERİ (TUPLE)"
   ]
  },
  {
   "cell_type": "code",
   "execution_count": 38,
   "id": "1920e520",
   "metadata": {},
   "outputs": [
    {
     "name": "stdout",
     "output_type": "stream",
     "text": [
      "['a', 'b', 'c', 'd', 'e', 'a']\n",
      "('a', 'b', 'c', 'd', 'e', 'a')\n"
     ]
    }
   ],
   "source": [
    "liste = [\"a\" , \"b\" , \"c\" , \"d\" , \"e\" , \"a\"]\n",
    "print(liste)\n",
    "tup = (\"a\" , \"b\" , \"c\" , \"d\" , \"e\" , \"a\")\n",
    "print(tup)"
   ]
  },
  {
   "cell_type": "code",
   "execution_count": 39,
   "id": "2c24a59f",
   "metadata": {},
   "outputs": [
    {
     "name": "stdout",
     "output_type": "stream",
     "text": [
      "[1997, 'b', 'c', 'd', 'e', 'a']\n"
     ]
    }
   ],
   "source": [
    "liste[0] = 1997\n",
    "print(liste)"
   ]
  },
  {
   "cell_type": "code",
   "execution_count": 40,
   "id": "8e9f6edd",
   "metadata": {},
   "outputs": [
    {
     "data": {
      "text/plain": [
       "('a', 'b', 'c')"
      ]
     },
     "execution_count": 40,
     "metadata": {},
     "output_type": "execute_result"
    }
   ],
   "source": [
    "tup[0:3]"
   ]
  },
  {
   "cell_type": "code",
   "execution_count": 41,
   "id": "e4a8dff9",
   "metadata": {},
   "outputs": [
    {
     "data": {
      "text/plain": [
       "2"
      ]
     },
     "execution_count": 41,
     "metadata": {},
     "output_type": "execute_result"
    }
   ],
   "source": [
    "tup.count(\"a\")"
   ]
  },
  {
   "cell_type": "code",
   "execution_count": 42,
   "id": "9861f764",
   "metadata": {},
   "outputs": [
    {
     "data": {
      "text/plain": [
       "0"
      ]
     },
     "execution_count": 42,
     "metadata": {},
     "output_type": "execute_result"
    }
   ],
   "source": [
    "tup.count(\"h\")"
   ]
  },
  {
   "cell_type": "code",
   "execution_count": 43,
   "id": "ffa9b93e",
   "metadata": {},
   "outputs": [
    {
     "data": {
      "text/plain": [
       "1"
      ]
     },
     "execution_count": 43,
     "metadata": {},
     "output_type": "execute_result"
    }
   ],
   "source": [
    "tup.index(\"b\")"
   ]
  },
  {
   "cell_type": "code",
   "execution_count": 44,
   "id": "15c3b565",
   "metadata": {},
   "outputs": [
    {
     "data": {
      "text/plain": [
       "0"
      ]
     },
     "execution_count": 44,
     "metadata": {},
     "output_type": "execute_result"
    }
   ],
   "source": [
    "tup.index(\"a\")"
   ]
  },
  {
   "cell_type": "markdown",
   "id": "3cc8776f",
   "metadata": {},
   "source": [
    " "
   ]
  },
  {
   "cell_type": "markdown",
   "id": "1e467482",
   "metadata": {},
   "source": [
    "# VERİ TİPLERİ (DICTIONARY)"
   ]
  },
  {
   "cell_type": "code",
   "execution_count": 45,
   "id": "8ad52132",
   "metadata": {},
   "outputs": [
    {
     "data": {
      "text/plain": [
       "{'isim': 'Kerem', 'yaş': 24, 'lokasyon1': 'İstanbul', 'lokasyon2': 'Bursa'}"
      ]
     },
     "execution_count": 45,
     "metadata": {},
     "output_type": "execute_result"
    }
   ],
   "source": [
    "dict1 = {\n",
    "    \"isim\" : \"Kerem\", \n",
    "    \"yaş\" : 24, \n",
    "    \"lokasyon1\" : \"İstanbul\", \n",
    "    \"lokasyon2\" : \"Bursa\"\n",
    "}\n",
    "dict1"
   ]
  },
  {
   "cell_type": "code",
   "execution_count": 46,
   "id": "8990729a",
   "metadata": {},
   "outputs": [
    {
     "data": {
      "text/plain": [
       "{'isim': 'Kerem',\n",
       " 'yaş': 24,\n",
       " 'lokasyon': {'lokasyon1': 'İstanbul', 'lokasyon2': 'Bursa'}}"
      ]
     },
     "execution_count": 46,
     "metadata": {},
     "output_type": "execute_result"
    }
   ],
   "source": [
    "dict2 = {\n",
    "    \"isim\" : \"Kerem\", \n",
    "    \"yaş\" : 24, \n",
    "    \"lokasyon\" : {\n",
    "        \"lokasyon1\" : \"İstanbul\", \n",
    "        \"lokasyon2\" : \"Bursa\"\n",
    "    }\n",
    "}\n",
    "dict2"
   ]
  },
  {
   "cell_type": "code",
   "execution_count": 47,
   "id": "1444ff02",
   "metadata": {},
   "outputs": [
    {
     "data": {
      "text/plain": [
       "24"
      ]
     },
     "execution_count": 47,
     "metadata": {},
     "output_type": "execute_result"
    }
   ],
   "source": [
    "dict2[\"yaş\"]"
   ]
  },
  {
   "cell_type": "code",
   "execution_count": 49,
   "id": "0bbbce03",
   "metadata": {},
   "outputs": [
    {
     "data": {
      "text/plain": [
       "{'lokasyon1': 'İstanbul', 'lokasyon2': 'Bursa'}"
      ]
     },
     "execution_count": 49,
     "metadata": {},
     "output_type": "execute_result"
    }
   ],
   "source": [
    "dict2[\"lokasyon\"]"
   ]
  },
  {
   "cell_type": "code",
   "execution_count": 48,
   "id": "24f98c3f",
   "metadata": {},
   "outputs": [
    {
     "data": {
      "text/plain": [
       "'İstanbul'"
      ]
     },
     "execution_count": 48,
     "metadata": {},
     "output_type": "execute_result"
    }
   ],
   "source": [
    "dict2[\"lokasyon\"][\"lokasyon1\"]"
   ]
  },
  {
   "cell_type": "code",
   "execution_count": 50,
   "id": "cdb93b53",
   "metadata": {},
   "outputs": [
    {
     "data": {
      "text/plain": [
       "24"
      ]
     },
     "execution_count": 50,
     "metadata": {},
     "output_type": "execute_result"
    }
   ],
   "source": [
    "dict2.get(\"yaş\")"
   ]
  },
  {
   "cell_type": "code",
   "execution_count": 51,
   "id": "35483435",
   "metadata": {},
   "outputs": [
    {
     "data": {
      "text/plain": [
       "'Bursa'"
      ]
     },
     "execution_count": 51,
     "metadata": {},
     "output_type": "execute_result"
    }
   ],
   "source": [
    "dict2.get(\"lokasyon\").get(\"lokasyon2\")"
   ]
  },
  {
   "cell_type": "code",
   "execution_count": 52,
   "id": "6ba98647",
   "metadata": {},
   "outputs": [
    {
     "data": {
      "text/plain": [
       "dict_keys(['isim', 'yaş', 'lokasyon'])"
      ]
     },
     "execution_count": 52,
     "metadata": {},
     "output_type": "execute_result"
    }
   ],
   "source": [
    "dict2.keys()"
   ]
  },
  {
   "cell_type": "code",
   "execution_count": 53,
   "id": "493c9b76",
   "metadata": {},
   "outputs": [
    {
     "data": {
      "text/plain": [
       "dict_values(['Kerem', 24, {'lokasyon1': 'İstanbul', 'lokasyon2': 'Bursa'}])"
      ]
     },
     "execution_count": 53,
     "metadata": {},
     "output_type": "execute_result"
    }
   ],
   "source": [
    "dict2.values()"
   ]
  },
  {
   "cell_type": "code",
   "execution_count": 54,
   "id": "7a5b2708",
   "metadata": {},
   "outputs": [
    {
     "data": {
      "text/plain": [
       "dict_items([('isim', 'Kerem'), ('yaş', 24), ('lokasyon', {'lokasyon1': 'İstanbul', 'lokasyon2': 'Bursa'})])"
      ]
     },
     "execution_count": 54,
     "metadata": {},
     "output_type": "execute_result"
    }
   ],
   "source": [
    "dict2.items()"
   ]
  },
  {
   "cell_type": "markdown",
   "id": "b47849da",
   "metadata": {},
   "source": [
    " "
   ]
  },
  {
   "cell_type": "markdown",
   "id": "a15cf8ce",
   "metadata": {},
   "source": [
    "# ÖZET 1"
   ]
  },
  {
   "cell_type": "code",
   "execution_count": 56,
   "id": "b5ae4c3e",
   "metadata": {},
   "outputs": [
    {
     "name": "stdout",
     "output_type": "stream",
     "text": [
      "<class 'str'>\n",
      "m\n",
      "0\n",
      "['Ke', 'em']\n",
      "KEREM\n"
     ]
    }
   ],
   "source": [
    "A = 'Kerem'\n",
    "\n",
    "print(type(A))\n",
    "print(A[4])\n",
    "print(A.index('K'))\n",
    "print(A.split('r'))\n",
    "print(A.upper())"
   ]
  },
  {
   "cell_type": "code",
   "execution_count": 57,
   "id": "ef0506a9",
   "metadata": {},
   "outputs": [
    {
     "name": "stdout",
     "output_type": "stream",
     "text": [
      "<class 'list'>\n",
      "X\n",
      "[1, 2, 3]\n",
      "[0, 2, 4]\n",
      "5\n",
      "['X', 4, 3, 2, 1, 0]\n",
      "6\n",
      "6\n"
     ]
    }
   ],
   "source": [
    "B = [0, 1, 2, 3, 4, 'X']\n",
    "\n",
    "print(type(B))\n",
    "print(B[5])\n",
    "print(B[1:4])\n",
    "print(B[0:6:2])\n",
    "print(B.index('X'))\n",
    "print(B[::-1])\n",
    "print(len(B))\n",
    "print(len(set(B)))"
   ]
  },
  {
   "cell_type": "code",
   "execution_count": 58,
   "id": "02635b5c",
   "metadata": {},
   "outputs": [
    {
     "name": "stdout",
     "output_type": "stream",
     "text": [
      "<class 'list'>\n",
      "4\n",
      "3\n",
      "4\n",
      "Son Eleman :  5\n",
      "Yeni Liste :  [0, 1, [3, 4]]\n"
     ]
    }
   ],
   "source": [
    "C = [0, 1, 2, [3, 4], 5]\n",
    "\n",
    "print(type(C))\n",
    "print(C.index(5))\n",
    "print(C[3][0])\n",
    "print(C[3][1])\n",
    "\n",
    "Z = C.pop()\n",
    "print('Son Eleman : ', Z)\n",
    "\n",
    "Q = C[0:2] + C[3:4]\n",
    "print('Yeni Liste : ', Q)"
   ]
  },
  {
   "cell_type": "code",
   "execution_count": 59,
   "id": "6083fa78",
   "metadata": {},
   "outputs": [
    {
     "name": "stdout",
     "output_type": "stream",
     "text": [
      "dict_keys(['AD', 'SOYAD', 'YER'])\n",
      "Kerem\n",
      "Kerem DÜZENLİ\n",
      "İstanbul\n",
      "{'AD': 'Kerem', 'SOYAD': 'DÜZENLİ', 'YER': 'Bursa'}\n"
     ]
    }
   ],
   "source": [
    "D = {'AD': 'Kerem', 'SOYAD': 'DÜZENLİ', 'YER': 'İstanbul'}\n",
    "\n",
    "print(D.keys())\n",
    "print(D.get('AD'))\n",
    "print(D['AD'], D['SOYAD'])\n",
    "print(D['YER'])\n",
    "\n",
    "D['YER'] = 'Bursa'\n",
    "print(D)"
   ]
  },
  {
   "cell_type": "code",
   "execution_count": 60,
   "id": "2b57900b",
   "metadata": {},
   "outputs": [
    {
     "name": "stdout",
     "output_type": "stream",
     "text": [
      "Kerem \n",
      "\tDÜZENLİ\n"
     ]
    }
   ],
   "source": [
    "E = 'Kerem \\n\\tDÜZENLİ'\n",
    "\n",
    "print(E)"
   ]
  },
  {
   "cell_type": "markdown",
   "id": "7a718ccd",
   "metadata": {},
   "source": [
    " "
   ]
  },
  {
   "cell_type": "markdown",
   "id": "1d828008",
   "metadata": {},
   "source": [
    "# DÖNGÜ (IF)"
   ]
  },
  {
   "cell_type": "code",
   "execution_count": 61,
   "id": "705fffc2",
   "metadata": {},
   "outputs": [
    {
     "name": "stdout",
     "output_type": "stream",
     "text": [
      "Bisiklet Sür\n"
     ]
    }
   ],
   "source": [
    "hava_durumu = 'güneşli'\n",
    "\n",
    "if (hava_durumu) == 'yağmurlu' :\n",
    "    print('Bisiklet Sürme')\n",
    "\n",
    "elif (hava_durumu) == 'karlı' :\n",
    "    print('Yavaş Bisiklet Sür')\n",
    "    \n",
    "else :\n",
    "    print('Bisiklet Sür')"
   ]
  },
  {
   "cell_type": "code",
   "execution_count": 62,
   "id": "923f4946",
   "metadata": {},
   "outputs": [
    {
     "name": "stdout",
     "output_type": "stream",
     "text": [
      "Reşit\n"
     ]
    }
   ],
   "source": [
    "yaş = 25\n",
    "\n",
    "if (yaş) >= 18 :\n",
    "    print('Reşit')\n",
    "    \n",
    "else :\n",
    "    print('Reşit Değil')"
   ]
  },
  {
   "cell_type": "code",
   "execution_count": 63,
   "id": "882c0e22",
   "metadata": {},
   "outputs": [
    {
     "name": "stdout",
     "output_type": "stream",
     "text": [
      "Listede Değil\n"
     ]
    }
   ],
   "source": [
    "Liste_1 = ['a' , 'b' , 'c']\n",
    "\n",
    "Harf = 'd'\n",
    "\n",
    "if (Harf in Liste_1) : \n",
    "    print('Listede')\n",
    "    \n",
    "else :\n",
    "    print('Listede Değil')"
   ]
  },
  {
   "cell_type": "code",
   "execution_count": 64,
   "id": "df36b2d8",
   "metadata": {},
   "outputs": [
    {
     "name": "stdout",
     "output_type": "stream",
     "text": [
      "Listeye Ekledim : [0, 1, 2, 3, 4, 5]\n"
     ]
    }
   ],
   "source": [
    "Liste_2 = [0 , 1 , 2 , 3 , 4]\n",
    "\n",
    "Sayı = 5\n",
    "    \n",
    "if (Sayı in Liste_2) :\n",
    "    print('Listede : ', Liste_2)\n",
    "    \n",
    "else :\n",
    "    Liste_2.append(Sayı)\n",
    "    print('Listeye Ekledim : {}'.format(Liste_2))"
   ]
  },
  {
   "cell_type": "code",
   "execution_count": 1,
   "id": "cdca9ce4",
   "metadata": {},
   "outputs": [
    {
     "name": "stdout",
     "output_type": "stream",
     "text": [
      "Listede ama 1. Sırada Değil\n"
     ]
    }
   ],
   "source": [
    "Liste_3 = ['X' , 'Y' , 'Z']\n",
    "\n",
    "Değişken = 'Y'\n",
    "\n",
    "if (Değişken in Liste_3) and (Değişken == Liste_3[0]):\n",
    "    print('Listede 1. Sırada')\n",
    "    \n",
    "elif (Değişken in Liste_3):\n",
    "    print('Listede ama 1. Sırada Değil')\n",
    "    \n",
    "else :\n",
    "    print('Listede Değil')"
   ]
  },
  {
   "cell_type": "markdown",
   "id": "163a94f1",
   "metadata": {},
   "source": [
    " "
   ]
  },
  {
   "cell_type": "markdown",
   "id": "44f49e7c",
   "metadata": {},
   "source": [
    "# DÖNGÜ (FOR)"
   ]
  },
  {
   "cell_type": "code",
   "execution_count": 66,
   "id": "34202f9a",
   "metadata": {},
   "outputs": [
    {
     "name": "stdout",
     "output_type": "stream",
     "text": [
      "0\n",
      "1\n",
      "2\n",
      "3\n",
      "4\n"
     ]
    }
   ],
   "source": [
    "Liste1 = [0, 1, 2, 3, 4]\n",
    "\n",
    "for sayı in Liste1 :\n",
    "    print(sayı)"
   ]
  },
  {
   "cell_type": "code",
   "execution_count": 67,
   "id": "e345b863",
   "metadata": {},
   "outputs": [
    {
     "name": "stdout",
     "output_type": "stream",
     "text": [
      "1 Ali Can\n",
      "2 Veli\n",
      "3 Deniz\n",
      "4 Ahmet\n",
      "5 Mehmet\n"
     ]
    }
   ],
   "source": [
    "Liste2 = [\"Ali Can\", \"Veli\", \"Deniz\", \"Ahmet\", \"Mehmet\"]\n",
    "Kullanıcı_No = 0\n",
    "\n",
    "for Kullanıcı in Liste2 :\n",
    "    Kullanıcı_No = Kullanıcı_No + 1\n",
    "    print(Kullanıcı_No, Kullanıcı)"
   ]
  },
  {
   "cell_type": "code",
   "execution_count": 68,
   "id": "b45e408b",
   "metadata": {},
   "outputs": [
    {
     "name": "stdout",
     "output_type": "stream",
     "text": [
      "Ali Can\n"
     ]
    }
   ],
   "source": [
    "ad = Liste2[0].split()[0]\n",
    "soyad = Liste2[0].split()[1]\n",
    "\n",
    "print(ad, soyad)"
   ]
  },
  {
   "cell_type": "code",
   "execution_count": 69,
   "id": "776eb5ab",
   "metadata": {},
   "outputs": [
    {
     "name": "stdout",
     "output_type": "stream",
     "text": [
      "1. Ülke : Türkiye \tBaşkent : İstanbul\n",
      "2. Ülke : Almanya \tBaşkent : Berlin\n",
      "3. Ülke : Rusya \tBaşkent : Moskova\n",
      "4. Ülke : İtalya \tBaşkent : Roma\n"
     ]
    }
   ],
   "source": [
    "Liste3 = [\"Türkiye İstanbul\", \"Almanya Berlin\", \"Rusya Moskova\", \"İtalya Roma\"]\n",
    "sıra = 0\n",
    "\n",
    "for ülke_başkent in Liste3 :\n",
    "    sıra = sıra + 1\n",
    "    ülke = ülke_başkent.split()[0]\n",
    "    başkent = ülke_başkent.split()[1]\n",
    "    print(\"{0}. Ülke : {1} \\tBaşkent : {2}\".format(sıra, ülke, başkent))"
   ]
  },
  {
   "cell_type": "code",
   "execution_count": 70,
   "id": "5d11bb0a",
   "metadata": {},
   "outputs": [
    {
     "name": "stdout",
     "output_type": "stream",
     "text": [
      "1. Memleket İl : Bursa \t Memleket İlçe : İnegöl\n",
      "1. Şehir : İstanbul \t İlçe : Kadıköy\n",
      "2. Şehir : Ankara \t İlçe : Mamak\n",
      "3. Şehir : İzmir \t İlçe : Karşıyaka\n"
     ]
    }
   ],
   "source": [
    "Liste4 =[\"Bursa İnegöl\", \"İstanbul Kadıköy\", \"Ankara Mamak\", \"İzmir Karşıyaka\"]\n",
    "memleket = Liste4[0]\n",
    "sıra = 0\n",
    "memleket_sıra = 0\n",
    "\n",
    "for şehir_ilçe in Liste4 :\n",
    "    şehir = şehir_ilçe.split()[0]\n",
    "    ilçe = şehir_ilçe.split()[1]\n",
    "    \n",
    "    if (şehir_ilçe == memleket) :\n",
    "        memleket_sıra = memleket_sıra + 1\n",
    "        print(\"{0}. Memleket İl : {1} \\t Memleket İlçe : {2}\".format(memleket_sıra, şehir, ilçe))\n",
    "        \n",
    "    else :\n",
    "        sıra = sıra + 1\n",
    "        print(\"{0}. Şehir : {1} \\t İlçe : {2}\".format(sıra, şehir, ilçe))"
   ]
  },
  {
   "cell_type": "markdown",
   "id": "4140f7ad",
   "metadata": {},
   "source": [
    " "
   ]
  },
  {
   "cell_type": "markdown",
   "id": "6519e1e2",
   "metadata": {},
   "source": [
    "# DÖNGÜ (FOR) (ITERABLE)"
   ]
  },
  {
   "cell_type": "code",
   "execution_count": 71,
   "id": "893726b4",
   "metadata": {},
   "outputs": [
    {
     "name": "stdout",
     "output_type": "stream",
     "text": [
      "1\n",
      "2\n",
      "3\n",
      "4\n",
      "5\n"
     ]
    }
   ],
   "source": [
    "tup1 = (1, 2, 3, 4, 5)\n",
    "\n",
    "for rakam in tup1 :\n",
    "    print(rakam)"
   ]
  },
  {
   "cell_type": "code",
   "execution_count": 72,
   "id": "804aa4ce",
   "metadata": {},
   "outputs": [
    {
     "name": "stdout",
     "output_type": "stream",
     "text": [
      "1 2\n",
      "3 4\n",
      "5 6\n"
     ]
    }
   ],
   "source": [
    "Liste1 =  [[1,2], [3,4], [5,6]]\n",
    "\n",
    "for x, y in Liste1 :\n",
    "    print(x,y)"
   ]
  },
  {
   "cell_type": "code",
   "execution_count": 73,
   "id": "d71bf559",
   "metadata": {},
   "outputs": [
    {
     "name": "stdout",
     "output_type": "stream",
     "text": [
      "dict_keys(['ad', 'soyad'])\n",
      "dict_values(['Kerem', 'DÜZENLİ'])\n",
      "dict_items([('ad', 'Kerem'), ('soyad', 'DÜZENLİ')])\n",
      "\n",
      "Key : ad\n",
      "Key : soyad\n",
      "\n",
      "Value : Kerem\n",
      "Value : DÜZENLİ\n",
      "\n",
      "Key : ad \t Value : Kerem\n",
      "Key : soyad \t Value : DÜZENLİ\n"
     ]
    }
   ],
   "source": [
    "Kullanıcı1 = {\n",
    "    \"ad\" : \"Kerem\",\n",
    "    \"soyad\" : \"DÜZENLİ\"\n",
    "}\n",
    "\n",
    "print(Kullanıcı1.keys())\n",
    "print(Kullanıcı1.values())\n",
    "print(Kullanıcı1.items())\n",
    "\n",
    "print(\"\")\n",
    "for k in Kullanıcı1.keys() : \n",
    "    print(\"Key : {}\".format(k))\n",
    "    \n",
    "print(\"\")\n",
    "for v in Kullanıcı1.values():\n",
    "    print(\"Value : {}\".format(v))\n",
    "    \n",
    "print(\"\")\n",
    "for k, v in Kullanıcı1.items() :\n",
    "    print(\"Key : {} \\t Value : {}\".format(k, v))"
   ]
  },
  {
   "cell_type": "markdown",
   "id": "20cbe400",
   "metadata": {},
   "source": [
    " "
   ]
  },
  {
   "cell_type": "markdown",
   "id": "53652ef2",
   "metadata": {},
   "source": [
    "# DÖNGÜ (WHILE)"
   ]
  },
  {
   "cell_type": "code",
   "execution_count": 74,
   "id": "e5c05d9a",
   "metadata": {},
   "outputs": [
    {
     "name": "stdout",
     "output_type": "stream",
     "text": [
      "0 değeri 10'dan küçüktür.\n",
      "1 değeri 10'dan küçüktür.\n",
      "2 değeri 10'dan küçüktür.\n",
      "3 değeri 10'dan küçüktür.\n",
      "4 değeri 10'dan küçüktür.\n",
      "5 değeri 10'dan küçüktür.\n",
      "6 değeri 10'dan küçüktür.\n",
      "7 değeri 10'dan küçüktür.\n",
      "8 değeri 10'dan küçüktür.\n",
      "9 değeri 10'dan küçüktür.\n",
      "10 değeri 10'dan küçük değildir.\n"
     ]
    }
   ],
   "source": [
    "x = 0\n",
    "\n",
    "while x < 10 :\n",
    "    print(\"{} değeri 10'dan küçüktür.\".format(x))\n",
    "    x = x + 1\n",
    "    \n",
    "else :\n",
    "    print(\"{} değeri 10'dan küçük değildir.\".format(x))"
   ]
  },
  {
   "cell_type": "code",
   "execution_count": 75,
   "id": "19e0ff07",
   "metadata": {},
   "outputs": [
    {
     "name": "stdout",
     "output_type": "stream",
     "text": [
      "1.) Basamak =  1\n",
      "2.) Basamak =  2\n",
      "3.) Basamak =  6\n",
      "4.) Basamak =  24\n",
      "5.) Basamak =  120\n",
      "6.) Basamak =  720\n"
     ]
    }
   ],
   "source": [
    "sayı = 0\n",
    "x = 1\n",
    "\n",
    "while sayı < 6 :\n",
    "    sayı = sayı + 1\n",
    "    x = x * sayı\n",
    "    print(\"{}.) Basamak = \".format(sayı), x)"
   ]
  },
  {
   "cell_type": "markdown",
   "id": "87946f22",
   "metadata": {},
   "source": [
    " "
   ]
  },
  {
   "cell_type": "markdown",
   "id": "47c5f487",
   "metadata": {},
   "source": [
    "# RANGE & ENUMERATE & ZIP"
   ]
  },
  {
   "cell_type": "markdown",
   "id": "cb3f0b70",
   "metadata": {},
   "source": [
    "RANGE"
   ]
  },
  {
   "cell_type": "code",
   "execution_count": 76,
   "id": "4114568b",
   "metadata": {},
   "outputs": [
    {
     "data": {
      "text/plain": [
       "range(0, 10)"
      ]
     },
     "execution_count": 76,
     "metadata": {},
     "output_type": "execute_result"
    }
   ],
   "source": [
    "range(10)"
   ]
  },
  {
   "cell_type": "code",
   "execution_count": 77,
   "id": "811b7a70",
   "metadata": {},
   "outputs": [
    {
     "data": {
      "text/plain": [
       "[0, 1, 2, 3, 4, 5, 6, 7, 8, 9]"
      ]
     },
     "execution_count": 77,
     "metadata": {},
     "output_type": "execute_result"
    }
   ],
   "source": [
    "list(range(10))"
   ]
  },
  {
   "cell_type": "code",
   "execution_count": 78,
   "id": "5c8ca28e",
   "metadata": {},
   "outputs": [
    {
     "data": {
      "text/plain": [
       "[2, 5, 8]"
      ]
     },
     "execution_count": 78,
     "metadata": {},
     "output_type": "execute_result"
    }
   ],
   "source": [
    "list(range(2,10,3))"
   ]
  },
  {
   "cell_type": "code",
   "execution_count": 79,
   "id": "49a901d0",
   "metadata": {},
   "outputs": [
    {
     "name": "stdout",
     "output_type": "stream",
     "text": [
      "6\n",
      "7\n",
      "8\n",
      "9\n"
     ]
    }
   ],
   "source": [
    "for sayı in range(10) :\n",
    "    if sayı > 5:\n",
    "        print(sayı)"
   ]
  },
  {
   "cell_type": "markdown",
   "id": "a85483e4",
   "metadata": {},
   "source": [
    "ENUMERATE"
   ]
  },
  {
   "cell_type": "code",
   "execution_count": 80,
   "id": "173c8b68",
   "metadata": {},
   "outputs": [
    {
     "name": "stdout",
     "output_type": "stream",
     "text": [
      "1. harf = a\n",
      "2. harf = b\n",
      "3. harf = c\n",
      "4. harf = d\n",
      "5. harf = e\n"
     ]
    }
   ],
   "source": [
    "Liste = [\"a\" , \"b\" , \"c\" , \"d\" , \"e\"]\n",
    "\n",
    "for index, harf in enumerate(Liste) :\n",
    "    print(\"{0}. harf = {1}\".format(index+1, harf))"
   ]
  },
  {
   "cell_type": "markdown",
   "id": "04d47a76",
   "metadata": {},
   "source": [
    "ZIP"
   ]
  },
  {
   "cell_type": "code",
   "execution_count": 81,
   "id": "a482589b",
   "metadata": {},
   "outputs": [
    {
     "name": "stdout",
     "output_type": "stream",
     "text": [
      "('TR', 1)\n",
      "('FR', 2)\n",
      "('DE', 3)\n"
     ]
    }
   ],
   "source": [
    "ülke = [\"TR\" , \"FR\" , \"DE\"]\n",
    "sıra = range(1,4)\n",
    "\n",
    "for x in zip(ülke, sıra) :\n",
    "    print(x)"
   ]
  },
  {
   "cell_type": "markdown",
   "id": "c29d8cf4",
   "metadata": {},
   "source": [
    " "
   ]
  },
  {
   "cell_type": "markdown",
   "id": "cbb54b36",
   "metadata": {},
   "source": [
    "# BREAK & CONTINUE & PASS"
   ]
  },
  {
   "cell_type": "markdown",
   "id": "df7b0234",
   "metadata": {},
   "source": [
    "BREAK"
   ]
  },
  {
   "cell_type": "code",
   "execution_count": 3,
   "id": "03c156ee",
   "metadata": {},
   "outputs": [
    {
     "name": "stdout",
     "output_type": "stream",
     "text": [
      "c harfi index no : 2\n"
     ]
    }
   ],
   "source": [
    "Liste = [\"a\" , \"b\" , \"c\" , \"d\" , \"e\"] * 100\n",
    "\n",
    "for index, harf in enumerate(Liste) :\n",
    "    if harf == \"c\" :\n",
    "        print(\"{} harfi index no : {}\".format(harf, index))\n",
    "        break"
   ]
  },
  {
   "cell_type": "markdown",
   "id": "99ac46f3",
   "metadata": {},
   "source": [
    "CONTINUE"
   ]
  },
  {
   "cell_type": "code",
   "execution_count": 83,
   "id": "508ec3a6",
   "metadata": {},
   "outputs": [
    {
     "name": "stdout",
     "output_type": "stream",
     "text": [
      "1\n",
      "3\n",
      "5\n"
     ]
    }
   ],
   "source": [
    "for x in range(1,6) :\n",
    "    if x % 2 == 0 :\n",
    "        continue\n",
    "        \n",
    "    print(x)"
   ]
  },
  {
   "cell_type": "markdown",
   "id": "00ac49d5",
   "metadata": {},
   "source": [
    "PASS"
   ]
  },
  {
   "cell_type": "code",
   "execution_count": 84,
   "id": "a5907002",
   "metadata": {},
   "outputs": [
    {
     "name": "stdout",
     "output_type": "stream",
     "text": [
      "1\n",
      "3\n",
      "5\n"
     ]
    }
   ],
   "source": [
    "for x in range(1,6) :\n",
    "    if x % 2 == 0 :\n",
    "        pass\n",
    "    \n",
    "    else :\n",
    "        print(x)"
   ]
  },
  {
   "cell_type": "markdown",
   "id": "5ce2046c",
   "metadata": {},
   "source": [
    " "
   ]
  },
  {
   "cell_type": "markdown",
   "id": "4b5802b7",
   "metadata": {},
   "source": [
    "# ÖZET 2"
   ]
  },
  {
   "cell_type": "code",
   "execution_count": 4,
   "id": "cf479e05",
   "metadata": {},
   "outputs": [
    {
     "name": "stdout",
     "output_type": "stream",
     "text": [
      "1-) Kerem DÜZENLİ / Uzmanlık : ['Tasarım']\n",
      "2-) Bilişim İşindeki Uzman Kişiler : Ali\n",
      "2-) Bilişim İşindeki Uzman Kişiler : Veli\n",
      "3-) Tasarım Öğrendi : {'ad': 'Veli', 'soyad': 'BAN', 'uzmanlık': ['Bilişim', 'Tasarım']}\n",
      "4-) İki Uzmanlığı Olan Kişi : Veli BAN\n",
      "5-) Yaşı 30'dan Küçük Olan Kişi : Kerem\n"
     ]
    }
   ],
   "source": [
    "dict1 = {\n",
    "    \"ad\" : \"Kerem\",\n",
    "    \"soyad\" : \"DÜZENLİ\",\n",
    "    \"uzmanlık\" : [\"Tasarım\"]\n",
    "}\n",
    "\n",
    "dict2 = {\n",
    "    \"ad\" : \"Ali\",\n",
    "    \"soyad\" : \"CAN\",\n",
    "    \"uzmanlık\" : [\"Bilişim\"]\n",
    "}\n",
    "\n",
    "dict3 = {\n",
    "    \"ad\" : \"Veli\",\n",
    "    \"soyad\" : \"BAN\",\n",
    "    \"uzmanlık\" : [\"Bilişim\"]\n",
    "}\n",
    "\n",
    "#1--------------------------------------------------------------------\n",
    "\n",
    "print(\"1-) Kerem DÜZENLİ / Uzmanlık : {}\".format(dict1[\"uzmanlık\"]))\n",
    "\n",
    "#2--------------------------------------------------------------------\n",
    "\n",
    "dict_all = [dict1, dict2, dict3]\n",
    "\n",
    "for x in dict_all :\n",
    "    if \"Bilişim\" in x[\"uzmanlık\"]:\n",
    "        print(\"2-) Bilişim İşindeki Uzman Kişiler : {}\".format(x[\"ad\"]))\n",
    "        \n",
    "#3--------------------------------------------------------------------\n",
    "\n",
    "dict3['uzmanlık'].append('Tasarım')\n",
    "print(\"3-) Tasarım Öğrendi : {}\".format(dict3))\n",
    "\n",
    "#4--------------------------------------------------------------------\n",
    "\n",
    "for y in dict_all :\n",
    "    if len(y[\"uzmanlık\"]) > 1 :\n",
    "        print(\"4-) İki Uzmanlığı Olan Kişi : {0} {1}\".format(y[\"ad\"], y[\"soyad\"]))\n",
    "        \n",
    "#5--------------------------------------------------------------------\n",
    "\n",
    "yaşlar = [22, 34, 32]\n",
    "\n",
    "for ad, yaş in zip(dict_all, yaşlar) :\n",
    "    if yaş < 30 :\n",
    "        print(\"5-) Yaşı 30'dan Küçük Olan Kişi : {}\".format(ad[\"ad\"]))"
   ]
  },
  {
   "cell_type": "code",
   "execution_count": 29,
   "id": "df4074c6",
   "metadata": {},
   "outputs": [
    {
     "name": "stdout",
     "output_type": "stream",
     "text": [
      "10 sayısı asal değildir.\n",
      "9 sayısı asal değildir.\n",
      "8 sayısı asal değildir.\n",
      "7 sayısı asaldır.\n"
     ]
    }
   ],
   "source": [
    "Değer = 10\n",
    "X = Değer - 1\n",
    "\n",
    "while X > 1 :\n",
    "    if Değer % X == 0 :\n",
    "        print(\"{} sayısı asal değildir.\".format(Değer))\n",
    "        Değer = Değer - 1\n",
    "        \n",
    "    else :\n",
    "        X = X - 1\n",
    "        \n",
    "else :\n",
    "    print(\"{} sayısı asaldır.\".format(Değer))"
   ]
  },
  {
   "cell_type": "markdown",
   "id": "a46f1d6c",
   "metadata": {},
   "source": [
    " "
   ]
  },
  {
   "cell_type": "markdown",
   "id": "7117558d",
   "metadata": {},
   "source": [
    "# FONKSİYONLAR"
   ]
  },
  {
   "cell_type": "code",
   "execution_count": 11,
   "id": "0a5c0d8b",
   "metadata": {},
   "outputs": [
    {
     "name": "stdout",
     "output_type": "stream",
     "text": [
      "5\n"
     ]
    }
   ],
   "source": [
    "def beş_bastır() :\n",
    "    print(5)\n",
    "    \n",
    "beş_bastır()"
   ]
  },
  {
   "cell_type": "code",
   "execution_count": 10,
   "id": "f140fd68",
   "metadata": {},
   "outputs": [
    {
     "data": {
      "text/plain": [
       "5"
      ]
     },
     "execution_count": 10,
     "metadata": {},
     "output_type": "execute_result"
    }
   ],
   "source": [
    "def beş_döndür() :\n",
    "    return(5)\n",
    "    \n",
    "beş_döndür()"
   ]
  },
  {
   "cell_type": "code",
   "execution_count": 12,
   "id": "d4e675d2",
   "metadata": {},
   "outputs": [
    {
     "name": "stdout",
     "output_type": "stream",
     "text": [
      "5\n",
      "None\n"
     ]
    }
   ],
   "source": [
    "a = beş_bastır()\n",
    "print(a)"
   ]
  },
  {
   "cell_type": "code",
   "execution_count": 13,
   "id": "c0210434",
   "metadata": {},
   "outputs": [
    {
     "name": "stdout",
     "output_type": "stream",
     "text": [
      "5\n"
     ]
    }
   ],
   "source": [
    "b = beş_döndür()\n",
    "print(b)"
   ]
  },
  {
   "cell_type": "markdown",
   "id": "c696a8f9",
   "metadata": {},
   "source": [
    "----------------------------------------------------------------------"
   ]
  },
  {
   "cell_type": "code",
   "execution_count": 22,
   "id": "c82f9ff6",
   "metadata": {},
   "outputs": [
    {
     "name": "stdout",
     "output_type": "stream",
     "text": [
      "10\n",
      "asfgh\n"
     ]
    }
   ],
   "source": [
    "def döndür1(x) :\n",
    "    return x\n",
    "\n",
    "print(döndür1(10))\n",
    "print(döndür1(\"asfgh\"))"
   ]
  },
  {
   "cell_type": "code",
   "execution_count": 24,
   "id": "ba099974",
   "metadata": {},
   "outputs": [
    {
     "name": "stdout",
     "output_type": "stream",
     "text": [
      "100\n",
      "99\n"
     ]
    }
   ],
   "source": [
    "def döndür2(y = 100) :\n",
    "    return y\n",
    "\n",
    "print(döndür2())\n",
    "print(döndür2(99))"
   ]
  },
  {
   "cell_type": "markdown",
   "id": "5c3ec87e",
   "metadata": {},
   "source": [
    "----------------------------------------------------------------------"
   ]
  },
  {
   "cell_type": "code",
   "execution_count": 36,
   "id": "9938e10f",
   "metadata": {},
   "outputs": [
    {
     "data": {
      "text/plain": [
       "5"
      ]
     },
     "execution_count": 36,
     "metadata": {},
     "output_type": "execute_result"
    }
   ],
   "source": [
    "def büyük_sayı_döndür(a,b) :\n",
    "    if a > b :\n",
    "        return a\n",
    "    \n",
    "    elif b > a :\n",
    "        return b\n",
    "    \n",
    "büyük_sayı_döndür(3,5)"
   ]
  },
  {
   "cell_type": "code",
   "execution_count": 37,
   "id": "5ac5dfee",
   "metadata": {},
   "outputs": [
    {
     "name": "stdout",
     "output_type": "stream",
     "text": [
      "10 daha büyük sayıdır\n"
     ]
    }
   ],
   "source": [
    "def metin_yazdır(a,b) :\n",
    "    büyük_sayı = büyük_sayı_döndür(a,b)\n",
    "    şablon_metin = \"{} daha büyük sayıdır\".format(büyük_sayı)\n",
    "    print(şablon_metin)\n",
    "    \n",
    "metin_yazdır(5,10)"
   ]
  },
  {
   "cell_type": "markdown",
   "id": "1ee48141",
   "metadata": {},
   "source": [
    "----------------------------------------------------------------------"
   ]
  },
  {
   "cell_type": "code",
   "execution_count": 6,
   "id": "a4722059",
   "metadata": {},
   "outputs": [
    {
     "name": "stdout",
     "output_type": "stream",
     "text": [
      "('Kerem', 'DÜZENLİ')\n",
      "Kerem\n",
      "DÜZENLİ\n"
     ]
    }
   ],
   "source": [
    "def isim_soyisim_ayırma(isim_soyisim) :\n",
    "    isim = isim_soyisim.split()[0]\n",
    "    soyisim = isim_soyisim.split()[1]\n",
    "    return isim, soyisim\n",
    "\n",
    "print(isim_soyisim_ayırma(\"Kerem DÜZENLİ\"))\n",
    "\n",
    "a, b = isim_soyisim_ayırma(\"Kerem DÜZENLİ\")\n",
    "print(a)\n",
    "print(b)"
   ]
  },
  {
   "cell_type": "markdown",
   "id": "2539e1a7",
   "metadata": {},
   "source": [
    "----------------------------------------------------------------------"
   ]
  },
  {
   "cell_type": "code",
   "execution_count": 2,
   "id": "f99b663e",
   "metadata": {},
   "outputs": [
    {
     "data": {
      "text/plain": [
       "'Ali-CAN'"
      ]
     },
     "execution_count": 2,
     "metadata": {},
     "output_type": "execute_result"
    }
   ],
   "source": [
    "\"-\".join([\"Ali\", \"CAN\"])\n"
   ]
  },
  {
   "cell_type": "code",
   "execution_count": 5,
   "id": "9f6f0470",
   "metadata": {},
   "outputs": [
    {
     "data": {
      "text/plain": [
       "'Veli BAN'"
      ]
     },
     "execution_count": 5,
     "metadata": {},
     "output_type": "execute_result"
    }
   ],
   "source": [
    "def isim_soyisim_birleştir(isim, soyisim):\n",
    "    return \" \".join([isim, soyisim])\n",
    "\n",
    "isim_soyisim_birleştir(\"Veli\", \"BAN\")"
   ]
  },
  {
   "cell_type": "code",
   "execution_count": 7,
   "id": "61a93363",
   "metadata": {},
   "outputs": [
    {
     "name": "stdout",
     "output_type": "stream",
     "text": [
      "Ali\n",
      "Veli\n",
      "CAN\n"
     ]
    },
    {
     "data": {
      "text/plain": [
       "'Ali Veli CAN'"
      ]
     },
     "execution_count": 7,
     "metadata": {},
     "output_type": "execute_result"
    }
   ],
   "source": [
    "def isim_birleştir(*args):\n",
    "    for item in args:\n",
    "        print(item)\n",
    "    return \" \".join(args)\n",
    "\n",
    "isim_birleştir(\"Ali\", \"Veli\", \"CAN\")"
   ]
  },
  {
   "cell_type": "code",
   "execution_count": 13,
   "id": "6b98cb9e",
   "metadata": {},
   "outputs": [
    {
     "name": "stdout",
     "output_type": "stream",
     "text": [
      "Göbekadı Yok!\n",
      "Veli\n"
     ]
    }
   ],
   "source": [
    "def göbekadı_yazdır(**kwargs):\n",
    "    if \"göbekadı\" in kwargs:\n",
    "        print(kwargs[\"göbekadı\"])\n",
    "        \n",
    "    else:\n",
    "        print(\"Göbekadı Yok!\")\n",
    "        \n",
    "göbekadı_yazdır(adı=\"Kerem\", soyadı=\"DÜZENLİ\")\n",
    "göbekadı_yazdır(adı=\"Ali\", soyadı=\"CAN\", göbekadı=\"Veli\")"
   ]
  },
  {
   "cell_type": "markdown",
   "id": "9308d978",
   "metadata": {},
   "source": [
    " "
   ]
  },
  {
   "cell_type": "markdown",
   "id": "5705a772",
   "metadata": {},
   "source": [
    "# MAP & FILTER & LAMBDA"
   ]
  },
  {
   "cell_type": "markdown",
   "id": "ff785bca",
   "metadata": {},
   "source": [
    "MAP"
   ]
  },
  {
   "cell_type": "code",
   "execution_count": 39,
   "id": "7ba3380b",
   "metadata": {},
   "outputs": [
    {
     "name": "stdout",
     "output_type": "stream",
     "text": [
      "[1, 2, 3, 4, 5]\n",
      "[1, 4, 9, 16, 25]\n"
     ]
    }
   ],
   "source": [
    "def kare_fonksiyonu(x):\n",
    "    return x**2\n",
    "\n",
    "sayılar = list(range(1,6))\n",
    "print(sayılar)\n",
    "\n",
    "for a in range(len(sayılar)) :\n",
    "    sayılar[a] = kare_fonksiyonu(sayılar[a])\n",
    "print(sayılar)"
   ]
  },
  {
   "cell_type": "code",
   "execution_count": 16,
   "id": "ede52a74",
   "metadata": {},
   "outputs": [
    {
     "data": {
      "text/plain": [
       "[1, 4, 9, 16, 25]"
      ]
     },
     "execution_count": 16,
     "metadata": {},
     "output_type": "execute_result"
    }
   ],
   "source": [
    "def kare_foksiyonu(x):\n",
    "    return x**2\n",
    "\n",
    "sayılar = list(range(1,6))\n",
    "\n",
    "list(map(kare_fonksiyonu, sayılar))"
   ]
  },
  {
   "cell_type": "markdown",
   "id": "9d5ff58d",
   "metadata": {},
   "source": [
    "----------------------------------------------------------------------"
   ]
  },
  {
   "cell_type": "markdown",
   "id": "4657b275",
   "metadata": {},
   "source": [
    "FILTER"
   ]
  },
  {
   "cell_type": "code",
   "execution_count": 40,
   "id": "5a1f3451",
   "metadata": {},
   "outputs": [
    {
     "data": {
      "text/plain": [
       "'çift'"
      ]
     },
     "execution_count": 40,
     "metadata": {},
     "output_type": "execute_result"
    }
   ],
   "source": [
    "def çift_sayılar_filtre(x):\n",
    "    if x % 2 == 0:\n",
    "        return \"çift\"\n",
    "    else:\n",
    "        None\n",
    "    \n",
    "çift_sayılar_filtre(10)"
   ]
  },
  {
   "cell_type": "code",
   "execution_count": 42,
   "id": "06ebd57a",
   "metadata": {},
   "outputs": [
    {
     "data": {
      "text/plain": [
       "[2, 4]"
      ]
     },
     "execution_count": 42,
     "metadata": {},
     "output_type": "execute_result"
    }
   ],
   "source": [
    "def çift_sayılar_filtre(x):\n",
    "    if x % 2 == 0:\n",
    "        return x\n",
    "    else:\n",
    "        None\n",
    "        \n",
    "sayılar = list(range(1,6))\n",
    "\n",
    "list(filter(çift_sayılar_filtre, sayılar))"
   ]
  },
  {
   "cell_type": "markdown",
   "id": "a7f77759",
   "metadata": {},
   "source": [
    "----------------------------------------------------------------------"
   ]
  },
  {
   "cell_type": "markdown",
   "id": "5798428d",
   "metadata": {},
   "source": [
    "LAMBDA"
   ]
  },
  {
   "cell_type": "code",
   "execution_count": 29,
   "id": "8adf575f",
   "metadata": {},
   "outputs": [
    {
     "data": {
      "text/plain": [
       "[1, 4, 9, 16, 25]"
      ]
     },
     "execution_count": 29,
     "metadata": {},
     "output_type": "execute_result"
    }
   ],
   "source": [
    "def kare_fonksiyonu(x):\n",
    "    return x**2\n",
    "\n",
    "sayılar = list(range(1,6))\n",
    "\n",
    "list(map(kare_fonksiyonu, sayılar))\n",
    "\n",
    "#----------------------------------------------\n",
    "\n",
    "sayılar = list(range(1,6))\n",
    "list(map(lambda x: x**2, sayılar))"
   ]
  },
  {
   "cell_type": "code",
   "execution_count": 32,
   "id": "666df6ca",
   "metadata": {},
   "outputs": [
    {
     "data": {
      "text/plain": [
       "[2, 4]"
      ]
     },
     "execution_count": 32,
     "metadata": {},
     "output_type": "execute_result"
    }
   ],
   "source": [
    "def çift_sayılar_filtre(x):\n",
    "    if x % 2 == 0:\n",
    "        return x\n",
    "    else:\n",
    "        None\n",
    "        \n",
    "sayılar = list(range(1,6))\n",
    "\n",
    "list(filter(çift_sayılar_filtre, sayılar))\n",
    "\n",
    "#----------------------------------------------\n",
    "\n",
    "sayılar = list(range(1,6))\n",
    "list(filter(lambda x: x if x % 2 == 0 else None, sayılar))"
   ]
  },
  {
   "cell_type": "markdown",
   "id": "ed9496a1",
   "metadata": {},
   "source": [
    " "
   ]
  },
  {
   "cell_type": "markdown",
   "id": "7a55cf6c",
   "metadata": {},
   "source": [
    "# INPUT"
   ]
  },
  {
   "cell_type": "code",
   "execution_count": 1,
   "id": "339b2266",
   "metadata": {},
   "outputs": [
    {
     "name": "stdout",
     "output_type": "stream",
     "text": [
      "Bir sayı girin: 10\n"
     ]
    },
    {
     "data": {
      "text/plain": [
       "'10'"
      ]
     },
     "execution_count": 1,
     "metadata": {},
     "output_type": "execute_result"
    }
   ],
   "source": [
    "input(\"Bir sayı girin: \")"
   ]
  },
  {
   "cell_type": "code",
   "execution_count": 2,
   "id": "e38eaa91",
   "metadata": {},
   "outputs": [
    {
     "name": "stdout",
     "output_type": "stream",
     "text": [
      "Bir sayı girin: 10\n"
     ]
    },
    {
     "data": {
      "text/plain": [
       "str"
      ]
     },
     "execution_count": 2,
     "metadata": {},
     "output_type": "execute_result"
    }
   ],
   "source": [
    "girdi = input(\"Bir sayı girin: \")\n",
    "type(girdi)"
   ]
  },
  {
   "cell_type": "code",
   "execution_count": 6,
   "id": "46e8d294",
   "metadata": {},
   "outputs": [
    {
     "name": "stdout",
     "output_type": "stream",
     "text": [
      "Bir sayı girin: 10\n",
      "Tek mi Çift mi: Çift\n"
     ]
    },
    {
     "data": {
      "text/plain": [
       "'10 sayısı çifttir'"
      ]
     },
     "execution_count": 6,
     "metadata": {},
     "output_type": "execute_result"
    }
   ],
   "source": [
    "def uygulama():\n",
    "    girdi = input(\"Bir sayı girin: \")\n",
    "    işlem = input(\"Tek mi Çift mi: \")\n",
    "    \n",
    "    if işlem == \"Çift\" :\n",
    "        if int(girdi) % 2 == 0 :\n",
    "            return \"{} sayısı çifttir\".format(girdi)\n",
    "        else :\n",
    "            return \"{} sayısı çift değildir\".format(girdi)\n",
    "        \n",
    "    elif işlem == \"Tek\" :\n",
    "        if int(girdi) % 2 == 1 :\n",
    "            return \"{} sayısı tektir\".format(girdi)\n",
    "        else :\n",
    "            return \"{} sayısı tek değildir\".format(girdi)\n",
    "        \n",
    "uygulama()"
   ]
  },
  {
   "cell_type": "markdown",
   "id": "7320eb31",
   "metadata": {},
   "source": [
    " "
   ]
  },
  {
   "cell_type": "markdown",
   "id": "f35f9b48",
   "metadata": {},
   "source": [
    "# INPUT ONAYLAMA"
   ]
  },
  {
   "cell_type": "code",
   "execution_count": 12,
   "id": "5b1a8a34",
   "metadata": {},
   "outputs": [
    {
     "name": "stdout",
     "output_type": "stream",
     "text": [
      "Bir sayı giriniz: awsdgf\n",
      "awsdgf bir sayı değildir\n"
     ]
    }
   ],
   "source": [
    "def input_onay():\n",
    "    girdi = input(\"Bir sayı giriniz: \")\n",
    "    \n",
    "    if girdi.isdigit() :\n",
    "        print(\"{} bir sayıdır\".format(girdi))\n",
    "        \n",
    "    else :\n",
    "        print(\"{} bir sayı değildir\".format(girdi))\n",
    "        \n",
    "input_onay()"
   ]
  },
  {
   "cell_type": "code",
   "execution_count": 16,
   "id": "85692222",
   "metadata": {},
   "outputs": [
    {
     "name": "stdout",
     "output_type": "stream",
     "text": [
      "Bir sayı giriniz: fhgj\n",
      "fhgj bir sayı değildir\n",
      "Yeni bir sayı giriniz: 10\n",
      "10 bir sayıdır\n"
     ]
    }
   ],
   "source": [
    "def input_onay_döngü():\n",
    "    girdi = input(\"Bir sayı giriniz: \")\n",
    "    \n",
    "    while not girdi.isdigit():\n",
    "        print(\"{} bir sayı değildir\".format(girdi))\n",
    "        girdi = input(\"Yeni bir sayı giriniz: \")\n",
    "        \n",
    "    else:\n",
    "        print(\"{} bir sayıdır\".format(girdi))\n",
    "        \n",
    "input_onay_döngü()"
   ]
  },
  {
   "cell_type": "code",
   "execution_count": 24,
   "id": "97343319",
   "metadata": {},
   "outputs": [
    {
     "name": "stdout",
     "output_type": "stream",
     "text": [
      "E-Posta giriniz: sdfhj\n",
      "Doğru bir e-posta adresi giriniz!\n",
      "E-Posta giriniz: krmdznl@hotmail.com\n",
      "krmdznl@hotmail.com doğru bir e-posta adresi\n"
     ]
    }
   ],
   "source": [
    "def e_posta_doğrulama():\n",
    "    girdi = input(\"E-Posta giriniz: \")\n",
    "    \n",
    "    while not ((\"@hotmail.com\" in girdi) or (\"@gmail.com\" in girdi)):\n",
    "        print(\"Doğru bir e-posta adresi giriniz!\")\n",
    "        girdi = input(\"E-Posta giriniz: \")\n",
    "        \n",
    "    else:\n",
    "        print(\"{} doğru bir e-posta adresi\".format(girdi))\n",
    "        \n",
    "e_posta_doğrulama()"
   ]
  },
  {
   "cell_type": "markdown",
   "id": "7b2e38d4",
   "metadata": {},
   "source": [
    " "
   ]
  },
  {
   "cell_type": "markdown",
   "id": "e897665c",
   "metadata": {},
   "source": [
    "# TRY & EXCEPT & FINALLY"
   ]
  },
  {
   "cell_type": "code",
   "execution_count": 1,
   "id": "f28386cf",
   "metadata": {},
   "outputs": [
    {
     "data": {
      "text/plain": [
       "1"
      ]
     },
     "execution_count": 1,
     "metadata": {},
     "output_type": "execute_result"
    }
   ],
   "source": [
    "round(1.3)"
   ]
  },
  {
   "cell_type": "code",
   "execution_count": 15,
   "id": "0b20b38c",
   "metadata": {},
   "outputs": [
    {
     "name": "stdout",
     "output_type": "stream",
     "text": [
      "Bir Sayı Giriniz: 1.7\n",
      "Yuvarlanmış Hali : 2\n"
     ]
    }
   ],
   "source": [
    "def sayı_yuvarlama():\n",
    "    girdi = input(\"Bir Sayı Giriniz: \")\n",
    "    \n",
    "    print(\"Yuvarlanmış Hali : {}\".format(round((float(girdi)))))\n",
    "\n",
    "sayı_yuvarlama()"
   ]
  },
  {
   "cell_type": "code",
   "execution_count": 28,
   "id": "dfe86fc5",
   "metadata": {},
   "outputs": [
    {
     "name": "stdout",
     "output_type": "stream",
     "text": [
      "Bir Sayı Giriniz: 1.78\n",
      "2\n",
      "İşlem Başarılı oldu!\n"
     ]
    }
   ],
   "source": [
    "def sayı_yuvarlama_deneme():\n",
    "    girdi = input(\"Bir Sayı Giriniz: \")\n",
    "    durum = \"\"\n",
    "    \n",
    "    try:\n",
    "        girdi = float(girdi)\n",
    "        \n",
    "    except:\n",
    "        print(\"{} bir sayı değil!\".format(girdi))\n",
    "        durum = \"Başarısız\"\n",
    "        \n",
    "    else:\n",
    "        print(\"{}\".format(round(girdi)))\n",
    "        durum = \"Başarılı\"\n",
    "        \n",
    "    finally:\n",
    "        print(\"İşlem {} oldu!\".format(durum))\n",
    "        \n",
    "sayı_yuvarlama_deneme()"
   ]
  },
  {
   "cell_type": "code",
   "execution_count": 33,
   "id": "11b38c1f",
   "metadata": {},
   "outputs": [
    {
     "name": "stdout",
     "output_type": "stream",
     "text": [
      "Bir sayı giriniz: asdgf\n",
      "asdgf bir sayı değil\n",
      "İşlem Başarısız !\n",
      "Bir sayı giriniz: 15.67890\n",
      "16\n",
      "İşlem Başarılı !\n"
     ]
    }
   ],
   "source": [
    "def sayı_yuvarlama_döngü():\n",
    "    \n",
    "    while True:\n",
    "        girdi = input(\"Bir sayı giriniz: \")\n",
    "        statu = \"\"\n",
    "        \n",
    "        try:\n",
    "            girdi = float(girdi)\n",
    "            statu = \"Başarılı\"\n",
    "            print(\"{}\".format(round(girdi)))\n",
    "            break\n",
    "            \n",
    "        except:\n",
    "            statu = \"Başarısız\"\n",
    "            print(\"{} bir sayı değil\".format(girdi))\n",
    "            pass\n",
    "        \n",
    "        finally:\n",
    "            print(\"İşlem {} !\".format(statu))            \n",
    "            \n",
    "sayı_yuvarlama_döngü()"
   ]
  },
  {
   "cell_type": "code",
   "execution_count": 39,
   "id": "3672d153",
   "metadata": {},
   "outputs": [
    {
     "name": "stdout",
     "output_type": "stream",
     "text": [
      "Girilen değerler uyumsuz\n"
     ]
    }
   ],
   "source": [
    "try:\n",
    "    print(5 + \"a\")\n",
    "    \n",
    "except TypeError:\n",
    "    print(\"Girilen değerler uyumsuz\")"
   ]
  },
  {
   "cell_type": "code",
   "execution_count": 42,
   "id": "ee8e6186",
   "metadata": {},
   "outputs": [
    {
     "name": "stdout",
     "output_type": "stream",
     "text": [
      "Girilen listede eleman yok\n"
     ]
    }
   ],
   "source": [
    "liste = []\n",
    "\n",
    "try:\n",
    "    liste[-1]\n",
    "    \n",
    "except TypeError:\n",
    "    print(\"Girilen değerler uyumsuz\")\n",
    "    \n",
    "except IndexError:\n",
    "    print(\"Girilen listede eleman yok\")\n",
    "    \n",
    "except:\n",
    "    print(\"Kod hatalı\")"
   ]
  },
  {
   "cell_type": "code",
   "execution_count": 47,
   "id": "5a44eba3",
   "metadata": {},
   "outputs": [
    {
     "name": "stdout",
     "output_type": "stream",
     "text": [
      "Anahtar bulunamadı\n"
     ]
    }
   ],
   "source": [
    "Vatandaş = {\n",
    "    \"AD\": \"Kerem\",\n",
    "    \"Yaş\": \"24\"\n",
    "}\n",
    "\n",
    "try:\n",
    "    Vatandaş[\"SOYAD\"]\n",
    "    \n",
    "except TypeError:\n",
    "    print(\"Girilen değerler uyumsuz\")\n",
    "    \n",
    "except IndexError:\n",
    "    print(\"Girilen listede eleman yok\")\n",
    "    \n",
    "except KeyError:\n",
    "    print(\"Anahtar bulunamadı\")\n",
    "    \n",
    "except:\n",
    "    print(\"Kod hatalı\")"
   ]
  },
  {
   "cell_type": "markdown",
   "id": "4f3c52c7",
   "metadata": {},
   "source": [
    " "
   ]
  },
  {
   "cell_type": "markdown",
   "id": "ddf134b1",
   "metadata": {},
   "source": [
    "# ÖZET 3"
   ]
  },
  {
   "cell_type": "code",
   "execution_count": 44,
   "id": "4c2993c3",
   "metadata": {},
   "outputs": [
    {
     "name": "stdout",
     "output_type": "stream",
     "text": [
      "Sayı girin: 2\n",
      "Üstel sayı girin: 3\n"
     ]
    },
    {
     "data": {
      "text/plain": [
       "8"
      ]
     },
     "execution_count": 44,
     "metadata": {},
     "output_type": "execute_result"
    }
   ],
   "source": [
    "def üstel_sayı_1():\n",
    "    a = input(\"Sayı girin: \")\n",
    "    b = input (\"Üstel sayı girin: \")\n",
    "    return int(a)**int(b)\n",
    "\n",
    "üstel_sayı_1()"
   ]
  },
  {
   "cell_type": "code",
   "execution_count": 52,
   "id": "e4078e5e",
   "metadata": {},
   "outputs": [
    {
     "name": "stdout",
     "output_type": "stream",
     "text": [
      "[1, 2, 3, 4]\n"
     ]
    },
    {
     "data": {
      "text/plain": [
       "16"
      ]
     },
     "execution_count": 52,
     "metadata": {},
     "output_type": "execute_result"
    }
   ],
   "source": [
    "def üstel_sayı_2(a,b):\n",
    "    \n",
    "    sonuç = 1\n",
    "    \n",
    "    if b < 1:\n",
    "        print(list(range(1,b+1)))\n",
    "        return 1\n",
    "    \n",
    "    else:\n",
    "        for kuvvet in range(1,b+1):\n",
    "            sonuç = sonuç * a\n",
    "        \n",
    "        print(list(range(1,b+1)))\n",
    "        return sonuç\n",
    "        \n",
    "üstel_sayı_2(2,4)"
   ]
  },
  {
   "cell_type": "markdown",
   "id": "639819d9",
   "metadata": {},
   "source": [
    "----------------------------------------------------------------------"
   ]
  },
  {
   "cell_type": "code",
   "execution_count": 56,
   "id": "a7073175",
   "metadata": {},
   "outputs": [
    {
     "name": "stdout",
     "output_type": "stream",
     "text": [
      "[11, 8, 6, 5, 2, 1, 0]\n"
     ]
    },
    {
     "data": {
      "text/plain": [
       "(11, 8)"
      ]
     },
     "execution_count": 56,
     "metadata": {},
     "output_type": "execute_result"
    }
   ],
   "source": [
    "Liste = [ 1 , 2 , 5 , 8 , 6 , 11 , 0]\n",
    "\n",
    "def listedeki_en_büyük_iki_sayı(Liste):\n",
    "    Liste.sort()\n",
    "    Liste.reverse()\n",
    "    print(Liste)\n",
    "    return Liste[0], Liste[1]\n",
    "\n",
    "listedeki_en_büyük_iki_sayı(Liste)"
   ]
  },
  {
   "cell_type": "code",
   "execution_count": 57,
   "id": "85a8508b",
   "metadata": {},
   "outputs": [
    {
     "name": "stdout",
     "output_type": "stream",
     "text": [
      "[10, 6, 5, 2, 1]\n"
     ]
    },
    {
     "data": {
      "text/plain": [
       "(10, 6)"
      ]
     },
     "execution_count": 57,
     "metadata": {},
     "output_type": "execute_result"
    }
   ],
   "source": [
    "Deneme = [1,5,10,2,6]\n",
    "listedeki_en_büyük_iki_sayı(Deneme)"
   ]
  },
  {
   "cell_type": "markdown",
   "id": "500b6b06",
   "metadata": {},
   "source": [
    "----------------------------------------------------------------------"
   ]
  },
  {
   "cell_type": "code",
   "execution_count": 59,
   "id": "ecc0ad6b",
   "metadata": {},
   "outputs": [
    {
     "data": {
      "text/plain": [
       "['abc', 'a']"
      ]
     },
     "execution_count": 59,
     "metadata": {},
     "output_type": "execute_result"
    }
   ],
   "source": [
    "def str_filtre_1(Liste):\n",
    "    \n",
    "    sonuç = []\n",
    "    \n",
    "    for x in Liste:\n",
    "        if type(x) == str:\n",
    "            sonuç.append(x)\n",
    "        \n",
    "        else:\n",
    "            pass\n",
    "        \n",
    "    return sonuç\n",
    "\n",
    "Liste = [1,2,3,5,'abc','a',True]\n",
    "str_filtre_1(Liste)"
   ]
  },
  {
   "cell_type": "code",
   "execution_count": 60,
   "id": "a2f20ff6",
   "metadata": {},
   "outputs": [
    {
     "data": {
      "text/plain": [
       "['abc', 'a']"
      ]
     },
     "execution_count": 60,
     "metadata": {},
     "output_type": "execute_result"
    }
   ],
   "source": [
    "def str_filtre_2(Liste):\n",
    "    \n",
    "    return[*filter(lambda x: x if type(x) == str else None, Liste)]\n",
    "\n",
    "Liste = [1,2,3,5,'abc','a',True]\n",
    "str_filtre_2(Liste)"
   ]
  },
  {
   "cell_type": "markdown",
   "id": "3c1066ee",
   "metadata": {},
   "source": [
    "----------------------------------------------------------------------"
   ]
  },
  {
   "cell_type": "code",
   "execution_count": 65,
   "id": "6a41047d",
   "metadata": {},
   "outputs": [
    {
     "data": {
      "text/plain": [
       "[1, 90, 15]"
      ]
     },
     "execution_count": 65,
     "metadata": {},
     "output_type": "execute_result"
    }
   ],
   "source": [
    "def altı_sıfır_at_1(Liste):\n",
    "    \n",
    "    sonuç = []\n",
    "    \n",
    "    for x in Liste:\n",
    "        sonuç.append(int(x/1000000))\n",
    "        \n",
    "    return sonuç\n",
    "\n",
    "Liste = [1000000, 90000000, 15000000]\n",
    "altı_sıfır_at_1(Liste)"
   ]
  },
  {
   "cell_type": "code",
   "execution_count": 68,
   "id": "01fb5c7b",
   "metadata": {},
   "outputs": [
    {
     "data": {
      "text/plain": [
       "[1, 90, 15]"
      ]
     },
     "execution_count": 68,
     "metadata": {},
     "output_type": "execute_result"
    }
   ],
   "source": [
    "def altı_sıfır_at_2(Liste):\n",
    "    \n",
    "    return[*map(lambda x: int(x/1000000), Liste)]\n",
    "\n",
    "Liste = [1000000, 90000000, 15000000]\n",
    "altı_sıfır_at_2(Liste)"
   ]
  },
  {
   "cell_type": "markdown",
   "id": "2f687b23",
   "metadata": {},
   "source": [
    "----------------------------------------------------------------------"
   ]
  },
  {
   "cell_type": "code",
   "execution_count": 70,
   "id": "73c75267",
   "metadata": {},
   "outputs": [
    {
     "name": "stdout",
     "output_type": "stream",
     "text": [
      "Dakika kaç: 55\n",
      "Saat kaç: 13\n"
     ]
    },
    {
     "data": {
      "text/plain": [
       "'13:55'"
      ]
     },
     "execution_count": 70,
     "metadata": {},
     "output_type": "execute_result"
    }
   ],
   "source": [
    "def saat_kaç():\n",
    "    dakika = input(\"Dakika kaç: \")\n",
    "    saat = input(\"Saat kaç: \")\n",
    "    return(\"{0}:{1}\".format(saat,dakika))\n",
    "\n",
    "saat_kaç()"
   ]
  },
  {
   "cell_type": "markdown",
   "id": "b5ab5dfc",
   "metadata": {},
   "source": [
    "  "
   ]
  },
  {
   "cell_type": "markdown",
   "id": "88ef4160",
   "metadata": {},
   "source": [
    "# CLASS"
   ]
  },
  {
   "cell_type": "code",
   "execution_count": 7,
   "id": "90b610c1",
   "metadata": {},
   "outputs": [],
   "source": [
    "class Uçuş1():\n",
    "    havayolu = \"THY\""
   ]
  },
  {
   "cell_type": "code",
   "execution_count": 8,
   "id": "a862ec80",
   "metadata": {},
   "outputs": [],
   "source": [
    "Uçak1 = Uçuş1()"
   ]
  },
  {
   "cell_type": "code",
   "execution_count": 9,
   "id": "0c4d4929",
   "metadata": {},
   "outputs": [
    {
     "data": {
      "text/plain": [
       "'THY'"
      ]
     },
     "execution_count": 9,
     "metadata": {},
     "output_type": "execute_result"
    }
   ],
   "source": [
    "Uçak1.havayolu"
   ]
  },
  {
   "cell_type": "markdown",
   "id": "19193e1e",
   "metadata": {},
   "source": [
    "----------------------------------------------------------------------"
   ]
  },
  {
   "cell_type": "code",
   "execution_count": 17,
   "id": "653bad71",
   "metadata": {},
   "outputs": [],
   "source": [
    "class Uçuş2():\n",
    "    havayolu = \"THY\"\n",
    "    \n",
    "    def __init__(self, kod, kalkış, varış, süre, kapasite, yolcu):\n",
    "        self.kod = kod\n",
    "        self.kalkış = kalkış\n",
    "        self.varış = varış\n",
    "        self.süre = süre\n",
    "        self.kapasite = kapasite\n",
    "        self.yolcu = yolcu"
   ]
  },
  {
   "cell_type": "code",
   "execution_count": 26,
   "id": "1e710853",
   "metadata": {},
   "outputs": [],
   "source": [
    "Uçak1 = Uçuş2(\"TK1\", \"IST\", \"ANK\", 60, 300, 50)"
   ]
  },
  {
   "cell_type": "code",
   "execution_count": 29,
   "id": "09ba55c5",
   "metadata": {},
   "outputs": [
    {
     "data": {
      "text/plain": [
       "'THY'"
      ]
     },
     "execution_count": 29,
     "metadata": {},
     "output_type": "execute_result"
    }
   ],
   "source": [
    "Uçak1.havayolu"
   ]
  },
  {
   "cell_type": "code",
   "execution_count": 30,
   "id": "49838401",
   "metadata": {},
   "outputs": [
    {
     "data": {
      "text/plain": [
       "'TK1'"
      ]
     },
     "execution_count": 30,
     "metadata": {},
     "output_type": "execute_result"
    }
   ],
   "source": [
    "Uçak1.kod"
   ]
  },
  {
   "cell_type": "code",
   "execution_count": 31,
   "id": "328639c3",
   "metadata": {},
   "outputs": [
    {
     "data": {
      "text/plain": [
       "'ANK'"
      ]
     },
     "execution_count": 31,
     "metadata": {},
     "output_type": "execute_result"
    }
   ],
   "source": [
    "Uçak1.varış"
   ]
  },
  {
   "cell_type": "code",
   "execution_count": 32,
   "id": "dfda0705",
   "metadata": {},
   "outputs": [
    {
     "data": {
      "text/plain": [
       "50"
      ]
     },
     "execution_count": 32,
     "metadata": {},
     "output_type": "execute_result"
    }
   ],
   "source": [
    "Uçak1.yolcu"
   ]
  },
  {
   "cell_type": "code",
   "execution_count": 33,
   "id": "700937bf",
   "metadata": {},
   "outputs": [],
   "source": [
    "Uçak2 = Uçuş2(\"TK2\", \"ANT\", \"IST\", 90, 250, 200)"
   ]
  },
  {
   "cell_type": "code",
   "execution_count": 34,
   "id": "09f38998",
   "metadata": {},
   "outputs": [
    {
     "data": {
      "text/plain": [
       "'THY'"
      ]
     },
     "execution_count": 34,
     "metadata": {},
     "output_type": "execute_result"
    }
   ],
   "source": [
    "Uçak2.havayolu"
   ]
  },
  {
   "cell_type": "code",
   "execution_count": 35,
   "id": "bc2992de",
   "metadata": {},
   "outputs": [
    {
     "data": {
      "text/plain": [
       "'TK2'"
      ]
     },
     "execution_count": 35,
     "metadata": {},
     "output_type": "execute_result"
    }
   ],
   "source": [
    "Uçak2.kod"
   ]
  },
  {
   "cell_type": "code",
   "execution_count": 36,
   "id": "0fd943e3",
   "metadata": {},
   "outputs": [
    {
     "data": {
      "text/plain": [
       "'IST'"
      ]
     },
     "execution_count": 36,
     "metadata": {},
     "output_type": "execute_result"
    }
   ],
   "source": [
    "Uçak2.varış"
   ]
  },
  {
   "cell_type": "code",
   "execution_count": 37,
   "id": "cafd718d",
   "metadata": {},
   "outputs": [
    {
     "data": {
      "text/plain": [
       "200"
      ]
     },
     "execution_count": 37,
     "metadata": {},
     "output_type": "execute_result"
    }
   ],
   "source": [
    "Uçak2.yolcu"
   ]
  },
  {
   "cell_type": "markdown",
   "id": "fd44fced",
   "metadata": {},
   "source": [
    " "
   ]
  },
  {
   "cell_type": "markdown",
   "id": "e0781137",
   "metadata": {},
   "source": [
    "# CLASS - METHOD"
   ]
  },
  {
   "cell_type": "code",
   "execution_count": 44,
   "id": "307b8242",
   "metadata": {},
   "outputs": [],
   "source": [
    "class Uçuş3():\n",
    "    havayolu = \"THY\"\n",
    "    \n",
    "    def __init__(self, kod, kalkış, varış, süre, kapasite, yolcu):\n",
    "        self.kod = kod\n",
    "        self.kalkış = kalkış\n",
    "        self.varış = varış\n",
    "        self.süre = süre\n",
    "        self.kapasite = kapasite\n",
    "        self.yolcu = yolcu\n",
    "        \n",
    "    def anons(self):\n",
    "        return \"{} sefer sayılı {} -- {} uçuşu {} dakika sürecektir.\".format(\n",
    "        self.kod,\n",
    "        self.kalkış,\n",
    "        self.varış,\n",
    "        self.süre)"
   ]
  },
  {
   "cell_type": "code",
   "execution_count": 45,
   "id": "bf163b38",
   "metadata": {},
   "outputs": [],
   "source": [
    "Uçak1 = Uçuş3(\"TK3\", \"BOD\", \"ANK\", 60, 300, 280)"
   ]
  },
  {
   "cell_type": "code",
   "execution_count": 46,
   "id": "989ff777",
   "metadata": {},
   "outputs": [
    {
     "data": {
      "text/plain": [
       "'TK3 sefer sayılı BOD -- ANK uçuşu 60 dakika sürecektir.'"
      ]
     },
     "execution_count": 46,
     "metadata": {},
     "output_type": "execute_result"
    }
   ],
   "source": [
    "Uçak1.anons()"
   ]
  },
  {
   "cell_type": "markdown",
   "id": "a9d231ee",
   "metadata": {},
   "source": [
    "----------------------------------------------------------------------"
   ]
  },
  {
   "cell_type": "code",
   "execution_count": 112,
   "id": "92f53f8f",
   "metadata": {},
   "outputs": [],
   "source": [
    "class Uçuş4():\n",
    "    havayolu = \"THY\"\n",
    "    \n",
    "    def __init__(self, kod, kalkış, varış, süre, kapasite, yolcu):\n",
    "        self.kod = kod\n",
    "        self.kalkış = kalkış\n",
    "        self.varış = varış\n",
    "        self.süre = süre\n",
    "        self.kapasite = kapasite\n",
    "        self.yolcu = yolcu\n",
    "        \n",
    "    def anons(self):\n",
    "        return \"{} sefer sayılı {} -- {} uçuşu {} dakika sürecektir.\".format(\n",
    "        self.kod,\n",
    "        self.kalkış,\n",
    "        self.varış,\n",
    "        self.süre)\n",
    "    \n",
    "    def koltuk_sayısı_güncelle(self):\n",
    "        return self.kapasite - self.yolcu\n",
    "    \n",
    "    def bilet_satış(self, bilet_adedi=1):\n",
    "        if self.yolcu + bilet_adedi <= self.kapasite:\n",
    "            self.yolcu = self.yolcu + bilet_adedi\n",
    "            self.koltuk_sayısı_güncelle()\n",
    "            print(\"{} adet bilet daha satılmıştır, kalan koltuk sayısı {}\".format(bilet_adedi,\n",
    "                                                                        self.koltuk_sayısı_güncelle()))\n",
    "            \n",
    "        else:\n",
    "            print(\"İşlem hatalı! Yetersiz koltuk.\")\n",
    "            \n",
    "    def bilet_iptal(self, bilet_adedi=1):\n",
    "        if self.yolcu >= bilet_adedi:\n",
    "            self.yolcu = self.yolcu - bilet_adedi\n",
    "            print(\"{} adet bilet iptal edilmiştir, güncel koltuk sayısı {}\".format(bilet_adedi,\n",
    "                                                                                 self.koltuk_sayısı_güncelle()))\n",
    "        else:\n",
    "            print(\"İşlem hatalı! Yolcu sayısını tekrar kontrol edin.\")"
   ]
  },
  {
   "cell_type": "code",
   "execution_count": 113,
   "id": "43178d39",
   "metadata": {},
   "outputs": [],
   "source": [
    "Uçak1 = Uçuş4(\"TK4\", \"BOD\", \"ANK\", 60, 300, 250)"
   ]
  },
  {
   "cell_type": "code",
   "execution_count": 114,
   "id": "6656076b",
   "metadata": {},
   "outputs": [
    {
     "data": {
      "text/plain": [
       "50"
      ]
     },
     "execution_count": 114,
     "metadata": {},
     "output_type": "execute_result"
    }
   ],
   "source": [
    "Uçak1.koltuk_sayısı_güncelle()"
   ]
  },
  {
   "cell_type": "code",
   "execution_count": 115,
   "id": "71914bcb",
   "metadata": {},
   "outputs": [
    {
     "name": "stdout",
     "output_type": "stream",
     "text": [
      "5 adet bilet daha satılmıştır, kalan koltuk sayısı 45\n"
     ]
    }
   ],
   "source": [
    "Uçak1.bilet_satış(5)"
   ]
  },
  {
   "cell_type": "code",
   "execution_count": 116,
   "id": "308f5caf",
   "metadata": {},
   "outputs": [
    {
     "name": "stdout",
     "output_type": "stream",
     "text": [
      "İşlem hatalı! Yetersiz koltuk.\n"
     ]
    }
   ],
   "source": [
    "Uçak1.bilet_satış(50)"
   ]
  },
  {
   "cell_type": "code",
   "execution_count": 117,
   "id": "d59fbd97",
   "metadata": {},
   "outputs": [
    {
     "data": {
      "text/plain": [
       "45"
      ]
     },
     "execution_count": 117,
     "metadata": {},
     "output_type": "execute_result"
    }
   ],
   "source": [
    "Uçak1.koltuk_sayısı_güncelle()"
   ]
  },
  {
   "cell_type": "code",
   "execution_count": 118,
   "id": "60200491",
   "metadata": {},
   "outputs": [
    {
     "name": "stdout",
     "output_type": "stream",
     "text": [
      "1 adet bilet iptal edilmiştir, güncel koltuk sayısı 46\n"
     ]
    }
   ],
   "source": [
    "Uçak1.bilet_iptal()"
   ]
  },
  {
   "cell_type": "code",
   "execution_count": 119,
   "id": "05454569",
   "metadata": {},
   "outputs": [
    {
     "name": "stdout",
     "output_type": "stream",
     "text": [
      "254 adet bilet iptal edilmiştir, güncel koltuk sayısı 300\n"
     ]
    }
   ],
   "source": [
    "Uçak1.bilet_iptal(254)"
   ]
  },
  {
   "cell_type": "code",
   "execution_count": 120,
   "id": "561cc41b",
   "metadata": {},
   "outputs": [
    {
     "data": {
      "text/plain": [
       "300"
      ]
     },
     "execution_count": 120,
     "metadata": {},
     "output_type": "execute_result"
    }
   ],
   "source": [
    "Uçak1.koltuk_sayısı_güncelle()"
   ]
  },
  {
   "cell_type": "markdown",
   "id": "17e7a9ff",
   "metadata": {},
   "source": [
    " "
   ]
  },
  {
   "cell_type": "markdown",
   "id": "1b11a836",
   "metadata": {},
   "source": [
    "# CLASS - DUNDER & INHERITANCE"
   ]
  },
  {
   "cell_type": "code",
   "execution_count": 3,
   "id": "df6e5510",
   "metadata": {},
   "outputs": [],
   "source": [
    "class Uçuş():\n",
    "    havayolu = \"THY\"\n",
    "    \n",
    "    def __init__(self, kod, kalkış, varış, süre, kapasite, yolcu):\n",
    "        self.kod = kod\n",
    "        self.kalkış = kalkış\n",
    "        self.varış = varış\n",
    "        self.süre = süre\n",
    "        self.kapasite = kapasite\n",
    "        self.yolcu = yolcu\n",
    "        \n",
    "    def __repr__(self):\n",
    "        return \"{} sefer sayılı uçuş sistemde oluşturulmuştur\".format(self.kod)\n",
    "        \n",
    "    def anons(self):\n",
    "        return \"{} sefer sayılı {} -- {} uçuşu {} dakika sürecektir.\".format(\n",
    "        self.kod,\n",
    "        self.kalkış,\n",
    "        self.varış,\n",
    "        self.süre)"
   ]
  },
  {
   "cell_type": "code",
   "execution_count": 4,
   "id": "a6e22e02",
   "metadata": {},
   "outputs": [],
   "source": [
    "Uçak1 = Uçuş(\"TK4\", \"BOD\", \"ANK\", 60, 300, 250)"
   ]
  },
  {
   "cell_type": "code",
   "execution_count": 6,
   "id": "29bf2411",
   "metadata": {},
   "outputs": [
    {
     "data": {
      "text/plain": [
       "TK4 sefer sayılı uçuş sistemde oluşturulmuştur"
      ]
     },
     "execution_count": 6,
     "metadata": {},
     "output_type": "execute_result"
    }
   ],
   "source": [
    "Uçak1"
   ]
  },
  {
   "cell_type": "code",
   "execution_count": 9,
   "id": "c9a62f73",
   "metadata": {},
   "outputs": [
    {
     "data": {
      "text/plain": [
       "['kod',\n",
       " 'kalkış',\n",
       " 'varış',\n",
       " 'süre',\n",
       " 'kapasite',\n",
       " 'yolcu',\n",
       " '__module__',\n",
       " 'havayolu',\n",
       " '__init__',\n",
       " '__repr__',\n",
       " 'anons',\n",
       " '__dict__',\n",
       " '__weakref__',\n",
       " '__doc__',\n",
       " '__hash__',\n",
       " '__str__',\n",
       " '__getattribute__',\n",
       " '__setattr__',\n",
       " '__delattr__',\n",
       " '__lt__',\n",
       " '__le__',\n",
       " '__eq__',\n",
       " '__ne__',\n",
       " '__gt__',\n",
       " '__ge__',\n",
       " '__new__',\n",
       " '__reduce_ex__',\n",
       " '__reduce__',\n",
       " '__subclasshook__',\n",
       " '__init_subclass__',\n",
       " '__format__',\n",
       " '__sizeof__',\n",
       " '__dir__',\n",
       " '__class__']"
      ]
     },
     "execution_count": 9,
     "metadata": {},
     "output_type": "execute_result"
    }
   ],
   "source": [
    "Uçak1.__dir__()"
   ]
  },
  {
   "cell_type": "markdown",
   "id": "0571b57e",
   "metadata": {},
   "source": [
    "----------------------------------------------------------------------"
   ]
  },
  {
   "cell_type": "code",
   "execution_count": 32,
   "id": "7dd24b9f",
   "metadata": {},
   "outputs": [],
   "source": [
    "class Seyahat():\n",
    "    \n",
    "    def __init__(self, kalkış, varış):\n",
    "        self.kalkış = kalkış\n",
    "        self.varış = varış\n",
    "        \n",
    "    def anons(self):\n",
    "        return \"{} -- {} seyahatine hoşgeldiniz\".format(self.kalkış, self.varış)\n",
    "    \n",
    "class Otobüs(Seyahat):\n",
    "    \n",
    "    def __init__(self, mola_durakları, kalkış, varış):\n",
    "        Seyahat.__init__(self, kalkış, varış)\n",
    "        self.mola_durakları = mola_durakları"
   ]
  },
  {
   "cell_type": "code",
   "execution_count": 33,
   "id": "3bc02b50",
   "metadata": {},
   "outputs": [
    {
     "data": {
      "text/plain": [
       "'ANK -- BOD seyahatine hoşgeldiniz'"
      ]
     },
     "execution_count": 33,
     "metadata": {},
     "output_type": "execute_result"
    }
   ],
   "source": [
    "seyahat1 = Seyahat(\"ANK\", \"BOD\")\n",
    "seyahat1.anons()"
   ]
  },
  {
   "cell_type": "code",
   "execution_count": 34,
   "id": "7c1962d8",
   "metadata": {},
   "outputs": [
    {
     "data": {
      "text/plain": [
       "['FET', 'ALN']"
      ]
     },
     "execution_count": 34,
     "metadata": {},
     "output_type": "execute_result"
    }
   ],
   "source": [
    "oto1 = Otobüs([\"FET\", \"ALN\"], \"ANK\", \"BOD\")\n",
    "oto1.mola_durakları"
   ]
  },
  {
   "cell_type": "code",
   "execution_count": 35,
   "id": "b7cfa8ca",
   "metadata": {},
   "outputs": [
    {
     "data": {
      "text/plain": [
       "'ANK'"
      ]
     },
     "execution_count": 35,
     "metadata": {},
     "output_type": "execute_result"
    }
   ],
   "source": [
    "oto1.kalkış"
   ]
  },
  {
   "cell_type": "code",
   "execution_count": 36,
   "id": "d7b877bf",
   "metadata": {},
   "outputs": [
    {
     "data": {
      "text/plain": [
       "'BOD'"
      ]
     },
     "execution_count": 36,
     "metadata": {},
     "output_type": "execute_result"
    }
   ],
   "source": [
    "oto1.varış"
   ]
  },
  {
   "cell_type": "markdown",
   "id": "d47392dd",
   "metadata": {},
   "source": [
    " "
   ]
  },
  {
   "cell_type": "markdown",
   "id": "edda4a12",
   "metadata": {},
   "source": [
    "# NAVIGATION"
   ]
  },
  {
   "cell_type": "code",
   "execution_count": 1,
   "id": "9fd740e6",
   "metadata": {},
   "outputs": [
    {
     "name": "stdout",
     "output_type": "stream",
     "text": [
      " Volume in drive C has no label.\n",
      " Volume Serial Number is 68D0-7257\n",
      "\n",
      " Directory of C:\\Users\\Kerem\\Desktop\\MATERIAL\\Python\n",
      "\n",
      "12.02.2022  14:06    <DIR>          .\n",
      "12.02.2022  14:06    <DIR>          ..\n",
      "27.01.2022  02:20    <DIR>          .ipynb_checkpoints\n",
      "12.02.2022  14:06            88.846 ALL.ipynb\n",
      "27.01.2022  02:04            23.161 Matplotlib.ipynb\n",
      "               2 File(s)        112.007 bytes\n",
      "               3 Dir(s)  72.063.385.600 bytes free\n"
     ]
    }
   ],
   "source": [
    "%ls"
   ]
  },
  {
   "cell_type": "code",
   "execution_count": 2,
   "id": "afbb0bf2",
   "metadata": {},
   "outputs": [
    {
     "data": {
      "text/plain": [
       "'C:\\\\Users\\\\Kerem\\\\Desktop\\\\MATERIAL\\\\Python'"
      ]
     },
     "execution_count": 2,
     "metadata": {},
     "output_type": "execute_result"
    }
   ],
   "source": [
    "%pwd"
   ]
  },
  {
   "cell_type": "markdown",
   "id": "f5273973",
   "metadata": {},
   "source": [
    " "
   ]
  },
  {
   "cell_type": "markdown",
   "id": "7001480e",
   "metadata": {},
   "source": [
    "# OS MODULE"
   ]
  },
  {
   "cell_type": "code",
   "execution_count": 1,
   "id": "5f686323",
   "metadata": {},
   "outputs": [],
   "source": [
    "import os"
   ]
  },
  {
   "cell_type": "code",
   "execution_count": 4,
   "id": "1d7cc18b",
   "metadata": {},
   "outputs": [
    {
     "data": {
      "text/plain": [
       "'C:\\\\Users\\\\Kerem\\\\Desktop\\\\MATERIAL\\\\Python'"
      ]
     },
     "execution_count": 4,
     "metadata": {},
     "output_type": "execute_result"
    }
   ],
   "source": [
    "os.getcwd()"
   ]
  },
  {
   "cell_type": "markdown",
   "id": "1e30c031",
   "metadata": {},
   "source": [
    "----------------------------------------------------------------------"
   ]
  },
  {
   "cell_type": "code",
   "execution_count": 5,
   "id": "c36f3724",
   "metadata": {},
   "outputs": [
    {
     "data": {
      "text/plain": [
       "['.ipynb_checkpoints', 'ALL.ipynb', 'Matplotlib.ipynb']"
      ]
     },
     "execution_count": 5,
     "metadata": {},
     "output_type": "execute_result"
    }
   ],
   "source": [
    "os.listdir()"
   ]
  },
  {
   "cell_type": "code",
   "execution_count": 6,
   "id": "e0015e17",
   "metadata": {},
   "outputs": [
    {
     "data": {
      "text/plain": [
       "['All Users', 'Default', 'Default User', 'desktop.ini', 'Kerem', 'Public']"
      ]
     },
     "execution_count": 6,
     "metadata": {},
     "output_type": "execute_result"
    }
   ],
   "source": [
    "os.listdir(\"C:\\\\Users\")"
   ]
  },
  {
   "cell_type": "markdown",
   "id": "de524b06",
   "metadata": {},
   "source": [
    "----------------------------------------------------------------------"
   ]
  },
  {
   "cell_type": "code",
   "execution_count": 7,
   "id": "98098e3e",
   "metadata": {},
   "outputs": [],
   "source": [
    "os.chdir(\"C:\\\\Users\")"
   ]
  },
  {
   "cell_type": "code",
   "execution_count": 8,
   "id": "575e0fda",
   "metadata": {},
   "outputs": [
    {
     "data": {
      "text/plain": [
       "['All Users', 'Default', 'Default User', 'desktop.ini', 'Kerem', 'Public']"
      ]
     },
     "execution_count": 8,
     "metadata": {},
     "output_type": "execute_result"
    }
   ],
   "source": [
    "os.listdir()"
   ]
  },
  {
   "cell_type": "markdown",
   "id": "9aa44bb2",
   "metadata": {},
   "source": [
    "----------------------------------------------------------------------"
   ]
  },
  {
   "cell_type": "code",
   "execution_count": 11,
   "id": "069fc5a2",
   "metadata": {},
   "outputs": [],
   "source": [
    "os.chdir(\"C:\\\\Users\\\\Kerem\\\\Desktop\\\\MATERIAL\\\\Python\")"
   ]
  },
  {
   "cell_type": "code",
   "execution_count": 14,
   "id": "8b184603",
   "metadata": {},
   "outputs": [
    {
     "name": "stdout",
     "output_type": "stream",
     "text": [
      "Dosya Adı: .ipynb_checkpoints\n",
      "Dosya Adı: ALL.ipynb\n",
      "Dosya Adı: Matplotlib.ipynb\n"
     ]
    }
   ],
   "source": [
    "dosyalar = os.listdir()\n",
    "\n",
    "for eleman in dosyalar:\n",
    "    print(\"Dosya Adı: {}\".format(eleman))"
   ]
  },
  {
   "cell_type": "markdown",
   "id": "f0c40416",
   "metadata": {},
   "source": [
    "----------------------------------------------------------------------"
   ]
  },
  {
   "cell_type": "code",
   "execution_count": 3,
   "id": "f37aa9dd",
   "metadata": {},
   "outputs": [],
   "source": [
    "os.mkdir(\"C:\\\\Users\\\\Kerem\\\\Desktop\\\\MATERIAL\\\\Python\\\\deneme_klasörü\")"
   ]
  },
  {
   "cell_type": "code",
   "execution_count": 4,
   "id": "c5934c45",
   "metadata": {},
   "outputs": [
    {
     "data": {
      "text/plain": [
       "['.ipynb_checkpoints', 'ALL.ipynb', 'deneme_klasörü', 'Matplotlib.ipynb']"
      ]
     },
     "execution_count": 4,
     "metadata": {},
     "output_type": "execute_result"
    }
   ],
   "source": [
    "os.listdir()"
   ]
  },
  {
   "cell_type": "code",
   "execution_count": 5,
   "id": "84bc50b7",
   "metadata": {},
   "outputs": [],
   "source": [
    "os.rmdir(\"C:\\\\Users\\\\Kerem\\\\Desktop\\\\MATERIAL\\\\Python\\\\deneme_klasörü\")"
   ]
  },
  {
   "cell_type": "markdown",
   "id": "d801c830",
   "metadata": {},
   "source": [
    "----------------------------------------------------------------------"
   ]
  },
  {
   "cell_type": "raw",
   "id": "94b8db70",
   "metadata": {},
   "source": [
    "## os.O_RDONLY - Read Only\n",
    "## os.O_WRONLY - Write Only\n",
    "## os.O_RDWR   - Read and Write\n",
    "## os.O_CREAT  - Create"
   ]
  },
  {
   "cell_type": "code",
   "execution_count": 7,
   "id": "13e52a6e",
   "metadata": {},
   "outputs": [],
   "source": [
    "yeni_dosya = os.open(\"new.txt\", os.O_RDWR|os.O_CREAT)\n",
    "os.write(yeni_dosya, \"Merhaba Dünya!\".encode())\n",
    "os.close(yeni_dosya)"
   ]
  },
  {
   "cell_type": "code",
   "execution_count": 12,
   "id": "5c98c3b7",
   "metadata": {},
   "outputs": [
    {
     "name": "stdout",
     "output_type": "stream",
     "text": [
      "b'Merha'\n"
     ]
    }
   ],
   "source": [
    "yeni_dosya = os.open(\"new.txt\", os.O_RDONLY)\n",
    "istatistik = os.stat(yeni_dosya)\n",
    "\n",
    "içerik = os.read(yeni_dosya, 5)\n",
    "print(içerik)\n",
    "os.close(yeni_dosya)"
   ]
  },
  {
   "cell_type": "code",
   "execution_count": 11,
   "id": "80f3046e",
   "metadata": {},
   "outputs": [
    {
     "name": "stdout",
     "output_type": "stream",
     "text": [
      "os.stat_result(st_mode=33206, st_ino=5910974511211669, st_dev=1758491223, st_nlink=1, st_uid=0, st_gid=0, st_size=15, st_atime=1644680628, st_mtime=1644679905, st_ctime=1644679838)\n"
     ]
    }
   ],
   "source": [
    "yeni_dosya = os.open(\"new.txt\", os.O_RDONLY)\n",
    "istatistik = os.stat(yeni_dosya)\n",
    "\n",
    "print(istatistik)\n",
    "os.close(yeni_dosya)"
   ]
  },
  {
   "cell_type": "code",
   "execution_count": 15,
   "id": "7e178601",
   "metadata": {},
   "outputs": [
    {
     "name": "stdout",
     "output_type": "stream",
     "text": [
      "Merhaba Dünya!\n"
     ]
    }
   ],
   "source": [
    "yeni_dosya = os.open(\"new.txt\", os.O_RDONLY)\n",
    "uzunluk = os.stat(yeni_dosya).st_size\n",
    "\n",
    "içerik = os.read(yeni_dosya, uzunluk)\n",
    "print(içerik.decode())\n",
    "os.close(yeni_dosya)"
   ]
  },
  {
   "cell_type": "code",
   "execution_count": 2,
   "id": "94b0d9c3",
   "metadata": {},
   "outputs": [],
   "source": [
    "os.unlink(\"new.txt\")"
   ]
  },
  {
   "cell_type": "code",
   "execution_count": 17,
   "id": "040dba13",
   "metadata": {},
   "outputs": [],
   "source": [
    "os.mkdir(\"deneme_yeni\")"
   ]
  },
  {
   "cell_type": "code",
   "execution_count": 18,
   "id": "aabf9b21",
   "metadata": {},
   "outputs": [
    {
     "data": {
      "text/plain": [
       "['.ipynb_checkpoints',\n",
       " 'ALL.ipynb',\n",
       " 'deneme_yeni',\n",
       " 'Matplotlib.ipynb',\n",
       " 'new.txt']"
      ]
     },
     "execution_count": 18,
     "metadata": {},
     "output_type": "execute_result"
    }
   ],
   "source": [
    "os.listdir()"
   ]
  },
  {
   "cell_type": "code",
   "execution_count": 19,
   "id": "983ff446",
   "metadata": {},
   "outputs": [],
   "source": [
    "os.rename(\"deneme_yeni\", \"deneme_eski\")"
   ]
  },
  {
   "cell_type": "code",
   "execution_count": 20,
   "id": "fa3f4081",
   "metadata": {},
   "outputs": [
    {
     "data": {
      "text/plain": [
       "['.ipynb_checkpoints',\n",
       " 'ALL.ipynb',\n",
       " 'deneme_eski',\n",
       " 'Matplotlib.ipynb',\n",
       " 'new.txt']"
      ]
     },
     "execution_count": 20,
     "metadata": {},
     "output_type": "execute_result"
    }
   ],
   "source": [
    "os.listdir()"
   ]
  },
  {
   "cell_type": "markdown",
   "id": "f621f6f7",
   "metadata": {},
   "source": [
    " "
   ]
  },
  {
   "cell_type": "markdown",
   "id": "162fac05",
   "metadata": {},
   "source": [
    "# REGULAR EXPRESSION (REGEX) 1"
   ]
  },
  {
   "cell_type": "code",
   "execution_count": 2,
   "id": "9536cb23",
   "metadata": {},
   "outputs": [
    {
     "data": {
      "text/plain": [
       "<re.Match object; span=(4, 7), match='ata'>"
      ]
     },
     "execution_count": 2,
     "metadata": {},
     "output_type": "execute_result"
    }
   ],
   "source": [
    "import re\n",
    "\n",
    "cümle = \"Ali ata bak\"\n",
    "\n",
    "pattern = \"ata\"\n",
    "\n",
    "re.search(pattern, cümle)"
   ]
  },
  {
   "cell_type": "code",
   "execution_count": 2,
   "id": "cac178bf",
   "metadata": {},
   "outputs": [
    {
     "data": {
      "text/plain": [
       "(4, 7)"
      ]
     },
     "execution_count": 2,
     "metadata": {},
     "output_type": "execute_result"
    }
   ],
   "source": [
    "durum = re.search(pattern, cümle)\n",
    "\n",
    "durum.span()"
   ]
  },
  {
   "cell_type": "code",
   "execution_count": 3,
   "id": "21bf2370",
   "metadata": {},
   "outputs": [
    {
     "data": {
      "text/plain": [
       "['__class__',\n",
       " '__class_getitem__',\n",
       " '__copy__',\n",
       " '__deepcopy__',\n",
       " '__delattr__',\n",
       " '__dir__',\n",
       " '__doc__',\n",
       " '__eq__',\n",
       " '__format__',\n",
       " '__ge__',\n",
       " '__getattribute__',\n",
       " '__getitem__',\n",
       " '__gt__',\n",
       " '__hash__',\n",
       " '__init__',\n",
       " '__init_subclass__',\n",
       " '__le__',\n",
       " '__lt__',\n",
       " '__ne__',\n",
       " '__new__',\n",
       " '__reduce__',\n",
       " '__reduce_ex__',\n",
       " '__repr__',\n",
       " '__setattr__',\n",
       " '__sizeof__',\n",
       " '__str__',\n",
       " '__subclasshook__',\n",
       " 'end',\n",
       " 'endpos',\n",
       " 'expand',\n",
       " 'group',\n",
       " 'groupdict',\n",
       " 'groups',\n",
       " 'lastgroup',\n",
       " 'lastindex',\n",
       " 'pos',\n",
       " 're',\n",
       " 'regs',\n",
       " 'span',\n",
       " 'start',\n",
       " 'string']"
      ]
     },
     "execution_count": 3,
     "metadata": {},
     "output_type": "execute_result"
    }
   ],
   "source": [
    "dir(durum)"
   ]
  },
  {
   "cell_type": "code",
   "execution_count": 4,
   "id": "d31ba26b",
   "metadata": {},
   "outputs": [
    {
     "data": {
      "text/plain": [
       "4"
      ]
     },
     "execution_count": 4,
     "metadata": {},
     "output_type": "execute_result"
    }
   ],
   "source": [
    "durum.start()"
   ]
  },
  {
   "cell_type": "code",
   "execution_count": 5,
   "id": "47811bd6",
   "metadata": {},
   "outputs": [
    {
     "data": {
      "text/plain": [
       "7"
      ]
     },
     "execution_count": 5,
     "metadata": {},
     "output_type": "execute_result"
    }
   ],
   "source": [
    "durum.end()"
   ]
  },
  {
   "cell_type": "code",
   "execution_count": 6,
   "id": "6b6608f3",
   "metadata": {},
   "outputs": [
    {
     "data": {
      "text/plain": [
       "'ata'"
      ]
     },
     "execution_count": 6,
     "metadata": {},
     "output_type": "execute_result"
    }
   ],
   "source": [
    "durum.group()"
   ]
  },
  {
   "cell_type": "markdown",
   "id": "5e7b9413",
   "metadata": {},
   "source": [
    "----------------------------------------------------------------------"
   ]
  },
  {
   "cell_type": "code",
   "execution_count": 7,
   "id": "3d3d9c2b",
   "metadata": {},
   "outputs": [
    {
     "name": "stdout",
     "output_type": "stream",
     "text": [
      "sa\n",
      "sa\n"
     ]
    }
   ],
   "source": [
    "cümle2 = \"Sarı salkım salıncak\"\n",
    "\n",
    "pattern2 = \"sa\"\n",
    "\n",
    "for eşleşme in re.findall(pattern2, cümle2):\n",
    "    print(eşleşme)"
   ]
  },
  {
   "cell_type": "code",
   "execution_count": 8,
   "id": "594d9a25",
   "metadata": {},
   "outputs": [
    {
     "name": "stdout",
     "output_type": "stream",
     "text": [
      "(5, 7) sa\n",
      "(12, 14) sa\n"
     ]
    }
   ],
   "source": [
    "for eşleşme in re.finditer(pattern2, cümle2):\n",
    "    print(eşleşme.span(), eşleşme.group())"
   ]
  },
  {
   "cell_type": "markdown",
   "id": "437b4793",
   "metadata": {},
   "source": [
    "----------------------------------------------------------------------"
   ]
  },
  {
   "cell_type": "raw",
   "id": "99e30080",
   "metadata": {},
   "source": [
    "\\d     rakam              tv85           tv\\d\\d\n",
    "\\w     karakter           RSD-T          RSD\\wT\n",
    "\\s     boşluk             Ping Pong      Ping\\sPong\n",
    "\n",
    "\\D     rakam değil        tv             \\D\\D\n",
    "\\W     karakter değil     RSD-T          \\W\\W\\W-\\W\n",
    "\\S     boşluk değil       Ping Pong      \\S\\S\\S\\S S\\S\\S\\S\\"
   ]
  },
  {
   "cell_type": "code",
   "execution_count": 10,
   "id": "326dc63a",
   "metadata": {},
   "outputs": [
    {
     "data": {
      "text/plain": [
       "<re.Match object; span=(15, 19), match='tv85'>"
      ]
     },
     "execution_count": 10,
     "metadata": {},
     "output_type": "execute_result"
    }
   ],
   "source": [
    "örnek = \"en güzel kanal tv85\"\n",
    "pattern = r\"tv\\d\\d\"\n",
    "\n",
    "re.search(pattern, örnek)"
   ]
  },
  {
   "cell_type": "code",
   "execution_count": 11,
   "id": "31972a16",
   "metadata": {},
   "outputs": [
    {
     "data": {
      "text/plain": [
       "<re.Match object; span=(14, 26), match='0555-5555555'>"
      ]
     },
     "execution_count": 11,
     "metadata": {},
     "output_type": "execute_result"
    }
   ],
   "source": [
    "örnek = \"Benim numaram 0555-5555555\"\n",
    "\n",
    "pattern = r\"\\d\\d\\d\\d-\\d\\d\\d\\d\\d\\d\\d\"\n",
    "\n",
    "re.search(pattern, örnek)"
   ]
  },
  {
   "cell_type": "markdown",
   "id": "3983ec65",
   "metadata": {},
   "source": [
    " "
   ]
  },
  {
   "cell_type": "markdown",
   "id": "66ff4b89",
   "metadata": {},
   "source": [
    "# REGULAR EXPRESSION (REGEX) 2"
   ]
  },
  {
   "cell_type": "raw",
   "id": "da0b1698",
   "metadata": {},
   "source": [
    "\\d     rakam              tv85           tv\\d\\d\n",
    "\\w     karakter           RSD-T          RSD\\wT\n",
    "\\s     boşluk             Ping Pong      Ping\\sPong\n",
    "\n",
    "\\D     rakam değil        tv             \\D\\D\n",
    "\\W     karakter değil     RSD-T          \\W\\W\\W-\\W\n",
    "\\S     boşluk değil       Ping Pong      \\S\\S\\S\\S S\\S\\S\\S\\"
   ]
  },
  {
   "cell_type": "raw",
   "id": "147cae9c",
   "metadata": {},
   "source": [
    "{5}      adet             aaaaa          \\w{5}\n",
    "{3,4}    veya             abc            \\w{3,4}\n",
    "{2,}     en az            198721321      \\d{2,}\n",
    "*        0 ya da fazla    x              \\w*\n",
    "+        1 ya da fazla    Ahmet          \\w+\\d+\n",
    "?        1 ya da hiç      Mura           Murat?"
   ]
  },
  {
   "cell_type": "code",
   "execution_count": 3,
   "id": "f486afc9",
   "metadata": {},
   "outputs": [
    {
     "data": {
      "text/plain": [
       "<re.Match object; span=(14, 26), match='0555-5555555'>"
      ]
     },
     "execution_count": 3,
     "metadata": {},
     "output_type": "execute_result"
    }
   ],
   "source": [
    "örnek = \"Benim numaram 0555-5555555\"\n",
    "\n",
    "pattern = r\"\\d{3,4}-\\d{7}\"\n",
    "\n",
    "re.search(pattern, örnek)"
   ]
  },
  {
   "cell_type": "code",
   "execution_count": 5,
   "id": "ccd33780",
   "metadata": {},
   "outputs": [
    {
     "name": "stdout",
     "output_type": "stream",
     "text": [
      " güzel (2, 8)\n",
      " kanal (8, 14)\n"
     ]
    }
   ],
   "source": [
    "örnek = \"en güzel kanal tv85\"\n",
    "pattern = r\"\\s\\w{5,}\"\n",
    "\n",
    "for eşleşme in re.finditer(pattern, örnek):\n",
    "    print(eşleşme.group(), eşleşme.span())"
   ]
  },
  {
   "cell_type": "code",
   "execution_count": 6,
   "id": "058b8d35",
   "metadata": {},
   "outputs": [
    {
     "name": "stdout",
     "output_type": "stream",
     "text": [
      " (0, 0)\n",
      " (1, 1)\n",
      " (2, 2)\n",
      " (3, 3)\n",
      " (4, 4)\n",
      " (5, 5)\n",
      " (6, 6)\n",
      " (7, 7)\n",
      " (8, 8)\n",
      " (9, 9)\n",
      " (10, 10)\n",
      " (11, 11)\n",
      " (12, 12)\n",
      " (13, 13)\n",
      " (14, 14)\n",
      " (15, 15)\n",
      " (16, 16)\n",
      "8 (17, 18)\n",
      "5 (18, 19)\n",
      " (19, 19)\n"
     ]
    }
   ],
   "source": [
    "örnek = \"en güzel kanal tv85\"\n",
    "pattern = r\"\\d?\"\n",
    "\n",
    "for eşleşme in re.finditer(pattern, örnek):\n",
    "    print(eşleşme.group(), eşleşme.span())"
   ]
  },
  {
   "cell_type": "code",
   "execution_count": 7,
   "id": "2baeb1d3",
   "metadata": {},
   "outputs": [
    {
     "name": "stdout",
     "output_type": "stream",
     "text": [
      "85 (17, 19)\n"
     ]
    }
   ],
   "source": [
    "örnek = \"en güzel kanal tv85\"\n",
    "pattern = r\"\\d+\"\n",
    "\n",
    "for eşleşme in re.finditer(pattern, örnek):\n",
    "    print(eşleşme.group(), eşleşme.span())"
   ]
  },
  {
   "cell_type": "code",
   "execution_count": 9,
   "id": "23dfe247",
   "metadata": {},
   "outputs": [
    {
     "name": "stdout",
     "output_type": "stream",
     "text": [
      "tv85 (15, 19)\n"
     ]
    }
   ],
   "source": [
    "örnek = \"en güzel kanal tv85\"\n",
    "pattern = r\"\\w+\\d+\"\n",
    "\n",
    "for eşleşme in re.finditer(pattern, örnek):\n",
    "    print(eşleşme.group(), eşleşme.span())"
   ]
  },
  {
   "cell_type": "code",
   "execution_count": 27,
   "id": "388d8ab1",
   "metadata": {},
   "outputs": [
    {
     "data": {
      "text/plain": [
       "(<re.Match object; span=(0, 12), match='0555-5555555'>, '0555')"
      ]
     },
     "execution_count": 27,
     "metadata": {},
     "output_type": "execute_result"
    }
   ],
   "source": [
    "## GSM Operatörleri:\n",
    "## 54..            => Vodafone\n",
    "## 501,505,506     => Avea\n",
    "## 53..            => Turkcell\n",
    "\n",
    "\n",
    "def gsm_operator_bul1(tel_no):\n",
    "    pattern = r\"(\\d{3,4})-(\\d{7})\"\n",
    "    eşleşme = re.search(pattern, tel_no1)\n",
    "    return eşleşme, eşleşme.groups()[0]\n",
    "\n",
    "\n",
    "\n",
    "tel_no1 = \"0555-5555555\"\n",
    "gsm_operator_bul1(tel_no)"
   ]
  },
  {
   "cell_type": "code",
   "execution_count": 29,
   "id": "fcf10e1d",
   "metadata": {},
   "outputs": [
    {
     "data": {
      "text/plain": [
       "'Patern bulunamadı'"
      ]
     },
     "execution_count": 29,
     "metadata": {},
     "output_type": "execute_result"
    }
   ],
   "source": [
    "def gsm_operator_bul2(tel_no):\n",
    "    pattern = r\"(\\d{3,4})-(\\d{7})\"\n",
    "    eşleşme = re.search(pattern, tel_no2)\n",
    "    \n",
    "    if eşleşme:\n",
    "        return eşleşme.groups()[0]\n",
    "    \n",
    "    else:\n",
    "        return \"Patern bulunamadı\"\n",
    "    \n",
    "    \n",
    "tel_no2 = \"abcd-5555555\"\n",
    "gsm_operator_bul2(tel_no2)"
   ]
  },
  {
   "cell_type": "code",
   "execution_count": 46,
   "id": "7d885a49",
   "metadata": {},
   "outputs": [
    {
     "name": "stdout",
     "output_type": "stream",
     "text": [
      "Oparator No: 535\n"
     ]
    },
    {
     "data": {
      "text/plain": [
       "'Turkcell'"
      ]
     },
     "execution_count": 46,
     "metadata": {},
     "output_type": "execute_result"
    }
   ],
   "source": [
    "def gsm_operator_bul3(tel_no):\n",
    "    pattern = r\"(\\d{3})-(\\d{7})\"\n",
    "    eşleşme = re.search(pattern, tel_no3)\n",
    "    \n",
    "    if eşleşme:\n",
    "        gsm_kod = eşleşme.groups()[0]\n",
    "        print (\"Oparator No: {}\".format(gsm_kod))\n",
    "        \n",
    "        if gsm_kod.startswith(\"54\"):\n",
    "            return \"Vodafone\"\n",
    "        \n",
    "        elif gsm_kod.startswith(\"501\") or gsm_kod.startswith(\"505\") or gsm_kod.startswith(\"506\"):\n",
    "            return \"Avea\"\n",
    "        \n",
    "        elif gsm_kod.startswith(\"53\"):\n",
    "            return \"Turkcell\"\n",
    "        \n",
    "        else:\n",
    "            return \"Şebeke bulunamadı\"\n",
    "    \n",
    "    else:\n",
    "        return \"Patern bulunamadı\"\n",
    "    \n",
    "    \n",
    "tel_no3 = \"535-5555555\"\n",
    "gsm_operator_bul3(tel_no3)"
   ]
  },
  {
   "cell_type": "markdown",
   "id": "f21aff4a",
   "metadata": {},
   "source": [
    " "
   ]
  },
  {
   "cell_type": "markdown",
   "id": "640a43ba",
   "metadata": {},
   "source": [
    "# REGULAR EXPRESSION (REGEX) 3"
   ]
  },
  {
   "cell_type": "raw",
   "id": "cdf235d2",
   "metadata": {},
   "source": [
    "\\d       rakam              tv85           tv\\d\\d\n",
    "\\w       karakter           RSD-T          RSD\\wT\n",
    "\\s       boşluk             Ping Pong      Ping\\sPong\n",
    "\n",
    "\\D       rakam değil        tv             \\D\\D\n",
    "\\W       karakter değil     RSD-T          \\W\\W\\W-\\W\n",
    "\\S       boşluk değil       Ping Pong      \\S\\S\\S\\S S\\S\\S\\S\\"
   ]
  },
  {
   "cell_type": "raw",
   "id": "a9c5eb42",
   "metadata": {},
   "source": [
    "{5}      adet               aaaaa          \\w{5}\n",
    "{3,4}    veya               abc            \\w{3,4}\n",
    "{2,}     en az              198721321      \\d{2,}\n",
    "*        0 ya da fazla      x              \\w*\n",
    "+        1 ya da fazla      Ahmet          \\w+\\d+\n",
    "?        1 ya da hiç        Mura           Murat?"
   ]
  },
  {
   "cell_type": "raw",
   "id": "06bf0e66",
   "metadata": {},
   "source": [
    "|        veya               slm           selam|slm\n",
    "^        başlar             Ahmet         ^\\w+\n",
    "$        biter              base42        \\d$\n",
    ".        herhangi           abcdef        .*\n",
    "\\        esc                (not)         \\(\\w{3}\\)"
   ]
  },
  {
   "cell_type": "markdown",
   "id": "3c579880",
   "metadata": {},
   "source": [
    "----------------------------------------------------------------------"
   ]
  },
  {
   "cell_type": "code",
   "execution_count": 11,
   "id": "3fb05f3e",
   "metadata": {},
   "outputs": [],
   "source": [
    "import re\n",
    "\n",
    "def mesaj_hissi_bul(mesaj):\n",
    "    hisler = []\n",
    "    \n",
    "    pozitif_pattern = r\"(Naber|merhaba|selam|aşk|sevgi|dost|kardeş|:\\)+)\"\n",
    "    negatif_pattern = r\"(lan|aptal|abv|yeter|bırak)\"\n",
    "    heyecanlı_pattern = r\"!|[!|?]{2,}$\"\n",
    "    sakin_pattern = r\"^[Tabi+|Hayhay]\"\n",
    "    emin_pattern = r\"[K|k]esin|[T|t]abi|[E|e]lbet\"\n",
    "    kararsız_pattern = r\"[B|b]elki|[S|s]anırım\"\n",
    "    \n",
    "    if re.search(pozitif_pattern, mesaj):\n",
    "        hisler.append(\"Pozitif\")\n",
    "    if re.search(negatif_pattern, mesaj):\n",
    "        hisler.append(\"Negatif\")\n",
    "    if re.search(heyecanlı_pattern, mesaj):\n",
    "        hisler.append(\"Heyacanlı\")\n",
    "    if re.search(sakin_pattern, mesaj):\n",
    "        hisler.append(\"Sakin\")\n",
    "    if re.search(emin_pattern, mesaj):\n",
    "        hisler.append(\"Emin\")\n",
    "    if re.search(kararsız_pattern, mesaj):\n",
    "        hisler.append(\"Kararsız\")\n",
    "        \n",
    "    return hisler"
   ]
  },
  {
   "cell_type": "code",
   "execution_count": 25,
   "id": "b263abf1",
   "metadata": {},
   "outputs": [
    {
     "name": "stdout",
     "output_type": "stream",
     "text": [
      "Naber abi? \n",
      "\t\t\t\t ['Pozitif']\n",
      "Tabii ki buyrun \n",
      "\t\t\t\t ['Sakin', 'Emin']\n",
      "Saçmalamayı bırak artık! \n",
      "\t\t\t\t ['Negatif', 'Heyacanlı']\n",
      "Belki yarından da yakın \n",
      "\t\t\t\t ['Kararsız']\n",
      "Elbet birgün \n",
      "\t\t\t\t ['Emin']\n"
     ]
    }
   ],
   "source": [
    "cümle1 = \"Naber abi?\"\n",
    "cümle2 = \"Tabii ki buyrun\"\n",
    "cümle3 = \"Saçmalamayı bırak artık!\"\n",
    "cümle4 = \"Belki yarından da yakın\"\n",
    "cümle5 = \"Elbet birgün\"\n",
    "\n",
    "cümleler = [cümle1, cümle2, cümle3, cümle4, cümle5]\n",
    "\n",
    "for cümle in cümleler:\n",
    "    print(cümle, \"\\n\\t\\t\\t\\t\", mesaj_hissi_bul(cümle))"
   ]
  },
  {
   "cell_type": "markdown",
   "id": "711748f4",
   "metadata": {},
   "source": [
    " "
   ]
  },
  {
   "cell_type": "markdown",
   "id": "4e839516",
   "metadata": {},
   "source": [
    "# RANDOM & MATH"
   ]
  },
  {
   "cell_type": "code",
   "execution_count": 9,
   "id": "a4b61339",
   "metadata": {},
   "outputs": [
    {
     "name": "stdout",
     "output_type": "stream",
     "text": [
      "0.23851259708487071\n",
      "6.694412039046749\n",
      "8\n"
     ]
    }
   ],
   "source": [
    "import random\n",
    "\n",
    "print(random.random())\n",
    "print(random.uniform(5,10))\n",
    "print(random.randint(5,10))"
   ]
  },
  {
   "cell_type": "code",
   "execution_count": 44,
   "id": "5ba31f4d",
   "metadata": {},
   "outputs": [
    {
     "name": "stdout",
     "output_type": "stream",
     "text": [
      "9\n",
      "[9, 8, 7]\n",
      "[7, 1, 5, 9, 2, 0, 6, 4, 8, 3]\n"
     ]
    }
   ],
   "source": [
    "liste = list(range(0,10))\n",
    "\n",
    "print(random.choice(liste))\n",
    "\n",
    "print(random.sample(liste, k=3))\n",
    "\n",
    "random.shuffle(liste)\n",
    "print(liste)"
   ]
  },
  {
   "cell_type": "markdown",
   "id": "490cdfde",
   "metadata": {},
   "source": [
    "----------------------------------------------------------------------"
   ]
  },
  {
   "cell_type": "code",
   "execution_count": 51,
   "id": "8d312bda",
   "metadata": {},
   "outputs": [
    {
     "name": "stdout",
     "output_type": "stream",
     "text": [
      "8\n",
      "7\n",
      "24\n",
      "16.0\n"
     ]
    }
   ],
   "source": [
    "import math\n",
    "\n",
    "print(math.ceil(7.8))\n",
    "print(math.floor(7.8))\n",
    "print(math.factorial(4))\n",
    "print(math.pow(4,2))"
   ]
  },
  {
   "cell_type": "markdown",
   "id": "8264bf8e",
   "metadata": {},
   "source": [
    " "
   ]
  },
  {
   "cell_type": "markdown",
   "id": "d667cdae",
   "metadata": {},
   "source": [
    "# COLLECTIONS (COUNTER)"
   ]
  },
  {
   "cell_type": "code",
   "execution_count": 63,
   "id": "d394c4fb",
   "metadata": {},
   "outputs": [
    {
     "name": "stdout",
     "output_type": "stream",
     "text": [
      "[[4, 0, 9, 1], [1, 2, 0, 7], [1, 8, 9, 5], [0, 1, 3, 7]]\n",
      "[4, 0, 9, 1, 1, 2, 0, 7, 1, 8, 9, 5, 0, 1, 3, 7]\n",
      "1. eleman: \t 4\n",
      "2. eleman: \t 0\n",
      "3. eleman: \t 9\n",
      "4. eleman: \t 1\n",
      "5. eleman: \t 1\n",
      "6. eleman: \t 2\n",
      "7. eleman: \t 0\n",
      "8. eleman: \t 7\n",
      "9. eleman: \t 1\n",
      "10. eleman: \t 8\n",
      "11. eleman: \t 9\n",
      "12. eleman: \t 5\n",
      "13. eleman: \t 0\n",
      "14. eleman: \t 1\n",
      "15. eleman: \t 3\n",
      "16. eleman: \t 7\n"
     ]
    },
    {
     "data": {
      "text/plain": [
       "Counter({4: 1, 0: 3, 9: 2, 1: 4, 2: 1, 7: 2, 8: 1, 5: 1, 3: 1})"
      ]
     },
     "execution_count": 63,
     "metadata": {},
     "output_type": "execute_result"
    }
   ],
   "source": [
    "from collections import Counter\n",
    "import random\n",
    "\n",
    "liste1 = random.sample(range(0,10), k=4)\n",
    "liste2 = random.sample(range(0,10), k=4)\n",
    "liste3 = random.sample(range(0,10), k=4)\n",
    "liste4 = random.sample(range(0,10), k=4)\n",
    "\n",
    "listeler = [liste1, liste2, liste3, liste4]\n",
    "listeler_toplam = liste1 + liste2 + liste3 + liste4\n",
    "\n",
    "\n",
    "\n",
    "print(listeler)\n",
    "print(listeler_toplam)\n",
    "\n",
    "for index,liste in enumerate(listeler_toplam):\n",
    "    print(\"{}. eleman: \\t {}\".format(index+1, liste))\n",
    "    \n",
    "Counter(listeler_toplam)"
   ]
  },
  {
   "cell_type": "code",
   "execution_count": 64,
   "id": "869dbaa1",
   "metadata": {},
   "outputs": [
    {
     "data": {
      "text/plain": [
       "Counter({'a': 2, 's': 3, 'd': 2, 'f': 1, 'g': 1})"
      ]
     },
     "execution_count": 64,
     "metadata": {},
     "output_type": "execute_result"
    }
   ],
   "source": [
    "Counter(\"asdfgsdas\")"
   ]
  },
  {
   "cell_type": "code",
   "execution_count": 86,
   "id": "a5426788",
   "metadata": {},
   "outputs": [
    {
     "name": "stdout",
     "output_type": "stream",
     "text": [
      "\n",
      "Yine bana gel\n",
      "Yana yana yine beni sev\n",
      "Yine bana gel\n",
      "Yana yana yine beni sev\n",
      "\n",
      "Counter({'n': 12, ' ': 12, 'a': 12, 'e': 10, 'i': 6, '\\n': 4, 'Y': 4, 'b': 4, 'y': 4, 'g': 2, 'l': 2, 's': 2, 'v': 2})\n",
      "\n",
      "['Yine', 'bana', 'gel', 'Yana', 'yana', 'yine', 'beni', 'sev', 'Yine', 'bana', 'gel', 'Yana', 'yana', 'yine', 'beni', 'sev']\n",
      "\n",
      "Counter({'Yine': 2, 'bana': 2, 'gel': 2, 'Yana': 2, 'yana': 2, 'yine': 2, 'beni': 2, 'sev': 2})\n",
      "\n",
      "['yine', 'bana', 'gel', 'yana', 'yana', 'yine', 'beni', 'sev', 'yine', 'bana', 'gel', 'yana', 'yana', 'yine', 'beni', 'sev']\n",
      "\n",
      "Counter({'yine': 4, 'yana': 4, 'bana': 2, 'gel': 2, 'beni': 2, 'sev': 2})\n",
      "\n",
      "[('yine', 4), ('yana', 4), ('bana', 2)]\n"
     ]
    }
   ],
   "source": [
    "şarkı = \"\"\"\n",
    "Yine bana gel\n",
    "Yana yana yine beni sev\n",
    "Yine bana gel\n",
    "Yana yana yine beni sev\"\"\"\n",
    "\n",
    "print(şarkı)\n",
    "print(\"\")\n",
    "\n",
    "print(Counter(şarkı))\n",
    "print(\"\")\n",
    "\n",
    "print(şarkı.split())\n",
    "print(\"\")\n",
    "\n",
    "print(Counter(şarkı.split()))\n",
    "print(\"\")\n",
    "\n",
    "print(şarkı.lower().split())\n",
    "print(\"\")\n",
    "\n",
    "print(Counter(şarkı.lower().split()))\n",
    "print(\"\")\n",
    "\n",
    "print(Counter(şarkı.lower().split()).most_common(3))"
   ]
  },
  {
   "cell_type": "markdown",
   "id": "f03c3b37",
   "metadata": {},
   "source": [
    " "
   ]
  },
  {
   "cell_type": "markdown",
   "id": "ccbba1a3",
   "metadata": {},
   "source": [
    "# DATETIME & TIME"
   ]
  },
  {
   "cell_type": "code",
   "execution_count": 88,
   "id": "68a739d3",
   "metadata": {},
   "outputs": [],
   "source": [
    "import datetime\n",
    "from datetime import date"
   ]
  },
  {
   "cell_type": "code",
   "execution_count": 89,
   "id": "f785d5af",
   "metadata": {},
   "outputs": [
    {
     "data": {
      "text/plain": [
       "datetime.date(2022, 3, 6)"
      ]
     },
     "execution_count": 89,
     "metadata": {},
     "output_type": "execute_result"
    }
   ],
   "source": [
    "bugün = date.today()\n",
    "bugün"
   ]
  },
  {
   "cell_type": "code",
   "execution_count": 90,
   "id": "fd4e4163",
   "metadata": {},
   "outputs": [
    {
     "data": {
      "text/plain": [
       "datetime.date(2020, 10, 5)"
      ]
     },
     "execution_count": 90,
     "metadata": {},
     "output_type": "execute_result"
    }
   ],
   "source": [
    "dün = date(2020,10,5)\n",
    "dün"
   ]
  },
  {
   "cell_type": "code",
   "execution_count": 93,
   "id": "f388149d",
   "metadata": {},
   "outputs": [
    {
     "data": {
      "text/plain": [
       "datetime.date(2022, 3, 7)"
      ]
     },
     "execution_count": 93,
     "metadata": {},
     "output_type": "execute_result"
    }
   ],
   "source": [
    "yarın = bugün + datetime.timedelta(days = 1)\n",
    "yarın"
   ]
  },
  {
   "cell_type": "code",
   "execution_count": 91,
   "id": "8b649e9f",
   "metadata": {},
   "outputs": [
    {
     "data": {
      "text/plain": [
       "datetime.timedelta(days=517)"
      ]
     },
     "execution_count": 91,
     "metadata": {},
     "output_type": "execute_result"
    }
   ],
   "source": [
    "bugün - dün"
   ]
  },
  {
   "cell_type": "code",
   "execution_count": 94,
   "id": "ca6ebbb9",
   "metadata": {},
   "outputs": [
    {
     "data": {
      "text/plain": [
       "517"
      ]
     },
     "execution_count": 94,
     "metadata": {},
     "output_type": "execute_result"
    }
   ],
   "source": [
    "zamanaralığı = bugün - dün\n",
    "zamanaralığı.days"
   ]
  },
  {
   "cell_type": "code",
   "execution_count": 95,
   "id": "56dea2b7",
   "metadata": {},
   "outputs": [
    {
     "data": {
      "text/plain": [
       "True"
      ]
     },
     "execution_count": 95,
     "metadata": {},
     "output_type": "execute_result"
    }
   ],
   "source": [
    "dün < bugün"
   ]
  },
  {
   "cell_type": "code",
   "execution_count": 98,
   "id": "1155ea75",
   "metadata": {},
   "outputs": [
    {
     "name": "stdout",
     "output_type": "stream",
     "text": [
      "2022\n",
      "3\n",
      "6\n"
     ]
    }
   ],
   "source": [
    "print(bugün.year)\n",
    "print(bugün.month)\n",
    "print(bugün.day)"
   ]
  },
  {
   "cell_type": "code",
   "execution_count": 100,
   "id": "bf94c3f6",
   "metadata": {},
   "outputs": [
    {
     "data": {
      "text/plain": [
       "3"
      ]
     },
     "execution_count": 100,
     "metadata": {},
     "output_type": "execute_result"
    }
   ],
   "source": [
    "bugün.__getattribute__(\"month\")"
   ]
  },
  {
   "cell_type": "code",
   "execution_count": 113,
   "id": "807f6ecb",
   "metadata": {},
   "outputs": [
    {
     "name": "stdout",
     "output_type": "stream",
     "text": [
      "datetime.IsoCalendarDate(year=2022, week=9, weekday=7)\n",
      "6\n",
      "Sun Mar  6 00:00:00 2022\n"
     ]
    }
   ],
   "source": [
    "print(date.isocalendar(bugün))\n",
    "print(date.weekday(bugün))\n",
    "print(date.ctime(bugün))"
   ]
  },
  {
   "cell_type": "markdown",
   "id": "573d287b",
   "metadata": {},
   "source": [
    "----------------------------------------------------------------------"
   ]
  },
  {
   "cell_type": "markdown",
   "id": "e1d1c8be",
   "metadata": {},
   "source": [
    "TIME"
   ]
  },
  {
   "cell_type": "code",
   "execution_count": 116,
   "id": "098d2ddc",
   "metadata": {},
   "outputs": [
    {
     "name": "stdout",
     "output_type": "stream",
     "text": [
      "14:25:05\n"
     ]
    }
   ],
   "source": [
    "from datetime import time\n",
    "\n",
    "zaman = time(14,25,5)\n",
    "print(zaman)"
   ]
  },
  {
   "cell_type": "code",
   "execution_count": 118,
   "id": "f295728c",
   "metadata": {},
   "outputs": [
    {
     "name": "stdout",
     "output_type": "stream",
     "text": [
      "14\n",
      "25\n",
      "5\n"
     ]
    }
   ],
   "source": [
    "print(zaman.hour)\n",
    "print(zaman.minute)\n",
    "print(zaman.second)"
   ]
  },
  {
   "cell_type": "markdown",
   "id": "28c3391e",
   "metadata": {},
   "source": [
    "----------------------------------------------------------------------"
   ]
  },
  {
   "cell_type": "markdown",
   "id": "e314dd53",
   "metadata": {},
   "source": [
    "DATETIME.DATETIME"
   ]
  },
  {
   "cell_type": "code",
   "execution_count": 123,
   "id": "4301667a",
   "metadata": {},
   "outputs": [
    {
     "name": "stdout",
     "output_type": "stream",
     "text": [
      "2022-03-06 15:47:50\n",
      "6\n",
      "15\n",
      "50\n"
     ]
    }
   ],
   "source": [
    "dt = datetime.datetime(2022,3,6,15,47,50)\n",
    "print(dt)\n",
    "\n",
    "print(dt.day)\n",
    "print(dt.hour)\n",
    "print(dt.second)"
   ]
  },
  {
   "cell_type": "markdown",
   "id": "4ab86e18",
   "metadata": {},
   "source": [
    "----------------------------------------------------------------------"
   ]
  },
  {
   "cell_type": "markdown",
   "id": "484f21bc",
   "metadata": {},
   "source": [
    "TIME"
   ]
  },
  {
   "cell_type": "code",
   "execution_count": 2,
   "id": "3b6b3ea6",
   "metadata": {},
   "outputs": [
    {
     "data": {
      "text/plain": [
       "1646583094.3427038"
      ]
     },
     "execution_count": 2,
     "metadata": {},
     "output_type": "execute_result"
    }
   ],
   "source": [
    "import time\n",
    "\n",
    "time.time()"
   ]
  },
  {
   "cell_type": "code",
   "execution_count": 4,
   "id": "72d3f4a9",
   "metadata": {},
   "outputs": [
    {
     "name": "stdout",
     "output_type": "stream",
     "text": [
      "Başlama Zamanı:\t 1646583164.0385845\n",
      "Bitiş Zamanı:\t 1646583169.048654\n",
      "Çalışma Süresi:\t 5\n"
     ]
    }
   ],
   "source": [
    "başlangıç_zamanı = time.time()\n",
    "print(\"Başlama Zamanı:\\t {}\".format(başlangıç_zamanı))\n",
    "time.sleep(5)\n",
    "\n",
    "bitiş_zamanı = time.time()\n",
    "print(\"Bitiş Zamanı:\\t {}\".format(bitiş_zamanı))\n",
    "print(\"Çalışma Süresi:\\t {}\".format(round(bitiş_zamanı - başlangıç_zamanı)))"
   ]
  },
  {
   "cell_type": "markdown",
   "id": "d05f3b4d",
   "metadata": {},
   "source": [
    " "
   ]
  },
  {
   "cell_type": "markdown",
   "id": "0ac50970",
   "metadata": {},
   "source": [
    "# DECORATOR"
   ]
  },
  {
   "cell_type": "code",
   "execution_count": 2,
   "id": "19a0957d",
   "metadata": {},
   "outputs": [],
   "source": [
    "def deneme():\n",
    "    print(\"abc\")"
   ]
  },
  {
   "cell_type": "code",
   "execution_count": 3,
   "id": "ef4e1fe2",
   "metadata": {},
   "outputs": [
    {
     "name": "stdout",
     "output_type": "stream",
     "text": [
      "abc\n"
     ]
    }
   ],
   "source": [
    "deneme()"
   ]
  },
  {
   "cell_type": "code",
   "execution_count": 4,
   "id": "7a4b3560",
   "metadata": {},
   "outputs": [
    {
     "name": "stdout",
     "output_type": "stream",
     "text": [
      "abc\n"
     ]
    }
   ],
   "source": [
    "f = deneme\n",
    "\n",
    "f()"
   ]
  },
  {
   "cell_type": "markdown",
   "id": "13316722",
   "metadata": {},
   "source": [
    " "
   ]
  },
  {
   "cell_type": "code",
   "execution_count": 13,
   "id": "720bb06b",
   "metadata": {},
   "outputs": [],
   "source": [
    "def deneme():\n",
    "    print(\"fonksiyon çalışıyor\")\n",
    "    \n",
    "    def test():\n",
    "        return \"test fonksiyonu çalışıyor\"\n",
    "    \n",
    "    print(test())"
   ]
  },
  {
   "cell_type": "code",
   "execution_count": 14,
   "id": "0ad3863c",
   "metadata": {},
   "outputs": [
    {
     "name": "stdout",
     "output_type": "stream",
     "text": [
      "fonksiyon çalışıyor\n",
      "test fonksiyonu çalışıyor\n"
     ]
    }
   ],
   "source": [
    "deneme()"
   ]
  },
  {
   "cell_type": "markdown",
   "id": "2bdf469b",
   "metadata": {},
   "source": [
    " "
   ]
  },
  {
   "cell_type": "code",
   "execution_count": 14,
   "id": "75e4bf6c",
   "metadata": {},
   "outputs": [],
   "source": [
    "def bir():\n",
    "    return \"Birinci çalışıyor\""
   ]
  },
  {
   "cell_type": "code",
   "execution_count": 15,
   "id": "a322c4b2",
   "metadata": {},
   "outputs": [],
   "source": [
    "def iki(x):\n",
    "    print(\"İkinci çalışıyor\")\n",
    "    \n",
    "    print(x())"
   ]
  },
  {
   "cell_type": "code",
   "execution_count": 16,
   "id": "1455a7f2",
   "metadata": {},
   "outputs": [
    {
     "name": "stdout",
     "output_type": "stream",
     "text": [
      "İkinci çalışıyor\n",
      "Birinci çalışıyor\n"
     ]
    }
   ],
   "source": [
    "iki(bir)"
   ]
  },
  {
   "cell_type": "markdown",
   "id": "25d27fba",
   "metadata": {},
   "source": [
    "----------------------------------------------------------------------"
   ]
  },
  {
   "cell_type": "code",
   "execution_count": 22,
   "id": "a69e19f7",
   "metadata": {},
   "outputs": [],
   "source": [
    "def deco(f):\n",
    "    \n",
    "    def wrapper():\n",
    "        print(\"Başlangç\")\n",
    "        \n",
    "        f()\n",
    "        \n",
    "        print(\"Bitiş\")\n",
    "        \n",
    "    return wrapper"
   ]
  },
  {
   "cell_type": "code",
   "execution_count": 23,
   "id": "ea7d96e3",
   "metadata": {},
   "outputs": [],
   "source": [
    "def yazdır():\n",
    "    print(\"Yazdır\")"
   ]
  },
  {
   "cell_type": "code",
   "execution_count": 24,
   "id": "9b800221",
   "metadata": {},
   "outputs": [],
   "source": [
    "a = deco(yazdır)"
   ]
  },
  {
   "cell_type": "code",
   "execution_count": 25,
   "id": "3607fb47",
   "metadata": {},
   "outputs": [
    {
     "name": "stdout",
     "output_type": "stream",
     "text": [
      "Başlangç\n",
      "Yazdır\n",
      "Bitiş\n"
     ]
    }
   ],
   "source": [
    "a()"
   ]
  },
  {
   "cell_type": "code",
   "execution_count": 30,
   "id": "51152626",
   "metadata": {},
   "outputs": [],
   "source": [
    "def yazdır2():\n",
    "    print(\"Yazdır2\")\n",
    "\n",
    "\n",
    "b = deco(yazdır2)"
   ]
  },
  {
   "cell_type": "code",
   "execution_count": 31,
   "id": "212d7558",
   "metadata": {},
   "outputs": [
    {
     "name": "stdout",
     "output_type": "stream",
     "text": [
      "Başlangç\n",
      "Yazdır2\n",
      "Bitiş\n"
     ]
    }
   ],
   "source": [
    "b()"
   ]
  },
  {
   "cell_type": "markdown",
   "id": "de7a80d0",
   "metadata": {},
   "source": [
    " "
   ]
  },
  {
   "cell_type": "code",
   "execution_count": 32,
   "id": "ff01ecfe",
   "metadata": {},
   "outputs": [],
   "source": [
    "@deco\n",
    "def yazdır3():\n",
    "    print(\"Yazdır3\")"
   ]
  },
  {
   "cell_type": "code",
   "execution_count": 33,
   "id": "9cbaadb0",
   "metadata": {},
   "outputs": [
    {
     "name": "stdout",
     "output_type": "stream",
     "text": [
      "Başlangç\n",
      "Yazdır3\n",
      "Bitiş\n"
     ]
    }
   ],
   "source": [
    "yazdır3()"
   ]
  },
  {
   "cell_type": "markdown",
   "id": "b7bddea7",
   "metadata": {},
   "source": [
    "----------------------------------------------------------------------"
   ]
  },
  {
   "cell_type": "markdown",
   "id": "a052aede",
   "metadata": {},
   "source": [
    "Argüman Alan Fonksiyonlarda Decorator"
   ]
  },
  {
   "cell_type": "code",
   "execution_count": 36,
   "id": "77eb6dde",
   "metadata": {},
   "outputs": [],
   "source": [
    "def deco(f):\n",
    "    \n",
    "    def wrapper(*args):\n",
    "        print(\"Başlangç\")\n",
    "        \n",
    "        f(*args)\n",
    "        \n",
    "        print(\"Bitiş\")\n",
    "        \n",
    "    return wrapper"
   ]
  },
  {
   "cell_type": "code",
   "execution_count": 38,
   "id": "a615dd43",
   "metadata": {},
   "outputs": [],
   "source": [
    "@deco\n",
    "def toplama(a,b):\n",
    "    print(a+b)"
   ]
  },
  {
   "cell_type": "code",
   "execution_count": 39,
   "id": "212fed0c",
   "metadata": {},
   "outputs": [
    {
     "name": "stdout",
     "output_type": "stream",
     "text": [
      "Başlangç\n",
      "7\n",
      "Bitiş\n"
     ]
    }
   ],
   "source": [
    "toplama(3,4)"
   ]
  },
  {
   "cell_type": "markdown",
   "id": "ae247de9",
   "metadata": {},
   "source": [
    "----------------------------------------------------------------------"
   ]
  },
  {
   "cell_type": "markdown",
   "id": "059cdc50",
   "metadata": {},
   "source": [
    "Argüman Alan Decorator"
   ]
  },
  {
   "cell_type": "code",
   "execution_count": 43,
   "id": "4fd188c3",
   "metadata": {},
   "outputs": [],
   "source": [
    "def deco(msg1, msg2):\n",
    "    \n",
    "    def ara_katman(f):\n",
    "        \n",
    "        def wrapper(*args):\n",
    "            print(msg1)\n",
    "\n",
    "            f(*args)\n",
    "\n",
    "            print(msg2)\n",
    "\n",
    "        return wrapper\n",
    "    return ara_katman"
   ]
  },
  {
   "cell_type": "code",
   "execution_count": 44,
   "id": "ea089f80",
   "metadata": {},
   "outputs": [],
   "source": [
    "@deco(\"İlk\", \"Son\")\n",
    "def toplama(a,b):\n",
    "    print(a+b)"
   ]
  },
  {
   "cell_type": "code",
   "execution_count": 46,
   "id": "bfb3ae84",
   "metadata": {},
   "outputs": [
    {
     "name": "stdout",
     "output_type": "stream",
     "text": [
      "İlk\n",
      "11\n",
      "Son\n"
     ]
    }
   ],
   "source": [
    "toplama(4,7)"
   ]
  },
  {
   "cell_type": "markdown",
   "id": "f76b186c",
   "metadata": {},
   "source": [
    "----------------------------------------------------------------------"
   ]
  },
  {
   "cell_type": "markdown",
   "id": "31605d38",
   "metadata": {},
   "source": [
    "Süre Ölçümlemesi"
   ]
  },
  {
   "cell_type": "code",
   "execution_count": null,
   "id": "4fa923ca",
   "metadata": {},
   "outputs": [],
   "source": [
    "import time\n",
    "\n",
    "\n",
    "başlangıç = time.time()\n",
    "\n",
    "f()\n",
    "\n",
    "bitiş = time.time()\n",
    "\n",
    "bitiş - başlangıç"
   ]
  },
  {
   "cell_type": "code",
   "execution_count": 58,
   "id": "9a63b386",
   "metadata": {},
   "outputs": [],
   "source": [
    "def süre_ölç(f):\n",
    "    \n",
    "    def wrapper(*args):\n",
    "        \n",
    "        başlangıç = time.time()\n",
    "        print(\"Başlangıç Zamanı:\\t{}\".format(başlangıç))\n",
    "        \n",
    "        f(*args)\n",
    "        \n",
    "        bitiş = time.time()\n",
    "        print(\"Bitiş Zamanı:\\t{}\".format(bitiş))\n",
    "        print(\"Geçen Zaman:\\t{}\".format(bitiş-başlangıç))\n",
    "        \n",
    "    return wrapper"
   ]
  },
  {
   "cell_type": "code",
   "execution_count": 59,
   "id": "95afb2d5",
   "metadata": {},
   "outputs": [],
   "source": [
    "@süre_ölç\n",
    "def faktoryel(sayı):\n",
    "    \n",
    "    toplam = 1\n",
    "    \n",
    "    while sayı>1:\n",
    "        toplam = toplam * sayı\n",
    "        sayı = sayı - 1\n",
    "        \n",
    "    print(toplam)"
   ]
  },
  {
   "cell_type": "code",
   "execution_count": 61,
   "id": "69316bad",
   "metadata": {},
   "outputs": [
    {
     "name": "stdout",
     "output_type": "stream",
     "text": [
      "Başlangıç Zamanı:\t1646740366.2784028\n",
      "402387260077093773543702433923003985719374864210714632543799910429938512398629020592044208486969404800479988610197196058631666872994808558901323829669944590997424504087073759918823627727188732519779505950995276120874975462497043601418278094646496291056393887437886487337119181045825783647849977012476632889835955735432513185323958463075557409114262417474349347553428646576611667797396668820291207379143853719588249808126867838374559731746136085379534524221586593201928090878297308431392844403281231558611036976801357304216168747609675871348312025478589320767169132448426236131412508780208000261683151027341827977704784635868170164365024153691398281264810213092761244896359928705114964975419909342221566832572080821333186116811553615836546984046708975602900950537616475847728421889679646244945160765353408198901385442487984959953319101723355556602139450399736280750137837615307127761926849034352625200015888535147331611702103968175921510907788019393178114194545257223865541461062892187960223838971476088506276862967146674697562911234082439208160153780889893964518263243671616762179168909779911903754031274622289988005195444414282012187361745992642956581746628302955570299024324153181617210465832036786906117260158783520751516284225540265170483304226143974286933061690897968482590125458327168226458066526769958652682272807075781391858178889652208164348344825993266043367660176999612831860788386150279465955131156552036093988180612138558600301435694527224206344631797460594682573103790084024432438465657245014402821885252470935190620929023136493273497565513958720559654228749774011413346962715422845862377387538230483865688976461927383814900140767310446640259899490222221765904339901886018566526485061799702356193897017860040811889729918311021171229845901641921068884387121855646124960798722908519296819372388642614839657382291123125024186649353143970137428531926649875337218940694281434118520158014123344828015051399694290153483077644569099073152433278288269864602789864321139083506217095002597389863554277196742822248757586765752344220207573630569498825087968928162753848863396909959826280956121450994871701244516461260379029309120889086942028510640182154399457156805941872748998094254742173582401063677404595741785160829230135358081840096996372524230560855903700624271243416909004153690105933983835777939410970027753472000000000000000000000000000000000000000000000000000000000000000000000000000000000000000000000000000000000000000000000000000000000000000000000000000000000000000000000000000000000000000000000000000000000000000000000000000000000000000000000000000000000\n",
      "Bitiş Zamanı:\t1646740366.281437\n",
      "Geçen Zaman:\t0.0030341148376464844\n"
     ]
    }
   ],
   "source": [
    "faktoryel(1000)"
   ]
  },
  {
   "cell_type": "markdown",
   "id": "b450abf8",
   "metadata": {},
   "source": [
    " "
   ]
  },
  {
   "cell_type": "markdown",
   "id": "17c1d3c2",
   "metadata": {},
   "source": [
    "# REQUEST (GET)"
   ]
  },
  {
   "cell_type": "code",
   "execution_count": 9,
   "id": "4bba50dc",
   "metadata": {},
   "outputs": [],
   "source": [
    "import requests\n",
    "\n",
    "polis_güçleri = \"https://data.police.uk/api/forces\"\n",
    "\n",
    "response = requests.get(polis_güçleri)"
   ]
  },
  {
   "cell_type": "code",
   "execution_count": 4,
   "id": "ee546f5e",
   "metadata": {},
   "outputs": [
    {
     "name": "stdout",
     "output_type": "stream",
     "text": [
      "Help on Response in module requests.models object:\n",
      "\n",
      "class Response(builtins.object)\n",
      " |  The :class:`Response <Response>` object, which contains a\n",
      " |  server's response to an HTTP request.\n",
      " |  \n",
      " |  Methods defined here:\n",
      " |  \n",
      " |  __bool__(self)\n",
      " |      Returns True if :attr:`status_code` is less than 400.\n",
      " |      \n",
      " |      This attribute checks if the status code of the response is between\n",
      " |      400 and 600 to see if there was a client error or a server error. If\n",
      " |      the status code, is between 200 and 400, this will return True. This\n",
      " |      is **not** a check to see if the response code is ``200 OK``.\n",
      " |  \n",
      " |  __enter__(self)\n",
      " |  \n",
      " |  __exit__(self, *args)\n",
      " |  \n",
      " |  __getstate__(self)\n",
      " |  \n",
      " |  __init__(self)\n",
      " |      Initialize self.  See help(type(self)) for accurate signature.\n",
      " |  \n",
      " |  __iter__(self)\n",
      " |      Allows you to use a response as an iterator.\n",
      " |  \n",
      " |  __nonzero__(self)\n",
      " |      Returns True if :attr:`status_code` is less than 400.\n",
      " |      \n",
      " |      This attribute checks if the status code of the response is between\n",
      " |      400 and 600 to see if there was a client error or a server error. If\n",
      " |      the status code, is between 200 and 400, this will return True. This\n",
      " |      is **not** a check to see if the response code is ``200 OK``.\n",
      " |  \n",
      " |  __repr__(self)\n",
      " |      Return repr(self).\n",
      " |  \n",
      " |  __setstate__(self, state)\n",
      " |  \n",
      " |  close(self)\n",
      " |      Releases the connection back to the pool. Once this method has been\n",
      " |      called the underlying ``raw`` object must not be accessed again.\n",
      " |      \n",
      " |      *Note: Should not normally need to be called explicitly.*\n",
      " |  \n",
      " |  iter_content(self, chunk_size=1, decode_unicode=False)\n",
      " |      Iterates over the response data.  When stream=True is set on the\n",
      " |      request, this avoids reading the content at once into memory for\n",
      " |      large responses.  The chunk size is the number of bytes it should\n",
      " |      read into memory.  This is not necessarily the length of each item\n",
      " |      returned as decoding can take place.\n",
      " |      \n",
      " |      chunk_size must be of type int or None. A value of None will\n",
      " |      function differently depending on the value of `stream`.\n",
      " |      stream=True will read data as it arrives in whatever size the\n",
      " |      chunks are received. If stream=False, data is returned as\n",
      " |      a single chunk.\n",
      " |      \n",
      " |      If decode_unicode is True, content will be decoded using the best\n",
      " |      available encoding based on the response.\n",
      " |  \n",
      " |  iter_lines(self, chunk_size=512, decode_unicode=False, delimiter=None)\n",
      " |      Iterates over the response data, one line at a time.  When\n",
      " |      stream=True is set on the request, this avoids reading the\n",
      " |      content at once into memory for large responses.\n",
      " |      \n",
      " |      .. note:: This method is not reentrant safe.\n",
      " |  \n",
      " |  json(self, **kwargs)\n",
      " |      Returns the json-encoded content of a response, if any.\n",
      " |      \n",
      " |      :param \\*\\*kwargs: Optional arguments that ``json.loads`` takes.\n",
      " |      :raises simplejson.JSONDecodeError: If the response body does not\n",
      " |          contain valid json and simplejson is installed.\n",
      " |      :raises json.JSONDecodeError: If the response body does not contain\n",
      " |          valid json and simplejson is not installed on Python 3.\n",
      " |      :raises ValueError: If the response body does not contain valid\n",
      " |          json and simplejson is not installed on Python 2.\n",
      " |  \n",
      " |  raise_for_status(self)\n",
      " |      Raises :class:`HTTPError`, if one occurred.\n",
      " |  \n",
      " |  ----------------------------------------------------------------------\n",
      " |  Readonly properties defined here:\n",
      " |  \n",
      " |  apparent_encoding\n",
      " |      The apparent encoding, provided by the charset_normalizer or chardet libraries.\n",
      " |  \n",
      " |  content\n",
      " |      Content of the response, in bytes.\n",
      " |  \n",
      " |  is_permanent_redirect\n",
      " |      True if this Response one of the permanent versions of redirect.\n",
      " |  \n",
      " |  is_redirect\n",
      " |      True if this Response is a well-formed HTTP redirect that could have\n",
      " |      been processed automatically (by :meth:`Session.resolve_redirects`).\n",
      " |  \n",
      " |  links\n",
      " |      Returns the parsed header links of the response, if any.\n",
      " |  \n",
      " |  next\n",
      " |      Returns a PreparedRequest for the next request in a redirect chain, if there is one.\n",
      " |  \n",
      " |  ok\n",
      " |      Returns True if :attr:`status_code` is less than 400, False if not.\n",
      " |      \n",
      " |      This attribute checks if the status code of the response is between\n",
      " |      400 and 600 to see if there was a client error or a server error. If\n",
      " |      the status code is between 200 and 400, this will return True. This\n",
      " |      is **not** a check to see if the response code is ``200 OK``.\n",
      " |  \n",
      " |  text\n",
      " |      Content of the response, in unicode.\n",
      " |      \n",
      " |      If Response.encoding is None, encoding will be guessed using\n",
      " |      ``charset_normalizer`` or ``chardet``.\n",
      " |      \n",
      " |      The encoding of the response content is determined based solely on HTTP\n",
      " |      headers, following RFC 2616 to the letter. If you can take advantage of\n",
      " |      non-HTTP knowledge to make a better guess at the encoding, you should\n",
      " |      set ``r.encoding`` appropriately before accessing this property.\n",
      " |  \n",
      " |  ----------------------------------------------------------------------\n",
      " |  Data descriptors defined here:\n",
      " |  \n",
      " |  __dict__\n",
      " |      dictionary for instance variables (if defined)\n",
      " |  \n",
      " |  __weakref__\n",
      " |      list of weak references to the object (if defined)\n",
      " |  \n",
      " |  ----------------------------------------------------------------------\n",
      " |  Data and other attributes defined here:\n",
      " |  \n",
      " |  __attrs__ = ['_content', 'status_code', 'headers', 'url', 'history', '...\n",
      "\n"
     ]
    }
   ],
   "source": [
    "help(response)"
   ]
  },
  {
   "cell_type": "code",
   "execution_count": 5,
   "id": "2c5abca5",
   "metadata": {},
   "outputs": [
    {
     "data": {
      "text/plain": [
       "200"
      ]
     },
     "execution_count": 5,
     "metadata": {},
     "output_type": "execute_result"
    }
   ],
   "source": [
    "response.status_code"
   ]
  },
  {
   "cell_type": "code",
   "execution_count": 6,
   "id": "b3af5413",
   "metadata": {},
   "outputs": [
    {
     "data": {
      "text/plain": [
       "'https://data.police.uk/api/forces'"
      ]
     },
     "execution_count": 6,
     "metadata": {},
     "output_type": "execute_result"
    }
   ],
   "source": [
    "response.url"
   ]
  },
  {
   "cell_type": "code",
   "execution_count": 7,
   "id": "d84625c1",
   "metadata": {},
   "outputs": [
    {
     "data": {
      "text/plain": [
       "'[{\"id\":\"avon-and-somerset\",\"name\":\"Avon and Somerset Constabulary\"},{\"id\":\"bedfordshire\",\"name\":\"Bedfordshire Police\"},{\"id\":\"cambridgeshire\",\"name\":\"Cambridgeshire Constabulary\"},{\"id\":\"cheshire\",\"name\":\"Cheshire Constabulary\"},{\"id\":\"city-of-london\",\"name\":\"City of London Police\"},{\"id\":\"cleveland\",\"name\":\"Cleveland Police\"},{\"id\":\"cumbria\",\"name\":\"Cumbria Constabulary\"},{\"id\":\"derbyshire\",\"name\":\"Derbyshire Constabulary\"},{\"id\":\"devon-and-cornwall\",\"name\":\"Devon & Cornwall Police\"},{\"id\":\"dorset\",\"name\":\"Dorset Police\"},{\"id\":\"durham\",\"name\":\"Durham Constabulary\"},{\"id\":\"dyfed-powys\",\"name\":\"Dyfed-Powys Police\"},{\"id\":\"essex\",\"name\":\"Essex Police\"},{\"id\":\"gloucestershire\",\"name\":\"Gloucestershire Constabulary\"},{\"id\":\"greater-manchester\",\"name\":\"Greater Manchester Police\"},{\"id\":\"gwent\",\"name\":\"Gwent Police\"},{\"id\":\"hampshire\",\"name\":\"Hampshire Constabulary\"},{\"id\":\"hertfordshire\",\"name\":\"Hertfordshire Constabulary\"},{\"id\":\"humberside\",\"name\":\"Humberside Police\"},{\"id\":\"kent\",\"name\":\"Kent Police\"},{\"id\":\"lancashire\",\"name\":\"Lancashire Constabulary\"},{\"id\":\"leicestershire\",\"name\":\"Leicestershire Police\"},{\"id\":\"lincolnshire\",\"name\":\"Lincolnshire Police\"},{\"id\":\"merseyside\",\"name\":\"Merseyside Police\"},{\"id\":\"metropolitan\",\"name\":\"Metropolitan Police Service\"},{\"id\":\"norfolk\",\"name\":\"Norfolk Constabulary\"},{\"id\":\"north-wales\",\"name\":\"North Wales Police\"},{\"id\":\"north-yorkshire\",\"name\":\"North Yorkshire Police\"},{\"id\":\"northamptonshire\",\"name\":\"Northamptonshire Police\"},{\"id\":\"northumbria\",\"name\":\"Northumbria Police\"},{\"id\":\"nottinghamshire\",\"name\":\"Nottinghamshire Police\"},{\"id\":\"northern-ireland\",\"name\":\"Police Service of Northern Ireland\"},{\"id\":\"south-wales\",\"name\":\"South Wales Police\"},{\"id\":\"south-yorkshire\",\"name\":\"South Yorkshire Police\"},{\"id\":\"staffordshire\",\"name\":\"Staffordshire Police\"},{\"id\":\"suffolk\",\"name\":\"Suffolk Constabulary\"},{\"id\":\"surrey\",\"name\":\"Surrey Police\"},{\"id\":\"sussex\",\"name\":\"Sussex Police\"},{\"id\":\"thames-valley\",\"name\":\"Thames Valley Police\"},{\"id\":\"warwickshire\",\"name\":\"Warwickshire Police\"},{\"id\":\"west-mercia\",\"name\":\"West Mercia Police\"},{\"id\":\"west-midlands\",\"name\":\"West Midlands Police\"},{\"id\":\"west-yorkshire\",\"name\":\"West Yorkshire Police\"},{\"id\":\"wiltshire\",\"name\":\"Wiltshire Police\"}]'"
      ]
     },
     "execution_count": 7,
     "metadata": {},
     "output_type": "execute_result"
    }
   ],
   "source": [
    "response.text"
   ]
  },
  {
   "cell_type": "code",
   "execution_count": 8,
   "id": "cde03e01",
   "metadata": {},
   "outputs": [
    {
     "data": {
      "text/plain": [
       "[{'id': 'avon-and-somerset', 'name': 'Avon and Somerset Constabulary'},\n",
       " {'id': 'bedfordshire', 'name': 'Bedfordshire Police'},\n",
       " {'id': 'cambridgeshire', 'name': 'Cambridgeshire Constabulary'},\n",
       " {'id': 'cheshire', 'name': 'Cheshire Constabulary'},\n",
       " {'id': 'city-of-london', 'name': 'City of London Police'},\n",
       " {'id': 'cleveland', 'name': 'Cleveland Police'},\n",
       " {'id': 'cumbria', 'name': 'Cumbria Constabulary'},\n",
       " {'id': 'derbyshire', 'name': 'Derbyshire Constabulary'},\n",
       " {'id': 'devon-and-cornwall', 'name': 'Devon & Cornwall Police'},\n",
       " {'id': 'dorset', 'name': 'Dorset Police'},\n",
       " {'id': 'durham', 'name': 'Durham Constabulary'},\n",
       " {'id': 'dyfed-powys', 'name': 'Dyfed-Powys Police'},\n",
       " {'id': 'essex', 'name': 'Essex Police'},\n",
       " {'id': 'gloucestershire', 'name': 'Gloucestershire Constabulary'},\n",
       " {'id': 'greater-manchester', 'name': 'Greater Manchester Police'},\n",
       " {'id': 'gwent', 'name': 'Gwent Police'},\n",
       " {'id': 'hampshire', 'name': 'Hampshire Constabulary'},\n",
       " {'id': 'hertfordshire', 'name': 'Hertfordshire Constabulary'},\n",
       " {'id': 'humberside', 'name': 'Humberside Police'},\n",
       " {'id': 'kent', 'name': 'Kent Police'},\n",
       " {'id': 'lancashire', 'name': 'Lancashire Constabulary'},\n",
       " {'id': 'leicestershire', 'name': 'Leicestershire Police'},\n",
       " {'id': 'lincolnshire', 'name': 'Lincolnshire Police'},\n",
       " {'id': 'merseyside', 'name': 'Merseyside Police'},\n",
       " {'id': 'metropolitan', 'name': 'Metropolitan Police Service'},\n",
       " {'id': 'norfolk', 'name': 'Norfolk Constabulary'},\n",
       " {'id': 'north-wales', 'name': 'North Wales Police'},\n",
       " {'id': 'north-yorkshire', 'name': 'North Yorkshire Police'},\n",
       " {'id': 'northamptonshire', 'name': 'Northamptonshire Police'},\n",
       " {'id': 'northumbria', 'name': 'Northumbria Police'},\n",
       " {'id': 'nottinghamshire', 'name': 'Nottinghamshire Police'},\n",
       " {'id': 'northern-ireland', 'name': 'Police Service of Northern Ireland'},\n",
       " {'id': 'south-wales', 'name': 'South Wales Police'},\n",
       " {'id': 'south-yorkshire', 'name': 'South Yorkshire Police'},\n",
       " {'id': 'staffordshire', 'name': 'Staffordshire Police'},\n",
       " {'id': 'suffolk', 'name': 'Suffolk Constabulary'},\n",
       " {'id': 'surrey', 'name': 'Surrey Police'},\n",
       " {'id': 'sussex', 'name': 'Sussex Police'},\n",
       " {'id': 'thames-valley', 'name': 'Thames Valley Police'},\n",
       " {'id': 'warwickshire', 'name': 'Warwickshire Police'},\n",
       " {'id': 'west-mercia', 'name': 'West Mercia Police'},\n",
       " {'id': 'west-midlands', 'name': 'West Midlands Police'},\n",
       " {'id': 'west-yorkshire', 'name': 'West Yorkshire Police'},\n",
       " {'id': 'wiltshire', 'name': 'Wiltshire Police'}]"
      ]
     },
     "execution_count": 8,
     "metadata": {},
     "output_type": "execute_result"
    }
   ],
   "source": [
    "response.json()"
   ]
  },
  {
   "cell_type": "markdown",
   "id": "07ae9e51",
   "metadata": {},
   "source": [
    "----------------------------------------------------------------------"
   ]
  },
  {
   "cell_type": "code",
   "execution_count": 21,
   "id": "4cb57a0f",
   "metadata": {},
   "outputs": [],
   "source": [
    "#https://data.police.uk/api/crime-categories?date=2011-08\n",
    "\n",
    "suç_kategorileri = \"https://data.police.uk/api/crime-categories\"\n",
    "\n",
    "payload = {\"date\" : \"2022-01\"}\n",
    "\n",
    "response = requests.get(suç_kategorileri, params=payload)"
   ]
  },
  {
   "cell_type": "code",
   "execution_count": 11,
   "id": "ee08e9d8",
   "metadata": {},
   "outputs": [
    {
     "data": {
      "text/plain": [
       "200"
      ]
     },
     "execution_count": 11,
     "metadata": {},
     "output_type": "execute_result"
    }
   ],
   "source": [
    "response.status_code"
   ]
  },
  {
   "cell_type": "code",
   "execution_count": 12,
   "id": "09298af9",
   "metadata": {},
   "outputs": [
    {
     "data": {
      "text/plain": [
       "'https://data.police.uk/api/crime-categories?date=2022-02'"
      ]
     },
     "execution_count": 12,
     "metadata": {},
     "output_type": "execute_result"
    }
   ],
   "source": [
    "response.url"
   ]
  },
  {
   "cell_type": "code",
   "execution_count": 22,
   "id": "a580d0fc",
   "metadata": {},
   "outputs": [
    {
     "data": {
      "text/plain": [
       "[{'url': 'all-crime', 'name': 'All crime'},\n",
       " {'url': 'anti-social-behaviour', 'name': 'Anti-social behaviour'},\n",
       " {'url': 'bicycle-theft', 'name': 'Bicycle theft'},\n",
       " {'url': 'burglary', 'name': 'Burglary'},\n",
       " {'url': 'criminal-damage-arson', 'name': 'Criminal damage and arson'},\n",
       " {'url': 'drugs', 'name': 'Drugs'},\n",
       " {'url': 'other-theft', 'name': 'Other theft'},\n",
       " {'url': 'possession-of-weapons', 'name': 'Possession of weapons'},\n",
       " {'url': 'public-order', 'name': 'Public order'},\n",
       " {'url': 'robbery', 'name': 'Robbery'},\n",
       " {'url': 'shoplifting', 'name': 'Shoplifting'},\n",
       " {'url': 'theft-from-the-person', 'name': 'Theft from the person'},\n",
       " {'url': 'vehicle-crime', 'name': 'Vehicle crime'},\n",
       " {'url': 'violent-crime', 'name': 'Violence and sexual offences'},\n",
       " {'url': 'other-crime', 'name': 'Other crime'}]"
      ]
     },
     "execution_count": 22,
     "metadata": {},
     "output_type": "execute_result"
    }
   ],
   "source": [
    "response.json()"
   ]
  },
  {
   "cell_type": "markdown",
   "id": "7fd07e5b",
   "metadata": {},
   "source": [
    "----------------------------------------------------------------------"
   ]
  },
  {
   "cell_type": "code",
   "execution_count": 18,
   "id": "101fd32f",
   "metadata": {},
   "outputs": [
    {
     "data": {
      "text/plain": [
       "[{'category': 'anti-social-behaviour',\n",
       "  'location_type': None,\n",
       "  'location': None,\n",
       "  'context': '',\n",
       "  'outcome_status': None,\n",
       "  'persistent_id': '',\n",
       "  'id': 99102440,\n",
       "  'location_subtype': '',\n",
       "  'month': '2022-01'},\n",
       " {'category': 'anti-social-behaviour',\n",
       "  'location_type': None,\n",
       "  'location': None,\n",
       "  'context': '',\n",
       "  'outcome_status': None,\n",
       "  'persistent_id': '',\n",
       "  'id': 99102062,\n",
       "  'location_subtype': '',\n",
       "  'month': '2022-01'},\n",
       " {'category': 'anti-social-behaviour',\n",
       "  'location_type': None,\n",
       "  'location': None,\n",
       "  'context': '',\n",
       "  'outcome_status': None,\n",
       "  'persistent_id': '',\n",
       "  'id': 99102335,\n",
       "  'location_subtype': '',\n",
       "  'month': '2022-01'},\n",
       " {'category': 'anti-social-behaviour',\n",
       "  'location_type': None,\n",
       "  'location': None,\n",
       "  'context': '',\n",
       "  'outcome_status': None,\n",
       "  'persistent_id': '',\n",
       "  'id': 99102336,\n",
       "  'location_subtype': '',\n",
       "  'month': '2022-01'},\n",
       " {'category': 'anti-social-behaviour',\n",
       "  'location_type': None,\n",
       "  'location': None,\n",
       "  'context': '',\n",
       "  'outcome_status': None,\n",
       "  'persistent_id': '',\n",
       "  'id': 99102269,\n",
       "  'location_subtype': '',\n",
       "  'month': '2022-01'},\n",
       " {'category': 'anti-social-behaviour',\n",
       "  'location_type': None,\n",
       "  'location': None,\n",
       "  'context': '',\n",
       "  'outcome_status': None,\n",
       "  'persistent_id': '',\n",
       "  'id': 99101747,\n",
       "  'location_subtype': '',\n",
       "  'month': '2022-01'},\n",
       " {'category': 'anti-social-behaviour',\n",
       "  'location_type': None,\n",
       "  'location': None,\n",
       "  'context': '',\n",
       "  'outcome_status': None,\n",
       "  'persistent_id': '',\n",
       "  'id': 99102264,\n",
       "  'location_subtype': '',\n",
       "  'month': '2022-01'},\n",
       " {'category': 'anti-social-behaviour',\n",
       "  'location_type': None,\n",
       "  'location': None,\n",
       "  'context': '',\n",
       "  'outcome_status': None,\n",
       "  'persistent_id': '',\n",
       "  'id': 99102562,\n",
       "  'location_subtype': '',\n",
       "  'month': '2022-01'},\n",
       " {'category': 'burglary',\n",
       "  'location_type': None,\n",
       "  'location': None,\n",
       "  'context': '',\n",
       "  'outcome_status': {'category': 'Under investigation', 'date': '2022-01'},\n",
       "  'persistent_id': 'a475e6ac31291b6d961f445b96fb946f21485f8d6b088187283871a0010e2401',\n",
       "  'id': 99102189,\n",
       "  'location_subtype': '',\n",
       "  'month': '2022-01'},\n",
       " {'category': 'drugs',\n",
       "  'location_type': None,\n",
       "  'location': None,\n",
       "  'context': '',\n",
       "  'outcome_status': {'category': 'Offender given a drugs possession warning',\n",
       "   'date': '2022-01'},\n",
       "  'persistent_id': '7bfc867bea48d39dee4f2053a9d2e9dc62206d2f596989baea53e46e5f4a3912',\n",
       "  'id': 99102522,\n",
       "  'location_subtype': '',\n",
       "  'month': '2022-01'},\n",
       " {'category': 'drugs',\n",
       "  'location_type': None,\n",
       "  'location': None,\n",
       "  'context': '',\n",
       "  'outcome_status': {'category': 'Under investigation', 'date': '2022-01'},\n",
       "  'persistent_id': '7e61cd6d95ecb2fc3bfe243c298f44f70d5cb37082561d1d45d1d3b4fb24180e',\n",
       "  'id': 99102263,\n",
       "  'location_subtype': '',\n",
       "  'month': '2022-01'},\n",
       " {'category': 'drugs',\n",
       "  'location_type': None,\n",
       "  'location': None,\n",
       "  'context': '',\n",
       "  'outcome_status': {'category': 'Under investigation', 'date': '2022-01'},\n",
       "  'persistent_id': '344657e2c4d81fb4088122eb27b166d5331e495f5aa6db8df3962774b09475d9',\n",
       "  'id': 99102186,\n",
       "  'location_subtype': '',\n",
       "  'month': '2022-01'},\n",
       " {'category': 'drugs',\n",
       "  'location_type': None,\n",
       "  'location': None,\n",
       "  'context': '',\n",
       "  'outcome_status': {'category': 'Under investigation', 'date': '2022-01'},\n",
       "  'persistent_id': 'fee6250032b8eab95b0f44a7b704e5aa9eea29bc87ca9a9e2989b9452a589137',\n",
       "  'id': 99102521,\n",
       "  'location_subtype': '',\n",
       "  'month': '2022-01'},\n",
       " {'category': 'drugs',\n",
       "  'location_type': None,\n",
       "  'location': None,\n",
       "  'context': '',\n",
       "  'outcome_status': {'category': 'Unable to prosecute suspect',\n",
       "   'date': '2022-01'},\n",
       "  'persistent_id': '2b8a4aeb120435cffe8856d6245a860bc6329db384e539a36d226ae2f3bae753',\n",
       "  'id': 99102125,\n",
       "  'location_subtype': '',\n",
       "  'month': '2022-01'},\n",
       " {'category': 'drugs',\n",
       "  'location_type': None,\n",
       "  'location': None,\n",
       "  'context': '',\n",
       "  'outcome_status': {'category': 'Offender given a drugs possession warning',\n",
       "   'date': '2022-01'},\n",
       "  'persistent_id': 'f83559afd11feeb634ac3b56d733e40bdc9feb86d887f086af7940df02f6b144',\n",
       "  'id': 99102266,\n",
       "  'location_subtype': '',\n",
       "  'month': '2022-01'},\n",
       " {'category': 'drugs',\n",
       "  'location_type': None,\n",
       "  'location': None,\n",
       "  'context': '',\n",
       "  'outcome_status': {'category': 'Offender given a drugs possession warning',\n",
       "   'date': '2022-01'},\n",
       "  'persistent_id': '175a3a51b5a844145c94c583983a4260ea4b4f9f681456f77e82b08d33a3fb2c',\n",
       "  'id': 99102268,\n",
       "  'location_subtype': '',\n",
       "  'month': '2022-01'},\n",
       " {'category': 'possession-of-weapons',\n",
       "  'location_type': None,\n",
       "  'location': None,\n",
       "  'context': '',\n",
       "  'outcome_status': {'category': 'Under investigation', 'date': '2022-01'},\n",
       "  'persistent_id': 'f5557cfb90f4534df29e8a3ba4effb2f6a6914b27e492be75662a80232522489',\n",
       "  'id': 99102014,\n",
       "  'location_subtype': '',\n",
       "  'month': '2022-01'},\n",
       " {'category': 'public-order',\n",
       "  'location_type': None,\n",
       "  'location': None,\n",
       "  'context': '',\n",
       "  'outcome_status': {'category': 'Awaiting court outcome', 'date': '2022-01'},\n",
       "  'persistent_id': '4d870b687931562314887d8bdab0fee3c4dfb6bc00666dd81ee67ee8b4c45245',\n",
       "  'id': 99102439,\n",
       "  'location_subtype': '',\n",
       "  'month': '2022-01'},\n",
       " {'category': 'public-order',\n",
       "  'location_type': None,\n",
       "  'location': None,\n",
       "  'context': '',\n",
       "  'outcome_status': {'category': 'Under investigation', 'date': '2022-01'},\n",
       "  'persistent_id': '11912f3d871e5495840878c30220faaf3c53a0ad74bbace8785fc4270bb20e47',\n",
       "  'id': 99102441,\n",
       "  'location_subtype': '',\n",
       "  'month': '2022-01'},\n",
       " {'category': 'shoplifting',\n",
       "  'location_type': None,\n",
       "  'location': None,\n",
       "  'context': '',\n",
       "  'outcome_status': {'category': 'Local resolution', 'date': '2022-01'},\n",
       "  'persistent_id': 'df6ec45576a3c35e5f1b53a15980f8416ccd67d757a0d1a01590c341633da7e0',\n",
       "  'id': 99101845,\n",
       "  'location_subtype': '',\n",
       "  'month': '2022-01'},\n",
       " {'category': 'shoplifting',\n",
       "  'location_type': None,\n",
       "  'location': None,\n",
       "  'context': '',\n",
       "  'outcome_status': {'category': 'Under investigation', 'date': '2022-01'},\n",
       "  'persistent_id': 'b1f5eccb344cbf333f6e934cb8545723eef6a97204b1bf5da8421804e400a172',\n",
       "  'id': 99102063,\n",
       "  'location_subtype': '',\n",
       "  'month': '2022-01'},\n",
       " {'category': 'theft-from-the-person',\n",
       "  'location_type': None,\n",
       "  'location': None,\n",
       "  'context': '',\n",
       "  'outcome_status': {'category': 'Under investigation', 'date': '2022-01'},\n",
       "  'persistent_id': '3061adf5e2b5ad0ef0731a88c365d6b4f63fb91dc8b133aac242bfa016a1b1c6',\n",
       "  'id': 99102188,\n",
       "  'location_subtype': '',\n",
       "  'month': '2022-01'},\n",
       " {'category': 'violent-crime',\n",
       "  'location_type': None,\n",
       "  'location': None,\n",
       "  'context': '',\n",
       "  'outcome_status': {'category': 'Under investigation', 'date': '2022-01'},\n",
       "  'persistent_id': 'ce0c98d990c3537ef53b7876dea09bb1f57b8b6860d76f025d12ebec3eefd34d',\n",
       "  'id': 99102419,\n",
       "  'location_subtype': '',\n",
       "  'month': '2022-01'},\n",
       " {'category': 'violent-crime',\n",
       "  'location_type': None,\n",
       "  'location': None,\n",
       "  'context': '',\n",
       "  'outcome_status': {'category': 'Under investigation', 'date': '2022-01'},\n",
       "  'persistent_id': '42391aca16cf254edcd74994ed1732fda14a0033c0b6af6ae2960606b5dc27c3',\n",
       "  'id': 99102466,\n",
       "  'location_subtype': '',\n",
       "  'month': '2022-01'},\n",
       " {'category': 'violent-crime',\n",
       "  'location_type': None,\n",
       "  'location': None,\n",
       "  'context': '',\n",
       "  'outcome_status': {'category': 'Under investigation', 'date': '2022-01'},\n",
       "  'persistent_id': 'ed8900da8f3ec3c07d139bfe2087557b470b91431b9f356c4227dee2cb793160',\n",
       "  'id': 99102605,\n",
       "  'location_subtype': '',\n",
       "  'month': '2022-01'},\n",
       " {'category': 'violent-crime',\n",
       "  'location_type': None,\n",
       "  'location': None,\n",
       "  'context': '',\n",
       "  'outcome_status': {'category': 'Under investigation', 'date': '2022-01'},\n",
       "  'persistent_id': '39e24a1c9fd6491097bfaccf9166086aae9fd353ac3700f4c11bc0dc0c5a9e63',\n",
       "  'id': 99102013,\n",
       "  'location_subtype': '',\n",
       "  'month': '2022-01'},\n",
       " {'category': 'violent-crime',\n",
       "  'location_type': None,\n",
       "  'location': None,\n",
       "  'context': '',\n",
       "  'outcome_status': {'category': 'Under investigation', 'date': '2022-01'},\n",
       "  'persistent_id': '3c264e6a8066df696553c1e379fcab7eb09a1574a64b35a0b4303bb118cb788d',\n",
       "  'id': 99102523,\n",
       "  'location_subtype': '',\n",
       "  'month': '2022-01'},\n",
       " {'category': 'violent-crime',\n",
       "  'location_type': None,\n",
       "  'location': None,\n",
       "  'context': '',\n",
       "  'outcome_status': {'category': 'Under investigation', 'date': '2022-01'},\n",
       "  'persistent_id': 'd85b1fd90e471f45c039378f2d51a9ea795c2c5dee59fdc347c7493fcd27b324',\n",
       "  'id': 99102065,\n",
       "  'location_subtype': '',\n",
       "  'month': '2022-01'},\n",
       " {'category': 'violent-crime',\n",
       "  'location_type': None,\n",
       "  'location': None,\n",
       "  'context': '',\n",
       "  'outcome_status': {'category': 'Under investigation', 'date': '2022-01'},\n",
       "  'persistent_id': 'eab30b371c64585871eed1fb50e25ffcafed2364f031ea5349e63bc227b3c011',\n",
       "  'id': 99102499,\n",
       "  'location_subtype': '',\n",
       "  'month': '2022-01'},\n",
       " {'category': 'other-crime',\n",
       "  'location_type': None,\n",
       "  'location': None,\n",
       "  'context': '',\n",
       "  'outcome_status': {'category': 'Under investigation', 'date': '2022-01'},\n",
       "  'persistent_id': '848dbb9ebb44d546adaa7aa27e54de99cb4c017b1e670079825e16b60b0604e2',\n",
       "  'id': 99102604,\n",
       "  'location_subtype': '',\n",
       "  'month': '2022-01'},\n",
       " {'category': 'other-crime',\n",
       "  'location_type': None,\n",
       "  'location': None,\n",
       "  'context': '',\n",
       "  'outcome_status': {'category': 'Under investigation', 'date': '2022-01'},\n",
       "  'persistent_id': '460a8d159fecc30336bfa971b406d7fd22a35fae666fa7daa6a2753e27e3647b',\n",
       "  'id': 99102576,\n",
       "  'location_subtype': '',\n",
       "  'month': '2022-01'},\n",
       " {'category': 'other-crime',\n",
       "  'location_type': None,\n",
       "  'location': None,\n",
       "  'context': '',\n",
       "  'outcome_status': {'category': 'Under investigation', 'date': '2022-01'},\n",
       "  'persistent_id': '52cf8d6011f62464b39d872076692ec25fcaedd2066043c111c6fe69d240bcfe',\n",
       "  'id': 99102191,\n",
       "  'location_subtype': '',\n",
       "  'month': '2022-01'},\n",
       " {'category': 'other-crime',\n",
       "  'location_type': None,\n",
       "  'location': None,\n",
       "  'context': '',\n",
       "  'outcome_status': {'category': 'Under investigation', 'date': '2022-01'},\n",
       "  'persistent_id': '3a27d2d68317d9b7238737672a20e4cd18d918c9e21ab42f5b6d460e3b4f8814',\n",
       "  'id': 99102333,\n",
       "  'location_subtype': '',\n",
       "  'month': '2022-01'},\n",
       " {'category': 'other-crime',\n",
       "  'location_type': None,\n",
       "  'location': None,\n",
       "  'context': '',\n",
       "  'outcome_status': {'category': 'Under investigation', 'date': '2022-01'},\n",
       "  'persistent_id': 'cd135a914df2baa7b781073fe2c3774ba1a82bf460bd8a97dce62ea04919f8bd',\n",
       "  'id': 99102465,\n",
       "  'location_subtype': '',\n",
       "  'month': '2022-01'},\n",
       " {'category': 'other-crime',\n",
       "  'location_type': None,\n",
       "  'location': None,\n",
       "  'context': '',\n",
       "  'outcome_status': {'category': 'Under investigation', 'date': '2022-01'},\n",
       "  'persistent_id': '1ceff01df7eb4ab124c171cc14115e63b468b01207de985ea5386eb1f5a31caf',\n",
       "  'id': 99102485,\n",
       "  'location_subtype': '',\n",
       "  'month': '2022-01'},\n",
       " {'category': 'other-crime',\n",
       "  'location_type': None,\n",
       "  'location': None,\n",
       "  'context': '',\n",
       "  'outcome_status': {'category': 'Under investigation', 'date': '2022-01'},\n",
       "  'persistent_id': 'ca5e7ca0f43d59b1f22b2f435497a1729f545c9607e085ed990e4e8acd940677',\n",
       "  'id': 99102334,\n",
       "  'location_subtype': '',\n",
       "  'month': '2022-01'},\n",
       " {'category': 'other-crime',\n",
       "  'location_type': None,\n",
       "  'location': None,\n",
       "  'context': '',\n",
       "  'outcome_status': {'category': 'Under investigation', 'date': '2022-01'},\n",
       "  'persistent_id': 'e685a681a03c826fdd3b6793ab136a7bdd6d5ad89bd78dedd533315aac957106',\n",
       "  'id': 99102011,\n",
       "  'location_subtype': '',\n",
       "  'month': '2022-01'}]"
      ]
     },
     "execution_count": 18,
     "metadata": {},
     "output_type": "execute_result"
    }
   ],
   "source": [
    "#https://data.police.uk/api/crimes-no-location?category=all-crime&force=leicestershire&date=2017-03\n",
    "\n",
    "suç = \"https://data.police.uk/api/crimes-no-location\"\n",
    "\n",
    "payload = {\n",
    "    \"category\" : \"all-crime\",\n",
    "    \"force\" : \"city-of-london\",\n",
    "    \"date\" : \"2022-01\"}\n",
    "\n",
    "response = requests.get(suç, params=payload)\n",
    "\n",
    "response.json()"
   ]
  },
  {
   "cell_type": "markdown",
   "id": "19c1071e",
   "metadata": {},
   "source": [
    "----------------------------------------------------------------------"
   ]
  },
  {
   "cell_type": "code",
   "execution_count": 37,
   "id": "56ab4233",
   "metadata": {},
   "outputs": [],
   "source": [
    "from collections import Counter\n",
    "\n",
    "class SuçRaporu():\n",
    "    def __init__(self, bölge, tarih, suç_tipi=\"all-crime\"):\n",
    "        self.bölge = bölge\n",
    "        self.tarih = tarih\n",
    "        self.suç_tipi = suç_tipi\n",
    "        self.suçlar = self.suçları_bul()\n",
    "        \n",
    "    def suçları_bul(self):\n",
    "        suç = \"https://data.police.uk/api/crimes-no-location\"\n",
    "\n",
    "        payload = {\n",
    "            \"category\" : self.suç_tipi,\n",
    "            \"force\" : self.bölge,\n",
    "            \"date\" : self.tarih}\n",
    "\n",
    "        response = requests.get(suç, params=payload)\n",
    "        \n",
    "        if response.status_code == 200:\n",
    "            return response.json()\n",
    "        else:\n",
    "            return None\n",
    "        \n",
    "    def suçları_raporla(self):\n",
    "        suçlar_listesi = []\n",
    "        \n",
    "        if self.suçlar is not None:\n",
    "            for suç in self.suçlar:\n",
    "                suçlar_listesi.append(suç[\"category\"])\n",
    "                \n",
    "            return Counter(suçlar_listesi)"
   ]
  },
  {
   "cell_type": "code",
   "execution_count": 48,
   "id": "e7f7ab34",
   "metadata": {},
   "outputs": [],
   "source": [
    "suç_raporu = SuçRaporu(\"city-of-london\", \"2022-01\")"
   ]
  },
  {
   "cell_type": "code",
   "execution_count": 49,
   "id": "87bcf427",
   "metadata": {},
   "outputs": [
    {
     "data": {
      "text/plain": [
       "Counter({'anti-social-behaviour': 8,\n",
       "         'burglary': 1,\n",
       "         'drugs': 7,\n",
       "         'possession-of-weapons': 1,\n",
       "         'public-order': 2,\n",
       "         'shoplifting': 2,\n",
       "         'theft-from-the-person': 1,\n",
       "         'violent-crime': 7,\n",
       "         'other-crime': 8})"
      ]
     },
     "execution_count": 49,
     "metadata": {},
     "output_type": "execute_result"
    }
   ],
   "source": [
    "suç_raporu.suçları_raporla()"
   ]
  },
  {
   "cell_type": "markdown",
   "id": "b82832f7",
   "metadata": {},
   "source": [
    " "
   ]
  },
  {
   "cell_type": "markdown",
   "id": "ac42217b",
   "metadata": {},
   "source": [
    "# REQUEST (POST)"
   ]
  },
  {
   "cell_type": "code",
   "execution_count": 2,
   "id": "1dbfff19",
   "metadata": {},
   "outputs": [],
   "source": [
    "import requests"
   ]
  },
  {
   "cell_type": "code",
   "execution_count": 4,
   "id": "289a3d0f",
   "metadata": {},
   "outputs": [],
   "source": [
    "grafik_URL = \"https://image-charts.com/chart\"\n",
    "\n",
    "#https://image-charts.com/chart?chs=700x190&chd=t:60,40&cht=p3&chl=Hello%7CWorld&chan&chf=ps0-0,lg,45,ffeb3b,0.2,f44336,1|ps0-1,lg,45,8bc34a,0.2,009688,1\n",
    "\n",
    "payload = {\n",
    "    \"chs\" : \"700x190\",\n",
    "    \"chd\" : \"t:60,40\",\n",
    "    \"cht\" : \"p3\",\n",
    "    \"chl\" : \"Hello|World\",\n",
    "    \"chan\": None,\n",
    "    \"chf\" : \"ps0-0,lg,45,ffeb3b,0.2,f44336,1|ps0-1,lg,45,8bc34a,0.2,009688,1\"\n",
    "}\n",
    "\n",
    "response = requests.post(grafik_URL, data=payload)"
   ]
  },
  {
   "cell_type": "code",
   "execution_count": 5,
   "id": "ff34ceb2",
   "metadata": {},
   "outputs": [
    {
     "data": {
      "text/plain": [
       "200"
      ]
     },
     "execution_count": 5,
     "metadata": {},
     "output_type": "execute_result"
    }
   ],
   "source": [
    "response.status_code"
   ]
  },
  {
   "cell_type": "code",
   "execution_count": 8,
   "id": "789ca75c",
   "metadata": {},
   "outputs": [
    {
     "data": {
      "text/plain": [
       "b'\\x89PNG\\r\\n\\x1a\\n\\x00\\x00\\x00\\rIHDR\\x00\\x00\\x02\\xbc\\x00\\x00\\x00\\xbe\\x08\\x06\\x00\\x00\\x00\\xd7\\xed\\xdca\\x00\\x00\\x00\\x06bKGD\\x00\\xff\\x00\\xff\\x00\\xff\\xa0\\xbd\\xa7\\x93\\x00\\x00 \\x00IDATx^\\xed\\x9d\\t\\x98\\x1cU\\xb9\\xf7\\xdf\\xea\\x9e-\\x93L\\x92I2\\xd9\\x97IB\\x02\\xd9\\xc8\\x1e\\x92\\x80\\x02\"\\xe0r\\x15\\x94M\\x16?A\\xc5\\x15\\x05\\xe5^EE@\\xf0\\xba\\xc0U\\xf1*\\xd7\\x05\\xf5*\\x88x\\x15Y\\x15EY\\x13 a\\xcbB\\xc8\\xbe\\x90=\\x99\\xc92\\x93If23\\xbd\\xd4\\xf7TU/U]\\xef9uj\\x99\\xc9L\\xf7\\xbf\\x9f\\'\\x0f\\xdd\\xefy\\xb7\\xf3;-\\xfe99]G\\xd3u]\\'\\xbc@\\x00\\x04@\\x00\\x04@\\x00\\x04@\\x00\\x04@\\xa0H\\t\\xc4\\x8at^\\x98\\x16\\x08\\x80\\x00\\x08\\x80\\x00\\x08\\x80\\x00\\x08\\x80\\x00\\x08\\x98\\x04\\xca\\xc0\\x01\\x04@\\x00\\x04@ \\x18\\x81d:E\\xfbZ\\x0f\\xd1\\x9ec\\x07\\xa8\\xa1\\xad\\x89\\x0e\\xb7\\xb7\\xd0\\xc1\\xe3G\\xe8p\\xfbQ:\\x9a8N\\xad\\xe6\\x9fv:\\x96h7\\x0b\\x1cOv\\xd0s\\x17\\xff\\xc8|\\xdf\\xf9\\xdf\\xe7\\x12\\x91FZY\\x15QY\\x05Q\\xac\\x9c\\xa8z Q\\xdf!\\xa4U\\xd7\\x92\\xd6\\xb7\\x96\\xa8\\xef`\\xd2j\\x86\\x916h\\x0ci\\x03\\x86\\x13i\\xd8\\xa3\\x08\\xb6R\\x88\\x02\\x81\\xe2\"\\xb0n\\xdd:\\xba\\xe9\\xa6\\x9b\\xe8\\xc1\\x07\\x1f\\xa4\\xbe}\\xfb\\x9e\\xb0\\xc9\\x05\\xed#h\\\\\\x98\\x89B\\xf0\\x86\\xa1\\x87X\\x10\\x00\\x81\\x92!p\\xa4\\xe3\\x18ml\\xdaI\\x9b\\x9av\\xd1\\xa6\\xe6\\x9d\\xb4\\xa5y/5\\xb4\\x1d\\xa6T:m2\\xb0\\x9f\\r\\xd3I\\xcbq1\\xed\\x99A\\xc7\\xf9\\xb1\\x8ec\\xa6]\\xa7\\xa3\\x96\\xaf\\xf1\\xfe\\x90+Qn\\x8c\\xe2\\xe5\\x96\\xf0\\x1d4\\x96\\xb4\\xc1\\xe3(6b\\ni#\\xa7\\x92VSW2k\\x80\\x89\\x82\\x00\\x08X\\x04\\xc6\\x8d\\x1bG\\xb7\\xddv\\x1bUUU\\x01\\x89\"\\x01\\x08^EPp\\x03\\x01\\x10(\\x1d\\x02i=M\\xeb\\x0e\\xbdMo\\x1e\\xdcJ\\x9b\\x9bv\\xd2\\x86\\xa6\\x9d\\xa6\\xb85^y\\xd1\\xaa\\x91\\xff_@\\xe4\\x85\\xb0\\x83&\\xf7K\\x8aB[*Az\\xe36\\xf3\\x8f\\xf1Je\\xc6\\xb5~u\\xa4\\x8d\\x9cB\\xb1Q\\xd3H\\x1b7\\x87b\\xa3\\xa6b\\'\\xb8t\\xbe\\xaa\\x98i\\x89\\x12\\xd8\\xb1c\\x87)x\\xbf\\xf9\\xcdo\\xd2\\x1dw\\xdc\\xe1\\xa2P[[Kw\\xdey\\'-]\\xba\\x94\\xee\\xbb\\xef\\xbe\\xdc\\xf8\\x9f\\xfe\\xf4\\'z\\xe9\\xa5\\x97\\xe8\\xc7?\\xfe\\xb1\\xc3\\xf6\\xd7\\xbf\\xfe5\\xe7g\\xe4\\x9d3g\\x8e+\\xa7a\\xf8\\xf3\\x9f\\xffL\\xf7\\xdf\\x7f\\xbf9v\\xcb-\\xb7Puu\\xb5\\xf9\\xfe\\xf2\\xcb/\\xa7l\\xcda\\xc3\\x86\\xd1C\\x0f=\\xe4\\xaak\\xf4\\xfc\\x95\\xaf|\\x85n\\xbf\\xfdv*//\\xcf\\xc5\\x19\\xfd\\x9fz\\xea\\xa9t\\xe4\\xc8\\x11\\xba\\xfa\\xea\\xab)\\x9d\\xd9D0z\\xcd\\n\\xfa\\xc2\\xba\\xf3\\xe6\\xcds\\xd4\\xc8\\x8a\\x7fc\\xd7\\xbb\\xf0\\x95\\xed\\x0b\\x82\\xb7\\x90\\x0c>\\x83\\x00\\x08\\x94$\\x01c\\x07w\\xd5\\x81M\\xb4|\\xff[\\xb4l\\xdf\\x1a:\\xda\\xd1f\\x1e90^\\x85\\xda3k\\xe7A\\tDm\\xa1\\xb3;)W\\xa80\\xca\\xf5Y?z\\x80\\xf4\\x8d\\x07(\\xbdq\\x89\\x15_UC\\xb1\\xfay\\x14\\x9b\\xb8\\xc0\\xfc\\xa3\\r\\x1c\\xe9\\x8a\\x81\\x01\\x04@\\xa0\\xb8\\x08\\x18B\\xaf\\xb1\\xb1\\x91~\\xf3\\x9b\\xdf\\xd0\\xd7\\xbf\\xfeu\\xda\\xbf\\x7f?]{\\xed\\xb5\\xe6$\\xedc\\xc6Q\\x02C\\xec~\\xeaS\\x9f\\xa2d2i\\xfa\\x1b6C\\x14\\xdfp\\xc3\\rt\\xe0\\xc0\\x01SH\\x1bb\\xb3\\xf0\\xb5m\\xdb6S\\xecf\\xf3\\x19\\xc2\\xd5\\xf0\\xb5\\xd70j\\x1a6#_a]\\xc3n\\xd8&L\\x98@\\xbbv\\xed\\xca\\xc5\\x19\\x9f\\xd7\\xaf_o\\x8e\\x19=\\xf4\\xe9\\xd3\\x87*++\\xa9\\xa2\\xa2\\xc2\\xf41\\xfa\\xe3\\xea\\xdak\\x18\\xb9\\x0b{)d\\x01\\xc1[\\xb8\\xa2\\xf8\\x0c\\x02 P2\\x04\\xb66\\xef\\xa6%{V\\xd2k\\r\\xebhs\\xd3.\\xd23\\xd2\\xd6\\xda\\xb9u\\x8b]\\xbbFUyo\\x82\\xe4\\x84\\xad\\x1f\\xc2\\\\\\xbc\\xcc\\xd6~\\x94\\xd2\\xeb\\x9f3\\xff\\x18\\xb5\\xb5\\xa1\\x13(>\\xed\\x1c\\x8aM;\\x87\\xb4!\\xe3\\xfcT\\x86/\\x08\\x80@/!0s\\xe6L2vP\\x8d\\xd7\\xacY\\xb3\\xc8\\x10\\xa7\\xd9\\x97},k;\\xe5\\x94S\\xa8\\xb3\\xb3\\xd31\\xbb\\xbb\\xef\\xbe\\x9b\\xc6\\x8c\\x19C\\xbf\\xf8\\xc5/L\\xc1y\\xc1\\x05\\x178\\xc6\\xbf\\xf7\\xbd\\xef\\x99\\x9f\\x8d|\\xf1x\\x9c\\xa6O\\x9fN\\x1d\\x1d\\x1d9[\\xb6\\xbe\\xac\\xae\\x11k?s\\x9c\\xfd\\\\__O\\xef}\\xef{\\xc9\\xe8a\\xfc\\xf8\\xf1\\x8e\\x1dh{>\\xbfu\\xed, x\\x1d\\xcb\\x89\\x0f \\x00\\x02\\xc5N\\xa0\\xa9\\xbd\\x85\\x9e\\xdd\\xf5\\x1a\\xfds\\xc72\\xdavd_n\\xba\\x9c\\x86\\x0c\\xcbB$\\x8a\\x1dy3N\\x8e\\xfa\\x116c\\x1c\\x81H\\x1a\\xc7 \\x9e\\xbd\\x97\\xb4a\\x13-\\xf1;\\xe3<\\xd2\\x06\\x8d\\n;=\\xc4\\x83\\x00\\x08\\x14\\x11\\x01c\\x87t\\xe0\\xc0\\x814b\\xc4\\x08sVY\\x81\\xcbM\\xd1\\x10\\xc4\\xa3G\\x8fv\\x08k\\xceO\\xd5f\\x1c\\x8d\\xf8\\xecg?Kg\\x9du\\x16m\\xdf\\xbe\\x9d\\x96/_N\\x0b\\x17.t\\x85\\x87\\xa9\\x0b\\xc1\\xeb\\xc2\\t\\x03\\x08\\x80@\\xb1\\x11H\\xa4\\x93\\xb4\\xa2q=\\xfdk\\xc7+\\xf4\\xf2\\xde\\xd5d<]\\xc1z)\\x1e?\\xe0\\x80\\xb0\\xa2T\\x96O6\\xc6\\x15(\\xb0q\\xf5|\\xda\\xf4\\x86\\xad\\x94\\xdc\\xbf\\xd5\\x14\\xbf\\xb1\\t\\xf3(>\\xf7B\\x8aM}\\'Q\\x0c\\xffW\\xa0\\xb0\\x02p\\x01\\x81^I`\\xf5\\xea\\xd5\\xe6q\\x07\\xfbk\\xc3\\x86\\r\\xe6\\x91\\x06\\xfb\\xab\\xbd\\xbd\\x9d\\x9a\\x9b\\x9bi\\xc5\\x8a\\x15\\xe6.\\xf1\\xd4\\xa9S\\x1d\\xe3\\xc6\\xd1\\x02\\xe3\\x95\\xcdg\\x1c\\x19\\xc8\\x1e#\\xe0\\xc0pu\\x0b\\xfd\\x0c\\x9f\\x193fP,\\x16\\xa3\\x8d\\x1b7\\x9a\\xc3\\xc6\\xae\\xf1w\\xbe\\xf3\\x1d\\xf3\\xb8\\xc5\\xce\\x9d;s\\xe7}\\xb9\\xba*5\\xb25\\xf1o\\xb9B\\xfa\\xf8\\x0c\\x02 P4\\x04\\x8c\\xdd\\xdcG\\xb6>G\\x7f\\xdb\\xb6\\x94\\x8e%\\xda\\x1c?2\\x13\\xed\\xbeZv\\xd9q\\x86\\x90\\xc2UDWU\\xbc\\x8a\\xe2\\xfd\\xd8u\\x9d\\xd2[^3\\xffh5C(6\\xfb\\xfd\\x14\\x9f\\xff!\\xd2\\x06\\x0e\\xf3\\x93\\x05\\xbe \\x00\\x02=\\x9c\\x80q\\x16\\xf7#\\x1f\\xf9H\\xee\\x87`\\x86\\x88}\\xfc\\xf1\\xc7\\xcd\\xdd\\xd4={\\xf6\\x98\\xddgm\\x17^x!\\xfb\\x83\\xb1\\xec\\x14\\xed~\\xc6S\"\\x8c<Y\\x11l\\xc7\\xc0\\xe5+\\xc4d\\xf8\\xdcu\\xd7]\\x8e\\x1f\\xb1e\\xc5s\\xf6XECC\\x83)\\xa8\\x8dG\\xaf\\x19\\xb5\\x8c\\xfe\\xb2u\\x8d|\\x856\\xae\\x17{]\\r7\\xad\\x15.\\x03>\\x83\\x00\\x08\\xf4v\\x02{\\x8f\\x1d\\xa0\\x876\\xff\\x93\\x9e\\xde\\xf9\\nu\\xa4\\xf2\\xbb\\x18\\xf6\\xa7*\\xb8\\x1e\\x1d\\x96\\x99\\xb4\\xf7\\xf9]\\xcd:\\x96\\x9b\\x11\\xa8N\\xe1\\x9c\\x17\\xc3\\xa6\\xdd6\\x98\\xad\\xf7\\xe2\\xa5\\xd6\\xaf\\xa3;\\xef\\\\dU\\xcc\\xe6\\xe1\\x14xw\\xd8\\xb2}\\xc6\\xcb(~\\xeay\\x14\\x7f\\xe7GI\\xab\\xab\\xef\\xed_\\x01\\xf4\\x0f\\x02  !\\xb0f\\xcd\\x1a\\xda\\xbau+=\\xfd\\xf4\\xd3\\xf4\\xc3\\x1f\\xfe0\\xf7\\x031IH\\xaf\\x1f\\xc2\\x0eo\\xaf_BL\\x00\\x04@ K`\\xdb\\x91\\xdd\\xf4\\xf0\\xe6g\\xe8\\xb9]\\xafRJ7\\x9e\\x8f\\xdbE\\xbb\\xb1>\\x91s\\x9b\\xb7f\\nF4\\xb3?r\\x13&\\xf0\\xd9\\x08\\xe7\\x9e\\xcd\\x9dJRj\\xc5\\x93\\x94Z\\xf9w\\x8aM>\\x9d\\xe2g_M\\xb11\\xd3\\xb8\\x08\\xd8@\\x00\\x04z9\\x01C\\xe4\\x1a\\x8f\\x06\\xfb\\xc1\\x0f~P\\x12b\\xd7X.\\xec\\xf0\\xf6\\xf2/-\\xda\\x07\\x01\\x10 \\xda\\xde\\xb2\\x87~\\xbd\\xe6\\x11z\\xbda\\xadC/:vq\\x1d\\xbb\\xad\\xe6\\xbf\\xfeLt\\x85ZRi\\x87\\xd7\\x95\\xcb\\xca\\xe7\\xda\\x90\\xcd\\t\\xda\\xbc\\xf0v\\xec\\xf0\\xda\\x05o6\\xd8\\x95Dr\\x19Ev\\xf1\\xbb(6v\\xf2\\xe9T\\xf6\\x9e\\xcf\\x916l\\x02\\xbef \\x00\\x02 \\xd0\\xab\\t`\\x87\\xb7W/\\x1f\\x9a\\x07\\x81\\xd2&\\xd0\\xd2y\\x8c\\x1e\\xdc\\xf0wzb\\xeb\\xf3\\x99\\x1d\\xddp<,\\xdd\\xe8\\x16\\xc2y\\r\\x9a9\\xce\\xa0R\\xc6.\\\\\\xbd\\xfc9_U\\x9bW\\xee\\x10\\xe3\\xa9\\r/Qj\\xe32\\x8aO?\\x8b\\xca\\xde{\\x1di\\xb5\\xd6\\xaf\\xb7C\\xa4D(\\x08\\x80\\x00\\x08\\x9c\\x10\\x02\\x10\\xbc\\'\\x04;\\x8a\\x82\\x00\\x08\\x84!\\xd0\\x99J\\xd0#[\\x9e\\xa6?mz\\x8a\\x8e\\':\\\\\\xbb\\xb4Vn\\xd9q\\x06\\xc1\\x18\\'2%\\x8dr\\x9b\\xb1\\x86\\xbb\\x8a=\\x9b\\xd6gIw7\\\\\\x82(mz\\x9aRk\\x9e\\xa5\\xd4\\xfa\\x97\\xa8\\xec\\x8c\\xcb\\xa8\\xec\\xac\\x8f\\x11UZ\\xb7+\\xb9\\x9b\\x81\\x05\\x04@\\x00\\x04z&\\x01\\x08\\xde\\x9e\\xb9.\\xe8\\n\\x04@@@\\xe0\\x85\\xdd\\xaf\\xd1o\\xd6>B\\x07\\xcc\\xab~\\x9d;\\xae\\x9c\\xce\\x13\\xa4\\tn\\xf6]\\xc4\\x87\\xb8\\xe6r\\xab\\xda\\x82\\xcf\\xc8;\\xd2\\xe8!\\xd1A\\xc9\\xe7\\xee\\xa3\\xd4\\x1b\\xff\\xa0\\xb2\\x0bn\\xa4\\xf8\\xb4wz\\xc7\\xc1\\x03\\x04@\\x00\\x04z\\x08\\x01\\x08\\xde\\x1e\\xb2\\x10h\\x03\\x04@@N\\xc0x\\xc4\\xd8=\\xab\\xfe@\\xcb\\xf6\\xad\\x12\\xec\\xe8:\\xe3\\xed:\\xd1\\xf9t\\x86\\xbc\\x9f\\xc3G^\\xde\\xe3\\x07p\\x02Q\\xeb\\x993B\\x07Ua\\x1c\\xc6\\xcf\\xd8\\xbd>\\xd2H\\x89\\xfb\\xbeJ\\xa9)\\xa7S\\xf9\\x85\\xff\\x81G\\x99E\\xb8\\x84H\\x05\\x02 \\xd0u\\x04 x\\xbb\\x8e-2\\x83\\x00\\x08DD\\xe0\\xc5=o\\xd0OW\\xfd\\x81\\x8ev\\xb6F\\x90Q NM!(;\\xbf\\xeb\\xe3\\xa8\\x02\\'*E\\x9ds\\xbeQ\\xdbD\\xb5%v\\xae\\x05\\xfb\\x7fi\\xa4\\xd7\\xbdH\\x1d[WP\\xf9\\xf9\\x9f\\xa1\\xf8\\x19\\x97x\\xfc\\x07\\x81\\xa4\\x10\\x86@\\x00\\x04@\\xa0\\x1b\\x08@\\xf0v\\x03d\\x94\\x00\\x01\\x10\\x08F\\xc0\\xd8\\xd5\\xfd\\xe9\\xaa\\xdf\\xd3\\xf2}o2\\t4\\xf7#\\x16r^\\x02Q\\xcbd\\x89\\xda$\\xda5\\xe6\\x04$g\\x8b\\xba\\x1f3\\x1fW(\\x8c-\\xdbdG\\x1b%\\x1e\\xfb!\\xa5\\xd6-\\xa5\\xf2\\xcbn!m@]\\x97\\xb4\\x8f\\xa4 \\x00\\x02 \\x10\\x96@,l\\x02\\xc4\\x83\\x00\\x08\\x80@W\\x10X\\xb2\\xfb5\\xfa\\xdc3\\xdf\\xa2W\\n\\xc4\\xae\\x8a\\xa0t\\xf8p\\xc2.h\\xc3l.\\x99\\xb8\\x96\\x8d\\x154\\xc1\\xe5\\x8e\\xda\\x16t\\xde\\x85q\\xf63\"D\\x94\\xde\\xfc\\x1au\\xfe\\xf0\\xa3\\x94z\\xeb\\xf9BO|\\x06\\x01\\x10\\x00\\x81\\x1eA\\x00\\x82\\xb7G,\\x03\\x9a\\x00\\x01\\x10\\xc8\\x120.\\x8c\\xf8\\xdd\\xda\\x87\\xe9\\xce\\xd7~\\x15\\xd1\\x11\\x86<[\\xb9Xv\\x1fg\\xc8G\\xfa\\x10\\xae~\\x96RU\\xd0\\xfa\\xc9)\\xf3U\\xad\\xa7\\xeag\\xab\\xa5\\xb76S\\xe2\\xb77Q\\xe2\\xcf\\xdf5\\x7f\\xe0\\x86\\x17\\x08\\x80\\x00\\x08\\xf4$\\x028\\xd2\\xd0\\x93V\\x03\\xbd\\x80@\\x89\\x138\\xdc\\xdeL\\xdf}\\xf5\\x17\\xb4\\xe1\\xd0\\xb6.\"!\\x10\\xae\\x9c\\xc0S|\\xbc\\x98KD\\x0br\\x85\\x9a\\x10\\x973\\x8c\\xcd\\xa3\\x19.5\\x1b\\xc28\\xa6\\x96?F\\xe9\\x1dk\\xa9\\xe2\\xe3w\\x926h$\\x1b\\x06#\\x08\\x80\\x00\\x08t7\\x01\\xec\\xf0v7q\\xd4\\x03\\x01\\x10`\\t\\xbcuh3]\\xff\\xdc\\x7f\\xd2\\x86\\xc3\\xdb\\x14\\x9ec\\xdb3\\xcf\\xef\\xda\\'\\xe6\\x12\\xc2\\x05\\xb3vhEF8\\xb2\\xe7nYr\\x01\\x8c\\xaa\\xf5\\x02\\xfa\\xe9\\xfb\\xb6P\\xe7\\xdd\\x1f7\\x8f:\\xe0\\x05\\x02 \\x00\\x02=\\x81\\x00\\x04oOX\\x05\\xf4\\x00\\x02%N\\xe0\\xa9\\xedK\\xe9\\x9b/\\xfd\\x88\\x9a;Zl$\\x04\\xbb\\xb1\\x19\\x0f\\x91\\xa0t\\xd8m\\x1f8\\xed\\xe6\\x0b;\\x9b@\\xd6\\xa3l\\xccW\\xe5\\xbc3\\xd7C\\x18[\\xa06\\xb8\\x82\\xeeD\\xfa\\xb1f\\xea\\xfc\\xc5\\xf5\\x94|\\xf6~\\xf7 , \\x00\\x02 \\xd0\\xcd\\x04p\\xa4\\xa1\\x9b\\x81\\xa3\\x1c\\x08\\x80@\\x9e\\x80q^\\xf7\\xa7+\\xef\\xa7gv\\xbe\\x9c\\xdf\\xd0T\\xd3S\\xa10:D\\xb1\\x99\\xc9}~7\\xefS\\xc4\\xd7\\t3\\xac\\x0b~\\x8ffqf\\xfc\\xd8\\x1d\\xe8B\\xbft\\x9a\\x92\\x7f\\xbd\\x87\\xf4\\xc6\\x9dT~\\xe9MD\\xb1x\\xa8uC0\\x08\\x80\\x00\\x08\\x04%\\x80\\x1d\\xde\\xa0\\xe4\\x10\\x07\\x02 \\x10\\x8a@\"\\x9d\\xa4\\xbb^\\xbb\\xd7)vU3\\x16\\n\\xab\\\\\\x9clWU0&\\xcc\\xc57\\xe3\\x16\\xcb\\x96\\x9f\\x8a\\x9d\\xcf\\x18\\xc0\\xca\\xf5\\x1c\\xc6\\x16\\xa0\\x05\\xe5\\x10\\x9d(\\xf5\\xca\\x13\\xd4\\xf9\\x9b\\xaf\\xe2\\xc7l\\xca\\xd0\\xe0\\x08\\x02 \\x105\\x01\\x08\\xde\\xa8\\x89\"\\x1f\\x08\\x80\\x80\\'\\x81\\xf6d\\x07\\xdd\\xbe\\xec\\'\\xf4\\xf2\\xde\\x15._K\\xb7\\xa9\\xef\\xb8r:\\xcf\\x954\\xac\\xc1w\\x11^\\\\\\xb3i8\\xa3\\xaa-\\xec\\xbc\\xb2\\xf1\\xaa\\xf5B\\xf8\\xa5\\xd7\\xbeH\\x9d\\xf7\\\\Gz\\x9b\\xfd\\xd8JT\\x13@\\x1e\\x10\\x00\\x01\\x10\\x90\\x13\\x80\\xe0\\x95\\xf3\\xc1(\\x08\\x80@\\xc4\\x04\\x8cs\\xba_[z\\x17\\xad>\\xb0\\xc1\\x9d\\x99\\x13Tn/\\xa1\\xc5\\x1e\\xaer\\x9d\\xb00Qn\\x80\\x17\\xae\\xd6\\xb0l\\xcc;s$\\x1e\\x1c\\xaf\\xa8m\\x8eF\\xb9\\xe4\\x8a3\\xd1\\x89\\xd2\\xdb\\xd7P\\xe7\\x8f?Ezs\\x83b\\x10\\xdc@\\x00\\x04@ \\x1a\\x02\\x10\\xbc\\xd1pD\\x16\\x10\\x00\\x01\\x05\\x02\\x8dm\\x87L\\xb1\\xbb\\xed\\xc8N\\x05\\xef(]xqj\\x89b\\xd9n\\xb2\\xf8:aWw!\\xb4\\xa0\\x99\\x8b\\x8bW\\xb5\\xb9\\x9a\\tf\\xe0\\xca\\x85\\xea\\x8bI\\xa87l\\xa7\\xce\\xbb?M\\xfa\\xe1}\\xc1\\x9aD\\x14\\x08\\x80\\x00\\x08\\x04 \\x00\\xc1\\x1b\\x00\\x1aB@\\x00\\x04\\xfc\\x138p\\xfc\\xb0)v\\xf7\\x1ekPx\\xec\\x18\\xaf\\xff\\xcc\\xaa\\x8c\\x88\\xb2\\xba\\xe1E\\xad\\xffN\\xd5\"\\xecm\\xa8\\xbf\\xef\\xa2\\x1e9&Q\\xdb\\xd4\\xb0x{\\xe9Dz\\xd3~\\xea\\xbc\\xe7\\x0b\\xa4\\x1f9\\xe0\\xed\\x0f\\x0f\\x10\\x00\\x01\\x10\\x88\\x80\\x00\\x04o\\x04\\x10\\x91\\x02\\x04@@N\\xa0\\xa5\\xe3(\\xdd\\xf6\\xf2\\xddt\\xf0\\xf8a\\xb9\\xa39\\xea\\x16\\x85y\\xed\\xe6|b\\x82Hh*\\x14Qw\\xe1\\x84\\xa34\\xda\\xdd\\x7f\\xce\\xbd0W\\xe1g\\xc31\\x8cM\\xdaW\\xc8\\xc10}1\\xb1\\xfa\\xc1\\xdd\\xd4\\xf9\\x93\\xcf\\x93\\xder(dc\\x08\\x07\\x01\\x10\\x00\\x01o\\x02\\x10\\xbc\\xde\\x8c\\xe0\\x01\\x02 \\x10\\x82\\xc0\\xf1d;}k\\xd9\\x8fi\\xf7\\xd1\\xfd\\xb6,\\x8c(dDQ\\xd0\\xb2*\\xe7w\\xbd\\xc52\\xd3c\\xae!\\xd9X\\xd0\\xae#\\x88\\xe3\\x18Ff\\xe3\\x12\\x85\\xe8\\xd9\\xd8\\xe9m\\xdci\\x89\\xde\\xa3M!\\x12!\\x14\\x04@\\x00\\x04\\xbc\\t@\\xf0z3\\x82\\x07\\x08\\x80@@\\x02\\x9d\\xa9\\x04}{\\xf9OhKsw\\x9f\\xd9\\xb57,\\x10\\xa7\\xa6~s\\x8f\\x89\\x84\\xb0\\xd4\\x1eV\\x0br\\xf1Q\\xdb<\\xd6\\x90+\\xc7\\x86p\\x8e!l\\xfa\\xfe\\xed\\x94\\xf8\\xd9\\x97\\x88:\\xdb\\xd9r0\\x82\\x00\\x08\\x80@\\x14\\x04 x\\xa3\\xa0\\x88\\x1c \\x00\\x02.\\x02)=E\\xdf\\x7f\\xed\\xe7\\xb4\\xf6\\xe0f\\xc7\\x98T8f<y\\x9f\\xde{\\x9d\\xb09\\x1f\\xbd@\\\\\\xab\\x8aD\\x17\\xd9\\x80\\x06\\xd5z\\xaa~\\x01\\xdb\\xe0\\xc2\\xd2\\xbb6P\\xe7o\\xbeA\\x94Nq\\xc3\\xb0\\x81\\x00\\x08\\x80@h\\x02\\x10\\xbc\\xa1\\x11\"\\x01\\x08\\x80\\x00G\\xe0\\xa7+\\xef\\xa37\\x1a\\xd60C\\xee]\\xd5\\xbc\\x93lL\\xfc\\xc4\\x04\\x87@\\xb6}\\xe0\\xb4\\x1b\\xd3\\x90\\xd8\\xc4&\\x90\\xf5(\\x1b\\x13\\x97\\x91\\x8ep=\\x84\\xb1I\\x8b\\x89\\x06\\x99\\x82\\x8c)\\xcc\\xf9\\xe3\\xf4[/Q\\xe2\\xa1\\x1f\\x89\\x1a\\x80\\x1d\\x04@\\x00\\x04B\\x11\\x80\\xe0\\r\\x85\\x0f\\xc1 \\x00\\x02\\x1c\\x81\\'\\xb6>M\\xcf\\xedZ\\xc6\\r\\xf16N<\\xf1\\x9e\\x81\\xad\\xf6\\x12\\xd6{K\\x9c\\xba\\xedF\\t\\x1f\\xc25l\\xefa\\xe3\\xfd\\x12a\\xea\\x85\\xbaN\\xd8o}\\x89\\x7fj\\xc9C\\x94|\\xe6\\x01\\x89\\x07\\x86@\\x00\\x04@ \\x18\\x01\\x08\\xde`\\xdc\\x10\\x05\\x02   \\xb0\\xe1\\xf0\\x16\\xfa\\xdd\\xba\\x87s\\xa3\\xbc\\xa0\\xe4\\x1fF Hi\\x99\\x19\\xa1f\\r\\xc8\\xc4\\xa9`L\\x98+\\xdf\\x81J\\xdf\"\\x1f\\xe9<T\\x06\\xb9\\xfe\\xa2\\xb6\\xa9\\xf4\\xa1\\xe2\\x13q_\\xc9G\\xee\\xa1\\xf4Z\\x1f\\xff\\xb1\\xa4\\xd2#|@\\x00\\x04J\\x9e\\x00\\x04o\\xc9\\x7f\\x05\\x00\\x00\\x04\\xa2#\\xd0\\xd4~\\x84\\xee|\\xed\\xe7\\x94L\\'\\xad\\xa4\\x9c\\x18b\\xcaYn\\xf2\\x1dW\\xc5TL\\xf6\\xee2\\xe5\\xc5\\xb5K\\x08g\\xce\\xefJ\\xe7\\xc0\\rr\\xb6\\xa8\\xa6\\xc3\\xe5\\x8e\\xda\\x16\\xa4W=M\\x89\\xdf\\xddJ\\xfa\\xa1\\xbdA\\xa2\\x11\\x03\\x02 \\x00\\x02,\\x01\\x08^\\x16\\x0b\\x8c \\x00\\x02~\\t$\\xd2I\\xfa\\xde\\xab\\xf7\\x90!z\\xc5/f\\xc7\\x95\\x13Y\\xe2\\x04\\xe6\\x88KPf\\xfcU\\x1eG\\xe6\\x91:\\x7f\\x9c\\x81\\xed\\x8b\\xe9\\xdf;a\\xb4\\x1e\\\\_al\\x9e\\xddq\\xc9=\\x83,\\x07.T\\xc1\\xa6\\xb7\\xb6P\\xe2\\x177\\x11%:\\x14\\x0b\\xc1\\r\\x04@\\x00\\x04\\xe4\\x04 x\\xe5|0\\n\\x02 \\xa0H\\xe0\\xde7\\xff@\\x9b\\x9a\\xde\\xf6w\\xfeU1w\\x94n\\x96\\xde\\x92\\xed&\\x8b\\x05\\xb5\\xab\\x0fN\\xbc\\xb9\\x9c$\\x06.^\\xd5&I\\xebg(\\xd4\\xf9\\xdd.\\xec5\\xbd{\\x13%\\x1e\\xfa\\xb1\\x9f\\xa9\\xc0\\x17\\x04@\\x00\\x04\\x84\\x04 x\\x85h0\\x00\\x02 \\xa0J\\xe0\\xc5=\\xaf\\xd1\\xbfv,5\\xdds\\x1a\\xc8\\xb8X\\xc0\\x96@\\xe5\\xbd\\xb0\\x1e\\'\\xacLg\\xd9\\x8e\\xab`L\\x98KX=7\\xa02\\x07\\x91\\x8fwv\\x9f\\x1e\\xdc<\\xa2\\xb6\\xf9lI\\xe8\\x1e\\xb0\\xaf\\xe4\\xd2\\x87)\\xf5\\xfa\\xbf\\x84i1\\x00\\x02 \\x00\\x02\\xaa\\x04 xUI\\xc1\\x0f\\x04@\\x80%p\\xa4\\xe3(\\xdd\\xbb\\xe6AvL\\xdd(\\xdbq\\xed\\xed\\xd7\\t\\xbb\\xe7\\xe6\\xe2\\x12P\\x10\\xba\\xf2Dm\\x08\\xd3\\x17\\x17\\xeb\\xa3\\xbflx\\xe2\\x0fw\\x92\\xde\\xdc\\xe8#\\x12\\xae \\x00\\x02 \\xe0&\\x00\\xc1\\xebf\\x02\\x0b\\x08\\x80\\x80\\x0f\\x02?_}?\\xb5t\\x1c\\xcdD\\x08vU\\xcdQf,\\xa4(\\xb2\\xb7\\xa9r~\\xd7^\\x8e/\\xcd\\xf4\\x98+\"\\x1b\\xf3\\x01,jWn\"\\x91\\xd9\\xb8D!&\\xc0\\xa5\\xf3\\xb0\\xe9\\xc7\\x8fR\\xe7}\\xdf&b\\xcf^\\x84\\xe8\\x05\\xa1 \\x00\\x02%E\\x00\\x82\\xb7\\xa4\\x96\\x1b\\x93\\x05\\x81h\\t<\\xb7\\xebeZ\\xbeoe.\\xa9\\xb7\\xa0\\x8c\\xb6\\xbe8\\x9b@\\x9c\\x9a\\r\\xba\\xc7D}\\x8b\\xecf]N\\xa8\\x89\\x1br\\x8fp\\xf1al\\xee\\n\\x9e\\x16\\xae\\x1c\\x1b\\xc49\\x86\\xb1\\xb1E\\xc4\\xc6\\xf4\\xfaW)\\xf9\\xd2\\xe3b\\x07\\x8c\\x80\\x00\\x08\\x80\\x80\\x07\\x01\\x08^\\x0f@\\x18\\x06\\x01\\x10\\xe0\\t\\x1cno\\xa6\\xff]\\xf3\\x7f\\xfc`\\x81\\x18\\x12\\tGo{\\xcf\\xbcN\\xd8\\xbb\\xef\\xac\\x1eV8\\xce\\xc0\\x13\\xf4o\\r#@Uc\\xfdw\\xc5G\\xa8\\xd6\\xb3\\xf9\\x19?`\\xd3\\x0f\\xe2Qe<PXA\\x00\\x04\\xbc\\x08@\\xf0z\\x11\\xc28\\x08\\x80\\x80\\x8b\\x80N:\\xfd\\xcf\\xaa\\xdf\\xd1\\xb1D\\x9bk\\x8c7\\xb8wU\\xf3~\\xb21\\xc5\\x1f\\xbeq\\x02\\x8ao\\xc4\\xdb\\xca\\xe6\\x92\\xf5(\\x19cs\\x15\\xb4\\xc0\\xf9Dm\\xf3\\x9e5\\xe3\\xc14\\xc1\\x98\\xd8\\x9dnU?\\xa6\\xaaa\\xe2\\xc2\\xa9\\xbd\\x8d:\\xff\\xf0}A\\x04\\xcc \\x00\\x02  \\'\\x00\\xc1+\\xe7\\x83Q\\x10\\x00\\x01\\x86\\xc0\\x8b\\xbb_\\xa3\\x15\\ro\\x15\\x8cH\\x84\\x1f\\x93\\x83W5\\x9c\\xa3?\\x9b],\\xb9\\xdf\\xbbw\\\\\\xf3>>\\xfb\\xf7\\xd7\\xd6\\x89\\xf5f\\x14${$\\x96\\xf1\\xeb\\xaau2\\x81\\xa8\\xd6\\xcb\\xf8\\xa5\\xd7\\xbdB\\xa9\\xd5\\xd6\\xd3@N,PT\\x07\\x01\\x10\\xe8m\\x04 x{\\xdb\\x8a\\xa1_\\x108\\xc1\\x04\\x12\\xe9\\x04\\xfd~\\xbduu\\xb0[PZ\\xcd\\x89\\xec\\xbe[\\xe7\\x04\\x91\\x99D&N\\x05c\\xc2\\\\\\xf9\\xaeD}\\xbb\\xec\\x19\\x83BJ\\xf5)s\\xc9\\xa2\\xb6\\xa9w#\\xf7\\x8c\\xba/.\\x9f\\xa0\\x83\\xc4\\x1f\\x7f@\\xd4\\xd9.\\x18\\x85\\x19\\x04@\\x00\\x04x\\x02\\x10\\xbc<\\x17XA\\x00\\x04\\x04\\x04\\x1e\\xdb\\xf2O:\\xd0vH0*\\xd8\\xb5\\xcbx\\xbb\\x84\\xa3\\xd4\\xee|\\x1c\\x99\\xb8\\xe0\\x89\\x1c\\xc9\\x8bk\\xd7\\xdc\\x98\\xeb\\x84]\\xba\\xcee\\xe8\\xe2\\xb9p\\xf5\\xc2\\xd8\\xba\\xb2]A_\\xfa\\xe1\\xfd\\x94x\\xea\\xfe\\xae\\xac\\x8c\\xdc \\x00\\x02EH\\x00\\x82\\xb7\\x08\\x17\\x15S\\x02\\x81\\xae\"`<s\\xf7\\xd1\\xcdO\\xf9L\\xcf\\xec\\xb8\\xe6\\xc4\\x0c3&\\xc8\\xee\\x12\\x94\\x19?\\x95\\xc7\\x91\\tR\\xba\\xcd\\x9c\\xc8\\x92\\xee&\\xbbS\\x84\\xb6p=Dm\\xf3l\\x92+\\xc8\\x04qn!m\\\\xa\\xe5\\xe4S\\xf7\\xe3\\x07l\\x85P\\xf0\\x19\\x04@@J\\x00\\x82W\\x8a\\x07\\x83 \\x00\\x02v\\x02\\x0f\\xac\\x7f\\x84\\xda\\x92\\xc7M\\x93S\\x98\\xa8\\x0b\\xd7\\x13A\\xd4\\xeaU~~WEh1\\x13\\x8ff:\\\\q\\xce\\x16M5\\xfe\\x91\\xb6\\\\=U[D}\\xb1i\\xb8\\x1e:;)\\xf1\\xf8\\xbd\\xac;\\x8c \\x00\\x02 \\xc0\\x11\\x80\\xe0\\xe5\\xa8\\xc0\\x06\\x02 \\xe0\"\\xb0\\xa3e7=\\xbb\\xf3%\\x97\\xdd0\\xe44I\\x91\\\\\\'l\\xd7X~\\xdf\\xb3\\x80\\xa22r\\xe2/\\x8c\\xad\\xa7\\xf6\\xc5\\xcd\\xa9\\xa0\\xd7\\xd4+OQz\\xf7\\x96\\xa8f\\x80< \\x00\\x02EN\\x00\\x82\\xb7\\xc8\\x17\\x18\\xd3\\x03\\x81\\xa8\\x08\\xfcn\\xedC\\x94\\xd6\\xd3Q\\xa5\\xcb\\xfd\\xf0\\x8c\\x17\\x94\\xe2\\xeb\\x84#l\\xc0\\x99JAd9\\x03\\xf8]m3M\\xd0\\xf3\\xbb\\\\\\x0f\\x9c-*\\x08\\\\\\xee\\xa8m>z\\xe5J\\xe7\\xc2\\x0b\\x07\\xf54%\\x9f\\xf8\\xb5\\x8f\\xecp\\x05\\x01\\x10(e\\x02\\x10\\xbc\\xa5\\xbc\\xfa\\x98;\\x08(\\x12\\xd8\\xd4\\xb4\\x8dV7\\xae\\x15x\\xf3\\xc2\\xcfrf\\xc6\\n\\x85\\x8b \\xab\\xc8l\\x0fW9\\xbf\\xeb]\\x8e\\xe91W\\\\6&\\xea\\xb0\\x1b\\xec\\xdc\\xa4\\xc2\\xd8\\x1c-s\\x89B\\xcc\\x89K\\x17\\xc6fk%\\xb5\\xf2yJ\\xef\\xd8\\x10\\xa29\\x84\\x82\\x00\\x08\\x94\\n\\x01\\x08\\xdeRYi\\xcc\\x13\\x04B\\x10\\xf8\\xd3\\x86\\'\\x1cgv\\x1d\\xa2\\xd3\\x96\\x97\\xd31!\\xca\\xfa\\x0c\\x15\\x88S\\xb3)\\xd9\\xf9]\\xb5\\xcb-\\xccf\\xbab\\x82\\\\NU\\x9bOB\\xc2)\\xa8\\xd6\\x0b\\xe3\\x17\\xa0W6\\xc4\\xf1\\xe5\\xd3)\\xf9\\xd8/Y7\\x18A\\x00\\x04@\\xc0N\\x00\\x82\\x17\\xdf\\x07\\x10\\x00\\x01)\\x81-\\xcd\\xdbiec\\xe1%\\x13LH\\x81\\x18r\\xe8\\x12\\x9b\\xbb\\xc8\\x9ew)\\xe6\\xeb\\x84\\x05\\xa2\\x9c\\xc1\\xa9d\\n#@\\xb9X\\xa5\\xa2\\x01\\x9d\\xb8zal\\x996Rk^\\xc6Y\\xde\\x80K\\x820\\x10(%\\x02\\x10\\xbc\\xa5\\xb4\\xda\\x98+\\x08\\x04 \\xf0\\xd8\\x16\\xbf\\x8f!\\xcb\\x16\\x91\\x89;\\xf7\\x98H\\x08\\x0b\\xed\\x9cX\\n0?3\\x84\\xcd\\xe5\\xee1\\x9f^2\\xc6\\xe4bL\\xeeN9\\'U\\x9b;[0\\x0bw\\xfd\\x9aj\\x0f\\xaa~\\x82\\xce\\xb8p\\x81\\xabe\\xb6\\x05$\\x9f\\xfe?\\xa9+\\x06A\\x00\\x04@\\x00\\x82\\x17\\xdf\\x01\\x10\\x00\\x01!\\x81\\xc3\\xedM\\xf4\\xca\\xbe\\x15\\xc2q\\xf9\\x8dgL\\x98oU\\xc3\\xe4`L\\xf6\\xb4\\xee\\xf7\\xb2\\xe3\\x0c\\x12\\xe1\\xca\\xd4\\xe9\\xb1&\\x8e+c\\xe3\\xf4,+\\xf6\\x99\\xd8\\xc8\\xe6\\xce\\xe5\\x0eiK-\\xff\\x07\\xe9G$\\x97\\xa1D\\xd6<\\x12\\x81\\x00\\x08\\xf4V\\x02\\x10\\xbc\\xbdu\\xe5\\xd07\\x08t\\x03\\x81\\'\\xb7=K\\xa9t\\xda\\xf7\\xf9]N\\xbf(\\xb7\\x1b(X \\\\\\x15r\\xd9]\\xa4\\xef\\x15r)\\xcf1\\xeb\\xc8\\xe5\\x0cc\\xf3\\xdd\\x80\\x8f\\x800}q\\xb1>J{\\xba&\\x13\\x94|\\xee/\\x9enp\\x00\\x01\\x10(]\\x02\\x10\\xbc\\xa5\\xbb\\xf6\\x989\\x08H\\t$\\xd2\\tzz\\xe7R\\xa9OnP\"h\\xa4\"2\\x93 \\xef#\\xbbNX j\\xd5:\\x8c\\xccK:\\x1f\\xe9\\xe3\\xc8\\xba\\xa1\\x7fn\\x1d\\xa2\\xb6EE2\\xe2\\xbeR\\xcf?L\\x94LD\\xd5\\x1d\\xf2\\x80\\x00\\x08\\x14\\x19\\x01\\x08\\xde\"[PL\\x07\\x04\\xa2\"\\xb0|\\xef\\n:\\xday,`:\\x99\\xb8\\x93\\x8d9\\xcb\\t\\xc5\\xa5m\\x80\\xd3M\\xbe\\x9af\\x13\\xc8z\\x94\\x8d\\xc9+\\xb3\\xa5\\x8c\\x10n j\\x9b\\xbc5A\\x13LP\\x17\\xf4\\xc5\\xa5d*KM\\xfa\\xd1fJ\\xadZ\"\\xf5\\xc1 \\x08\\x80@\\xe9\\x12\\x80\\xe0-\\xdd\\xb5\\xc7\\xccA@J\\xe0_;\\x97\\x98\\x17(\\xd8\\xc5\\x88S\\x98\\xf8\\x14~Q\\xa8\\x1ai\\xc7\\xdc\\xe3\\xc5\\xac\\x1e\\xf99\\xc8v\\x93\\x0b\\nuE\\xef]\\x91S\\xc2\\'\\xd4\\xf9\\xdd\\xae\\xec\\x95\\xcb\\x1d\\xd0\\x96z\\xe9o\\x12\\x02\\x18\\x02\\x01\\x10(e\\x02\\x10\\xbc\\xa5\\xbc\\xfa\\x98;\\x08\\x08\\x08\\xecom\\xa4u\\x077\\tF-3/\"9\\xd1)M\\xe3\\x1c\\xe4\\x84\\x8e\\xe9!\\x13\\xd7\\x821a.\\xbe\\x1f\\xbf\\xf3\\xf1\\x97^\\xd0ca+\\\\\\xd2\\xa8m\\x855\\x83~\\x8e\\xba/.\\x9f\\xcf\\xdeRo-\\'\\xbd\\xa9\\xd1g\\x14\\xdcA\\x00\\x04J\\x81\\x00\\x04o)\\xac2\\xe6\\x08\\x02>\\t,\\xd9\\xbd\\x9ct\\xf6\\xef\\xd9\\x99D\\x8aB\\xc5rS\\xdfqUL\\xcb4\\xe4\\xc3\\xe4\\xbb\\x08/\\\\\\xcd4\\xd2\\xf3\\xbb\\xfc\\xa9\\x05\\xb3S\\xdf=\\xf8\\x98\\x1f\\xe7\\xca\\xd5\\x0bc\\xe3jDe\\xf3\\xdbW:M\\xa9eA\\x1f\\xa3\\x17U\\xd3\\xc8\\x03\\x02 \\xd0\\x13\\t@\\xf0\\xf6\\xc4UAO p\\x82\\t\\xbc\\xb4\\xf7u\\x8f\\x0ex\\xe1g\\x051c\\x9cp\\xf1\\xa8`\\x1f\\xb6\\x87\\x97\\xc4u\\xc2\\x1c\\xaf\\xa8m\\x0e\\xfe\\\\r\\xc5\\x05\\xe2B}\\xd8\\\\\\xae.\\x83b\\x1f\\x19\\xb7$\\x8e5\\xf8\\x03\\x06o\\x10(\\x11\\x02\\x10\\xbc%\\xb2\\xd0\\x98&\\x08\\xa8\\x12\\xd8\\xde\\xb2\\x8bv\\x1f\\xdd+=\\xbf\\x1bR\\x93\\xa8\\xb6\\xa2\\xe0\\xc7\\x88k#\\xcalP\\xb6\\x9b,>z\\xe1\\x9a\\x9b\\xcb\\xa0\\xd0\\x96\\xc8E\\x96\\x8b\\x1b\\xe3l\\xa2\\xdc\\x12;\\x9b\\x863\\x86\\xb1I\\xea\\x87\\x1e\\xf2\\xd1\\x97\\xbeo;\\xa5\\xf7l\\x0b]\\x12\\t@\\x00\\x04\\x8a\\x8b\\x00\\x04oq\\xad\\'f\\x03\\x02\\xa1\\t\\xbc\\xbc\\xc7kw\\xd7VBW\\x13\\x8ev\\xbd\\xc2i\\x17S\\x9c\\xf2\\x03\\x1e\\xe7wCOW\\x9a@\\xd4\\xb7\\xdb.\\x10\\xdefv\\xd9\\x98\\xb4<?\\xc8q\\nc\\xe3\\xab\\xf8\\xb7\\x86\\xe9A5V\\xb1\\xab\\xf4J<\\xadA\\x11\\x15\\xdc@\\xa0d\\x08@\\xf0\\x96\\xccRc\\xa2 \\xa0F\\xe0\\xd5\\xfd+\\xd5\\x1c}{\\xb9\\x85\\x9f[8ZIEv\\xdf%e\\x01\\x9c\\xc8\\x92\\x8aSw\\xff\\xb9\\xf4\\x99\\\\\\xa2\\xbe\\xd9RF07\\xa0j\\x93\\xcd\\xcd\\xcf\\x98j\\xbd0~\\x82~\\xb8\\x94\\x02W\\xcb\\xcc\\x050\\xb6\\xd4\\x1b/H\\xd3`\\x10\\x04@\\xa0\\xf4\\x08@\\xf0\\x96\\xde\\x9ac\\xc6  $\\xd0\\xd0v\\x80v\\x99\\xc7\\x19\\x84.\\x1e;\\x96\\x8c(\\x94\\xe6\\x92\\xd5q\\x8f\\xf9=\\xbf\\xcb\\x97fzt\\x97\\x8a\\xde\\xc27\\x13\\xbc\\x0e\\x97/\\x90\\x8d\\x0b\\n\\xde\\x16\\x1b\\xc9\\x95\\x08cc\\x8b\\xe4\\x8d\\xe9\\x1d\\x1bH?\\xdc\\xe0\\xe1\\x85a\\x10\\x00\\x81R\"\\x00\\xc1[J\\xab\\x8d\\xb9\\x82\\x80\\x07\\x81\\xd7\\xf7\\xaf\\xcex\\x88\\x9f\\xbfk\\xd7)\\x9cf\\xf1(\\x11\\xe1\\xb0@\\xb8\\x9aM\\xb9\\xc7D}K\\xed\\xdd5A\\xae\\x8e\\xaa\\xcd\\x83(\\x97\\x86\\r\\xe1\\x1c\\xa3\\xb6\\xb1\\x85\\x03\\x18\\xbd\\xfa\\xd2uJ\\xadT\\xbc%0@y\\x84\\x80\\x00\\x08\\xf4>\\x02\\x10\\xbc\\xbdo\\xcd\\xd01\\x08t\\x19\\x81U\\x8dk\\xd5s\\x17\\x88\\x0e\\xfbG\\x7f\\xef{\\xe6\\xf9];\\x08\\xe9|\\xa4\\x8f#s\\x0bou\\xc0\\x8a\\x9e^\\xe2/\\x9bF\\xd5O\\xb1l 7\\xd5\\x1eT\\xfd$M\\xa4\\xd7\\xbe*\\x19\\xc5\\x10\\x08\\x80@\\xa9\\x11\\x80\\xe0-\\xb5\\x15\\xc7|A@@ \\xa5\\xa7i\\xfd\\xe1\\xcd\\x82Q\\x15\\xb3L\\xdc\\xc9\\xc6\\x14\\x7f\\xf8f\\x13A\\x9c\\x1eR\\xe90\\xe7\\xc3&\\x90\\xf5(\\x1b\\x93W\\x16\\x89e\\xf6\\xd8\\x08\\xd7\\x97\\xaaM\\xde\\x86`\\x94I\\xce\\x98\\xba\\xa2W\\xae\\x8c\\xa0I\\xb1\\x99K\\x92\\xb1\\xa57\\xad$\\xd2\\xd3\\xe2X\\x8c\\x80\\x00\\x08\\x94\\x14\\x01\\x08\\xde\\x92ZnL\\x16\\x04\\xc4\\x0467m\\xa3\\xe3\\xc9v\\xd7\\xe3\\xc8\\x9c\\x11>\\x85\\x1f\\'H\\xc4-\\x04\\x1a\\xb1\\x97\\xb0\\xde[=\\xba\\xedF\\xfa\\x13t\\x9dp7p\\xe0Di)\\\\\\'l~i\\x18\\xbez\\xebQJ\\xef\\xda\\x12\\xe8;\\x85 \\x10\\x00\\x81\\xe2#\\x00\\xc1[|k\\x8a\\x19\\x81@ \\x02k\\x0fnd\\xe3x\\xe1\\xa8\\xb6+\\xcb&,42b\\xc5r\\x91\\x89k\\xc1\\x980WaQ\\xeb\\xb3\\xdf\\xb9\\xf1YDVA\\x8f\\x85\\xee\\\\\\xcfal\\x85\\xf9\\xa3\\xfc\\x1c\\xa6/.6\\xca\\xde\\ns\\xe9D\\xe9\\r+\\n\\xad\\xf8\\x0c\\x02 P\\xa2\\x04 xKt\\xe11m\\x10($\\xb0\\xa5y{\\xa1I\\xfcYQ\\xbcXn\\xea;\\xae\\x8ai\\xc5}\\xa9\\x8c\\xf8.\\x92\\x17\\xae\\xf6P\\xf3\\xbd\\xf4\\xfc.\\xbb\\xf1\\xa8\\xd2a8\\x1fn~Q\\xdb\\xc2u\\x98\\x8f\\x8e\\xba\\xaf\\x82|\\x10\\xbcQ-\\x14\\xf2\\x80@\\xef\\'\\x00\\xc1\\xdb\\xfb\\xd7\\x103\\x00\\x81H\\x08l;\\xb2\\xc3#\\x8fl\\xc7\\x92\\x19\\xe3\\xc4\\x8c\\xad\\xc2\\xde\\xa5[\\xe8\\xe0\\xaa]\\x8e\\x9a\\xed\\x87Z\\xe9\\xedGV\\xd2\\xe1\\xb5{\\x1d\\x7fK}lO3\\xedx|\\x95\\xa9 ]\\xa2\\xd3\\xa3\\xebt\"E;\\x1f]A\\x89\\xa3\\x1d\\xac\\xe7\\xb1\\xb7\\x0fP\\xc3\\x0b\\x1b\\xd8\\xb1(\\x8d\\x1e8xu\\xcc\\x05\\x85\\xb19&\\xc4%R\\x9c1\\x17\\xea\\xc3\\xc6\\xb9*V\\xf6\\xe5\\x96\\xde\\xb2\\xc6\\x97?\\x9cA\\x00\\x04\\x8a\\x97\\x00\\x04o\\xf1\\xae-f\\x06\\x02\\xca\\x04Z:\\x8f\\xd1\\xc1\\xe3\\x87]\\xe7w\\xfd\\x8aK\\xe5\\x82Dtds#m\\xf9\\xf3\\x1b\\x8e\\x90\\x86\\x97\\xb7\\xd2\\xa6\\xdf\\xbfB\\xdb\\x1er\\xfeU\\xf4\\xfe%\\x9b\\xa8a\\xd9\\xb6\\xcc\\xd3\\xc6\\x18q\\x9d;\\xc6\\xe9\\xdeMNu&i\\xdb\\x03\\xcb\\xa8\\xb3\\xa9\\x95\\x15\\xcb-\\x1b\\xf7\\xd1\\xde\\x7f\\xbc\\xe9l=JE&\\xcb%\\x1b\\xf3\\x03\\x93\\xf1eSs\\xc606\\xa6n S\\x98\\x1e$\\xb1zK\\x13\\xe9\\xcd\\x07\\x03\\xb5\\x84 \\x10\\x00\\x81\\xe2\"\\x00\\xc1[\\\\\\xeb\\x89\\xd9\\x80@ \\x02\\xdb\\x9a\\xbdvwmi%\\xbb\\xacv\\xed\\xc1\\xe9\\x10{sCf\\x8e\\xa6#[\\x0e\\x90\\xb1\\x03\\x9b}\\x1dX\\xb9\\x8b*\\x07VS\\xd3\\xfa}\\x94\\xeaH\\xe4\\xecM\\xeb\\xf6\\xd1\\xe0\\x99\\xa3\\xe5s\\xf3*(\\x89\\x16\\xf5-\\xb7\\xf3\\xc2\\xdb*#\\x1b\\x934b\\x0cq\\xf3\\x88\\xda\\xe6\\xd1\\x82\\xf2p\\xd4}q\\xf9\\x94\\x9b\\xe1\\x1d\\xd3;\\xf8\\xb3\\xe9\\xbc7\\xac \\x00\\x02\\xc5J\\x00\\x82\\xb7XW\\x16\\xf3\\x02\\x01\\x1f\\x04\\xbc\\x8f3\\xf8H\\xe6pu\\xef\\xb8f5\\xcd\\xa0i#IO\\xebtd\\xeb\\x013\"\\xd9\\x91\\xa4\\xa6u{i\\xe2\\xa5s)\\x9dL\\xd1\\xe15{M\\xbb!\\x88\\x8fln\\xa0\\xc1\\xb3\\xc6\\xe62\\xb7li\\xa4]O\\xbeI{\\xfe\\xb5\\x8e\\x8e7\\xb6\\xe4\\xec\\xa9\\xe3\\t\\xda\\xf1\\xe8\\n\\xeahj\\xa5]O\\xac\\xa2\\xa65\\xbb\\x9d\\x8dg\\x8a7\\xad\\xdeI{\\xfe\\xb6\\x8a\\x9a\\xdet\\x1e\\xa9p:\\x1b\\x9f$\\xc25\\x93K.\\x8a\\xad\\x8c\\x9e:\\xce\\xd3\\xc1\\xddY(\\x0bW/\\x8c\\xcdG3\\\\\\x19i8\\x17\\xe0\\xc3\\xa6\\xef\\x08\\xf3\\xa8=ig\\x18\\x04\\x01\\x10\\xe8E\\x04 x{\\xd1b\\xa1U\\x10\\xe8*\\x02\\xa6\\xe0\\xe5DD\\xae\\xa0D\\xf8q\\xa2P\\x9a\\xcbJ\\x1a\\xaf*\\xa7\\x81\\x93\\x87\\x99\\xbb\\xb9\\xc6\\xeb\\xf0[{\\xcc\\x7f\\x8e<s2\\r\\x988\\x94\\x0e\\xae\\xdai~n\\xde\\xd4@\\xb1\\xf28\\r\\x984\\xd4lq\\xc3\\xbdKh\\xfd/_\\xa0\\x8a\\xda\\xbe\\xa6\\x1e]q\\xcb\\xa3\\xb4\\xe7\\x99u\\xa6o\\xb2\\xad\\x83\\xb6>\\xb0\\x8c6\\xfe\\xec9S\\xf4\\xdaw\\x8fM\\x07\"\\xda\\xf8\\xb3gi\\xe3\\xcf\\x9f\\xa5\\xf6\\x83Gi\\xf7c+h\\xcf\\xdf\\x0b\\x8e3d\\x1d\\xa3\\xf8\\xa7\\x02\\x07a\\x19.62\\x1b\\x97H\\xd8\\x89\\xf7\\x00\\x97.j\\x9bw\\x17\\xacGz\\xe7&\\xd6\\x0e#\\x08\\x80@i\\x11(+\\xad\\xe9b\\xb6 \\x00\\x02\\x1c\\x81\\xb7\\x8f\\x18\\xe2\\xb2\\xfb\\xaf\\x136\\x8e)4o\\xd8o\\xb6tp\\xe5.\\x1a4c\\x14\\x19B\\xb8n~=\\xed}\\xde\\xfa\\xab\\xe8\\xa6\\xb5{i\\xd0\\x8c\\xd1\\xa4\\xc5c\\xd4\\xb4a?\\xed}v=\\x9d\\xfe?\\x1f\\xa5\\x8a\\xdaj3\\xae\\xb2\\xb6/\\xad\\xf9\\xaf\\x7f\\xd0\\xd0E\\x93rS\\x1b~\\xf6)4t\\xd1I\\xa6@N\\xb6Z?V3\\xde\\xb7l\\xdeO\\rK6\\xd0\\xfc\\xbb\\xaf\\xa2\\xaaa\\xfdM\\x91\\xff\\xd6\\x9d\\x7f\\xa5\\xce\\xe6\\xb6<\\x16N\\xa8q\\xd0\\x02\\xd9l\\xff\\xe1\\xc0\\xd5Q\\xb5y\\xd4\\xe6\\xd2\\xb0!\\x9cc\\xd46\\xb6p\\x00c\\xc0\\xbe\\xf0,\\xde\\x00\\xac\\x11\\x02\\x02EH\\x00;\\xbcE\\xb8\\xa8\\x98\\x12\\x08\\xf8!`\\xdc\\xb0v\\xa0\\xed\\x90ZH\\x81\\xe8\\xb0\\x7f\\xf4\\xf7\\xde\\xbaNx\\xc8\\xa9\\xa3\\xa9ic\\x83)<\\x0f\\xae\\xdcIC\\xe7\\xd5\\x9b\\xc2\\xbbn^=\\xb5\\xed;B\\x9d-\\xc7\\xcdc\\x0e\\x83g\\x8d1\\xfb;\\xfa\\xf6A\\xea;\\xaa\\x96*3b\\xd7\\xb0\\x19\"\\xd98\\x02\\xd1\\xba\\xf3pn\\x0e\\xfd\\xc6\\ra\\xe7stK#U\\x8f\\xaa\\xb5\\xc4\\xae\\xe1\\xa1\\x11\\rY01\\xe7\\xab<\\x07\\xe6qd\\xf9\\x82\\xb2\\xddp\\xb6-\\xff\\xc6\\x80\\xe2\\xcf,\\xc4\\xc5\\xfa\\xef@=\\x82\\xab\\x17\\xc6\\xa6^\\xd9\\x9a\\xee\\xc1}\\xb8q\\xcd\\'3\\xb8\\x83@1\\x12\\x80\\xe0-\\xc6U\\xc5\\x9c@\\xc0\\x07\\x81\\xa6\\xf6f2Do\\xb0\\x97L\\xdc\\xc9\\xc6,\\xdd5\\xe0\\xa4:\\xd2Si:\\xb0r\\'\\xb55\\xb4P\\xdd\\xfcq\\xa6\\x1e\\xab\\xa9\\x1fL}\\xeaj\\xa8i\\xfd~:\\xb2\\xa9\\x91\\x06\\xcf\\x1c#\\xd4i\\xd9\\xdb\\xc4\\x8c<\\xd9\\x97q\\x04\\x82{i1\\x8d4\\xcd\\xde\\x97FZL\\xf4\\xafAy\\xff\\x85\\xf9\\x95\\xc5\\xb2,0;\\xa6*\\x08\\x0bs)}f\\x923&\\x16x\\x18\\xbf\\xa8\\xb4\\xb6\\xdf\\x1e\\x92\\t\\xd2\\x9b\\xf0\\xa4\\x06\\xa5\\xaf\\x06\\x9c@\\xa0\\x88\\t\\x88\\xfeM_\\xc4S\\xc6\\xd4@\\x00\\x04\\xec\\x04\\x0e\\x1c?\\xe4z\\x1c\\x99\\x93\\x90?\\xe1\\xc7\\n%\\x01r\\xe3\\x98\\xc2\\xa0\\xe9#i\\xfb_\\xd7P\\xff\\tuT5\\xa8o\\xce\\xb3n\\xde8\\xda\\xf3\\xf4:\\xaa\\x1c\\xdc\\x97\\xfa\\x0c\\xad1\\xed5\\xe3\\x87P\\xeb\\x9e&j?\\xdc\\x9a\\xf3;\\xfc\\xd6n\\x8a\\x95\\x97Q\\xbf\\xfa!\\x8e\\xd2y]\\x94\\xef\\xbf\\xff\\xe4\\xe1\\xd4\\xba\\xfb0\\x1d\\xdf\\xd7\\x9c\\x8f_e{B\\x05\\'\\xa6\\x04\\xbd{\\x9a\\xa3\\xcc%*\\xc6\\xd4\\x08u\\x9d\\xb0\\xa8N\\x14v\\xa6W\\xf6\\xbb\\xa2\\xea\\xe7\\xa3\\'\\xfd\\x80\\xf5\\x03H\\x1f!p\\x05\\x01\\x10(2\\x02\\x10\\xbcE\\xb6\\xa0\\x98\\x0e\\x08\\xf8%p\\xb0-\\x7f\\x14 \\x1bk\\xd7\\x1c~\\xdf+\\xd5\\xb7%5\\x8e5\\x1czs\\x17\\r\\x9do\\x1dg\\xc8\\xc6\\xd7\\xcd\\x1fo\\x1es\\xc8\\x1eg0\\xce\\x1f\\x0c<e\\x04\\x8d8\\xf3dZ\\xfd\\xbd\\'\\xa9q\\xd9V\\xda\\xfb\\xcc:\\xda\\xf4\\xab\\xa54\\xf9\\x9a3\\xa8\\xac\\xba\\xc2\\xb3t\\xbf\\xf1u4\\xea\\xfd\\xb3h\\xd5-\\x7f\\xa1-\\xbfz\\x9e\\xd6|\\xf7qj\\xddn=%B4O\\xcf\\xa4\\x0e\\x07\\xd9\\x7f\\x1c\\xc8\\xc6\\x04\\xdb\\x9f] \\xfe\\xa4\\xf3Q\\xad\\x17\\xc6O\\xda\\x80\\x8fA\\x1f=@\\xf0\\xfa\\xe0\\nW\\x10(R\\x02\\xf8\\xd1Z\\x91.,\\xa6\\x05\\x02\\xaa\\x04\\x0e\\xb6\\xbb\\x05/\\x1b\\xcb\\t\\x0c\\xc6\\xd1r\\xb3\\xc4\\x1d/\"\\x9d?\\xf2!\\xb7B\\x00\\x00 \\x00IDAT\\x8e3\\x84\\xee\\xf1C\\xad4\\xe2\\x1d\\xf9\\x1f\\x9d\\x19ik\\xa7\\x8d\\xa4\\xfa\\x0bg\\xd3\\xf0\\xc5\\'9\\xaaL\\xf9\\xccYtdk#\\x1d\\xd9\\xb8\\xdf\\xdc\\xd9\\x9d\\xf3\\xad\\x0b\\xa9\\xaa\\xae\\xbf\\xe9\\x13\\xefSAc/\\x9c\\xe3\\x10\\xbf\\xc6\\xf1\\x861\\x17\\xce\\xa1\\xf2\\xfe}L\\x9f\\tW-\\xa6\\xc1s\\xeb\\xe9\\xe8\\xd6F\\x1a0c,\\xf5\\x19\\xd6\\x9f\\x8el\\xb0\\x9e\\x14\\x91/\\x94\\x17\\xa7\\xae90\\xe7w]>\\x0c\\x97.5qk\\x13\\xb5-\\xaa\\t\\x9c\\x80\\xbe x\\xa3Z<\\xe4\\x01\\x81\\xdeK\\x00\\x82\\xb7\\xf7\\xae\\x1d:\\x07\\x81H\\x08\\x1c2nX\\x0b\\xf4bv,91\\xe3\\x91\\xbbrH?\\x9a|\\xd5i\\xa6\\x97=\\xdc8\\xee0\\xe9\\xca\\x85.\\xbb\\xe1\\xd3\\x7f\\xe2P\\xf3\\x8f\\x19c\\x0b2vy\\'^\\xb9\\xc8\\x16\\xa3Q\\xac\\xa2\\x8c&\\\\\\xb1\\xd8\\xd1\\xc5\\x80)#i\\xc0\\x94Q\\xb9z}\\xeb\\xeb\\xd8\\xbf]\\xf7h\\xdds\\xd8S\\x08s\\xbc\\xc2\\xd8|u\\xe4\\xe9\\xect\\x08\\xd3W\\xc1e%>+\\xcb\\xdd\\x15\\xfa2n\\\\\\xc3\\x0b\\x04@\\xa0\\xb4\\t\\xe0HCi\\xaf?f\\x0f\\x02t\\xb0\\xadIp\\xf6\\xd5\\x80\\xc3\\x88\\xda\\x1e\\xc4\\xcc\\xd2:\\xb2\\xddd\\xa7\\x88\\xe6\\xb4Qn:\\xd2A\\x9f\\x93v\\xe5\\xea\\x1e\\x8e\\xa1\\xce\\xef\\xbaz\\x16\\x1c\\xb3\\xf0\\x89B\\xe8\\xaeZ/\\x8c_\\xa6\\xb8\\xde\\x9a\\xbf\\x9cD\\xd8\\x0f\\x06@\\x00\\x04\\x8a\\x9a\\x00\\x04oQ//&\\x07\\x02\\xde\\x04Z:\\x8f\\t\\x9drZ#\\xa2\\xeb\\x84\\xcdB\\x9c\\x801\\x07d\\xa2P0&\\xcc%\\x9cRn\\xc0\\x1e\\xaa\\xf2\\xde;\\xa3\\xa0G\\xef@\\x9e\\t77U\\x9bJ\\xcd\\xa0>\\xaa=\\xa8\\xfa\\x05\\xedC%.\\xd3\\x83~\\x0c\\x82W\\x05\\x17|@\\xa0\\x98\\t@\\xf0\\x16\\xf3\\xeabn \\xa0@\\xa03\\xd5\\xa9\\xe0\\xe5\\xc7E\\xb6\\xe3\\xaav\\xb9\\x85\\x9fj\\x9e\\xbe\\x9c\\xf0\\x92\\x06\\xf1\\xc2\\xd5L\\xe3\\xe3\\xfc\\xaegYO\\x07i\\x93\\xf2A.w\\xd46y\\x07\\x8eQ\\xaet\\xce\\x81\\x1b\\x8c\\xda\\x86\\x1d^\\x1f\\xab\\x05W\\x10(N\\x02\\x10\\xbc\\xc5\\xb9\\xae\\x98\\x15\\x08(\\x13\\xe8H%\\x04\\xbe\\xbc\\xf0\\xb3\\x9c\\x991N\\xa4\\x082{\\x99\\xed\\x7f5oO+z\\xcf\\xe7cz\\xcc9\\xca\\xc6\\xf8l\\xcaV\\x86\\x03c\\xe2\\xd3q\\x8e\\x91\\xd9\\xb8D|\\x1bJV.]\\x18\\x9bR\\xd1`N\\xd8\\xe1\\r\\xc6\\rQ PL\\x04 x\\x8bi51\\x17\\x10\\x08@\\xa0\\xc3\\xb6\\xc3+\\x12\\x94\\x9c\\x8e\\tP*`\\x88@\\x9c\\x9aM\\xc9v\\x93\\xc5\\xe7w]\\xf3q\\x19\\x02\\xb6\\xca\\x86\\t\\xfa\\xcf\\xfaFT[9\\r\\xe7\\x18\\xc6\\xc6\\xce9\\x801L\\x0f^\\xb1\\xc7\\xf3\\xcfm\\x0e\\xd0\\x19B@\\x00\\x04\\x8a\\x80\\x00\\x04o\\x11,\"\\xa6\\x00\\x02a\\x08t\\xa6E;\\xbc\\x99\\xac\\x05b\\xc2\\xfeQ\\xe5}\\xbe7\\xeb:a\\xbeW\\x0fQ\\xc8\\x07EbU\\x99\\x83\\xe5\\xe3\\x16\\xd7\\x8e\\xb9E\\xd2\\r\\xcf\\xdc\\xb4z\\x89\\xbal}U\\xbf\\xa8\\xfaU\\xad\\x17\\xc6/l\\xaf\\x81o\\x12\\x0c[\\x18\\xf1 \\x00\\x02=\\x85\\x00\\x04oOY\\t\\xf4\\x01\\x02\\'\\x88\\x80\\xff3\\xbc2q\\xea\\x1eS\\x17\\x94\\x16\\x00\\xf6I\\x03A\\xd9p\"+\\xc8\\x8f\\xe3\\x8c\\xfaL.\\xdfs\\x93\\xcd\\x83\\xc9/s\\xf77\\xc6$gL\\xdc\\x1c\\x95m\\x82\\x86\\xb82\\x02W\\xb1\\x99K\\xe2\\xc7\\x96\\x0ezu\\xb6\\xb8%\\x8c\\x80\\x00\\x08\\xf4.\\x02\\x10\\xbc\\xbdk\\xbd\\xd0-\\x08DN \\xc1\\x9e\\xe1u\\x0bWiaN|H\\x03\\xd4\\x06\\xe5\\x82\\xd2\\xbd\\xe3\\x9a\\xf7\\xf7\\xd9\\xbfZ;\\xde^\\x1e\\x1c\\xaa\\xe2\\xde\\xb7\\xc19\\x8ap\\xf9\\x18\\x1b\\xfb\\x1f\\t\\x8c\\x1f+^\\xbdg\\xa5\\xe6\\xa1Z/\\x8c\\x9fZ\\'./=\\x9dr\\xd9`\\x00\\x01\\x10(-\\x02\\x10\\xbc\\xa5\\xb5\\xde\\x98-\\x088\\x08\\xe8\\xa4S:\\xa3\\x96\\xe4\\xe2\\xd2\\n\\xe3\\xb4\\x8a2Ra\\xb0L\\x9c\\n\\xc6\\x84\\xb9\\xf2\\xdd(\\xcf\\'\\xe3\\xa8\\x90R0UA\\x8f\\xa6\\xb7s\\xec\\xcb\\xb3/\\xb0r$\\xda\\xc5@\\xb9F8\\x9b\\xa0\\x1b\\xdff.w\\xd46\\xdfM\\t\\x02\\x82\\xf6\\x85\\x1d^\\x01P\\x98A\\xa0t\\x08@\\xf0\\x96\\xceZc\\xa6 \\xe0\"\\xa0\\x91F\\xe5q\\xc9\\x85\\x8b\\x9c\\xc0\\xc8d\\xb1\\x0fy\\xbfw>\\x8e\\xcc\\xd5H\\x8f0\\xe4\\xc5\\xa9k>\\x1e\\x8f#Si\\xff\\xec\\xd1\\xa7\\xd2\\x87O\\xb2n\\x81K<r\\xbbJ\\x88\\xdc\\x87[\\x9b06y\\xb5p\\xa3a\\xfa\\xe2b\\xfdv\\x03\\xc1\\xeb\\x97\\x18\\xfcA\\xa0\\xe8\\x08@\\xf0\\x16\\xdd\\x92bB \\xe0\\x8f@U\\xbc\\xd2G\\x00\\xb3\\x9b\\x99\\x13$\\xcc\\x98 \\xb3KPf\\xfcT\\x1eG&H\\xe96\\xb3BI\\xbdGwB\\xb1E8\\x9fL\\xc8\\xd0\\xea\\x81\\xf4\\x8d\\x05\\x97\\x9a\\x9f\\xd2k\\x9f\\xa6\\xf4\\xfa\\xe7\\x9c\\xc9\\xb8^Um\\xe2\\xb62#\\\\\"&\\x88s\\x0bi\\xe3\\xc2\\x99\\xca\\xfeM\\\\b\\x89M\\xab\\xa8\\xf2_\\x03\\x11 \\x00\\x02EE\\x00\\x82\\xb7\\xa8\\x96\\x13\\x93\\x01\\x01\\xff\\x04*\\xcb*\\x0b\\x8evv\\x8d(\\xf4\\xdf\\x19\\x1fa\\xe9\\x1a\\xabG\\xbb\\xc6\\xc9\\xbf\\xf7\\xb1\\x9b\\xcc\\x89$\\xbe\\xac\\xb7U\\x90+\\xa6i\\xf4\\xad\\x85W\\xd0\\x80\\x8aj\\xd2[\\x9b(\\xf1\\xd0\\xad\\xde\\xb9|x\\x84:\\xbf+\\xe8\\xd9Gy\\x7f\\xae\\\\\\xbd06\\xd5\\xeaU}T=\\xe1\\x07\\x02 P\\xa4\\x04 x\\x8bta1-\\x10P%PY\\xf0C*^D\\xfax\\xa6-W\\x98\\x135\\xa6\\x9fL\\\\\\x0b\\xc6\\x84\\xb9\\xb8\\xc2j}\\x8b\\xe6\\xccg\\xb4[\\x05=\\xda\\xe6\\xf6\\xc9i\\xe7\\xd1\\xbc\\xa1\\'\\x11\\xe9iJ\\xfc\\xf63\\xc6\\x1e\\xaf\\x95\\x80\\x9bG\\x18\\x9bw\\xb3j\\x1eazP\\x8dU\\xeb\\xc4\\xdbK\\xb5^%\\x04\\xaf7Lx\\x80@q\\x13\\x80\\xe0-\\xee\\xf5\\xc5\\xec@\\xc0\\x93@\\xa5\\xe8H\\x03\\'&\\x84\\xd9\\xd4w\\\\}\\xa5\\x15\\xd6\\xf3\\x18\\xf0]\\x84\\x17\\xaef\\x1a\\x8f\\xf3\\xbb\\xf6R\\x85eg\\xd7M\\xa0OL;\\xd7l6\\xf9\\xf4=\\xa4\\x1f\\xdc\\xe9\\xd1x\\x88\\xe1\\xc2\\xe2f\\xefL\\xbe06&\\x9d\\xc8\\xc4\\x95\\xc9\\xf9r\\x83al\\xa2&2v\\xad\\xb2\\xda\\xc3\\x03\\xc3 \\x00\\x02\\xc5N\\x00\\x82\\xb7\\xd8W\\x18\\xf3\\x03\\x01\\x0f\\x02Ue\\xf6Ge\\xf1\\xc2\\xcfJ\\xc1\\x8cq\"\\xc5\\xa3\\x9e}\\xd8\\x1e\\xaer~\\xd7\\xbb\\x1c\\xd3c\\xae\\xa0l\\xccG\\xd3\\x8a\\xae\\xfd*\\xfa\\xd0\\xb7\\x16^I1-F\\xfa\\xceU\\x94Z\\xf6\\x07>\\x92\\x9bT\\x18\\x9b\\xa3\\n\\x97\\x88oC\\xc9\\xca\\xa5\\x0bcS*\\xaa\\xe0\\xe4\\xd5\\x03\\x8e4(@\\x84\\x0b\\x08\\x147\\x01\\x08\\xde\\xe2^_\\xcc\\x0e\\x04<\\t\\xf4)\\xcb\\xffu/\\xa7\\x1b<\\x13t\\x89\\x83@\\x9c\\x9a\\r\\xcav\\x93\\xd5\\x8e0\\x98-G9YW.\\x8dnY\\xf0\\x11\\x1a\\xd1\\xb7\\x96\\xa8\\xa3\\x95:\\x7f\\x7f\\xbd\\x93\\x92\\xcb?\\x18D6\\rg\\x8c\\xda\\x16\\xac]wT\\xd4}q\\xf9\\x8coL\\xdf\\xfe\\xee\\xda\\xb0\\x80\\x00\\x08\\x94\\x14\\x01\\x08\\xde\\x92ZnL\\x16\\x04\\xdc\\x04\\x06U\\rt\\x1bu5\\xe1h\\xd7\\x17\\xbc\\xd6(\\xcd\\xeb\\x84/:i1\\x9d5z\\x06\\x91\\xaeS\\xe2\\xc1\\x1b\\x89\\x92\\x9dn\\xc6\\x85\\x16\\x0e`\\x18[a\\xfe(?\\x87\\xe9\\x8b\\x8b\\x8d\\xb2\\xb7\\xc2\\\\:\\x916\\xa8\\xae\\xd0\\x8a\\xcf \\x00\\x02%F\\x00\\x82\\xb7\\xc4\\x16\\x1c\\xd3\\x05\\x81B\\x02C\\xab\\x07\\x17\\x9a\\x98\\xcf\\x82\\x1dW\\xd3\\xd3=&\\x12\\xc2B{\\x94\"\\x88\\xcd\\xe5\\xee1?I\\xc9\\x18\\x93K8\\x87L\\xc2\\t\\x03\\x86\\xd3\\xf5\\x99\\x0b&R\\xaf?D\\xe9\\x9d\\xab\\xad\\x11&W\\xa4\\xbb\\xcc\\x85\\xab\\xc6=\\xbeA\\xb5\\x07U\\xbf\\xc2\\x9a\\x99\\xcf\\\\\\xb8\\xc0\\xd5\\x1f\\x1b.\\xb1\\x82M\\xab\\x1d*-\\x8fA\\x10\\x00\\x81\\xe2\\'\\x00\\xc1[\\xfck\\x8c\\x19\\x82\\x80\\x94@]\\x9f\\xac\\xe0\\x95\\x08?.\\x03\\'48?\\x9f6\\xb9\\xa0t\\x1fg\\xc8\\xa7\\xf7\\xd9\\xbf\\xcf\\xbe\\x84\\xee\\xb6\\x86+\\xe2et\\xc7\\xa2\\x8fRU\\xbc\\x9c\\xf4\\x83;(\\xf9\\x8f\\x1f\\n\\xc3\\x84\\x03\\x1cW\\xc6\\xc6\\xe9YV@\\xdbb\\xef]\\xddH\\xaf\\xef?\\xe6*\\xbd\\xe1\\xf0q\\xfa\\xd1\\xeb\\xfb\\\\v\\xce\\xd0\\x91J\\xd3\\x0fV\\xec\\xa5C\\xedI\\xeaH\\xe6\\xdf\\xe7|\\x99^\\xbd\\xfa\\xe2\\xeaDi\\xd3\\x06A\\xf0F\\xc9\\x13\\xb9@\\xa07\\x12\\x80\\xe0\\xed\\x8d\\xab\\x86\\x9eA B\\x02u\\x99\\x1d^\\xb9\\xd0\\x0cX\\x90\\x13?\\x9e\\xa9\\x04\\xc2U\\x90K\\xa5o\\x97\\x8f \\x97gk\\x1e\\x0e_\\x9a}!M\\x1a8\\x92(\\x95\\xa4\\xce\\xfb?\\xc7\\x9f\\x13\\xe6js6\\x8fZA\\x86\\x7f\\xf0\\xea^zq\\xf7QW_k\\x0e\\xb4\\xd1-/\\xedr\\xa7d\\xfa:\\x9e\\xd0\\xe9\\xe6\\x97w\\xd1\\xfe\\xd6\\x04\\x1dO\\xeat\\xf3\\xb2]\\xb4\\xbf-\\xe1\\x8e\\rba\\xea)\\x8beI,\\x8e4\\x04Y\\x0c\\xc4\\x80@q\\x11\\x80\\xe0-\\xae\\xf5\\xc4l@\\xc07\\x81\\xac\\xe0\\xcd\\x05r\\xc2!3\\xe8\\x12\\x8eR\\xbb\\xec\\x02\\x08\\x81\\xa8\\xf5\\xdd}\\xb8\\x00\\xe9|\\xa4\\x8f#s\\xf7o\\x9c\\xd9\\xbd\\xe8\\xa4\\xd3\\xcd\\x86\\x12\\x8f\\xdeFt\\xecpt\\xcde3qk\\x13\\xc6\\x16\\xae\\xc3|t\\x98\\x1eTcC\\xf4\\x8a\\x1d\\xde\\x10\\xf0\\x10\\n\\x02EB\\xa0\\xacH\\xe6\\x81i\\x80\\x00\\x08\\x04$0\\xa8r\\x00\\x95\\xc5\\xca(\\x91N\\t2\\xb8\\xc5]\\xdeQ6\\xe6L\\'\\x14\\x97\\xb6\\x01N\\xfb\\x08\\x9a\\xe2\\xcdl\\x02Y\\x8f\\xb21\\xbeD\\xd6j/Ug^\\x1d|\\x999d\\\\\\x1b\\x9c^\\xf7\\x8cx\\xf2\\\\\\x02\\x99M\\xde\\x86`\\x94\\x05\\xe1\\xf6\\xe5\\xdc2\\xb67\\x1aZ\\xe9\\xb5\\xfd\\xc7(\\xad\\xeb\\xf4\\xbe\\xfaZ\\xaa\\xef\\xafv\\x05\\xf5\\xeb\\x8d\\xad\\xf4J\\xc3Q\\xaa\\x8a\\xc5\\xe8]c\\x06P}\\x8dZ\\x9c\\xbb\\xb9\\x02\\x8b\\xa4W\\x87g\\xa1_Y9iCFx\\xa6\\x87\\x03\\x08\\x80@q\\x13\\x80\\xe0-\\xee\\xf5\\xc5\\xec@\\xc0\\x93\\x80\\xa6id\\x9c\\xe3\\xdd\\xdb\\xda\\xe8\\xe9\\x9bs(\\x14\\x15\\xea\\x91\\xca\\x9e\\xf6\\x12\\xd6{K\\x9c\\xba\\xedFJ\\xd9nrA\\xc9({\\xd7\\xc9|\\xce\\xee\\x1d\\x8b\\xae\\xa2\\x01\\x15}3W\\x07\\xdf\\xac<G%G\\xa6\\xdf \\xe7w\\xb3\\xb5^\\xd8\\xd9B\\xa9t&i\\xe6\\x1fo\\x1ehs\\xb4r\\xfb\\xb2\\xdd\\xf4\\x97\\xcd\\x87\\xe8\\xe6\\xd3FS[2M\\xef{t=}\\xff\\x8cq\\xf4\\x81\\t\\xb5\\xd2\\x96oX\\xb2\\x9d^i8F\\xff>{$\\x1d\\xe9H\\xd2\\xf9\\x8f\\xad\\xa3\\xaf\\xcd\\x1dEW\\x9fRp\\x86\\x96\\x99\\x93\\xf2\\xd1\\x05i\\x07\\xee\\xc1\\xd8\\xc8z\\xa2x\\xdc=\\x00\\x0b\\x08\\x80@I\\x11\\x80\\xe0-\\xa9\\xe5\\xc6dA\\x80\\'0\\xb6\\xff\\xa8\\x9c\\xe0\\xe5\\x05\\xa5\\xeb\\xd8\\'\\x9f\\xc8n\\xe5D\\x8d9.\\xdbU\\x15\\x8c\\ts\\xf1m\\xa8\\xccA\\xe4\\xc3g\\xb4[\\x9d=^3\\xf5\\\\\\x9a]7\\xd1\\xba:\\xf8\\xbe.\\xbc:\\xd8\\'\\x03\\xd1<\\x8e\\'\\xd3\\xd4\\xd4\\xee\\xdc\\xcdoKd\\xae;&\\xa2-\\xcd\\xedt\\xd7\\xeb{\\xe9\\xd5+f\\xd0\\x94A\\xd63\\x9a\\x87\\xf6)\\xa7\\xeb\\x9e{\\x9b\\xdeW\\xcf<\\xc2.Sh\\xd9\\xbe\\xa3\\xf4\\xbb\\xf5\\x07h\\xddU\\xb3hx\\x9fr\\xd3:\\xa2\\xba\\x82\\xae\\xf8\\xe7f\\xfa\\xf0\\x84\\xc1\\xd4\\xbf\"\"\\xd1\\xc9q\\x90\\xd8\\xb4Q\\xe3E(`\\x07\\x01\\x10(!\\x02\\x10\\xbc%\\xb4\\xd8\\x98*\\x08\\x88\\x08L\\x1c8\\x8e\\x96\\xef[\\xa9\\xacj-}\\xa1\\xbe\\xe3\\xca\\xe9\\x11Q/\\x81\\xed\\xbe\\x8b\\xf0\\xe2\\xdaL#=\\xbf\\x9b\\xc74\\xd3\\xb8:x\\xfayf\\xcb\\xc9g\\xff\\xa7k\\xaf\\x0e\\xe6\\xc0ps\\xf6\\xb0\\xbdg\\xfc@\\xbaa\\xde\\x08\\xc7Z\\xffy\\xc3!\\xfa\\xc7\\xf6f\\xb3\\xc2+\\xfb\\x8eQEL\\xa3\\'\\xdfn2\\xff\\x18\\xaf\\xd6\\xce4\\xed=\\xd6I\\xdb\\x8etP]F\\xcc\\x16\\xb6\\xb3\\xea`\\x1bM\\xae\\xad\\xa2\\xe1\\xd5\\xe5\\xb9\\xdcg\\x8e\\xeaO\\xc6S\\x1d\\xd65\\xb5\\xd1\\xc2\\xa15\\x85!\\xfc\\xf7\\xcd\\xa3\\x7fw\\x12\\xb9%6z\\x82\\xdc\\x01\\xa3 \\x00\\x02%A\\x00\\x82\\xb7$\\x96\\x19\\x93\\x04\\x019\\x81\\x93\\x06\\x8e\\x1380\\xa2\\x90\\x13$\\x82h\\xcel\\x0f\\xef\\xcd\\xd7\\t\\xd7\\x94[W\\x07\\xc7\\x8d\\xab\\x83w\\xbdI\\xa9e\\x0fp\\xd3\\r\\'\\xea8\\xd6\\x9c\\xcdQ\\xd9\\xd3\\x81\\xef\\xd3\\xb0\\xeaD)]\\xa7\\xf2\\xb8\\xe6\\xda\\x05\\xbeq\\xeeH\\xeaS\\xe6\\xefw\\xce\\xd9\\xf5Md\\x8fP\\x88+\\xfb\\x1f\\xe1\\xa6\\xc9\\xd8\\xb4Q\\xf5\\xfes#\\x02\\x04@\\xa0\\xe8\\x08@\\xf0\\x16\\xdd\\x92bB \\xe0\\x9f\\x80\\xb1\\xc3{\\xe2_\\x8c\\xb86\\x9a2E\\x8cl7\\xd9\\xa9)\\x19\\xcd\\x93\\x9f\\x9at\\xd0\\x1f\\x81\\xaf\\xce\\xbb\\x84F\\xf4\\x1dD\\xd4y\\x9c:\\x1f\\xf8\\xa238\\xc2:\\x85]\\xb1\\xa99#g+L\\x96\\xe3\\x9b\\x1f\\x987\\xac\\x1f\\xb5&\\xd2t\\xf9)Ch\\xda\\xe0>.\\xb8\\xcd\\x1d\\xfc\\x8f\\x1bg\\x0e\\xae\\xa6MM\\xed\\xb4\\xaf\\xb5\\xd3<\\xca`\\xbc^\\xd8\\xd3BUe1\\x9a9\\xb8o\\xbe\\x00\\xd7W\\x18\\x1b7\\'\\x9b-V\\x7f\\x8a\\x87\\x07\\x86A\\x00\\x04J\\x81\\x00\\x04o)\\xac2\\xe6\\x08\\x02\\x1e\\x04\\xfaW\\xf43\\x7f\\xb8\\xd6\\xd8v(\\xe7i\\xd7 *\\xef\\xf3%z\\xceu\\xc2*}\\xbb}\\x04\\xc2\\xdb\\x9c\\xa05\\xf6\\xa1\\x89\\x8b\\xe9\\xdc\\xb1\\xb3\\xad\\xab\\x83\\xff\\xf8e\\xa2d\\x87\\x07\\xe1\\xacp/p\\x0b#\\xf4\\xb8X\\xef.<=\\xa6\\x0e\\xeeC_\\x9d?\\x92\\xce\\xfd\\xcb:\\xbad\\xd2`\\x1aSSa\\xce\\xba*\\x1e\\xa3k\\xa7\\x0fs\\xc6\\xdbzX<\\xa2\\x86.?y\\x08]\\xf4\\xe4&\\xf3Gk-\\x9dI\\xfa\\xde\\x8a\\xbdt\\xd7\\xe2q\\xd4\\xbf<\\xa2\\xf3\\xbb\\\\\\xf7\\x1c\\x87\\x8cM\\xab\\xad#m\\xc8p.\\n6\\x10\\x00\\x81\\x12#\\x00\\xc1[b\\x0b\\x8e\\xe9\\x82\\x80\\x88\\x80q\\xac\\xc1.xE~\\x96\\xdd-\\n\\xdd\\xc2\\xd1\\xf2\\x14\\xd9\\xe5\\xf9}\\x8er\\xa2G\\x9a\\xc2\\xdd\\x7f\\xce=\\x93K\\xd4w}\\xff\\xe1t\\xc3\\xec\\x0bM\\xf7\\xd4\\x1b\\x0fSz\\xe7*\\xf7D\\xb3\\xc9\\xb8\\xbe8\\x9b\\xb4W\\x1f\\x83\\\\n\\x9b\\xed\\xda\\x99Ci\\xde\\xf0~\\xaec\\x16\\'\\x0f\\xeaC_\\x9a\\x9b\\x7ft\\x97\\xf1t\\x06\\xe3\\x89\\x0c\\xcb\\xf7\\x1d\\xa3DJ\\xa7Q\\xfd*h\\xd1\\xf0\\x1a\\xaa\\x88k\\x94\\xd25\\xbaq\\xceH\\xaa\\xab*\\xa3\\xca\\xb8F7\\xce\\xb6\\xde\\x1be\\xee9s<\\xadhl\\xa5\\xe5\\xfb\\x8f\\x9a\\x02\\xf9\\x9f\\x1f\\x98Bc\\x8d\\xc7\\x92y\\xf4U\\xc8\\xde1c\\xd5X\\x06S\\xec\\xe4\\x99\\x8c\\x15&\\x10\\x00\\x81R$\\xa0\\xe9:\\xfb\\x80\\x9bRd\\x819\\x83@I\\x13xh\\xd3\\xdf\\xe9\\xfeu\\x8f\\xe4\\x18\\xe8\\xb6\\xa7)\\xe44\\x87\\x9e\\xd5.\\xb2#\\x06\\x1a\\x89\\xcf\\xe6\\xe6\\x85\\xa6\\xdbG\\x90\\xd3,\\xee~\\xec\\x98\\xd5S&\\xc6&\\x8a\\xf2o\\x9d1\\xa6=3\\xc8\\xce-;,\\xf9\\xc1ZE\\xbc\\x9c\\xfe\\xf7\\xdc/\\xd3\\xc4\\x01#H?\\xbc\\x93:\\x7fvY^\\xcc\\xd9\\x85Y\\xf6}\\x17\\xd8r)\\xd9\\x1a\\xb6\\x82\\xecxfy\\xbb\\xbd/I]\\xdb\\xba8\\x84q\\x04\\xfd\\x97\\x7f\\xf4\\xcbTv\\xfe\\xa5%\\xfd\\xbfkL\\x1e\\x04@\\xc0\"\\xe0\\xef\\x17\\x08\\xa0\\x06\\x02 P\\xb4\\x04f\\x0c9\\xf9\\x04\\xceM\\xb0\\xe3j\\x8a\\x1e\\xf7\\x18\\xa7\\xd7\\x0cO\\xa9\\xdd>\\x18p\\xa6_\\x9cy\\x81)v\\xcd\\xab\\x83\\xef\\xfbl\\xf4;\\x97\\x1e})O\\x81s\\x8c\\xda\\xe6\\xd1\\xab\\xf2p\\xd4}\\xd9\\xf2\\xc5&\\x9f\\xaa\\xdc\\x06\\x1cA\\x00\\x04\\x8a\\x9b\\x00\\x04oq\\xaf/f\\x07\\x02\\xca\\x04&\\xd5\\xd6SM\\x85\\xf5\\xe3\"\\xa9p\\xccd\\xe4}z\\xce\\xf9]\\xd1\\xc4\\xf9\\xbe3\\xda\\x95\\xd9\\xdd\\xcd\\xe6Y<b*]4\\xe9\\x0c\\xf3c\\xe2\\xf1o\\x11\\xb5\\x86\\xbc:\\x98k0j\\xf1\\xc7\\xd5\\x88\\xca\\xd6\\xd3{\\xad\\xaa\\xa6\\xd8\\xd8\\x93\\xa2\\x9a-\\xf2\\x80\\x00\\x08\\xf4r\\x02\\x10\\xbc\\xbd|\\x01\\xd1>\\x08DE\\xc0\\xb81l\\xd6\\xd0\\xa9\\x99t\\xee]\\xd5|\\x1d\\xd9\\x98\\xc7.k&\\x89\\xfb8C\\x88Yp\\xc2\\x8b\\xd9\\x15V\\xed\\xbf\\xb0\\x13#}]\\x9f\\x01t\\xebiW\\x9aY\\xd3\\x1b_\\xa0\\xf4\\xba\\xa7\\x9dn\\\\\\x0fal\\x85M(}f\\n2\\xa6\\xc8\\xcf\\xd3\\n~\\x8f\\xa7\\xd4\\xb2\\xdd)\\xe2^\\xe3\\xd3\\x17\\x10\\xc5\\xf13\\x15\\xdf\\xeb\\x80\\x00\\x10(R\\x02\\x10\\xbcE\\xba\\xb0\\x98\\x16\\x08\\x04!0g\\xe8tq\\x18\\'H\\xc4\\xde\\x81F\\xec%\\xac\\xf7\\x82s\\xbdfv\\xf7\\xb9^a\\xd1\\x10\\xbd\\xc74\\x8dn=\\xed*\\x1aP\\xd9\\x97\\xf4\\xb6fJ<\\xf4u\\xabL\\x88\\x9c\\xc2>\\xb3\\x03Ln\\xf6\\xd7\\x16\\x8c\\x9f\\xb2\\xa0\\xf5lB\\xd1!L\\x0f\\xaa\\xb1\\x8a\\xad\\xd8\\xdd\\xe2\\xb3\\x16\\x07\\x88B\\x08\\x08\\x80@\\xb1\\x12\\x80\\xe0-\\xd6\\x95\\xc5\\xbc@ \\x00\\x81\\xd9C\\xa79\\xce\\xccrzD\\x9aV\\x18 \\xdb\\x15\\x16\\x8c\\ts\\xf1\\x1d\\xd8\\xddU\\xde\\xf3Y\\xdc\\xd6\\xab\\xa7\\x9eG\\xf3\\x86M2\\xaf\\x0eN>\\xf0yc\\x8f\\xd7\\xed\\x94\\xb5p=\\x87\\xb1\\x89+\\x85\\x1f\\t\\xd3\\x17\\x17\\x1b\\xbe#q\\x06\\xae\\x9e\\xcc\\xa6i\\x14\\x9b\\xb9H\\x9c\\x0f# \\x00\\x02%G\\x00\\x82\\xb7\\xe4\\x96\\x1c\\x13\\x06\\x011\\x81\\xda\\xaa\\xfe4a\\xe0\\x18\\xd6\\xc1\\xd2\\x17\\x11\\xed\\xb8\\xb2\\x15\\xba\\xc3\\x98\\x17\\xd7.Q\\xcc\\x9c\\xdf\\x9d2h,}|j\\xe6\\xea\\xe0\\xe7\\x7fF\\xe9\\xc6m\\xee&9\\xe1\\xe5\\xf6\\nf\\xe1rGm\\x0b\\xd6\\x99;*\\xea\\xbe\\xb8|\\xee\\xaa\\xac%6n\\x12\\x19\\xcf\\xe0\\xc5\\x0b\\x04@\\x00\\x04\\xb2\\x04 x\\xf1]\\x00\\x01\\x10p\\x10\\x98;l\\x86\\x9bH\\x00\\xf1\\xe1\\x12\\x94\\x99\\xac\\xa2\\xf3\\xbb\\xfeJd\\x84+\\x1b$\\xd81v\\xcfJj\\xe9W\\xde\\x87\\xbe\\xb3\\xf8\\x1a*\\x8b\\xc5I\\xdf\\xf3\\x16\\xa5\\x96\\xfd^\\xea\\xef\\x18\\xe4\\xfa\\x8a\\xda\\xe6YP\\xb1\\xdd\\x90}q\\xe1\\x8a\\x95\\xfd\\xbbq\\xc5\\x18[l&\\x8e3\\xf8\\x87\\x8b\\x08\\x10(n\\x02\\x10\\xbc\\xc5\\xbd\\xbe\\x98\\x1d\\x08\\xf8&\\xf0\\x8eQ\\xf3}\\xc7D\\x1d`i\\x18\\xd9n\\xb2\\xf8\\xc7q\\xae^\\x18A\\xe4\\xf2a\\x0c_\\x9b\\x7f\\x19\\r\\xef[\\x9b\\xb9:\\xf8\\x0bN\\x0f.\\'gc\\xf2\\x061\\xb1\\xa99c\\x18[\\x90\\xc6\\xb8\\x980=\\xa8\\xc6rum\\xb6\\xf8\\xc2s=<0\\x0c\\x02 Pj\\x04 xKm\\xc51_\\x10\\xf0 0\\xae\\xffH\\x9a8p\\xac\\xf0\\x99\\xb6\\xc2pN\\xac\\x98\\xce\\xb2\\x1dW\\xc1\\x980\\x97\\xb0zn\\xc0\\x1e\\xaa\\xfe\\xde\\xd9\\xc7\\x05\\x13\\x16\\xd1\\xbb\\xc6\\xcc2\\x9f?\\x90\\xf8\\xcbMD\\xc9v\\xef\\xc2\\x9c\\x077\\x8f\\xa8m\\\\\\xdd \\xb6\\xa8\\xfb\\xe2\\xf2\\x05\\xe9\\x8b\\x8b\\xe1rgl\\xb1q\\x93)6f\"\\x17\\x05\\x1b\\x08\\x80@\\t\\x13\\x80\\xe0-\\xe1\\xc5\\xc7\\xd4A@D\\xe0\\xec1\\x0b\\x99!\\xd9\\x8e+s\\xabY&\\x03\\xa7M\\x98\\xe4\\xfeM\\xbe\\x13\\x0b\\xc4\\xb5Q9\\x93\\xcb\\xf8\\xc7\\x98\\x9a:\\xba~\\xf6\\x87\\xcc~R+\\x1e\\xa1\\xf4\\xdb\\xafZ\\xbdq\\xf5Tm\\xfeg\\xa7\\x1e\\xa1\\xda\\x83\\xaa\\x9fze\\xf6\\x81\\x10\\xd2p\\xd5\\x1eT\\xfd\\x98b\\xf1\\xc5\\xe73V\\x98@\\x00\\x04J\\x9d\\x00\\x04o\\xa9\\x7f\\x030\\x7f\\x10`\\x08\\x9c9z\\x81yv\\xd5|q\\xe2\\x83\\x89Q1\\xa9\\x9c\\xdf\\xb5\\x97\\xe3KK\\x84\\xabt7\\xd9\\xbb\\xc3\\xf2X\\x19\\xfd\\xe7\\xe2\\xab\\xa9OY\\x05\\xe9\\x87wQ\\xf2\\xa9\\xbb\\xbc\\x83T<\\xb8\\x89Df\\xe3\\x12\\xa94%\\xf0\\xe1\\xd2Em\\x13\\x94\\xf6m.\\xecK\\x8bQ|\\x11\\x8e3\\xf8\\xe6\\x88\\x00\\x10(\\x01\\x02\\x10\\xbc%\\xb0\\xc8\\x98\"\\x08\\xf8%0\\xa0\\xb2\\x86\\xe6\\x98\\x8f(\\xeb\\xca\\x97@\\xb8\\x9a\"\\xc6=f\\xd76*\\xef\\xcd\\xce\\x0b\\x05\\x91\\xc7t\\xbe0\\xeb\\x834i\\xe0(\\xeb\\xea\\xe0\\x07\\xba\\xe0\\xea`\\x9f\\xfd\\xf8\\x9a\\x02\\x97;\\x8c\\xcd\\x83U\\xa8\\xe10}q\\xb1\\x99fbS\\xe7\\x926hh\\xa8\\xd6\\x10\\x0c\\x02 P\\x9c\\x04 x\\x8bs]1+\\x10\\x08M {\\xac\\xc1[\\\\\\xf6\\xcc\\xeb\\x84\\xbd\\xfbv^\\'\\xbcp\\xc4\\x14\\xbax\\xd2;Ln\\x89\\xbf\\xddAt\\xecPh\\x86J\\t8\\x01\\x17\\xc6\\xa6TT\\xc1)L\\x0f\\xaa\\xb1\\nm(\\xb9d\\xea\\x95\\x9d}\\x81\\x92;\\x9c@\\x00\\x04J\\x8f\\x00\\x04o\\xe9\\xad9f\\x0c\\x02J\\x04N\\x1b1\\x93\\xfaW\\xf4\\xcb\\xf8\\xbaw\\\\\\xedI\\x94\\xc4%\\'\\x82\\x94:a\\x9c\\xd8\\\\\\xb2\\x1eec\\xd9\\xab\\x83\\xaf\"\\x8d4Jo^B\\xe9\\xb5\\xfft\\x16\\xe5\\xeaEmc\\xa6\\xe9mb\\x9a`L\\xecNw\\x18?\\xff\\x9b\\xe7\\xfcT\\xc2\\xf4P\\x10\\xab\\xd5\\x0e\\xa1\\xf8\\xfc\\xb3\\xf8:\\xb0\\x82\\x00\\x08\\x94<\\x01\\x08\\xde\\x92\\xff\\n\\x00\\x00\\x08\\xf0\\x04\\x8c\\xf3\\xac\\xef\\x1f\\xdf5\\x02\\xc2\\xaeU\\xdc\\xef\\xe5?\\x8e\\xe3\\xbb\\rn5\\xaf\\x0e^h\\xbf:\\xf8kV2N\\x8c\\x05/\\xe3\\x1d\\xc9\\xd4\\x0bu\\x9d\\xb0w\\xc5\\xe0\\x1eL\\xaf\\xa1Du\\xf0Nr\\x91e\\xef\\xbe\\x98(^\\x16A&\\xa4\\x00\\x01\\x10(F\\x02\\x10\\xbc\\xc5\\xb8\\xaa\\x98\\x13\\x08DD\\xe0\\x03\\x13\\xdfEU\\xf1Jy6N\\xfc\\x98\\x11\\xb2]U\\xc1\\x980W\\xbe\\x05\\xb7@\\xb6\\xc6\\\\\\xf6\\x8c\\xc1+\\xe5\\xff\\x9b\\xf2n\\x9a34su\\xf0\\x83\\xc6\\xf3v\\xbb\\xf1\\xea`\\xaf\\xe6\\xe4\\xe4\\xe5\\xa3\\\\\\xee\\xa8m\\xf2\\x0e\\xd4G\\xc3\\xf6UVN\\xf1\\xb3>\\xa8^\\x0f\\x9e \\x00\\x02%G\\x00\\x82\\xb7\\xe4\\x96\\x1c\\x13\\x06\\x01u\\x025\\x15}\\xe9\\x9cq\\x8b\\xcc\\x00\\x97\\xa04\\xad\\xce\\xc7\\x91\\xa9g\\xeeN\\xcf\\xbc\\xb8.\\x9c\\xc3\\x94\\xdaq\\xf4\\xf1i\\xef1\\x9bI\\xbe\\xf0sJ7nq7\\xa6*\\xc6\\xdc\\x91\\xc1,\\xaa\\xf5T\\xfd\\x82u\\xa1\\x16\\xa5\\xda\\x83\\xaa\\x9fZU\\x97W|\\xd1y\\xa4\\r\\x18\\xe4\\xb2\\xc3\\x00\\x02 \\x00\\x02Y\\x02\\x10\\xbc\\xf8.\\x80\\x00\\x08H\\t|x\\xd2\\xb9\\x14\\xd3\\xd4\\xfeUQ((\\xb3\\x89U\\x1eG&m\\xc2\\x1c\\xcc\\x08WN<Iw\\x93\\xf9\\xcc\\xc6\\xd5\\xc1\\xdf^\\xfc1\\xeb\\xea\\xe0\\xbdk)\\xb5\\xfc~\\xdeQ\\xd5\\xca\\xf5\\x15\\xc6\\xe6Y\\x97K\\xce\\x04qn!m\\\\8S\\xd9\\xbf\\x89K\\xece\\xd3bT\\xf6\\xbe+\\xfc\\xd7B\\x04\\x08\\x80@I\\x11P\\xfb\\x7f\\xb1\\x92B\\x82\\xc9\\x82\\x00\\x08\\xd8\\t\\x0c\\xab\\x1eB\\x8bF\\x1a\\xb7\\x8eu\\xed\\xcb\\xd25\\xb2\\xf3\\xbb\\xa2]f\\xa6/N$\\x15\\xb8\\xfd\\xfb\\xdcKhD\\xdf\\xc1D\\x89v\\xea\\xfc\\xe3\\x17\\x9d\\xa3\\\\\\xbc\\xaa\\x8di\\'\\x88)\\xd4\\xf9\\xddn\\xee5\\xd4\\xf9\\xdd\\x90\\xbd\\xc6\\x17\\x9c\\x8d\\x9b\\xd5\\x82|\\xc1\\x10\\x03\\x02%F\\x00\\x82\\xb7\\xc4\\x16\\x1c\\xd3\\x05\\x81 \\x04.\\x9et\\x1e\\x1f\\xc6\\x89\\x15\\xd3SpFW6&\\xcc\\xc5\\x97\\xb6[\\xed\\xa1*\\xef\\xffm\\xfcB:o\\xec\\\\\\xeb\\xea\\xe0\\x87o\"\\xeal\\xf3.\\xa2\\xea\\xc1\\xcd#\\x8cM\\xb5n\\x10\\xbf0}q\\xb1AzP\\x8da\\xebiTv\\xc15\\xaa\\x19\\xe0\\x07\\x02 P\\xc2\\x04 xKx\\xf11u\\x10P%0\\xa9\\xb6\\x9e\\xe6\\x0f\\x9fa\\xba\\xe7uG\\xef\\xbcNx\\\\\\xcd0\\xfa\\xd2\\xec\\x8b\\xcc\\xb9\\xa4V\\x1aW\\x07\\xbfba\\xe0\\x04U\\x18\\x9b*\\\\/\\xbf0=\\xa8\\xc6z\\xf5`\\x1b\\xe7R\\xe6\\x86\\xb9\\xc1\\xa8m\\xb6^\\xe2\\x0b\\xdeE\\xb1\\xb1\\'\\xf9\\xe8\\x1e\\xae \\x00\\x02\\xa5J\\x00\\x82\\xb7TW\\x1e\\xf3\\x06\\x01\\x9f\\x04>9\\xfd\"\\x8a+\\x9e\\xe5\\xb5\\xa7V9\\xbf\\xcbi\"g{\\x01v\\x8c\\x99\\xf9\\x19\\x8fZ\\xbbm\\xe1\\xff\\xa3*\\xe3\\xea\\xe0\\xe6=\\xd1]\\x1d\\xcc\\xd4\\x8a\\xfc\\xaf\\xf9\\x1d5\\xbc\\x89q-\\tm\\\\\\xba06a\\xa1\\x08\\x06\\xb2}\\x19gw/\\xfcx\\x04\\t\\x91\\x02\\x04@\\xa0\\x14\\x08@\\xf0\\x96\\xc2*c\\x8e \\x10\\x01\\x81\\xd15\\xc3\\xe9\\xfc\\xfa3Bf\\x12\\x08WS\\xc4\\x04;\\xbf\\xeb\\xd2e.C\\xbe\\xe5\\xcf\\xcd\\xfc M\\xae\\x1dM\\x94NR\\xe2\\x81O\\xf3s\\xe1\\xe2\\xc3\\xd8\\xf8*R+W.r\\x01\\xcd\\x16\\x91\\xb6\\xa5>\\xc8\\xe5\\x8e\\xd8\\x16?\\xfd=8\\xbb\\xab\\xbe\"\\xf0\\x04\\x81\\x92\\'\\x00\\xc1[\\xf2_\\x01\\x00\\x00\\x01u\\x02WM\\xf9 U\\x97UY\\xe2\\x94\\x130f*\\x81\\xa8U/\\x13\\xd8\\xd3\\xdeR\\xe1\\xfb\\x85#\\xa6\\xd2%\\x93\\xdei\\xe6N>u\\'\\xe9\\xf6\\xab\\x83\\x85s\\t\\xdcJ>\\x90\\xcb\\x1d\\xb5-\\x826\\xcd\\x14=\\xb5\\xaf\\xc2\\xf9U\\xf5\\xa1\\xf2K?Wh\\xc5g\\x10\\x00\\x01\\x10\\x10\\x12\\x80\\xe0\\x15\\xa2\\xc1\\x00\\x08\\x80@!\\x81\\x01\\x95\\xfd\\xe8\\x92\\xc9\\xe7\\x9b\\xe6BA\\x99\\xf5u\\xd89\\x01U\\x98T\\xf53\\x9bK&\\xae\\xf3c\\x83\\xaaj\\xe8\\x1b\\xf3\\xaf\\xb0\\xae\\x0e\\xde\\xf2\"\\xa5\\xdf|\\xc2\\xbb*W/\\x8c\\xcd\\xbb\\xa2\\xa2\\x07\\xd3\\x04c\\n%^\\x05\\x9dpe\\x04\\xae\\x96\\x99\\x0b\\x88\\xc0V\\xfeo\\x1f#\\xe3*a\\xbc@\\x00\\x04@@\\x95\\x00\\x04\\xaf*)\\xf8\\x81\\x00\\x08\\x98\\x04><\\xe9\\xddTW\\xed\\xff!\\xffv\\x9d\\xe3~/;\\xce \\x13\\xb5\\xde\\x8bb\\\\\\x1d|\\xcbi\\x1f%C\\xf4\\xea\\xc7\\x8fP\\xf2/_\\xb5\\x82T\\x85\\x97w\\t5\\x0f\\xc5z\\xa1\\x1eG\\xa6\\xd6\\x89\\xb7\\x97b\\xaf]!\\xaa\\xbd\\x9a\\xd3\\x06\\x0f\\xa3\\xb2\\xf7~\\xc4\\xcb\\r\\xe3 \\x00\\x02 \\xe0 \\x00\\xc1\\x8b/\\x04\\x08\\x80\\x80/\\x02\\xe5\\xb1r\\xfa\\xc4\\xb4\\x0f\\tbd\\xe2T0\\xc6\\x89\\xab\\x82\\xecn\\x81l9\\xb8\\xecL\\xae+N>\\x87\\xe6\\x0f;\\x99HOS\\xf2\\x8f\\xc6_\\x83K\\xae\\x0e\\xe6f\\xc5\\xe4\\x0c%\\xf4\\xb8|\\\\\\xdd 6.w\\x18[\\x90\\x1eTc\\x02\\xf6U~\\xc5\\x17\\x89*\\x8cc5x\\x81\\x00\\x08\\x80\\x80:\\x01\\x08^uV\\xf0\\x04\\x01\\x10\\xc8\\x10x\\xe7\\xe8y\\xb4h\\xe4\\xcc\\x1e\\xcb#\\xab\\xa5\\xa6\\x0e\\x1eG\\x9f\\x9c\\xfe>\\xb3\\xcf\\xd4\\x8b\\xbf$\\xbdq\\x9b\\xf9\\xde\\xa1\\xb5T\\x85WW\\xceV\\xb5\\x07U\\xbf\\xa8zU\\xad\\x17\\xc6\\xcfG\\xaf\\xf1\\xd9gP|\\xc19>\"\\xe0\\n\\x02 \\x00\\x02\\x16\\x01\\x08^|\\x13@\\x00\\x04\\x02\\x11\\xb8~\\xf6Ud\\x9c\\xe9\\xb5k\\x1d\\xc7{\\xdb\\x07\\x91\\x8fraNPI\\x7f\\x1c\\xa7Q\\x9f\\xb2J\\xf3(CY,N\\xfa\\xbeu\\x94Z\\xf6;\\xe5r\\xac#\\xd7C\\xd46\\xb6\\xb0\\xdd\\xc8\\x15d\\x828\\xb7\\x906.\\x9c\\xa9\\xec\\xdf\\xc4%flZ\\x9f~T~\\xf5W\\xfc\\xe7G\\x04\\x08\\x80\\x00\\x08\\x10\\x11\\x04/\\xbe\\x06 \\x00\\x02\\x81\\x08\\x18b\\xf7S3.\\t\\x14\\x9b\\r\\xb2t\\x8d\\xfc\\xfc.\\xa3}\\xf8\\x9a\\x05\\x8e\\xff1\\xf7R\\x1a\\xdd\\xaf\\xce\\xbc:8\\xf1\\x7f_p\\xc6pIUm|\\xf5H\\xac\\xa1\\xce\\xefr\\xfdG\\xd2\\x95 \\tW/\\x8cMP&k.\\xbf\\xf2\\x06\\xd2\\x06\\r\\xf5\\xf0\\xc20\\x08\\x80\\x00\\x08\\xf0\\x04 xy.\\xb0\\x82\\x00\\x08(\\x10x\\xd7\\xd8\\x05\\xb4x\\xe4\\xac\\x8c\\xa7\\xe0\\x8c\\xae9*\\x18\\xe3\\x04\\x92\\xa4\\xae\\xdd]\\xf6\\xfe\\xfd\\xe3O\\xa3\\xf3\\xc6\\xcd3\\x0f/$\\x1f\\xfd\\x9a\\xe3\\xea`\\x9f%\\xdd\\xddp\\t\\xa2\\xb6\\xb9\\xab\\x06\\xb3D\\xdd\\x17\\x97/Xg\\xee(.w\\xc6\\x16\\x9b6\\x9f\\xe2\\xefx\\xbf;\\x06\\x16\\x10\\x00\\x01\\x10P$\\x00\\xc1\\xab\\x08\\nn \\x00\\x02<\\x81\\xebf}\\x84j*\\xfa\\xf2\\x83QX9!$\\xc9k\\xec\\xea^\\x9f\\xbd:x\\xf5c\\x94~{\\xb9\\xe5\\xcd\\xe5\\tc\\x93\\xf4\\x10z(L_\\\\l\\xc8\\x86\\xa4)\\xb9\\xc10\\xb6\\x82^\\xb5\\xbe\\xfd\\xa9\\xe2\\x937\\x13i\\x82\\xffh\\n97\\x84\\x83\\x00\\x08\\x94\\x06\\x01\\x08\\xde\\xd2Xg\\xcc\\x12\\x04\\xba\\x8c\\xc0\\xa0\\xaa\\x01\\xf4\\xf9\\x99\\x979\\xcf\\xf2\\xda\\x04\\x8f]\\xfb\\x88\\xde\\xf3\\xcd\\xc9\\x04\\x0e?f\\\\\\x1d|\\xfb\\xa2k\\xa8\\xba\\xac\\x92\\xf4#{)\\xf5\\xd4\\xf7\\xf9\\xd4QX\\xc3\\x88:\\xd5XG\\x9f\\\\\\x90\\xe2D\\xb8\\xd0\\xa8m\\x8a\\xadx\\xba\\xd9\\xfb\\xd24*\\xbf\\xf6f2\\x1eE\\x86\\x17\\x08\\x80\\x00\\x08\\x84!\\x00\\xc1\\x1b\\x86\\x1ebA\\x00\\x04L\\x02g\\x8d\\x99O\\x1f\\x9cx\\x96\\x80\\x06/N-\\x85,;\\xbf\\xabv\\xb9\\x85Y4#\\x92>s\\xea\\x07\\xf2W\\x07\\xff\\xe13|?Q\\x0b=.\\x1f_Yje\\xd3p\\xc6\\xa8m\\xd2\\xae|\\x0cF\\xdd\\x97NTv\\xdee\\x14\\x9fc\\xdd\\x8e\\xe7\\xa3\\x13\\xb8\\x82\\x00\\x08\\x80\\x80\\x8b\\x00\\x04\\xaf\\x0b\\t\\x0c \\x00\\x02A\\x08|\\xe6\\xd4\\x8bh\\xfa\\x90\\x93\\x82\\x84\\x86\\x8a\\xc9\\xea\\xac\\xd3\\x86O\\xa1K&[\\xa2;\\xf9\\xaf\\xbb\\x88\\x8e\\x1d\\xc8\\xe7\\xcd8q\\x9a,TqQ0W(\\x8cMT\\'\\n{\\x98\\xbe\\xb8\\xd8(z2~Q=~\\n\\x95_\\xf6\\xf9\\x88\\xb2!\\r\\x08\\x80@\\xa9\\x13\\x80\\xe0-\\xf5o\\x00\\xe6\\x0f\\x02\\x11\\x11\\x88kq\\xbay\\xc1\\'iP\\xe5\\x80\\x882\\x16>07\\x9b\\xd6\\xbdc\\\\[YC__p\\xa5uu\\xf0\\xb6\\x97)\\xfd\\xe6\\xe3\\xde=pb-j\\x9bw\\x17j\\x1e\\xdc\\xe3\\x1b\\xba\\xa9W\\xae\\x8c\\xb4i.\\xc0\\xa7M\\xab\\xae\\xa1\\x8a\\xcf\\x7f\\x9b\\xa8\\xac\\\\Z\\n\\x83 \\x00\\x02 \\xa0J\\x00\\x82W\\x95\\x14\\xfc@\\x00\\x04<\\t\\xd4V\\xf5\\xa7o.\\xbc\\xd6|\\xf6\\xad\\xf1\\xb2\\xeb\\x1c\\x95\\xf7\\xf9\\x02nQ+*n\\\\\\x1d\\xfc\\xcd\\x85\\xc6\\xd5\\xc1\\xfd\\xad\\xab\\x83\\x1f\\xf1yu0\\'\\xc6D\\xc5\\xfc\\xda\\xb9\\xdcal~\\xeb\\xfb\\xf1\\x0f\\xd3\\x17\\x17\\xeb\\xa7\\xb6\\xdd7\\x1e\\xa7\\x8a\\xeb\\xbeC\\xda\\xd0QA3 \\x0e\\x04@\\x00\\x04\\\\\\x04 x]H`\\x00\\x01\\x10\\x08C`\\xea\\xe0\\tt\\xcd\\xb4\\x0b2)\\x04\\xc2\\xd5\\x14H\\xee1\\x15Q\\\\\\xe8s\\xf9d\\xe3\\xea\\xe0S\\x88t\\x9d\\x92\\x7f\\xfa\"Q:\\x19\\xa6}+\\x96\\x13pal\\x1e\\x1dq\\xa9\\xd9\\x10\\xce1j\\x1b[8\\x801`_\\xe5W~\\x99\\x8c\\xc7\\x90\\xe1\\x05\\x02 \\x00\\x02Q\\x12\\x80\\xe0\\x8d\\x92&r\\x81\\x00\\x08\\x98\\x04.\\x9e|\\x0e\\x9d_\\xbf\\xb8\\xcbiL\\x194\\x96>9\\xddz>kj\\xd9\\xafIo\\xdc\\xe4\\xae\\x99\\x11^\\x0e\\xfd\\xa5*\\xc6\\xdc\\xd9\\x82YT\\xeb\\x85\\xf1\\x0b\\xd6\\x99;*L\\x0f\\xaa\\xb1\\xee\\xaa\\xa6\\xa5\\xec\\xdcK\\xa8\\xec\\x9c\\x8b\\x04\\xa30\\x83\\x00\\x08\\x80@p\\x02\\x10\\xbc\\xc1\\xd9!\\x12\\x04@@@@#\\x8dn\\x98s\\x05\\x9d>r\\xa6\\xc0C\\xc1\\xcc\\x89\\'\\xdb\\xaep\\xdf\\xf2*\\xba\\xf5\\xb4\\xab\\xad\\xab\\x83\\x1b6P\\xea\\xe5_+$\\xf5\\xe9\\xc2\\xf5\\x10\\xc6\\xe6\\xb3\\xbc\\xe5\\xce\\x15d\\x12qnal\\xa2#\\xd4Li\\xdf&\\xa6\\xaf\\xf8\\xf4\\x85T~\\xc5\\r\\xbeS!\\x00\\x04@\\x00\\x04T\\x08@\\xf0\\xaaP\\x82\\x0f\\x08\\x80\\x80o\\x02q-F7\\x9f\\xf6\\t\\x9a;\\xf4\\x14\\xe6,\\xaf\\xecqd\\x9a\\xc3_T\\xf8K\\xb3/\\xa1Q\\xfd\\x86d\\xae\\x0e.\\xf85?#\\xa8\\xd8\\xa4\\xaa~\\xa2&\\xfc\\xda\\x99z\\xdc\\xef\\xd1zj\\xaf\\xa1\\xfab\\xe6\\x9e\\xc5\\x17\\x9b8\\x8d*\\xbe\\xf0]\\xa2\\xcc\\xd9o\\xbfX\\xe1\\x0f\\x02 \\x00\\x02^\\x04 x\\xbd\\x08a\\x1c\\x04@ 0\\x01\\xe3\\xc7k\\xb7,\\xba\\x96&\\r\\x1c\\x93\\xcf!\\x11>\\\\!\\xbb{\\xf6\\xfd{\\xea\\x17\\xd0y\\xe3\\x8cs\\x9e:%\\x1f\\xcb\\\\\\x1d\\xec3/WKh\\xe3rGm\\x13\\x16\\xf79\\xd0S\\xfb\\xe2\\xa6\\xa1\\x13\\xc5\\xc6L\\xa2\\x8a\\x1b\\xef&\\xaa\\xec\\xc3y\\xc0\\x06\\x02 \\x00\\x02\\x91\\x10\\x80\\xe0\\x8d\\x04#\\x92\\x80\\x00\\x08\\x88\\x08T\\x97U\\xd1\\xf7\\xce\\xb8\\x8e\\xc6\\xd4\\xf8\\xb8-\\x8b\\x13m\\x99\\x02\\xc6\\xae\\xee\\r\\xb3.6?\\xa5\\xd6<A\\xe9\\xed\\x99\\xab\\x83\\xb9\\x062y\\x1c\\xe9\\xb8\\xdc\\xaa6\\xaeFT6\\xd5\\x1eT\\xfdzj_\\xb6\\xfe\\xb5a\\xa3\\xa9\\xe2\\xdf\\xef&\\xe31dx\\x81\\x00\\x08\\x80@W\\x12\\x80\\xe0\\xedJ\\xba\\xc8\\r\\x02 `\\x12\\x18P\\xd9\\x8f\\xbe{\\xfa\\xe7\\xa9\\xaeO\\xad\\x07\\x11\\xf7\\x93\\x1b\\xf2\\x01\\x1a\\x95\\xc7\\xe2t\\xdb\\xc2k\\xa8\\xba\\xbc\\x8a\\xf4\\x96}\\x94z\\xea\\xbb\\xee|\\x9c t{\\x05\\xb3p\\xb9\\xa3\\xb69:\\xe3\\x92+\\xb6\\xce\\x85\\xfa\\xb0\\xb9\\\\]\\x06\\xc5>\\x04n\\xda\\xe0\\xe1T\\xf9\\x95{H\\x1b0X\\xe0\\x013\\x08\\x80\\x00\\x08DG\\x00\\x827:\\x96\\xc8\\x04\\x02  !0\\xbc\\xef`\\xfa\\xd1\\x99_\\xa2\\xe1}\\x87\\x98^v\\xfd\\xa4\\xf2\\xde\\x88\\xf9\\xd4\\x8c\\x0f\\xd0\\xc9\\xb5c\\xccG\\x8f%\\x1e\\xfc\\xb4\\xa4Z\\xc1\\x10\\'\\xd6\\xc2\\xd8\\xd4+K=\\xb9\\x16\\xba\\xea\\x9c\\xac\\xb4\\x91\\xa0\\x83\\xdc\\x04\\x14lZ\\xddH\\xaa\\xfc\\xea=\\xa4\\r\\xf6\\xb1\\xeb\\x1f\\xb4G\\xc4\\x81\\x00\\x08\\x80\\x80q{#(\\x80\\x00\\x08\\x80@w\\x110D\\xefO\\xce\\xbe\\x91\\xc6\\xf5\\x1f\\xee\\xbb\\xe4\\xfc\\xe1S\\xe8\\xd2\\xc9g\\x9bq\\xc9\\x7f\\xdd\\xc9^\\x1d\\xecH\\x9a\\x11^\\x9c\\xfe\\xf2]\\xbc0\\x80K\\x1a\\xb5\\xad\\xb0f\\xd0\\xcfQ\\xf7\\xc5\\xe5\\xf3\\xd1\\x9bqf\\xb7\\xf2\\xe6_\\x91V\\x87\\x8b%|`\\x83+\\x08\\x80@H\\x02\\x10\\xbc!\\x01\"\\x1c\\x04@\\xc0\\x1f\\x01\\xe3F\\xb4\\x1f\\x9cy=M\\xae\\x1d\\xcb\\x072\\x82\\xaa\\xb6\\xaa\\x86\\xbe1\\xff*\\xeb\\xea\\xe0\\xb7\\x97Q\\xfa\\xad\\'\\xf8X/+\\x93\\xbb\\xc7\\xee\\xa8F\\xdd\\xab\\x17\\x1b\\xdb8WZ\\x1a\\xce\\x050\\xb6X\\xfdT\\xaa\\xf8\\xcaOI\\xeb?H\\x9a\\x0e\\x83 \\x00\\x02 \\x105\\x01\\x08\\xde\\xa8\\x89\"\\x1f\\x08\\x80\\x80\\'\\x81\\xda\\xca\\x1a\\xfa\\xd1\\x99\\xd7\\xd3\\xfcaSl\\xbe\\xfc\\xf9]\\xe3\\x99\\xbe_\\x9f\\xffQ2D\\xaf\\xde\\xdeB\\xc9G\\xbfb\\xc50\\x82JY\\xbczv\\x18\\xc2!L_\\x8eX.QO\\xe8+\\xd3\\x83\\xcf\\xf6\\x8c\\xe7\\xec\\x9a\\xc7\\x18\\xfa\\r\\x081\\t\\x84\\x82\\x00\\x08\\x80@0\\x02\\x10\\xbc\\xc1\\xb8!\\n\\x04@ $\\x81>e\\x95\\xf4\\x9d\\xd3?C\\xe7\\xd7/\\xcce\\xb2k\\xa8\\xec\\xfb\\xcbN~\\x17-\\x18>\\xc5\\xba:\\xf8\\xa1/\\xf4\\xcc\\xab\\x83}\\x8a?c\\xc2\\xca!\\x9cc\\xd4\\xb6\\x90k\\xc9.`\\xd6\\xa8\\x13\\x95\\x9dy!U\\\\\\xff_x\\xf4XT\\x9c\\x91\\x07\\x04@\\xc07\\x01\\x08^\\xdf\\xc8\\x10\\x00\\x02 \\x10\\x15\\x81x,N_\\x9dw\\x15\\xdd8\\xe7r2.\\xaa(|\\x19?P\\xbbv\\xfa\\x07Ls\\xea\\x95\\xdf\\x92\\xde \\xbe:\\xd8\\x11\\x9b\\x11\\x84\\x0e]\\xa8*\\x12\\x0b\\x9b\\x08\\xfaY\\xb5\\x9e\\xaa_\\xd0>T\\xe2T{P\\xf5\\xcb\\xd6\\x8c\\xc5\\xa8\\xfc\\x8a/S\\xf9\\xc7n\"\\x8a\\x97\\xa9t\\x02\\x1f\\x10\\x00\\x01\\x10\\xe8\\x12\\x02\\xf87P\\x97`ER\\x10\\x00\\x01?\\x04\\xfem\\xc2\\xe9TW]K\\xb7/\\xff-\\xb5&\\x8e\\x9b\\xa1\\xd5e\\x95t\\xeb\\xc2k\\xac\\xab\\x83\\x1b7R\\xea\\xe5_\\xfaI\\x19\\xdcWU\\xd4\\xa9\\xfa\\x05\\xea\\x84I\\xce\\x98\\xd8m\\xe20~~v\\x9ee\\xf32z\\xa8\\xaa\\xa6\\x8aO\\xdfA\\xf1SO\\x97yb\\x0c\\x04@\\x00\\x04\\xba\\x85\\x80{K\\xa5[\\xca\\xa2\\x08\\x08\\x80\\x00\\x088\\t\\x9ckba\\xd8\\x00\\x00\\x06\\x14IDAT6|*\\xfd\\xe2\\xdd\\xffA\\'\\r\\x1cm\\x0e|i\\xce\\xa54\\xaa_\\x1dQ\\xb2\\x93\\x12\\x7f\\xbe\\xce\\xe9\\x1cF\\xd4\\xa9\\xc6F\\xb5@L\\xbdP\\xd7\\tG\\xd5\\x17\\x97\\x87\\xe95\\x88\\xa8\\x8e\\x8d;\\x85\\xaan\\xbd\\x0fb\\x97c\\x0c\\x1b\\x08\\x80\\xc0\\t!\\xa0\\xe9:\\xfb\\xaf\\xde\\x13\\xd2\\x0c\\x8a\\x82\\x00\\x08\\x80@g*I\\xcf\\xecz\\x9d\\xdek\\x9e\\xed\\xd5)\\xf9\\xf0\\x97\\xad\\xdb\\xd4\\xecb\\x8c{\\xcf\\xd8\\x1c\\xffv\\xcb\\x8e3~\\xecC\\x81\\xa3\\xf63\\x966\\x93\\xd3\\xbb\\xaf\\xac\\xa3\\xed\\xfb\\xd0M\\xfd\\xe7\\xa6\\x1d\\xa4\\x9e\\xa6Q\\xd9\\xbb/\\xa3\\xf2\\x8b\\xaf\\xc3\\x11\\x06\\xfcO\\x19\\x04@\\xa0G\\x11\\x80\\xe0\\xedQ\\xcb\\x81f@\\x00\\x04\\xec\\x04\\xd2\\x1b\\x9e\\xa2\\xe4\\x93\\xb7Y&\\x9f\\x02\\xd4t\\x0f\"\\xda\\xb2\\r\\xf8\\xacg\\x86)\\xd6\\xcb\\t^a\\x8d\\xcc\\x80b\\xbe(\\x05\\xbb\\x83\\x9b\\x8f9i\\xd5\\xfd\\xa9\\xfc\\x9a\\x9b)>\\xeb\\x9d\\xf8\\x12\\x83\\x00\\x08\\x80@\\x8f#\\x80#\\r=nI\\xd0\\x10\\x08\\x80@\\x96\\x806z.\\xc5\\xc6/v\\x02\\xb1\\x8b\\xc4\\xec\\x08g\\x8b\\n#\\x97;\\x8c\\xcd\\xb3/.\\xb9g\\x90\\xe5\\xc0\\x85\\xfa\\xb0q\\xae*\\x95\\xe3\\xd3\\x16R\\xe5\\xad\\xf7C\\xec\\xaa\\xc0\\x82\\x0f\\x08\\x80\\xc0\\t!\\x80\\x1d\\xde\\x13\\x82\\x1dEA\\x00\\x04\\xd4\\t\\xe8\\x94^\\xf38%\\x9f\\xffo\\xa2\\xce6\\xfeNb\\xbbR\\xcb\\xbc\\xf7>6\\x90\\xe9\\x80\\x89ewL\\r\\xf7\\xac\\xafj\\x0c\\xe3\\xe7\\xddWv\\x026B~\\xeb\\x06\\xec5\\xd7\\xaeb=\\xadO\\r\\x95_z=\\xc5\\x17\\xbf\\x9fH\\xe3\\x9f\\xa3\\xac\\xbe\\xce\\xf0\\x04\\x01\\x10\\x00\\x81\\xae#\\x00\\xc1\\xdbul\\x91\\x19\\x04@ B\\x02z\\xcb>J=\\xfd_\\x94\\xde\\xf6\\xb2\\x95\\x95\\x11\\x93\\xb93\\xb2\\x86\\x87d\\xdcL\\xa0(\\xea\\xa2\\xf6\\x93\\x1eg0\\xfb\\x8a@\\xf0\\x06\\x9c\\xbb\\x19\\xc6\\xc52\\xbc\\xe2\\xa7\\x9eA\\xe5W\\xddD\\xda\\xc0!\\x11\\xae2R\\x81\\x00\\x08\\x80@\\xd7\\x10\\x80\\xe0\\xed\\x1a\\xae\\xc8\\n\\x02 \\xd0E\\x04\\xd2[\\x96P\\xea\\xb9\\xbbIo\\xde\\x97\\xafP ^\\x1d\\xc2\\x8d\\x13palF\\xd5\\x82zf#\\x8a6\\xa9\\xe0\\xb57\\xae\\x98OZ7\\xd2\\xbe,\\xdc\\xda\\xa0\\xe1T~\\xf1\\x17(>\\xf7\\x9c.Za\\xa4\\x05\\x01\\x10\\x00\\x81\\xe8\\t@\\xf0F\\xcf\\x14\\x19A\\x00\\x04\\xba\\x9a@\\xb2\\x83R\\xaf\\xdcG\\xa9W\\x7fO\\x94\\xe8\\xccW\\xcb\\x88D\\xf6\\xd8\\x80\\xe1\\x15\\x85\\x88\\x0c#\\x96u\\xdb\\x06*\\xdb\\x8b-9;\\x9e\\x99j\\xc8\\x1er\\xc0l5r)Eu+\\xfbP\\xf9{>Fe\\xe7^NT^\\xd9\\xd5+\\x8c\\xfc \\x00\\x02 \\x10)\\x01\\x08\\xdeHq\"\\x19\\x08\\x80@w\\x12\\xd0\\x9b\\xf7P\\xea\\xa5_Qz\\xdd?\\x89\\xf4tNM\\xb2\\x827j\\x91hLT$\\x0e\\xedc\\xb6\\xf7\\xde}e\\x12\\x9e\\x80^\\x85\\x82W\\x8bQ|\\xc1{\\xa8\\xfcC\\x9f\\xc3\\xf1\\x85\\xee\\xfcr\\xa3\\x16\\x08\\x80@\\xa4\\x04 x#\\xc5\\x89d \\x00\\x02\\'\\x82\\x80~p\\x1b\\xa5\\x96\\xdeK\\xe9M/\\x90n\\xa8P\\x99\\x105\\x1a\\x94\\x8dG-6m\\xf9|\\x1fg\\xe8\\xc6^\\xcd6\\xeds\\xa7\\x18\\xc5g\\x9fEe\\xef\\xff\\x04\\xc5FM<\\x11\\xcb\\x8a\\x9a \\x00\\x02 \\x10\\x19\\x01\\x08\\xde\\xc8P\"\\x11\\x08\\x80\\xc0\\x89&\\xa0\\xef\\xdf@\\xc9\\x17\\x7fE\\xe9-\\xc6\\x0f\\xdb\\xec\\xe7\\x07\\xbaY\\xe4\\x1a \\x18Q-\\x17\\xbcve\\x9c!\\xd9\\x85\\xe2\\xdb.n\\x1d}\\x19;\\xba\\x86\\xd0}\\x1f\\x84\\xee\\x89\\xfe>\\xa3>\\x08\\x80@t\\x04 x\\xa3c\\x89L \\x00\\x02=\\x84\\x80\\xb9\\xe3\\xfb\\xda\\x1f)\\xb5\\xe6\\x1fD\\xa9\\x84s\\xe7\\xb2;D$S#\\xd4q\\x06\\x83+#\\xa0\\xa3\\xb2\\x99\\xa9\\xcb\\xca)>\\xf7\\\\*{\\xf7\\x95\\xd8\\xd1\\xed!\\xdfc\\xb4\\x01\\x02 \\x10\\x1d\\x01\\x08\\xde\\xe8X\"\\x13\\x08\\x80@\\x0f#\\xa0\\xb7\\x1e\\xa6\\xd4\\x8a\\xbfP\\xfa\\x8d\\x87Iok\\xb6\\xba\\xebB\\xe1\\x98\\x9b~\\xd4\\x82\\x97\\xc9\\xe78~\\x10bNZ\\xff!\\x14\\x7f\\xe7E\\x14?\\xe3B\\xd2jj{\\xd8\\n\\xa2\\x1d\\x10\\x00\\x01\\x10\\x88\\x86\\x00\\x04o4\\x1c\\x91\\x05\\x04@\\xa0\\'\\x13H%(\\xbdi)\\xa5\\xde\\xfc\\x1b\\xa5\\xb7.w\\xfc\\xc0\\xcdl;\\x84`T\\x8d\\x95\\x1fg\\xb05!\\xeb%\\xaa^)F\\xb1\\xc9s)~\\xfa\\x05\\x14\\x9fu\\x16Q\\xbc\\xac\\'\\xaf\\x1ez\\x03\\x01\\x10\\x00\\x81\\xd0\\x04 xC#D\\x02\\x10\\x00\\x81\\xdeD@?z\\x90\\xd2k\\x9e\\xa4\\xd4\\xea\\'I?\\xb4\\x83?\\xee\\x10\\xf5\\x8e\\xaa\\xa1\\xa9eB\\xd6~\\xdeA\\xeag#\\x1d\\xc0O\\x1b5\\xc9|\\xe2B|\\xeey\\xa4\\r\\xac\\xebM\\xcb\\x86^A\\x00\\x04@ \\x14\\x01\\x08\\xdeP\\xf8\\x10\\x0c\\x02 \\xd0\\x9b\\t\\xe8\\x07\\xb6Qz\\xe3\\x12JmXB\\xfa\\xde\\r\\xf9\\xad\\xde\\x88\\x05o\\xa8\\xf3\\xbb\\xaa\\xbd\\x18\\x0bQ(\\x825\\x8db#\\'Ql\\xdab\\x8a\\xcf9\\x97\\xb4\\x91x\\xdaBo\\xfe\\xbe\\xa2w\\x10\\x00\\x81\\xe0\\x04 x\\x83\\xb3C$\\x08\\x80@\\x11\\x11\\xd0[\\x1a(\\xbdq)\\xa5\\xb7\\xbdJ\\xe9\\xed\\xab\\x88\\xda\\x8fF\\xb6\\xfb\\xdb-\\x827+v+\\xab)~\\xf2\\x02\\x8aM]l\\xfe\\xd1\\x06\\xe0\\xea\\xdf\"\\xfa\\x9ab* \\x00\\x02\\x01\\t@\\xf0\\x06\\x04\\x870\\x10\\x00\\x81\"&\\xa0\\xeb\\xa47l\\xa1\\xf4\\xf6\\x15\\xe6\\x1f}\\xd7\\x1a\\xd2\\x8f5Y\\x13V\\xddq\\xb5\\xf9\\xc9\\x8f3\\x18i3\\xce\\x85;\\xb4\\xb6!\\xd1\\x8f\\xd4\\xb4\\x01u\\x14\\x9bp*\\xc5\\xeaO%m\\xfc\\x0c\\x8a\\x8d>\\x99(\\x16/\\xe2\\xc5\\xc1\\xd4@\\x00\\x04@\\xc0?\\x01\\x08^\\xff\\xcc\\x10\\x01\\x02 P\\x82\\x04\\xf4\\x96\\x03\\xa4\\xef\\xdfD\\xfa\\xbe\\xcd\\x94\\xde\\xbf\\xd9\\xfc\\xa7\\xde\\xbc\\xdf\\xf9\\xd83\\x81\\x18\\xce\\x99\\xd9q\\xbb2\\xce\\x80\\xe5\\xfc\\xe2\\xe5\\xa4\\r\\xad\\xa7\\xd8\\xb0z\\xd2\\x86O$mX=\\xc5F\\x9fB\\xda\\xa0\\xe1%\\xb8\\x1a\\x982\\x08\\x80\\x00\\x08\\xf8#\\x00\\xc1\\xeb\\x8f\\x17\\xbcA\\x00\\x04@ O@O\\x93)\\x84\\x9b\\xf6\\x99\\x7f\\xa8i\\xaf\\xb9\\x13\\xac\\x1fo!jk!=\\xf3\\x87\\x8c\\xcf\\xc6+\\xbb\\x91\\x9bJ\\x11u\\xb6\\x93V\\xd5\\x97\\xa8\\xbc\\x8a\\xa8\\xa2\\x8a\\xb4\\x8aj\\xa2\\xca\\xbeDU}I\\x1b8\\x8c\\xb4\\xfeud\\xec\\xde\\x9a\\xef\\x07\\x0c%m\\xd0H\\xa2X\\x0c\\xf4A\\x00\\x04@\\x00\\x04\\x02\\x10\\x80\\xe0\\r\\x00\\r! \\x00\\x02 \\x00\\x02 \\x00\\x02 \\x00\\x02\\xbd\\x87\\x00\\xb6\\x0bz\\xcfZ\\xa1S\\x10\\x00\\x01\\x10\\x00\\x01\\x10\\x00\\x01\\x10\\x00\\x81\\x00\\x04\\xfe?G\\xb7B\\xd1(\\x1e\\xe7*\\x00\\x00\\x00\\x00IEND\\xaeB`\\x82'"
      ]
     },
     "execution_count": 8,
     "metadata": {},
     "output_type": "execute_result"
    }
   ],
   "source": [
    "response.content"
   ]
  },
  {
   "cell_type": "code",
   "execution_count": 9,
   "id": "6777015b",
   "metadata": {},
   "outputs": [
    {
     "data": {
      "text/plain": [
       "bytes"
      ]
     },
     "execution_count": 9,
     "metadata": {},
     "output_type": "execute_result"
    }
   ],
   "source": [
    "type(response.content)"
   ]
  },
  {
   "cell_type": "code",
   "execution_count": 12,
   "id": "1652e09c",
   "metadata": {},
   "outputs": [],
   "source": [
    "from PIL import Image\n",
    "from io import BytesIO\n",
    "\n",
    "resim = Image.open(BytesIO(response.content))\n",
    "resim.show()"
   ]
  },
  {
   "cell_type": "markdown",
   "id": "48a06fd1",
   "metadata": {},
   "source": [
    "----------------------------------------------------------------------"
   ]
  },
  {
   "cell_type": "markdown",
   "id": "487cc081",
   "metadata": {},
   "source": [
    "Radar Chart"
   ]
  },
  {
   "cell_type": "code",
   "execution_count": 16,
   "id": "385be1a4",
   "metadata": {},
   "outputs": [],
   "source": [
    "grafik_URL = \"https://image-charts.com/chart\"\n",
    "\n",
    "payload = {\n",
    "    \"chco\"  : \"3092de\",\n",
    "    \"chd\"   : \"t:81,65,50,67,59,81\",\n",
    "    \"chl\"   : \"hız|şut|pas|top_sürüş|defans|fizik\",\n",
    "    \"chdl\"  : \"Falcao\",\n",
    "    \"chdlp\" : \"b\",\n",
    "    \"chs\"   : \"480x480\",\n",
    "    \"cht\"   : \"r\",\n",
    "    \"chtt\"  : \"Futbolcu Özellikleri\"\n",
    "}\n",
    "\n",
    "response = requests.post(grafik_URL, data=payload)\n",
    "\n",
    "resim = Image.open(BytesIO(response.content))\n",
    "resim.show()"
   ]
  },
  {
   "cell_type": "markdown",
   "id": "d4cd77ce",
   "metadata": {},
   "source": [
    "----------------------------------------------------------------------"
   ]
  },
  {
   "cell_type": "markdown",
   "id": "ac586eda",
   "metadata": {},
   "source": [
    "Uygulama"
   ]
  },
  {
   "cell_type": "code",
   "execution_count": 95,
   "id": "514cdf0a",
   "metadata": {},
   "outputs": [],
   "source": [
    "class Futbolcu():\n",
    "    def __init__(self, isim, hız, şut, pas, topsürme, defans, fizik):\n",
    "        self.isim     = isim\n",
    "        self.hız      = hız\n",
    "        self.şut      = şut\n",
    "        self.pas      = pas\n",
    "        self.topsürme = topsürme\n",
    "        self.defans   = defans\n",
    "        self.fizik    = fizik\n",
    "        \n",
    "    def yetenek_hazırla(self):\n",
    "        return \",\".join([\n",
    "            str(self.hız),\n",
    "            str(self.şut),\n",
    "            str(self.pas),\n",
    "            str(self.topsürme),\n",
    "            str(self.defans),\n",
    "            str(self.fizik),\n",
    "            str(self.hız)\n",
    "        ])\n",
    "        \n",
    "    def yetenek_görselleştir(self):\n",
    "        grafik_URL = \"https://image-charts.com/chart\"\n",
    "        \n",
    "        payload = {\n",
    "            \"chco\"  : \"3092de\",\n",
    "            \"chd\"   : \"t:\" + self.yetenek_hazırla(),\n",
    "            \"chdl\"  : self.isim,\n",
    "            \"chdlp\" : \"b\",\n",
    "            \"chs\"   : \"480x480\",\n",
    "            \"cht\"   : \"r\",\n",
    "            \"chtt\"  : \"Futbolcu Özellikleri\",\n",
    "            \"chl\"   : \"Hız|Şut|Pas|TopSürme|Defans|Fizik\",\n",
    "            \"chxl\"  : \"0:|0|20|40|60|80|100\",\n",
    "            \"chxt\"  : \"x\",\n",
    "            \"chxr\"  : \"0,0.0,100.0\",\n",
    "            \"chm\"   : \"B,AAAAAABB,0,0,0\"\n",
    "        }\n",
    "        \n",
    "        response = requests.post(grafik_URL, data=payload)\n",
    "        resim = Image.open(BytesIO(response.content))\n",
    "        resim.show()\n",
    "        \n",
    "    def yetenek_kıyasla(self, hedef_futbolcu):\n",
    "        grafik_URL = \"https://image-charts.com/chart\"\n",
    "        \n",
    "        payload = {\n",
    "            \"chco\"  : \"3092de,027182\",\n",
    "            \"chd\"   : \"t:\" + self.yetenek_hazırla() + \"|\" + hedef_futbolcu.yetenek_hazırla(),\n",
    "            \"chdl\"  : self.isim + \"|\" + hedef_futbolcu.isim,\n",
    "            \"chdlp\" : \"b\",\n",
    "            \"chs\"   : \"480x480\",\n",
    "            \"cht\"   : \"r\",\n",
    "            \"chtt\"  : \"Futbolcu Özellikleri\",\n",
    "            \"chl\"   : \"Hız|Şut|Pas|Top Sürme|Defans|Fizik\",\n",
    "            \"chxl\"  : \"0:|0|20|40|60|80|100\",\n",
    "            \"chxt\"  : \"x\",\n",
    "            \"chxr\"  : \"0,0.0,100.0\",\n",
    "            \"chm\"   : \"B,AAAAAABB,0,0,0|B,0073CFBB,1,0,0\"\n",
    "        }\n",
    "        \n",
    "        response = requests.post(grafik_URL, data=payload)\n",
    "        resim = Image.open(BytesIO(response.content))\n",
    "        resim.show()"
   ]
  },
  {
   "cell_type": "code",
   "execution_count": 96,
   "id": "b1946cb6",
   "metadata": {},
   "outputs": [],
   "source": [
    "messi = Futbolcu(\"MESSI\", 85, 92, 91, 95, 38, 65)\n",
    "ronaldo = Futbolcu(\"RONALDO\", 89, 93, 81, 89, 35, 77)"
   ]
  },
  {
   "cell_type": "code",
   "execution_count": 97,
   "id": "b5b98aa7",
   "metadata": {},
   "outputs": [
    {
     "ename": "NameError",
     "evalue": "name 'requests' is not defined",
     "output_type": "error",
     "traceback": [
      "\u001b[1;31m---------------------------------------------------------------------------\u001b[0m",
      "\u001b[1;31mNameError\u001b[0m                                 Traceback (most recent call last)",
      "\u001b[1;32m~\\AppData\\Local\\Temp/ipykernel_14836/3575832964.py\u001b[0m in \u001b[0;36m<module>\u001b[1;34m\u001b[0m\n\u001b[1;32m----> 1\u001b[1;33m \u001b[0mmessi\u001b[0m\u001b[1;33m.\u001b[0m\u001b[0myetenek_görselleştir\u001b[0m\u001b[1;33m(\u001b[0m\u001b[1;33m)\u001b[0m\u001b[1;33m\u001b[0m\u001b[1;33m\u001b[0m\u001b[0m\n\u001b[0m",
      "\u001b[1;32m~\\AppData\\Local\\Temp/ipykernel_14836/112889485.py\u001b[0m in \u001b[0;36myetenek_görselleştir\u001b[1;34m(self)\u001b[0m\n\u001b[0;32m     38\u001b[0m         }\n\u001b[0;32m     39\u001b[0m \u001b[1;33m\u001b[0m\u001b[0m\n\u001b[1;32m---> 40\u001b[1;33m         \u001b[0mresponse\u001b[0m \u001b[1;33m=\u001b[0m \u001b[0mrequests\u001b[0m\u001b[1;33m.\u001b[0m\u001b[0mpost\u001b[0m\u001b[1;33m(\u001b[0m\u001b[0mgrafik_URL\u001b[0m\u001b[1;33m,\u001b[0m \u001b[0mdata\u001b[0m\u001b[1;33m=\u001b[0m\u001b[0mpayload\u001b[0m\u001b[1;33m)\u001b[0m\u001b[1;33m\u001b[0m\u001b[1;33m\u001b[0m\u001b[0m\n\u001b[0m\u001b[0;32m     41\u001b[0m         \u001b[0mresim\u001b[0m \u001b[1;33m=\u001b[0m \u001b[0mImage\u001b[0m\u001b[1;33m.\u001b[0m\u001b[0mopen\u001b[0m\u001b[1;33m(\u001b[0m\u001b[0mBytesIO\u001b[0m\u001b[1;33m(\u001b[0m\u001b[0mresponse\u001b[0m\u001b[1;33m.\u001b[0m\u001b[0mcontent\u001b[0m\u001b[1;33m)\u001b[0m\u001b[1;33m)\u001b[0m\u001b[1;33m\u001b[0m\u001b[1;33m\u001b[0m\u001b[0m\n\u001b[0;32m     42\u001b[0m         \u001b[0mresim\u001b[0m\u001b[1;33m.\u001b[0m\u001b[0mshow\u001b[0m\u001b[1;33m(\u001b[0m\u001b[1;33m)\u001b[0m\u001b[1;33m\u001b[0m\u001b[1;33m\u001b[0m\u001b[0m\n",
      "\u001b[1;31mNameError\u001b[0m: name 'requests' is not defined"
     ]
    }
   ],
   "source": [
    "messi.yetenek_görselleştir()"
   ]
  },
  {
   "cell_type": "code",
   "execution_count": 51,
   "id": "b653fb68",
   "metadata": {},
   "outputs": [],
   "source": [
    "ronaldo.yetenek_kıyasla(messi)"
   ]
  },
  {
   "cell_type": "markdown",
   "id": "2d808f0e",
   "metadata": {},
   "source": [
    " "
   ]
  },
  {
   "cell_type": "markdown",
   "id": "0dc78fe2",
   "metadata": {},
   "source": [
    "# GUI (TKINTER)"
   ]
  },
  {
   "cell_type": "code",
   "execution_count": null,
   "id": "6b0162cd",
   "metadata": {},
   "outputs": [],
   "source": [
    "pip install tkcalendar"
   ]
  },
  {
   "cell_type": "code",
   "execution_count": 15,
   "id": "cf91e860",
   "metadata": {},
   "outputs": [],
   "source": [
    "#pack\n",
    "#place\n",
    "#grid\n",
    "\n",
    "from tkinter import *\n",
    "from tkcalendar import DateEntry\n",
    "\n",
    "master = Tk()\n",
    "\n",
    "canvas = Canvas(master, height=450, width=1000)\n",
    "canvas.pack()\n",
    "\n",
    "frame_üst = Frame(master, bg=\"#add8e6\")\n",
    "frame_üst.place(relx=0.1, rely=0.1, relwidth=0.8, relheight=0.1)\n",
    "\n",
    "frame_alt_sol = Frame(master, bg=\"#add8e6\")\n",
    "frame_alt_sol.place(relx=0.1, rely=0.21, relwidth=0.23, relheight=0.5)\n",
    "\n",
    "frame_alt_sağ = Frame(master, bg=\"#add8e6\")\n",
    "frame_alt_sağ.place(relx=0.34, rely=0.21, relwidth=0.56, relheight=0.5)\n",
    "\n",
    "hatırlatma_tipi_etiket = Label(frame_üst, bg=\"#add8e6\", text = \"Hatırlatma Tipi :\", font=\"Verdana 12 bold\")\n",
    "hatırlatma_tipi_etiket.pack(padx=10, pady=10, side=LEFT)\n",
    "\n",
    "hatırlatma_tipi_opsiyon = StringVar(frame_üst)\n",
    "hatırlatma_tipi_opsiyon.set(\"\\t\")\n",
    "\n",
    "hatırlatma_tipi_açılır_menü = OptionMenu(frame_üst, hatırlatma_tipi_opsiyon, \"Doğum Günü\", \"Alışveriş\", \"Ödeme\")\n",
    "hatırlatma_tipi_açılır_menü.pack(padx=10, pady=10, side=LEFT)\n",
    "\n",
    "hatırlatma_tarih_seçici = DateEntry(frame_üst, width=12, background=\"orange\", foreground=\"black\", borderwidth=1, locale=\"tr_TR\")\n",
    "hatırlatma_tarih_seçici._top_cal.overrideredirect(False)\n",
    "hatırlatma_tarih_seçici.pack(padx=10, pady=10, side=RIGHT)\n",
    "\n",
    "hatırlatma_tarih_etiket = Label(frame_üst, bg=\"#add8e6\", text = \"Hatırlatma Tarihi :\", font=\"Verdana 12 bold\")\n",
    "hatırlatma_tarih_etiket.pack(padx=10, pady=10, side=RIGHT)\n",
    "\n",
    "#---------------------------------------------------------------------------------------------------------------------------------------\n",
    "\n",
    "Label(frame_alt_sol, text=\"Hatırlatma Yöntemi\", bg=\"#add8e6\", font=\"Verdana 10 bold\").pack(padx=10, pady=10, anchor=NW)\n",
    "\n",
    "var = IntVar()\n",
    "\n",
    "R1 = Radiobutton(frame_alt_sol, text=\"Sisteme Kaydet\", variable=var, value=1, bg=\"#add8e6\", font=\"Verdana 10 bold\")\n",
    "R1.pack(anchor=NW, pady=5, padx=15)\n",
    "\n",
    "R2 = Radiobutton(frame_alt_sol, text=\"E-Posta Gönder\", variable=var, value=2, bg=\"#add8e6\", font=\"Verdana 10 bold\")\n",
    "R2.pack(anchor=NW, pady=5, padx=15)\n",
    "\n",
    "var1 = IntVar()\n",
    "C1 = Checkbutton(frame_alt_sol, text=\"Bir hafta önce\", variable=var1, onvalue=1, offvalue=0, bg=\"#add8e6\", font=\"Verdana 10 bold\")\n",
    "C1.pack(anchor=NW, pady=2, padx=25)\n",
    "\n",
    "var2 = IntVar()\n",
    "C2 = Checkbutton(frame_alt_sol, text=\"Bir gün önce\", variable=var2, onvalue=1, offvalue=0, bg=\"#add8e6\", font=\"Verdana 10 bold\")\n",
    "C2.pack(anchor=NW, pady=2, padx=25)\n",
    "\n",
    "var3 = IntVar()\n",
    "C3 = Checkbutton(frame_alt_sol, text=\"Aynı gün\", variable=var3, onvalue=1, offvalue=0, bg=\"#add8e6\", font=\"Verdana 10 bold\")\n",
    "C3.pack(anchor=NW, pady=2, padx=25)\n",
    "\n",
    "#---------------------------------------------------------------------------------------------------------------------------------------\n",
    "\n",
    "from tkinter import messagebox\n",
    "\n",
    "def gönder():\n",
    "    son_mesaj = \"\"\n",
    "    \n",
    "    try:\n",
    "        if var.get() : \n",
    "            if var.get() == 1:\n",
    "                son_mesaj += \"Veriniz kaydedildi.\"\n",
    "\n",
    "                tip = hatırlatma_tipi_opsiyon.get() if hatırlatma_tipi_opsiyon.get() == \"\" else \"Genel\"\n",
    "                tarih = hatırlatma_tarih_seçici.get()\n",
    "                mesaj = metin_alanı.get(\"1.0\", \"end\")\n",
    "\n",
    "                with open(\"reminder.txt\", \"w\") as dosya:\n",
    "                    dosya.write(\"Tarih: {}   \\tKategori: {}   \\tNot:{}\".format(tarih, tip, mesaj))\n",
    "                    dosya.close\n",
    "\n",
    "            elif var.get() == 2:\n",
    "                son_mesaj += \"E-Posta gönderildi\"\n",
    "\n",
    "            messagebox.showinfo(\"Başarılı işlem\", son_mesaj)\n",
    "\n",
    "        else:\n",
    "            son_mesaj += \"Gerekli alanların doldurulduğundan emin olun!\"\n",
    "            messagebox.showwarning(\"Yetersiz bilgi\", son_mesaj)\n",
    "    \n",
    "    except:\n",
    "        son_mesaj += \"İşlem başarısız!\"\n",
    "        messagebox.showerror(\"Başarısız\", son_mesaj)\n",
    "        \n",
    "    finally:\n",
    "        master.destroy()\n",
    "        \n",
    "        \n",
    "\n",
    "Label(frame_alt_sağ, text=\"Hatırlatma Mesajı\", bg=\"#add8e6\", font=\"Verdana 10 bold\").pack(padx=10, pady=10, anchor=NW)\n",
    "\n",
    "metin_alanı = Text(frame_alt_sağ, height=9, width=50)\n",
    "metin_alanı.tag_configure(\"style\", foreground=\"#bfbfbf\", font=(\"Verdana\", 7, \"bold\"))\n",
    "metin_alanı.pack()\n",
    "\n",
    "karşılama_metni = \"Mesajını buraya gir...\"\n",
    "metin_alanı.insert(END, karşılama_metni, \"style\")\n",
    "\n",
    "gönder_butonu = Button(frame_alt_sağ, text=\"Gönder\", command=gönder)\n",
    "gönder_butonu.pack(anchor=S)\n",
    "\n",
    "\n",
    "master.mainloop()"
   ]
  },
  {
   "cell_type": "markdown",
   "id": "d88270a1",
   "metadata": {},
   "source": [
    " "
   ]
  },
  {
   "cell_type": "markdown",
   "id": "0553cf60",
   "metadata": {},
   "source": [
    "# E-MAIL 1"
   ]
  },
  {
   "cell_type": "code",
   "execution_count": null,
   "id": "3e3c4783",
   "metadata": {},
   "outputs": [],
   "source": [
    "import ssl\n",
    "import smtplib\n",
    "\n",
    "kullanıcı = \"<anafen6041@gmail.com>\"\n",
    "şifre = \"<60416041>\"\n",
    "\n",
    "\n",
    "alıcı = kullanıcı\n",
    "mesaj = \"Deneme Mesajı\"\n",
    "\n",
    "\n",
    "host = \"smtp.googlemail.com\"\n",
    "port = 465\n",
    "context = ssl.create_default_context()\n",
    "\n",
    "\n",
    "eposta_sunucu = smtplib.SMTP_SSL(host = host, port = port, context = context)\n",
    "eposta_sunucu.login(kullanıcı, şifre)\n",
    "eposta_sunucu.sendmail(kullanıcı, alıcı, mesaj)"
   ]
  },
  {
   "cell_type": "markdown",
   "id": "4a47156e",
   "metadata": {},
   "source": [
    " "
   ]
  },
  {
   "cell_type": "markdown",
   "id": "af88d554",
   "metadata": {},
   "source": [
    "# E-MAIL 1.1"
   ]
  },
  {
   "cell_type": "code",
   "execution_count": null,
   "id": "b1947be9",
   "metadata": {},
   "outputs": [],
   "source": [
    "import smtplib, ssl\n",
    "\n",
    "port = 587\n",
    "smtp_server = \"smtp.gmail.com\"\n",
    "\n",
    "sender_email = \"abcd@gmail.com\"\n",
    "receiver_email = {\"1234@gmail.com\", \"5678@hotmail.com\"}\n",
    "password = input(\"Type your password and press enter:\")\n",
    "\n",
    "message = \"\"\"\\\n",
    "Subject: Hi there\n",
    "\n",
    "This message is sent from Python.\"\"\"\n",
    "\n",
    "context = ssl.create_default_context()\n",
    "with smtplib.SMTP(smtp_server, port) as server:\n",
    "    server.ehlo()\n",
    "    server.starttls(context=context)\n",
    "    server.ehlo()\n",
    "    server.login(sender_email, password)\n",
    "    server.sendmail(sender_email, receiver_email, message)"
   ]
  },
  {
   "cell_type": "markdown",
   "id": "16caeec7",
   "metadata": {},
   "source": [
    " "
   ]
  },
  {
   "cell_type": "markdown",
   "id": "02c20626",
   "metadata": {},
   "source": [
    "# E-MAIL 2"
   ]
  },
  {
   "cell_type": "code",
   "execution_count": null,
   "id": "a5d684e4",
   "metadata": {},
   "outputs": [],
   "source": [
    "import ssl\n",
    "import smtplib\n",
    "from email.mime.multipart import MIMEMultipart\n",
    "from email.mime.text import MIMEText\n",
    "from email.mime.base import MIMEBase\n",
    "from email import encoders\n",
    "\n",
    "\n",
    "kullanıcı = \"<abc@gmail.com>\"\n",
    "şifre = \"<***>\"\n",
    "\n",
    "alıcı = kullanıcı\n",
    "mesaj = \"Deneme Mesajı\"\n",
    "başlık = \"Pyton Gönderisi\"\n",
    "\n",
    "host = \"smtp.gmail.com\"\n",
    "port = 465\n",
    "context = ssl.create_default_context()\n",
    "\n",
    "\n",
    "posta = MIMEMultipart()\n",
    "posta[\"From\"] = kullanıcı\n",
    "posta[\"To\"] = kullanıcı\n",
    "posta[\"Subject\"] = başlık\n",
    "\n",
    "posta.attach(MIMEText(mesaj, \"plain\"))\n",
    "\n",
    "eklenti = \"1.jpg\"\n",
    "\n",
    "with(open(eklenti, \"rb\")) as eklenti_dosyası:\n",
    "    payload = MIMEBase(\"application\", \"octate-stream\")\n",
    "    payload.set_payload((eklenti_dosyası).read())\n",
    "    encoders.encode_base64(payload)\n",
    "    \n",
    "    payload.add_header(\"Content-Decomposition\", \"attachment\", filename=eklenti)\n",
    "    posta.attach(payload)\n",
    "    \n",
    "    pasta_str = posta.as_string()\n",
    "    \n",
    "\n",
    "eposta_sunucu = smtplib.SMTP_SSL(host = host, port = port, context = context)\n",
    "eposta_sunucu.login(kullanıcı, şifre)\n",
    "eposta_sunucu.sendmail(kullanıcı, alıcı, posta_str)"
   ]
  },
  {
   "cell_type": "markdown",
   "id": "09fcf2bc",
   "metadata": {},
   "source": [
    " "
   ]
  },
  {
   "cell_type": "markdown",
   "id": "209056e7",
   "metadata": {},
   "source": [
    "# E-MAIL OKUMA"
   ]
  },
  {
   "cell_type": "code",
   "execution_count": null,
   "id": "bc9056da",
   "metadata": {},
   "outputs": [],
   "source": [
    "pip install imap_tools"
   ]
  },
  {
   "cell_type": "code",
   "execution_count": null,
   "id": "d063bff1",
   "metadata": {},
   "outputs": [],
   "source": [
    "from imap_tools import Mailbox\n",
    "\n",
    "\n",
    "kullanıcı = \"<abc@gmail.com>\"\n",
    "şifre = \"<***>\"\n",
    "\n",
    "host = \"smtp.gmail.com\"\n",
    "port = 465\n",
    "context = ssl.create_default_context()\n",
    "\n",
    "\n",
    "posta_kutusu = MailBox(\"imap.gmail.com\")\n",
    "\n",
    "posta_kutusu.login(kullanıcı, şifre, initial_folder=\"INBOX\")"
   ]
  },
  {
   "cell_type": "code",
   "execution_count": null,
   "id": "0b059e6d",
   "metadata": {},
   "outputs": [],
   "source": [
    "import datetime\n",
    "from imap_tools import AND\n",
    "\n",
    "\n",
    "kriter = AND(date_gte=datetime.date(2021,1,1), from_=kullanıcı)\n",
    "for msg in posta_kutusu.fetch(kriter):\n",
    "    print(msg.text)"
   ]
  },
  {
   "cell_type": "markdown",
   "id": "ae5b91bf",
   "metadata": {},
   "source": [
    "----------------------------------------------------------------------"
   ]
  },
  {
   "cell_type": "code",
   "execution_count": null,
   "id": "ccbc1720",
   "metadata": {},
   "outputs": [],
   "source": [
    "with MailBox(\"imap.gmail.com\").login(kullanıcı, şifre, initial_folder=\"INBOX\") as posta_kutusu:\n",
    "    kriter = AND(date_gte=datetime.date(2021,1,1), from_=kullanıcı)\n",
    "    for msg in posta_kutusu.fetch(kriter):\n",
    "        print(msg.text)"
   ]
  },
  {
   "cell_type": "markdown",
   "id": "f547c9d2",
   "metadata": {},
   "source": [
    "----------------------------------------------------------------------"
   ]
  },
  {
   "cell_type": "code",
   "execution_count": null,
   "id": "40525364",
   "metadata": {},
   "outputs": [],
   "source": [
    "dosya_ismi = \"e-posta.ipynb\"\n",
    "\n",
    "def dosya_isminden_mail_bul(eposta_kutusu_param, dosya_ismi_param, kriter_param):\n",
    "    for mesaj in eposta_kutusu_param.fetch(kriter):\n",
    "        if mesaj.attachments:\n",
    "            for ek in mesaj.attachments:\n",
    "                if dosya_ismi_param == ek.filename:\n",
    "                    return(\"{} isimli dosya, {} tarihli ve {} başlıklı e-postadadır.\".format(dosya_ismi_param, mesaj.date_str, mesaj.subject))\n",
    "                \n",
    "    return (\"{} isimli dosya, eposta kutusunda bulunamadı\".format(dosya_ismi_param))\n",
    "\n",
    "\n",
    "dosya_isminden_mail_bul(posta_kutusu, dosya_ismi, kriter)"
   ]
  },
  {
   "cell_type": "markdown",
   "id": "9861bac1",
   "metadata": {},
   "source": [
    " "
   ]
  },
  {
   "cell_type": "markdown",
   "id": "647d8df5",
   "metadata": {},
   "source": [
    "# TKINTER"
   ]
  },
  {
   "cell_type": "code",
   "execution_count": 1,
   "id": "9fd42cb0",
   "metadata": {},
   "outputs": [],
   "source": [
    "from tkinter import *\n",
    "\n",
    "arayuz = Tk()\n",
    "\n",
    "arayuz.title(\"Arayüz Uygulaması\")\n",
    "arayuz.geometry(\"250x50\")\n",
    "\n",
    "etiket = Label(arayuz, text = \"Merhaba\")\n",
    "etiket.grid(column=1, row=0)\n",
    "\n",
    "def tiklama():\n",
    "    global etiket\n",
    "    etiket.configure(text = \"Düğmeye tıklandı!\")\n",
    "    \n",
    "dugme = Button(arayuz, text = \"Düğmeye Bas!\", command = tiklama)\n",
    "dugme.grid(column = 2, row = 1)\n",
    "\n",
    "arayuz.mainloop()"
   ]
  }
 ],
 "metadata": {
  "kernelspec": {
   "display_name": "Python 3 (ipykernel)",
   "language": "python",
   "name": "python3"
  },
  "language_info": {
   "codemirror_mode": {
    "name": "ipython",
    "version": 3
   },
   "file_extension": ".py",
   "mimetype": "text/x-python",
   "name": "python",
   "nbconvert_exporter": "python",
   "pygments_lexer": "ipython3",
   "version": "3.9.12"
  }
 },
 "nbformat": 4,
 "nbformat_minor": 5
}
